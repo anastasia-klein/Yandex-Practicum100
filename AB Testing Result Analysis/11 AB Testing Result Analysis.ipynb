{
 "cells": [
  {
   "cell_type": "markdown",
   "metadata": {},
   "source": [
    "# Analysis of A/B Testing Results"
   ]
  },
  {
   "cell_type": "markdown",
   "metadata": {},
   "source": [
    "There is an international online store.\n",
    "\n",
    "There are the results of the A/B tests launched from 2020-12-07 to 2021-01-01, and the technical specification of one of the tests.\n",
    "\n",
    "Technical description\n",
    "* Test name: recommender_system_test\n",
    "* Groups: А (control), B (new payment funnel)\n",
    "* Launch date: 2020-12-07\n",
    "* Date when they stopped taking up new users: 2020-12-21\n",
    "* End date: 2021-01-01\n",
    "* Audience: 15% of the new users from the EU region\n",
    "* Purpose of the test: testing changes related to the introduction of an improved recommendation system\n",
    "* Expected result: within 14 days of signing up, users will show better conversion into product page views (the product_page event), instances of adding items to the shopping cart (product_cart), and purchases (purchase). At each stage of the funnel product_page → product_cart → purchase, there will be at least a 10% increase.\n",
    "* Expected number of test participants: 6000\n",
    "\n",
    "The purpose of the study: to check if the tests were carried out correctly and analyze the results of the A/B tests. \n",
    "\n",
    "\n",
    "The work plan:\n",
    "\n",
    "<a href='#section1'>1. Getting the data and studying the general information</a>\n",
    "\n",
    "<a href='#section2'>2. Data preprocessing</a>\n",
    "\n",
    "<a href='#section3'>3. Exploratory data analysis of A/B testing data</a>\n",
    "\n",
    "<a href='#section4'>4. Evalueting the results of the A/B tests</a>\n",
    "\n",
    "<a href='#section5'>5. Overall Conclusion</a>"
   ]
  },
  {
   "cell_type": "code",
   "execution_count": 1,
   "metadata": {},
   "outputs": [],
   "source": [
    "#importing of libraries\n",
    "import pandas as pd\n",
    "from datetime import datetime\n",
    "import numpy as np\n",
    "from scipy import stats as st\n",
    "import seaborn as sns\n",
    "from matplotlib import pyplot as plt\n",
    "\n",
    "#some global constats for formatting the output string\n",
    "BOLD = '\\033[1m'\n",
    "END = '\\033[0m'\n",
    "\n",
    "# function to calculate p-value for an independent proportion z-test\n",
    "def proportions_diff_z_test(successes1, successes2, n1, n2, alternative = 'two-sided'):\n",
    "\n",
    "    # proportion for success in the first group\n",
    "    p1 = successes1 / n1\n",
    "    # proportion for success in the second group\n",
    "    p2 = successes2 / n2 \n",
    "    # proportion in a combined dataset\n",
    "    P = (successes1 + successes2) / (n1 + n2)\n",
    "    \n",
    "    # calculating z-test statistic\n",
    "    z_stat = (p1 - p2) / np.sqrt(P * (1 - P) * (1 / n1 + 1 / n2))\n",
    "\n",
    "    # return p-value for independent proportion z-test\n",
    "    if alternative == 'two-sided':\n",
    "        return 2 * (1 - st.norm(0, 1).cdf(abs(z_stat)))\n",
    "    \n",
    "    if alternative == 'less':\n",
    "        return stats.norm(0, 1).cdf(z_stat)\n",
    "\n",
    "    if alternative == 'greater':\n",
    "        return 1 - st.norm(0, 1).cdf(z_stat)\n",
    "\n",
    "# function to calculate p-value for the proportion z-test between two groups for the event specified\n",
    "def proportions_diff_pvalue(experiment_results, group1, group2, event):\n",
    "    \n",
    "    successes1 = experiment_results[experiment_results.index==event][group1].iloc[0]\n",
    "    successes2 = experiment_results[experiment_results.index==event][group2].iloc[0]\n",
    "    \n",
    "    n1 = experiment_results[experiment_results.index=='all_users'][group1].iloc[0]\n",
    "    n2 = experiment_results[experiment_results.index=='all_users'][group2].iloc[0]\n",
    "\n",
    "    return proportions_diff_z_test(successes1, successes2, n1, n2)\n",
    "\n",
    "\n",
    "# function to highlight the event name\n",
    "def event_name_color(col):\n",
    "    \n",
    "    if col.name != 'event_name':\n",
    "        return [''] * len(col)\n",
    "\n",
    "    color = col.map({\n",
    "        'login': 'blue',\n",
    "        'product_page': 'green',\n",
    "        'product_cart': 'orange',\n",
    "        'purchase': 'red'})\n",
    "    return 'color:' + color\n",
    "\n",
    "# function to highlight one session actions \n",
    "def row_style(row):\n",
    "    \n",
    "    if row.session_id % 2 == 1:\n",
    "        return pd.Series('background-color: #f5fdff', row.index)\n",
    "    else:\n",
    "        return pd.Series('background-color: #fff9f0', row.index)"
   ]
  },
  {
   "cell_type": "markdown",
   "metadata": {},
   "source": [
    "## 1. Getting the Data and Studying the General Information\n",
    "<a id='section1'></a>"
   ]
  },
  {
   "cell_type": "code",
   "execution_count": 2,
   "metadata": {},
   "outputs": [
    {
     "name": "stdout",
     "output_type": "stream",
     "text": [
      "\u001b[1mGeneral inforamation about the table contains the calendar of marketing campaign for 2020:\u001b[0m\n",
      "<class 'pandas.core.frame.DataFrame'>\n",
      "RangeIndex: 14 entries, 0 to 13\n",
      "Data columns (total 4 columns):\n",
      "name         14 non-null object\n",
      "regions      14 non-null object\n",
      "start_dt     14 non-null object\n",
      "finish_dt    14 non-null object\n",
      "dtypes: object(4)\n",
      "memory usage: 576.0+ bytes\n",
      "\n",
      "\u001b[1mThe first rows of the table contains the calendar of marketing campaign for 2020:\u001b[0m\n"
     ]
    },
    {
     "data": {
      "text/html": [
       "<div>\n",
       "<style scoped>\n",
       "    .dataframe tbody tr th:only-of-type {\n",
       "        vertical-align: middle;\n",
       "    }\n",
       "\n",
       "    .dataframe tbody tr th {\n",
       "        vertical-align: top;\n",
       "    }\n",
       "\n",
       "    .dataframe thead th {\n",
       "        text-align: right;\n",
       "    }\n",
       "</style>\n",
       "<table border=\"1\" class=\"dataframe\">\n",
       "  <thead>\n",
       "    <tr style=\"text-align: right;\">\n",
       "      <th></th>\n",
       "      <th>name</th>\n",
       "      <th>regions</th>\n",
       "      <th>start_dt</th>\n",
       "      <th>finish_dt</th>\n",
       "    </tr>\n",
       "  </thead>\n",
       "  <tbody>\n",
       "    <tr>\n",
       "      <td>0</td>\n",
       "      <td>Christmas&amp;New Year Promo</td>\n",
       "      <td>EU, N.America</td>\n",
       "      <td>2020-12-25</td>\n",
       "      <td>2021-01-03</td>\n",
       "    </tr>\n",
       "    <tr>\n",
       "      <td>1</td>\n",
       "      <td>St. Valentine's Day Giveaway</td>\n",
       "      <td>EU, CIS, APAC, N.America</td>\n",
       "      <td>2020-02-14</td>\n",
       "      <td>2020-02-16</td>\n",
       "    </tr>\n",
       "    <tr>\n",
       "      <td>2</td>\n",
       "      <td>St. Patric's Day Promo</td>\n",
       "      <td>EU, N.America</td>\n",
       "      <td>2020-03-17</td>\n",
       "      <td>2020-03-19</td>\n",
       "    </tr>\n",
       "    <tr>\n",
       "      <td>3</td>\n",
       "      <td>Easter Promo</td>\n",
       "      <td>EU, CIS, APAC, N.America</td>\n",
       "      <td>2020-04-12</td>\n",
       "      <td>2020-04-19</td>\n",
       "    </tr>\n",
       "    <tr>\n",
       "      <td>4</td>\n",
       "      <td>4th of July Promo</td>\n",
       "      <td>N.America</td>\n",
       "      <td>2020-07-04</td>\n",
       "      <td>2020-07-11</td>\n",
       "    </tr>\n",
       "  </tbody>\n",
       "</table>\n",
       "</div>"
      ],
      "text/plain": [
       "                           name                   regions    start_dt  \\\n",
       "0      Christmas&New Year Promo             EU, N.America  2020-12-25   \n",
       "1  St. Valentine's Day Giveaway  EU, CIS, APAC, N.America  2020-02-14   \n",
       "2        St. Patric's Day Promo             EU, N.America  2020-03-17   \n",
       "3                  Easter Promo  EU, CIS, APAC, N.America  2020-04-12   \n",
       "4             4th of July Promo                 N.America  2020-07-04   \n",
       "\n",
       "    finish_dt  \n",
       "0  2021-01-03  \n",
       "1  2020-02-16  \n",
       "2  2020-03-19  \n",
       "3  2020-04-19  \n",
       "4  2020-07-11  "
      ]
     },
     "metadata": {},
     "output_type": "display_data"
    },
    {
     "name": "stdout",
     "output_type": "stream",
     "text": [
      "\n",
      "\u001b[1mGeneral inforamation about the table contains user information:\u001b[0m\n",
      "<class 'pandas.core.frame.DataFrame'>\n",
      "RangeIndex: 58703 entries, 0 to 58702\n",
      "Data columns (total 4 columns):\n",
      "user_id       58703 non-null object\n",
      "first_date    58703 non-null object\n",
      "region        58703 non-null object\n",
      "device        58703 non-null object\n",
      "dtypes: object(4)\n",
      "memory usage: 1.8+ MB\n",
      "\n",
      "\u001b[1mThe first rows of the table contains user information:\u001b[0m\n"
     ]
    },
    {
     "data": {
      "text/html": [
       "<div>\n",
       "<style scoped>\n",
       "    .dataframe tbody tr th:only-of-type {\n",
       "        vertical-align: middle;\n",
       "    }\n",
       "\n",
       "    .dataframe tbody tr th {\n",
       "        vertical-align: top;\n",
       "    }\n",
       "\n",
       "    .dataframe thead th {\n",
       "        text-align: right;\n",
       "    }\n",
       "</style>\n",
       "<table border=\"1\" class=\"dataframe\">\n",
       "  <thead>\n",
       "    <tr style=\"text-align: right;\">\n",
       "      <th></th>\n",
       "      <th>user_id</th>\n",
       "      <th>first_date</th>\n",
       "      <th>region</th>\n",
       "      <th>device</th>\n",
       "    </tr>\n",
       "  </thead>\n",
       "  <tbody>\n",
       "    <tr>\n",
       "      <td>0</td>\n",
       "      <td>D72A72121175D8BE</td>\n",
       "      <td>2020-12-07</td>\n",
       "      <td>EU</td>\n",
       "      <td>PC</td>\n",
       "    </tr>\n",
       "    <tr>\n",
       "      <td>1</td>\n",
       "      <td>F1C668619DFE6E65</td>\n",
       "      <td>2020-12-07</td>\n",
       "      <td>N.America</td>\n",
       "      <td>Android</td>\n",
       "    </tr>\n",
       "    <tr>\n",
       "      <td>2</td>\n",
       "      <td>2E1BF1D4C37EA01F</td>\n",
       "      <td>2020-12-07</td>\n",
       "      <td>EU</td>\n",
       "      <td>PC</td>\n",
       "    </tr>\n",
       "    <tr>\n",
       "      <td>3</td>\n",
       "      <td>50734A22C0C63768</td>\n",
       "      <td>2020-12-07</td>\n",
       "      <td>EU</td>\n",
       "      <td>iPhone</td>\n",
       "    </tr>\n",
       "    <tr>\n",
       "      <td>4</td>\n",
       "      <td>E1BDDCE0DAFA2679</td>\n",
       "      <td>2020-12-07</td>\n",
       "      <td>N.America</td>\n",
       "      <td>iPhone</td>\n",
       "    </tr>\n",
       "  </tbody>\n",
       "</table>\n",
       "</div>"
      ],
      "text/plain": [
       "            user_id  first_date     region   device\n",
       "0  D72A72121175D8BE  2020-12-07         EU       PC\n",
       "1  F1C668619DFE6E65  2020-12-07  N.America  Android\n",
       "2  2E1BF1D4C37EA01F  2020-12-07         EU       PC\n",
       "3  50734A22C0C63768  2020-12-07         EU   iPhone\n",
       "4  E1BDDCE0DAFA2679  2020-12-07  N.America   iPhone"
      ]
     },
     "metadata": {},
     "output_type": "display_data"
    },
    {
     "name": "stdout",
     "output_type": "stream",
     "text": [
      "\n",
      "\u001b[1mGeneral inforamation about the table contains events log:\u001b[0m\n",
      "<class 'pandas.core.frame.DataFrame'>\n",
      "RangeIndex: 423761 entries, 0 to 423760\n",
      "Data columns (total 4 columns):\n",
      "user_id       423761 non-null object\n",
      "event_dt      423761 non-null object\n",
      "event_name    423761 non-null object\n",
      "details       60314 non-null float64\n",
      "dtypes: float64(1), object(3)\n",
      "memory usage: 12.9+ MB\n",
      "\n",
      "\u001b[1mThe first rows of the table contains events log:\u001b[0m\n"
     ]
    },
    {
     "data": {
      "text/html": [
       "<div>\n",
       "<style scoped>\n",
       "    .dataframe tbody tr th:only-of-type {\n",
       "        vertical-align: middle;\n",
       "    }\n",
       "\n",
       "    .dataframe tbody tr th {\n",
       "        vertical-align: top;\n",
       "    }\n",
       "\n",
       "    .dataframe thead th {\n",
       "        text-align: right;\n",
       "    }\n",
       "</style>\n",
       "<table border=\"1\" class=\"dataframe\">\n",
       "  <thead>\n",
       "    <tr style=\"text-align: right;\">\n",
       "      <th></th>\n",
       "      <th>user_id</th>\n",
       "      <th>event_dt</th>\n",
       "      <th>event_name</th>\n",
       "      <th>details</th>\n",
       "    </tr>\n",
       "  </thead>\n",
       "  <tbody>\n",
       "    <tr>\n",
       "      <td>0</td>\n",
       "      <td>E1BDDCE0DAFA2679</td>\n",
       "      <td>2020-12-07 20:22:03</td>\n",
       "      <td>purchase</td>\n",
       "      <td>99.99</td>\n",
       "    </tr>\n",
       "    <tr>\n",
       "      <td>1</td>\n",
       "      <td>7B6452F081F49504</td>\n",
       "      <td>2020-12-07 09:22:53</td>\n",
       "      <td>purchase</td>\n",
       "      <td>9.99</td>\n",
       "    </tr>\n",
       "    <tr>\n",
       "      <td>2</td>\n",
       "      <td>9CD9F34546DF254C</td>\n",
       "      <td>2020-12-07 12:59:29</td>\n",
       "      <td>purchase</td>\n",
       "      <td>4.99</td>\n",
       "    </tr>\n",
       "    <tr>\n",
       "      <td>3</td>\n",
       "      <td>96F27A054B191457</td>\n",
       "      <td>2020-12-07 04:02:40</td>\n",
       "      <td>purchase</td>\n",
       "      <td>4.99</td>\n",
       "    </tr>\n",
       "    <tr>\n",
       "      <td>4</td>\n",
       "      <td>1FD7660FDF94CA1F</td>\n",
       "      <td>2020-12-07 10:15:09</td>\n",
       "      <td>purchase</td>\n",
       "      <td>4.99</td>\n",
       "    </tr>\n",
       "  </tbody>\n",
       "</table>\n",
       "</div>"
      ],
      "text/plain": [
       "            user_id             event_dt event_name  details\n",
       "0  E1BDDCE0DAFA2679  2020-12-07 20:22:03   purchase    99.99\n",
       "1  7B6452F081F49504  2020-12-07 09:22:53   purchase     9.99\n",
       "2  9CD9F34546DF254C  2020-12-07 12:59:29   purchase     4.99\n",
       "3  96F27A054B191457  2020-12-07 04:02:40   purchase     4.99\n",
       "4  1FD7660FDF94CA1F  2020-12-07 10:15:09   purchase     4.99"
      ]
     },
     "metadata": {},
     "output_type": "display_data"
    },
    {
     "name": "stdout",
     "output_type": "stream",
     "text": [
      "\n",
      "\u001b[1mGeneral inforamation about the table contains A/B testing information:\u001b[0m\n",
      "<class 'pandas.core.frame.DataFrame'>\n",
      "RangeIndex: 14525 entries, 0 to 14524\n",
      "Data columns (total 3 columns):\n",
      "user_id    14525 non-null object\n",
      "group      14525 non-null object\n",
      "ab_test    14525 non-null object\n",
      "dtypes: object(3)\n",
      "memory usage: 340.6+ KB\n",
      "\n",
      "\u001b[1mThe first rows of the table contains A/B testing information:\u001b[0m\n"
     ]
    },
    {
     "data": {
      "text/html": [
       "<div>\n",
       "<style scoped>\n",
       "    .dataframe tbody tr th:only-of-type {\n",
       "        vertical-align: middle;\n",
       "    }\n",
       "\n",
       "    .dataframe tbody tr th {\n",
       "        vertical-align: top;\n",
       "    }\n",
       "\n",
       "    .dataframe thead th {\n",
       "        text-align: right;\n",
       "    }\n",
       "</style>\n",
       "<table border=\"1\" class=\"dataframe\">\n",
       "  <thead>\n",
       "    <tr style=\"text-align: right;\">\n",
       "      <th></th>\n",
       "      <th>user_id</th>\n",
       "      <th>group</th>\n",
       "      <th>ab_test</th>\n",
       "    </tr>\n",
       "  </thead>\n",
       "  <tbody>\n",
       "    <tr>\n",
       "      <td>0</td>\n",
       "      <td>D1ABA3E2887B6A73</td>\n",
       "      <td>A</td>\n",
       "      <td>recommender_system_test</td>\n",
       "    </tr>\n",
       "    <tr>\n",
       "      <td>1</td>\n",
       "      <td>A7A3664BD6242119</td>\n",
       "      <td>A</td>\n",
       "      <td>recommender_system_test</td>\n",
       "    </tr>\n",
       "    <tr>\n",
       "      <td>2</td>\n",
       "      <td>DABC14FDDFADD29E</td>\n",
       "      <td>A</td>\n",
       "      <td>recommender_system_test</td>\n",
       "    </tr>\n",
       "    <tr>\n",
       "      <td>3</td>\n",
       "      <td>04988C5DF189632E</td>\n",
       "      <td>A</td>\n",
       "      <td>recommender_system_test</td>\n",
       "    </tr>\n",
       "    <tr>\n",
       "      <td>4</td>\n",
       "      <td>4FF2998A348C484F</td>\n",
       "      <td>A</td>\n",
       "      <td>recommender_system_test</td>\n",
       "    </tr>\n",
       "  </tbody>\n",
       "</table>\n",
       "</div>"
      ],
      "text/plain": [
       "            user_id group                  ab_test\n",
       "0  D1ABA3E2887B6A73     A  recommender_system_test\n",
       "1  A7A3664BD6242119     A  recommender_system_test\n",
       "2  DABC14FDDFADD29E     A  recommender_system_test\n",
       "3  04988C5DF189632E     A  recommender_system_test\n",
       "4  4FF2998A348C484F     A  recommender_system_test"
      ]
     },
     "metadata": {},
     "output_type": "display_data"
    },
    {
     "name": "stdout",
     "output_type": "stream",
     "text": [
      "\n"
     ]
    }
   ],
   "source": [
    "# reading files that contain the A/B test data \n",
    "marketing_campaign = pd.read_csv('/datasets/ab_project_marketing_events_us.csv')\n",
    "users = pd.read_csv('/datasets/final_ab_new_users_upd_us.csv')\n",
    "user_events_log = pd.read_csv('/datasets/final_ab_events_upd_us.csv')\n",
    "ab_groups = pd.read_csv('/datasets/final_ab_participants_upd_us.csv')\n",
    "\n",
    "# creating the list of tables and their descriptions\n",
    "tables = [marketing_campaign, users, user_events_log, ab_groups]\n",
    "descriptions = ['the calendar of marketing campaign for 2020', 'user information',\n",
    "                'events log', 'A/B testing information'] \n",
    "\n",
    "for i, (table, description) in enumerate(zip(tables, descriptions)):\n",
    "    # looking at the data's general information.\n",
    "    print(BOLD + 'General inforamation about the table contains ' \n",
    "          + description + ':' + END)\n",
    "    table.info()\n",
    "    print()\n",
    "    \n",
    "    #looking at the first few rows in a table\n",
    "    print(BOLD + 'The first rows of the table contains ' \n",
    "      + description + ':' + END)\n",
    "    display(table.head())\n",
    "    print()"
   ]
  },
  {
   "cell_type": "markdown",
   "metadata": {},
   "source": [
    "The dataset contains 423,761 pageview log records for 58,703 users. 14,525 users took part in A/B tests.\n",
    "\n",
    "The first table contans information on 14 marketing campaign conducted in 2020. It is worth checking if campaigns coincided with the AB testing.\n",
    "\n",
    "For the `'start_dt'`, `'finish_dt'`, `'first_date'`, and `'event_dt'` columns, it's nessecary to change the type to datetime to make it convenient to work with dates. For the `'device'`, `'event_name'`, `'group'`, and `'ab_test'` columns we could change the type from object to categorical one, but this is optional, since the tables in the dataset are small initially.\n",
    "\n",
    "Only the `'details'` column of the table with events logs have null values, and a significant part of the values are missing. The same cost in the column `'details'` is occurred several times, perhaps there are only a few price categories."
   ]
  },
  {
   "cell_type": "code",
   "execution_count": 3,
   "metadata": {},
   "outputs": [
    {
     "name": "stdout",
     "output_type": "stream",
     "text": [
      "\u001b[1mThe values that the price takes:\u001b[0m\n"
     ]
    },
    {
     "data": {
      "text/html": [
       "<div>\n",
       "<style scoped>\n",
       "    .dataframe tbody tr th:only-of-type {\n",
       "        vertical-align: middle;\n",
       "    }\n",
       "\n",
       "    .dataframe tbody tr th {\n",
       "        vertical-align: top;\n",
       "    }\n",
       "\n",
       "    .dataframe thead th {\n",
       "        text-align: right;\n",
       "    }\n",
       "</style>\n",
       "<table border=\"1\" class=\"dataframe\">\n",
       "  <thead>\n",
       "    <tr style=\"text-align: right;\">\n",
       "      <th></th>\n",
       "      <th>pirce</th>\n",
       "      <th>purchase_num</th>\n",
       "      <th>purchase_share</th>\n",
       "    </tr>\n",
       "  </thead>\n",
       "  <tbody>\n",
       "    <tr>\n",
       "      <td>0</td>\n",
       "      <td>4.99</td>\n",
       "      <td>44579</td>\n",
       "      <td>73.91</td>\n",
       "    </tr>\n",
       "    <tr>\n",
       "      <td>1</td>\n",
       "      <td>9.99</td>\n",
       "      <td>9158</td>\n",
       "      <td>15.18</td>\n",
       "    </tr>\n",
       "    <tr>\n",
       "      <td>2</td>\n",
       "      <td>99.99</td>\n",
       "      <td>5405</td>\n",
       "      <td>8.96</td>\n",
       "    </tr>\n",
       "    <tr>\n",
       "      <td>3</td>\n",
       "      <td>499.99</td>\n",
       "      <td>1172</td>\n",
       "      <td>1.94</td>\n",
       "    </tr>\n",
       "  </tbody>\n",
       "</table>\n",
       "</div>"
      ],
      "text/plain": [
       "    pirce  purchase_num  purchase_share\n",
       "0    4.99         44579           73.91\n",
       "1    9.99          9158           15.18\n",
       "2   99.99          5405            8.96\n",
       "3  499.99          1172            1.94"
      ]
     },
     "metadata": {},
     "output_type": "display_data"
    }
   ],
   "source": [
    "# Let's take a look at the values that the 'detail' column takes.\n",
    "# creating the table with all values of the 'detail' column and their frequencies\n",
    "price_categories = user_events_log.groupby('details').event_dt.count().reset_index()\\\n",
    "                      .rename(columns={'details':'pirce', 'event_dt':'purchase_num'})\n",
    "price_categories['purchase_share'] = round(100 * price_categories.purchase_num / price_categories.purchase_num.sum(),\n",
    "                                           2)\n",
    "print(BOLD + 'The values that the price takes:' + END)\n",
    "display(price_categories)"
   ]
  },
  {
   "cell_type": "markdown",
   "metadata": {},
   "source": [
    "There are only 4 price options. 4.99 most popular, 74% of purchases were made at this price. And only 2 percent of purchases cost 499.99."
   ]
  },
  {
   "cell_type": "code",
   "execution_count": 4,
   "metadata": {},
   "outputs": [
    {
     "name": "stdout",
     "output_type": "stream",
     "text": [
      "\u001b[1mCategorical features\u001b[0m\n",
      "The columns with categorical values in the table containing data on \u001b[1muser information\u001b[0m:\n"
     ]
    },
    {
     "data": {
      "text/html": [
       "<div>\n",
       "<style scoped>\n",
       "    .dataframe tbody tr th:only-of-type {\n",
       "        vertical-align: middle;\n",
       "    }\n",
       "\n",
       "    .dataframe tbody tr th {\n",
       "        vertical-align: top;\n",
       "    }\n",
       "\n",
       "    .dataframe thead th {\n",
       "        text-align: right;\n",
       "    }\n",
       "</style>\n",
       "<table border=\"1\" class=\"dataframe\">\n",
       "  <thead>\n",
       "    <tr style=\"text-align: right;\">\n",
       "      <th></th>\n",
       "      <th>unique</th>\n",
       "      <th>nunique</th>\n",
       "    </tr>\n",
       "  </thead>\n",
       "  <tbody>\n",
       "    <tr>\n",
       "      <td>region</td>\n",
       "      <td>[EU, N.America, APAC, CIS]</td>\n",
       "      <td>4</td>\n",
       "    </tr>\n",
       "    <tr>\n",
       "      <td>device</td>\n",
       "      <td>[PC, Android, iPhone, Mac]</td>\n",
       "      <td>4</td>\n",
       "    </tr>\n",
       "  </tbody>\n",
       "</table>\n",
       "</div>"
      ],
      "text/plain": [
       "                            unique nunique\n",
       "region  [EU, N.America, APAC, CIS]  4     \n",
       "device  [PC, Android, iPhone, Mac]  4     "
      ]
     },
     "metadata": {},
     "output_type": "display_data"
    },
    {
     "name": "stdout",
     "output_type": "stream",
     "text": [
      "\n",
      "The columns with categorical values in the table containing data on \u001b[1mevents log\u001b[0m:\n"
     ]
    },
    {
     "data": {
      "text/html": [
       "<div>\n",
       "<style scoped>\n",
       "    .dataframe tbody tr th:only-of-type {\n",
       "        vertical-align: middle;\n",
       "    }\n",
       "\n",
       "    .dataframe tbody tr th {\n",
       "        vertical-align: top;\n",
       "    }\n",
       "\n",
       "    .dataframe thead th {\n",
       "        text-align: right;\n",
       "    }\n",
       "</style>\n",
       "<table border=\"1\" class=\"dataframe\">\n",
       "  <thead>\n",
       "    <tr style=\"text-align: right;\">\n",
       "      <th></th>\n",
       "      <th>unique</th>\n",
       "      <th>nunique</th>\n",
       "    </tr>\n",
       "  </thead>\n",
       "  <tbody>\n",
       "    <tr>\n",
       "      <td>event_name</td>\n",
       "      <td>[purchase, product_cart, product_page, login]</td>\n",
       "      <td>4</td>\n",
       "    </tr>\n",
       "  </tbody>\n",
       "</table>\n",
       "</div>"
      ],
      "text/plain": [
       "                                                   unique nunique\n",
       "event_name  [purchase, product_cart, product_page, login]  4     "
      ]
     },
     "metadata": {},
     "output_type": "display_data"
    },
    {
     "name": "stdout",
     "output_type": "stream",
     "text": [
      "\n",
      "The columns with categorical values in the table containing data on \u001b[1mA/B testing information\u001b[0m:\n"
     ]
    },
    {
     "data": {
      "text/html": [
       "<div>\n",
       "<style scoped>\n",
       "    .dataframe tbody tr th:only-of-type {\n",
       "        vertical-align: middle;\n",
       "    }\n",
       "\n",
       "    .dataframe tbody tr th {\n",
       "        vertical-align: top;\n",
       "    }\n",
       "\n",
       "    .dataframe thead th {\n",
       "        text-align: right;\n",
       "    }\n",
       "</style>\n",
       "<table border=\"1\" class=\"dataframe\">\n",
       "  <thead>\n",
       "    <tr style=\"text-align: right;\">\n",
       "      <th></th>\n",
       "      <th>unique</th>\n",
       "      <th>nunique</th>\n",
       "    </tr>\n",
       "  </thead>\n",
       "  <tbody>\n",
       "    <tr>\n",
       "      <td>group</td>\n",
       "      <td>[A, B]</td>\n",
       "      <td>2</td>\n",
       "    </tr>\n",
       "    <tr>\n",
       "      <td>ab_test</td>\n",
       "      <td>[recommender_system_test, interface_eu_test]</td>\n",
       "      <td>2</td>\n",
       "    </tr>\n",
       "  </tbody>\n",
       "</table>\n",
       "</div>"
      ],
      "text/plain": [
       "                                               unique nunique\n",
       "group    [A, B]                                        2     \n",
       "ab_test  [recommender_system_test, interface_eu_test]  2     "
      ]
     },
     "metadata": {},
     "output_type": "display_data"
    },
    {
     "name": "stdout",
     "output_type": "stream",
     "text": [
      "\n",
      "\u001b[1mFeatures containing dates\u001b[0m\n",
      "Date range in the table containing data on \u001b[1muser information\u001b[0m:\n"
     ]
    },
    {
     "data": {
      "text/html": [
       "<div>\n",
       "<style scoped>\n",
       "    .dataframe tbody tr th:only-of-type {\n",
       "        vertical-align: middle;\n",
       "    }\n",
       "\n",
       "    .dataframe tbody tr th {\n",
       "        vertical-align: top;\n",
       "    }\n",
       "\n",
       "    .dataframe thead th {\n",
       "        text-align: right;\n",
       "    }\n",
       "</style>\n",
       "<table border=\"1\" class=\"dataframe\">\n",
       "  <thead>\n",
       "    <tr style=\"text-align: right;\">\n",
       "      <th></th>\n",
       "      <th>first_date</th>\n",
       "    </tr>\n",
       "  </thead>\n",
       "  <tbody>\n",
       "    <tr>\n",
       "      <td>min</td>\n",
       "      <td>2020-12-07</td>\n",
       "    </tr>\n",
       "    <tr>\n",
       "      <td>max</td>\n",
       "      <td>2020-12-23</td>\n",
       "    </tr>\n",
       "  </tbody>\n",
       "</table>\n",
       "</div>"
      ],
      "text/plain": [
       "     first_date\n",
       "min  2020-12-07\n",
       "max  2020-12-23"
      ]
     },
     "metadata": {},
     "output_type": "display_data"
    },
    {
     "name": "stdout",
     "output_type": "stream",
     "text": [
      "Date range in the table containing data on \u001b[1mevents log\u001b[0m:\n"
     ]
    },
    {
     "data": {
      "text/html": [
       "<div>\n",
       "<style scoped>\n",
       "    .dataframe tbody tr th:only-of-type {\n",
       "        vertical-align: middle;\n",
       "    }\n",
       "\n",
       "    .dataframe tbody tr th {\n",
       "        vertical-align: top;\n",
       "    }\n",
       "\n",
       "    .dataframe thead th {\n",
       "        text-align: right;\n",
       "    }\n",
       "</style>\n",
       "<table border=\"1\" class=\"dataframe\">\n",
       "  <thead>\n",
       "    <tr style=\"text-align: right;\">\n",
       "      <th></th>\n",
       "      <th>event_dt</th>\n",
       "    </tr>\n",
       "  </thead>\n",
       "  <tbody>\n",
       "    <tr>\n",
       "      <td>min</td>\n",
       "      <td>2020-12-07 00:00:33</td>\n",
       "    </tr>\n",
       "    <tr>\n",
       "      <td>max</td>\n",
       "      <td>2020-12-30 23:36:33</td>\n",
       "    </tr>\n",
       "  </tbody>\n",
       "</table>\n",
       "</div>"
      ],
      "text/plain": [
       "                event_dt\n",
       "min  2020-12-07 00:00:33\n",
       "max  2020-12-30 23:36:33"
      ]
     },
     "metadata": {},
     "output_type": "display_data"
    }
   ],
   "source": [
    "# Let's look at the values that take categorical features \n",
    "print(BOLD + 'Categorical features' + END)\n",
    "for table, cols, descr in zip([users, user_events_log, ab_groups],\n",
    "                              [['region','device'], ['event_name'], ['group', 'ab_test']],\n",
    "                              descriptions[1:]):\n",
    "    print(\"The columns with categorical values in the table containing data on \" + BOLD + descr + END + ':')\n",
    "    pd.set_option('display.max_colwidth', -1)\n",
    "    display(table[cols].agg(['unique', 'nunique']).T)\n",
    "    print()\n",
    "    \n",
    "# Let's look at date range in the dataset\n",
    "print(BOLD + 'Features containing dates' + END)\n",
    "for table, date_cols, descr in zip([users, user_events_log], [['first_date'], ['event_dt']],\n",
    "                              descriptions[1:3]):\n",
    "    print(\"Date range in the table containing data on \" + BOLD + descr + END + ':')\n",
    "    display(table[date_cols].agg(['min', 'max']))"
   ]
  },
  {
   "cell_type": "markdown",
   "metadata": {},
   "source": [
    "The dataset contains users from 4 regions: EU, N.America, APAC, CIS, who use 4 types of devices.\n",
    "\n",
    "The dataset contains data regarding 4 events:\n",
    "* Went to login page (`login`)\n",
    "* Navigated to the page of a product (`product_page`)\n",
    "* Viewed the cart (`product_cart`)\n",
    "* Paid for the order (`purchase`)  \n",
    "\n",
    "Two A/B tests were conducted:\n",
    "* recommender system test\n",
    "* interface (EU) test\n",
    "\n",
    "The tests were conducted during more than 3 weeks (from December 7th to December 7th, 2020):  group A is the control and group B has shown corresponding changes. The last date when new users were registered is December 23rd."
   ]
  },
  {
   "cell_type": "code",
   "execution_count": 5,
   "metadata": {},
   "outputs": [
    {
     "name": "stdout",
     "output_type": "stream",
     "text": [
      "\u001b[1mMarketing campaigns for 2020:\u001b[0m\n"
     ]
    },
    {
     "data": {
      "text/html": [
       "<div>\n",
       "<style scoped>\n",
       "    .dataframe tbody tr th:only-of-type {\n",
       "        vertical-align: middle;\n",
       "    }\n",
       "\n",
       "    .dataframe tbody tr th {\n",
       "        vertical-align: top;\n",
       "    }\n",
       "\n",
       "    .dataframe thead th {\n",
       "        text-align: right;\n",
       "    }\n",
       "</style>\n",
       "<table border=\"1\" class=\"dataframe\">\n",
       "  <thead>\n",
       "    <tr style=\"text-align: right;\">\n",
       "      <th></th>\n",
       "      <th>name</th>\n",
       "      <th>regions</th>\n",
       "      <th>start_dt</th>\n",
       "      <th>finish_dt</th>\n",
       "    </tr>\n",
       "  </thead>\n",
       "  <tbody>\n",
       "    <tr>\n",
       "      <td>0</td>\n",
       "      <td>Christmas&amp;New Year Promo</td>\n",
       "      <td>EU, N.America</td>\n",
       "      <td>2020-12-25</td>\n",
       "      <td>2021-01-03</td>\n",
       "    </tr>\n",
       "    <tr>\n",
       "      <td>1</td>\n",
       "      <td>St. Valentine's Day Giveaway</td>\n",
       "      <td>EU, CIS, APAC, N.America</td>\n",
       "      <td>2020-02-14</td>\n",
       "      <td>2020-02-16</td>\n",
       "    </tr>\n",
       "    <tr>\n",
       "      <td>2</td>\n",
       "      <td>St. Patric's Day Promo</td>\n",
       "      <td>EU, N.America</td>\n",
       "      <td>2020-03-17</td>\n",
       "      <td>2020-03-19</td>\n",
       "    </tr>\n",
       "    <tr>\n",
       "      <td>3</td>\n",
       "      <td>Easter Promo</td>\n",
       "      <td>EU, CIS, APAC, N.America</td>\n",
       "      <td>2020-04-12</td>\n",
       "      <td>2020-04-19</td>\n",
       "    </tr>\n",
       "    <tr>\n",
       "      <td>4</td>\n",
       "      <td>4th of July Promo</td>\n",
       "      <td>N.America</td>\n",
       "      <td>2020-07-04</td>\n",
       "      <td>2020-07-11</td>\n",
       "    </tr>\n",
       "    <tr>\n",
       "      <td>5</td>\n",
       "      <td>Black Friday Ads Campaign</td>\n",
       "      <td>EU, CIS, APAC, N.America</td>\n",
       "      <td>2020-11-26</td>\n",
       "      <td>2020-12-01</td>\n",
       "    </tr>\n",
       "    <tr>\n",
       "      <td>6</td>\n",
       "      <td>Chinese New Year Promo</td>\n",
       "      <td>APAC</td>\n",
       "      <td>2020-01-25</td>\n",
       "      <td>2020-02-07</td>\n",
       "    </tr>\n",
       "    <tr>\n",
       "      <td>7</td>\n",
       "      <td>Labor day (May 1st) Ads Campaign</td>\n",
       "      <td>EU, CIS, APAC</td>\n",
       "      <td>2020-05-01</td>\n",
       "      <td>2020-05-03</td>\n",
       "    </tr>\n",
       "    <tr>\n",
       "      <td>8</td>\n",
       "      <td>International Women's Day Promo</td>\n",
       "      <td>EU, CIS, APAC</td>\n",
       "      <td>2020-03-08</td>\n",
       "      <td>2020-03-10</td>\n",
       "    </tr>\n",
       "    <tr>\n",
       "      <td>9</td>\n",
       "      <td>Victory Day CIS (May 9th) Event</td>\n",
       "      <td>CIS</td>\n",
       "      <td>2020-05-09</td>\n",
       "      <td>2020-05-11</td>\n",
       "    </tr>\n",
       "    <tr>\n",
       "      <td>10</td>\n",
       "      <td>CIS New Year Gift Lottery</td>\n",
       "      <td>CIS</td>\n",
       "      <td>2020-12-30</td>\n",
       "      <td>2021-01-07</td>\n",
       "    </tr>\n",
       "    <tr>\n",
       "      <td>11</td>\n",
       "      <td>Dragon Boat Festival Giveaway</td>\n",
       "      <td>APAC</td>\n",
       "      <td>2020-06-25</td>\n",
       "      <td>2020-07-01</td>\n",
       "    </tr>\n",
       "    <tr>\n",
       "      <td>12</td>\n",
       "      <td>Single's Day Gift Promo</td>\n",
       "      <td>APAC</td>\n",
       "      <td>2020-11-11</td>\n",
       "      <td>2020-11-12</td>\n",
       "    </tr>\n",
       "    <tr>\n",
       "      <td>13</td>\n",
       "      <td>Chinese Moon Festival</td>\n",
       "      <td>APAC</td>\n",
       "      <td>2020-10-01</td>\n",
       "      <td>2020-10-07</td>\n",
       "    </tr>\n",
       "  </tbody>\n",
       "</table>\n",
       "</div>"
      ],
      "text/plain": [
       "                                name                   regions    start_dt  \\\n",
       "0   Christmas&New Year Promo          EU, N.America             2020-12-25   \n",
       "1   St. Valentine's Day Giveaway      EU, CIS, APAC, N.America  2020-02-14   \n",
       "2   St. Patric's Day Promo            EU, N.America             2020-03-17   \n",
       "3   Easter Promo                      EU, CIS, APAC, N.America  2020-04-12   \n",
       "4   4th of July Promo                 N.America                 2020-07-04   \n",
       "5   Black Friday Ads Campaign         EU, CIS, APAC, N.America  2020-11-26   \n",
       "6   Chinese New Year Promo            APAC                      2020-01-25   \n",
       "7   Labor day (May 1st) Ads Campaign  EU, CIS, APAC             2020-05-01   \n",
       "8   International Women's Day Promo   EU, CIS, APAC             2020-03-08   \n",
       "9   Victory Day CIS (May 9th) Event   CIS                       2020-05-09   \n",
       "10  CIS New Year Gift Lottery         CIS                       2020-12-30   \n",
       "11  Dragon Boat Festival Giveaway     APAC                      2020-06-25   \n",
       "12  Single's Day Gift Promo           APAC                      2020-11-11   \n",
       "13  Chinese Moon Festival             APAC                      2020-10-01   \n",
       "\n",
       "     finish_dt  \n",
       "0   2021-01-03  \n",
       "1   2020-02-16  \n",
       "2   2020-03-19  \n",
       "3   2020-04-19  \n",
       "4   2020-07-11  \n",
       "5   2020-12-01  \n",
       "6   2020-02-07  \n",
       "7   2020-05-03  \n",
       "8   2020-03-10  \n",
       "9   2020-05-11  \n",
       "10  2021-01-07  \n",
       "11  2020-07-01  \n",
       "12  2020-11-12  \n",
       "13  2020-10-07  "
      ]
     },
     "metadata": {},
     "output_type": "display_data"
    }
   ],
   "source": [
    "# Let's look at all 14 marketing campaign and their dates \n",
    "print(BOLD + 'Marketing campaigns for 2020:' + END)\n",
    "display(marketing_campaign)"
   ]
  },
  {
   "cell_type": "markdown",
   "metadata": {},
   "source": [
    "At the time of A/B testing, the \"Christmas & New Year Promo\" campaign was launched, this could bias the test results. We will assume that an ad campaign equally affects its participants, but can change the behavior of users in comparison with those who do not participate in it. Then in the A/B experiments there should not be both users participating in this campaign and not participating in it, i.e. the experiments should only contain users from EU, N.America or only from APAC, CIS."
   ]
  },
  {
   "cell_type": "code",
   "execution_count": 6,
   "metadata": {},
   "outputs": [
    {
     "name": "stdout",
     "output_type": "stream",
     "text": [
      "\u001b[1mThe number of unique users in the dataset: 58,703.\u001b[0m\n",
      "\u001b[1mThe number of unique users who have logs : 58,703.\u001b[0m\n",
      "\u001b[1mThe number of unique users who took part in the experiments: 13,638, which is 23.23% of all users.\u001b[0m\n",
      "\n",
      "\u001b[1mDistribution of the number of users by test experiments\u001b[0m\n",
      "The number of users in A and B experiments in the recommender system and interface(EU) tests:\n"
     ]
    },
    {
     "data": {
      "text/html": [
       "<div>\n",
       "<style scoped>\n",
       "    .dataframe tbody tr th:only-of-type {\n",
       "        vertical-align: middle;\n",
       "    }\n",
       "\n",
       "    .dataframe tbody tr th {\n",
       "        vertical-align: top;\n",
       "    }\n",
       "\n",
       "    .dataframe thead th {\n",
       "        text-align: right;\n",
       "    }\n",
       "</style>\n",
       "<table border=\"1\" class=\"dataframe\">\n",
       "  <thead>\n",
       "    <tr style=\"text-align: right;\">\n",
       "      <th>group</th>\n",
       "      <th>A</th>\n",
       "      <th>B</th>\n",
       "    </tr>\n",
       "    <tr>\n",
       "      <th>ab_test</th>\n",
       "      <th></th>\n",
       "      <th></th>\n",
       "    </tr>\n",
       "  </thead>\n",
       "  <tbody>\n",
       "    <tr>\n",
       "      <td>interface_eu_test</td>\n",
       "      <td>5467</td>\n",
       "      <td>5383</td>\n",
       "    </tr>\n",
       "    <tr>\n",
       "      <td>recommender_system_test</td>\n",
       "      <td>2747</td>\n",
       "      <td>928</td>\n",
       "    </tr>\n",
       "  </tbody>\n",
       "</table>\n",
       "</div>"
      ],
      "text/plain": [
       "group                       A     B\n",
       "ab_test                            \n",
       "interface_eu_test        5467  5383\n",
       "recommender_system_test  2747  928 "
      ]
     },
     "metadata": {},
     "output_type": "display_data"
    },
    {
     "name": "stdout",
     "output_type": "stream",
     "text": [
      "Share of users in A and B experiments in both tests:\n"
     ]
    },
    {
     "data": {
      "text/html": [
       "<div>\n",
       "<style scoped>\n",
       "    .dataframe tbody tr th:only-of-type {\n",
       "        vertical-align: middle;\n",
       "    }\n",
       "\n",
       "    .dataframe tbody tr th {\n",
       "        vertical-align: top;\n",
       "    }\n",
       "\n",
       "    .dataframe thead th {\n",
       "        text-align: right;\n",
       "    }\n",
       "</style>\n",
       "<table border=\"1\" class=\"dataframe\">\n",
       "  <thead>\n",
       "    <tr style=\"text-align: right;\">\n",
       "      <th>group</th>\n",
       "      <th>A</th>\n",
       "      <th>B</th>\n",
       "    </tr>\n",
       "    <tr>\n",
       "      <th>ab_test</th>\n",
       "      <th></th>\n",
       "      <th></th>\n",
       "    </tr>\n",
       "  </thead>\n",
       "  <tbody>\n",
       "    <tr>\n",
       "      <td>interface_eu_test</td>\n",
       "      <td>50.0</td>\n",
       "      <td>50.0</td>\n",
       "    </tr>\n",
       "    <tr>\n",
       "      <td>recommender_system_test</td>\n",
       "      <td>75.0</td>\n",
       "      <td>25.0</td>\n",
       "    </tr>\n",
       "  </tbody>\n",
       "</table>\n",
       "</div>"
      ],
      "text/plain": [
       "group                       A     B\n",
       "ab_test                            \n",
       "interface_eu_test        50.0  50.0\n",
       "recommender_system_test  75.0  25.0"
      ]
     },
     "metadata": {},
     "output_type": "display_data"
    }
   ],
   "source": [
    "# Let's look at the number of users in different tables in the dataset\n",
    "print(BOLD + 'The number of unique users in the dataset: {:,}.'.format(users.user_id.nunique()) + END)\n",
    "print(BOLD + 'The number of unique users who have logs : {:,}.'.format(user_events_log.user_id.nunique()) + END)\n",
    "print(BOLD + 'The number of unique users who took part in the experiments: {:,}, which is {:.2%} of all users.'\\\n",
    "                  .format(ab_groups.user_id.nunique(), \n",
    "                          ab_groups.user_id.nunique()/users.user_id.nunique()) + END)\n",
    "print()\n",
    "\n",
    "# function to print data on distribution of the number of users by groups\n",
    "def print_distr_users_by_test_experiments():\n",
    "    print('The number of users in A and B experiments in the recommender system and interface(EU) tests:')\n",
    "    display(ab_groups.pivot_table(index='ab_test', columns='group', values='user_id', aggfunc='count'))\n",
    "\n",
    "    print('Share of users in A and B experiments in both tests:')\n",
    "    display(ab_groups.pivot_table(index='ab_test', columns='group', values='user_id', aggfunc='count')\\\n",
    "        .div(ab_groups.groupby('ab_test').user_id.count(), axis=0).round(2)*100)\n",
    "    \n",
    "\n",
    "print(BOLD + 'Distribution of the number of users by test experiments' + END)\n",
    "print_distr_users_by_test_experiments()"
   ]
  },
  {
   "cell_type": "markdown",
   "metadata": {},
   "source": [
    "Log records are available for all users of the dataset. Almost 22% of users took part in the A/B tests. The number of unique users (13,638) is less than the number of entries in the table with A/B tests (14,525, see general info). This means there are users who participated in both tests (interface (EU) and recommender system tests) or in both experiments (A and B).\n",
    "\n",
    "Each experiment of the interface (EU) test involves about 5.4 thousand users. Thus, the shares of users in experiments are evenly distributed. By contrast, the share of users in the recommender system testing experiments is unevenly distributed. Only 25% of users taking part in the test saw the changes corresponding to new recomendation system. "
   ]
  },
  {
   "cell_type": "code",
   "execution_count": 7,
   "metadata": {},
   "outputs": [
    {
     "name": "stdout",
     "output_type": "stream",
     "text": [
      "\u001b[1mThe number of users who took part in both tests (recommender system test and interface EU test): 887 \u001b[0m\n",
      "\u001b[1mThe number of users who took part in both A and B experiments in the recommender system test: 0 \u001b[0m\n",
      "\u001b[1mThe number of users who took part in both A and B experiments in the interface (EU) test: 0 \u001b[0m\n"
     ]
    }
   ],
   "source": [
    "# Let's define on which users there were intersections and their amount.\n",
    "users_in_both_experiments = set(ab_groups.query(\"ab_test=='recommender_system_test'\").user_id)\\\n",
    "                            &set(ab_groups.query(\"ab_test=='interface_eu_test'\").user_id)\n",
    "print(BOLD + \"The number of users who took part in both tests (recommender system test and interface EU test):\",\n",
    "      len(users_in_both_experiments), END)\n",
    "\n",
    "print(BOLD + \"The number of users who took part in both A and B experiments in the recommender system test:\",\n",
    "      len(set(ab_groups.query(\"group=='A' and ab_test=='recommender_system_test'\").user_id)\n",
    "          &set(ab_groups.query(\"group=='B' and ab_test=='recommender_system_test'\").user_id)), END)\n",
    "\n",
    "print(BOLD + \"The number of users who took part in both A and B experiments in the interface (EU) test:\",\n",
    "      len(set(ab_groups.query(\"group=='A' and ab_test=='interface_eu_test'\").user_id)\n",
    "          &set(ab_groups.query(\"group=='B' and ab_test=='interface_eu_test'\").user_id)), END)"
   ]
  },
  {
   "cell_type": "markdown",
   "metadata": {},
   "source": [
    "The intersection of groups A and B by visitors is empty for both tests, but there are 887 users who took part in both tests. We should drop the visitors that got into 2 tests since we can't know for sure what they saw and what influenced their behavior."
   ]
  },
  {
   "cell_type": "markdown",
   "metadata": {},
   "source": [
    "## 2. Data Preprocessing\n",
    "<a id='section2'></a>"
   ]
  },
  {
   "cell_type": "markdown",
   "metadata": {},
   "source": [
    "### Feature Renaming and Data Type Replacement"
   ]
  },
  {
   "cell_type": "code",
   "execution_count": 8,
   "metadata": {},
   "outputs": [],
   "source": [
    "# Let's use an uniform approach to date columns names to make it convenient to work with them.\n",
    "# renaming columns\n",
    "marketing_campaign.rename(columns={'start_dt': 'start_date',\n",
    "                                   'finish_dt': 'finish_date'}, inplace=True)\n",
    "\n",
    "user_events_log.rename(columns={'event_dt': 'event_date'}, inplace=True)\n",
    "\n",
    "# converting date columns to datatime type:\n",
    "marketing_campaign['start_date'] = pd.to_datetime(marketing_campaign.start_date, format='%Y-%m-%d')\n",
    "marketing_campaign['finish_date'] = pd.to_datetime(marketing_campaign.finish_date, format='%Y-%m-%d')\n",
    "users['first_date'] = pd.to_datetime(users.first_date, format='%Y-%m-%d')\n",
    "user_events_log['event_date'] = pd.to_datetime(user_events_log.event_date)"
   ]
  },
  {
   "cell_type": "markdown",
   "metadata": {},
   "source": [
    "The type for the `'start_dt'`, `'finish_dt'`, `'first_date'`, and `'event_dt'` columns was changed to datetime to make them convenient to work with it.\n",
    "\n",
    "The names of the date columns have been changed to uniform ones for more convenient work with them. "
   ]
  },
  {
   "cell_type": "markdown",
   "metadata": {},
   "source": [
    "### Examing and Processing Missing Values"
   ]
  },
  {
   "cell_type": "code",
   "execution_count": 9,
   "metadata": {},
   "outputs": [
    {
     "name": "stdout",
     "output_type": "stream",
     "text": [
      "\u001b[1mShare of missing values in the log table by events:\u001b[0m\n"
     ]
    },
    {
     "data": {
      "text/html": [
       "<div>\n",
       "<style scoped>\n",
       "    .dataframe tbody tr th:only-of-type {\n",
       "        vertical-align: middle;\n",
       "    }\n",
       "\n",
       "    .dataframe tbody tr th {\n",
       "        vertical-align: top;\n",
       "    }\n",
       "\n",
       "    .dataframe thead th {\n",
       "        text-align: right;\n",
       "    }\n",
       "</style>\n",
       "<table border=\"1\" class=\"dataframe\">\n",
       "  <thead>\n",
       "    <tr style=\"text-align: right;\">\n",
       "      <th></th>\n",
       "      <th>event_name</th>\n",
       "      <th>event_date</th>\n",
       "    </tr>\n",
       "  </thead>\n",
       "  <tbody>\n",
       "    <tr>\n",
       "      <td>0</td>\n",
       "      <td>login</td>\n",
       "      <td>100.0</td>\n",
       "    </tr>\n",
       "    <tr>\n",
       "      <td>1</td>\n",
       "      <td>product_cart</td>\n",
       "      <td>100.0</td>\n",
       "    </tr>\n",
       "    <tr>\n",
       "      <td>2</td>\n",
       "      <td>product_page</td>\n",
       "      <td>100.0</td>\n",
       "    </tr>\n",
       "    <tr>\n",
       "      <td>3</td>\n",
       "      <td>purchase</td>\n",
       "      <td>0.0</td>\n",
       "    </tr>\n",
       "  </tbody>\n",
       "</table>\n",
       "</div>"
      ],
      "text/plain": [
       "     event_name  event_date\n",
       "0  login         100.0     \n",
       "1  product_cart  100.0     \n",
       "2  product_page  100.0     \n",
       "3  purchase      0.0       "
      ]
     },
     "execution_count": 9,
     "metadata": {},
     "output_type": "execute_result"
    }
   ],
   "source": [
    "# Let's take a look at the percentage of missing values in the 'details' column depending on the type of event.\n",
    "print(BOLD + 'Share of missing values in the log table by events:' + END)\n",
    "(100*user_events_log[user_events_log.details.isnull()].groupby('event_name').event_date.count()\\\n",
    "    /user_events_log.groupby('event_name').event_date.count()).fillna(0).reset_index()"
   ]
  },
  {
   "cell_type": "markdown",
   "metadata": {},
   "source": [
    "The `'details'` column contains the price for the `purchase` event only and there are no missing values for this type of event. For all other events, the value is undefined and we can leave the null value as unavailable."
   ]
  },
  {
   "cell_type": "markdown",
   "metadata": {},
   "source": [
    "### Examing and Processing Duplicates"
   ]
  },
  {
   "cell_type": "code",
   "execution_count": 10,
   "metadata": {},
   "outputs": [
    {
     "name": "stdout",
     "output_type": "stream",
     "text": [
      "\u001b[1mFull duplicates:\u001b[0m\n",
      "The number of full duplicates in the table containing data on \u001b[1muser information\u001b[0m: 0\n",
      "The number of full duplicates in the table containing data on \u001b[1mevents log\u001b[0m: 0\n",
      "The number of full duplicates in the table containing data on \u001b[1mA/B testing information\u001b[0m: 0\n",
      "\n",
      "\u001b[1mDuplicates in particular columns:\u001b[0m\n",
      "The number of user \u001b[1mevents recorded on the same day and time\u001b[1m: \u001b[0m258,002, which is 60.88% of all log records.\n",
      "\n",
      "\u001b[1mSome examples of events recorded on the same day and time:\u001b[0m\n"
     ]
    },
    {
     "data": {
      "text/html": [
       "<style  type=\"text/css\" >\n",
       "    #T_7190194c_d9b8_11eb_8be4_02420a39105frow0_col0 {\n",
       "            : ;\n",
       "            background-color:  #f5fdff;\n",
       "        }    #T_7190194c_d9b8_11eb_8be4_02420a39105frow0_col1 {\n",
       "            : ;\n",
       "            background-color:  #f5fdff;\n",
       "        }    #T_7190194c_d9b8_11eb_8be4_02420a39105frow0_col2 {\n",
       "            color: red;\n",
       "            background-color:  #f5fdff;\n",
       "        }    #T_7190194c_d9b8_11eb_8be4_02420a39105frow0_col3 {\n",
       "            : ;\n",
       "            background-color:  #f5fdff;\n",
       "        }    #T_7190194c_d9b8_11eb_8be4_02420a39105frow0_col4 {\n",
       "            : ;\n",
       "            background-color:  #f5fdff;\n",
       "        }    #T_7190194c_d9b8_11eb_8be4_02420a39105frow0_col5 {\n",
       "            : ;\n",
       "            background-color:  #f5fdff;\n",
       "        }    #T_7190194c_d9b8_11eb_8be4_02420a39105frow1_col0 {\n",
       "            : ;\n",
       "            background-color:  #f5fdff;\n",
       "        }    #T_7190194c_d9b8_11eb_8be4_02420a39105frow1_col1 {\n",
       "            : ;\n",
       "            background-color:  #f5fdff;\n",
       "        }    #T_7190194c_d9b8_11eb_8be4_02420a39105frow1_col2 {\n",
       "            color: green;\n",
       "            background-color:  #f5fdff;\n",
       "        }    #T_7190194c_d9b8_11eb_8be4_02420a39105frow1_col3 {\n",
       "            : ;\n",
       "            background-color:  #f5fdff;\n",
       "        }    #T_7190194c_d9b8_11eb_8be4_02420a39105frow1_col4 {\n",
       "            : ;\n",
       "            background-color:  #f5fdff;\n",
       "        }    #T_7190194c_d9b8_11eb_8be4_02420a39105frow1_col5 {\n",
       "            : ;\n",
       "            background-color:  #f5fdff;\n",
       "        }    #T_7190194c_d9b8_11eb_8be4_02420a39105frow2_col0 {\n",
       "            : ;\n",
       "            background-color:  #f5fdff;\n",
       "        }    #T_7190194c_d9b8_11eb_8be4_02420a39105frow2_col1 {\n",
       "            : ;\n",
       "            background-color:  #f5fdff;\n",
       "        }    #T_7190194c_d9b8_11eb_8be4_02420a39105frow2_col2 {\n",
       "            color: blue;\n",
       "            background-color:  #f5fdff;\n",
       "        }    #T_7190194c_d9b8_11eb_8be4_02420a39105frow2_col3 {\n",
       "            : ;\n",
       "            background-color:  #f5fdff;\n",
       "        }    #T_7190194c_d9b8_11eb_8be4_02420a39105frow2_col4 {\n",
       "            : ;\n",
       "            background-color:  #f5fdff;\n",
       "        }    #T_7190194c_d9b8_11eb_8be4_02420a39105frow2_col5 {\n",
       "            : ;\n",
       "            background-color:  #f5fdff;\n",
       "        }    #T_7190194c_d9b8_11eb_8be4_02420a39105frow3_col0 {\n",
       "            : ;\n",
       "            background-color:  #fff9f0;\n",
       "        }    #T_7190194c_d9b8_11eb_8be4_02420a39105frow3_col1 {\n",
       "            : ;\n",
       "            background-color:  #fff9f0;\n",
       "        }    #T_7190194c_d9b8_11eb_8be4_02420a39105frow3_col2 {\n",
       "            color: red;\n",
       "            background-color:  #fff9f0;\n",
       "        }    #T_7190194c_d9b8_11eb_8be4_02420a39105frow3_col3 {\n",
       "            : ;\n",
       "            background-color:  #fff9f0;\n",
       "        }    #T_7190194c_d9b8_11eb_8be4_02420a39105frow3_col4 {\n",
       "            : ;\n",
       "            background-color:  #fff9f0;\n",
       "        }    #T_7190194c_d9b8_11eb_8be4_02420a39105frow3_col5 {\n",
       "            : ;\n",
       "            background-color:  #fff9f0;\n",
       "        }    #T_7190194c_d9b8_11eb_8be4_02420a39105frow4_col0 {\n",
       "            : ;\n",
       "            background-color:  #fff9f0;\n",
       "        }    #T_7190194c_d9b8_11eb_8be4_02420a39105frow4_col1 {\n",
       "            : ;\n",
       "            background-color:  #fff9f0;\n",
       "        }    #T_7190194c_d9b8_11eb_8be4_02420a39105frow4_col2 {\n",
       "            color: orange;\n",
       "            background-color:  #fff9f0;\n",
       "        }    #T_7190194c_d9b8_11eb_8be4_02420a39105frow4_col3 {\n",
       "            : ;\n",
       "            background-color:  #fff9f0;\n",
       "        }    #T_7190194c_d9b8_11eb_8be4_02420a39105frow4_col4 {\n",
       "            : ;\n",
       "            background-color:  #fff9f0;\n",
       "        }    #T_7190194c_d9b8_11eb_8be4_02420a39105frow4_col5 {\n",
       "            : ;\n",
       "            background-color:  #fff9f0;\n",
       "        }    #T_7190194c_d9b8_11eb_8be4_02420a39105frow5_col0 {\n",
       "            : ;\n",
       "            background-color:  #fff9f0;\n",
       "        }    #T_7190194c_d9b8_11eb_8be4_02420a39105frow5_col1 {\n",
       "            : ;\n",
       "            background-color:  #fff9f0;\n",
       "        }    #T_7190194c_d9b8_11eb_8be4_02420a39105frow5_col2 {\n",
       "            color: green;\n",
       "            background-color:  #fff9f0;\n",
       "        }    #T_7190194c_d9b8_11eb_8be4_02420a39105frow5_col3 {\n",
       "            : ;\n",
       "            background-color:  #fff9f0;\n",
       "        }    #T_7190194c_d9b8_11eb_8be4_02420a39105frow5_col4 {\n",
       "            : ;\n",
       "            background-color:  #fff9f0;\n",
       "        }    #T_7190194c_d9b8_11eb_8be4_02420a39105frow5_col5 {\n",
       "            : ;\n",
       "            background-color:  #fff9f0;\n",
       "        }    #T_7190194c_d9b8_11eb_8be4_02420a39105frow6_col0 {\n",
       "            : ;\n",
       "            background-color:  #fff9f0;\n",
       "        }    #T_7190194c_d9b8_11eb_8be4_02420a39105frow6_col1 {\n",
       "            : ;\n",
       "            background-color:  #fff9f0;\n",
       "        }    #T_7190194c_d9b8_11eb_8be4_02420a39105frow6_col2 {\n",
       "            color: blue;\n",
       "            background-color:  #fff9f0;\n",
       "        }    #T_7190194c_d9b8_11eb_8be4_02420a39105frow6_col3 {\n",
       "            : ;\n",
       "            background-color:  #fff9f0;\n",
       "        }    #T_7190194c_d9b8_11eb_8be4_02420a39105frow6_col4 {\n",
       "            : ;\n",
       "            background-color:  #fff9f0;\n",
       "        }    #T_7190194c_d9b8_11eb_8be4_02420a39105frow6_col5 {\n",
       "            : ;\n",
       "            background-color:  #fff9f0;\n",
       "        }    #T_7190194c_d9b8_11eb_8be4_02420a39105frow7_col0 {\n",
       "            : ;\n",
       "            background-color:  #f5fdff;\n",
       "        }    #T_7190194c_d9b8_11eb_8be4_02420a39105frow7_col1 {\n",
       "            : ;\n",
       "            background-color:  #f5fdff;\n",
       "        }    #T_7190194c_d9b8_11eb_8be4_02420a39105frow7_col2 {\n",
       "            color: red;\n",
       "            background-color:  #f5fdff;\n",
       "        }    #T_7190194c_d9b8_11eb_8be4_02420a39105frow7_col3 {\n",
       "            : ;\n",
       "            background-color:  #f5fdff;\n",
       "        }    #T_7190194c_d9b8_11eb_8be4_02420a39105frow7_col4 {\n",
       "            : ;\n",
       "            background-color:  #f5fdff;\n",
       "        }    #T_7190194c_d9b8_11eb_8be4_02420a39105frow7_col5 {\n",
       "            : ;\n",
       "            background-color:  #f5fdff;\n",
       "        }    #T_7190194c_d9b8_11eb_8be4_02420a39105frow8_col0 {\n",
       "            : ;\n",
       "            background-color:  #f5fdff;\n",
       "        }    #T_7190194c_d9b8_11eb_8be4_02420a39105frow8_col1 {\n",
       "            : ;\n",
       "            background-color:  #f5fdff;\n",
       "        }    #T_7190194c_d9b8_11eb_8be4_02420a39105frow8_col2 {\n",
       "            color: orange;\n",
       "            background-color:  #f5fdff;\n",
       "        }    #T_7190194c_d9b8_11eb_8be4_02420a39105frow8_col3 {\n",
       "            : ;\n",
       "            background-color:  #f5fdff;\n",
       "        }    #T_7190194c_d9b8_11eb_8be4_02420a39105frow8_col4 {\n",
       "            : ;\n",
       "            background-color:  #f5fdff;\n",
       "        }    #T_7190194c_d9b8_11eb_8be4_02420a39105frow8_col5 {\n",
       "            : ;\n",
       "            background-color:  #f5fdff;\n",
       "        }    #T_7190194c_d9b8_11eb_8be4_02420a39105frow9_col0 {\n",
       "            : ;\n",
       "            background-color:  #f5fdff;\n",
       "        }    #T_7190194c_d9b8_11eb_8be4_02420a39105frow9_col1 {\n",
       "            : ;\n",
       "            background-color:  #f5fdff;\n",
       "        }    #T_7190194c_d9b8_11eb_8be4_02420a39105frow9_col2 {\n",
       "            color: blue;\n",
       "            background-color:  #f5fdff;\n",
       "        }    #T_7190194c_d9b8_11eb_8be4_02420a39105frow9_col3 {\n",
       "            : ;\n",
       "            background-color:  #f5fdff;\n",
       "        }    #T_7190194c_d9b8_11eb_8be4_02420a39105frow9_col4 {\n",
       "            : ;\n",
       "            background-color:  #f5fdff;\n",
       "        }    #T_7190194c_d9b8_11eb_8be4_02420a39105frow9_col5 {\n",
       "            : ;\n",
       "            background-color:  #f5fdff;\n",
       "        }    #T_7190194c_d9b8_11eb_8be4_02420a39105frow10_col0 {\n",
       "            : ;\n",
       "            background-color:  #fff9f0;\n",
       "        }    #T_7190194c_d9b8_11eb_8be4_02420a39105frow10_col1 {\n",
       "            : ;\n",
       "            background-color:  #fff9f0;\n",
       "        }    #T_7190194c_d9b8_11eb_8be4_02420a39105frow10_col2 {\n",
       "            color: red;\n",
       "            background-color:  #fff9f0;\n",
       "        }    #T_7190194c_d9b8_11eb_8be4_02420a39105frow10_col3 {\n",
       "            : ;\n",
       "            background-color:  #fff9f0;\n",
       "        }    #T_7190194c_d9b8_11eb_8be4_02420a39105frow10_col4 {\n",
       "            : ;\n",
       "            background-color:  #fff9f0;\n",
       "        }    #T_7190194c_d9b8_11eb_8be4_02420a39105frow10_col5 {\n",
       "            : ;\n",
       "            background-color:  #fff9f0;\n",
       "        }    #T_7190194c_d9b8_11eb_8be4_02420a39105frow11_col0 {\n",
       "            : ;\n",
       "            background-color:  #fff9f0;\n",
       "        }    #T_7190194c_d9b8_11eb_8be4_02420a39105frow11_col1 {\n",
       "            : ;\n",
       "            background-color:  #fff9f0;\n",
       "        }    #T_7190194c_d9b8_11eb_8be4_02420a39105frow11_col2 {\n",
       "            color: blue;\n",
       "            background-color:  #fff9f0;\n",
       "        }    #T_7190194c_d9b8_11eb_8be4_02420a39105frow11_col3 {\n",
       "            : ;\n",
       "            background-color:  #fff9f0;\n",
       "        }    #T_7190194c_d9b8_11eb_8be4_02420a39105frow11_col4 {\n",
       "            : ;\n",
       "            background-color:  #fff9f0;\n",
       "        }    #T_7190194c_d9b8_11eb_8be4_02420a39105frow11_col5 {\n",
       "            : ;\n",
       "            background-color:  #fff9f0;\n",
       "        }    #T_7190194c_d9b8_11eb_8be4_02420a39105frow12_col0 {\n",
       "            : ;\n",
       "            background-color:  #f5fdff;\n",
       "        }    #T_7190194c_d9b8_11eb_8be4_02420a39105frow12_col1 {\n",
       "            : ;\n",
       "            background-color:  #f5fdff;\n",
       "        }    #T_7190194c_d9b8_11eb_8be4_02420a39105frow12_col2 {\n",
       "            color: orange;\n",
       "            background-color:  #f5fdff;\n",
       "        }    #T_7190194c_d9b8_11eb_8be4_02420a39105frow12_col3 {\n",
       "            : ;\n",
       "            background-color:  #f5fdff;\n",
       "        }    #T_7190194c_d9b8_11eb_8be4_02420a39105frow12_col4 {\n",
       "            : ;\n",
       "            background-color:  #f5fdff;\n",
       "        }    #T_7190194c_d9b8_11eb_8be4_02420a39105frow12_col5 {\n",
       "            : ;\n",
       "            background-color:  #f5fdff;\n",
       "        }    #T_7190194c_d9b8_11eb_8be4_02420a39105frow13_col0 {\n",
       "            : ;\n",
       "            background-color:  #f5fdff;\n",
       "        }    #T_7190194c_d9b8_11eb_8be4_02420a39105frow13_col1 {\n",
       "            : ;\n",
       "            background-color:  #f5fdff;\n",
       "        }    #T_7190194c_d9b8_11eb_8be4_02420a39105frow13_col2 {\n",
       "            color: green;\n",
       "            background-color:  #f5fdff;\n",
       "        }    #T_7190194c_d9b8_11eb_8be4_02420a39105frow13_col3 {\n",
       "            : ;\n",
       "            background-color:  #f5fdff;\n",
       "        }    #T_7190194c_d9b8_11eb_8be4_02420a39105frow13_col4 {\n",
       "            : ;\n",
       "            background-color:  #f5fdff;\n",
       "        }    #T_7190194c_d9b8_11eb_8be4_02420a39105frow13_col5 {\n",
       "            : ;\n",
       "            background-color:  #f5fdff;\n",
       "        }    #T_7190194c_d9b8_11eb_8be4_02420a39105frow14_col0 {\n",
       "            : ;\n",
       "            background-color:  #fff9f0;\n",
       "        }    #T_7190194c_d9b8_11eb_8be4_02420a39105frow14_col1 {\n",
       "            : ;\n",
       "            background-color:  #fff9f0;\n",
       "        }    #T_7190194c_d9b8_11eb_8be4_02420a39105frow14_col2 {\n",
       "            color: red;\n",
       "            background-color:  #fff9f0;\n",
       "        }    #T_7190194c_d9b8_11eb_8be4_02420a39105frow14_col3 {\n",
       "            : ;\n",
       "            background-color:  #fff9f0;\n",
       "        }    #T_7190194c_d9b8_11eb_8be4_02420a39105frow14_col4 {\n",
       "            : ;\n",
       "            background-color:  #fff9f0;\n",
       "        }    #T_7190194c_d9b8_11eb_8be4_02420a39105frow14_col5 {\n",
       "            : ;\n",
       "            background-color:  #fff9f0;\n",
       "        }    #T_7190194c_d9b8_11eb_8be4_02420a39105frow15_col0 {\n",
       "            : ;\n",
       "            background-color:  #fff9f0;\n",
       "        }    #T_7190194c_d9b8_11eb_8be4_02420a39105frow15_col1 {\n",
       "            : ;\n",
       "            background-color:  #fff9f0;\n",
       "        }    #T_7190194c_d9b8_11eb_8be4_02420a39105frow15_col2 {\n",
       "            color: blue;\n",
       "            background-color:  #fff9f0;\n",
       "        }    #T_7190194c_d9b8_11eb_8be4_02420a39105frow15_col3 {\n",
       "            : ;\n",
       "            background-color:  #fff9f0;\n",
       "        }    #T_7190194c_d9b8_11eb_8be4_02420a39105frow15_col4 {\n",
       "            : ;\n",
       "            background-color:  #fff9f0;\n",
       "        }    #T_7190194c_d9b8_11eb_8be4_02420a39105frow15_col5 {\n",
       "            : ;\n",
       "            background-color:  #fff9f0;\n",
       "        }    #T_7190194c_d9b8_11eb_8be4_02420a39105frow16_col0 {\n",
       "            : ;\n",
       "            background-color:  #f5fdff;\n",
       "        }    #T_7190194c_d9b8_11eb_8be4_02420a39105frow16_col1 {\n",
       "            : ;\n",
       "            background-color:  #f5fdff;\n",
       "        }    #T_7190194c_d9b8_11eb_8be4_02420a39105frow16_col2 {\n",
       "            color: red;\n",
       "            background-color:  #f5fdff;\n",
       "        }    #T_7190194c_d9b8_11eb_8be4_02420a39105frow16_col3 {\n",
       "            : ;\n",
       "            background-color:  #f5fdff;\n",
       "        }    #T_7190194c_d9b8_11eb_8be4_02420a39105frow16_col4 {\n",
       "            : ;\n",
       "            background-color:  #f5fdff;\n",
       "        }    #T_7190194c_d9b8_11eb_8be4_02420a39105frow16_col5 {\n",
       "            : ;\n",
       "            background-color:  #f5fdff;\n",
       "        }    #T_7190194c_d9b8_11eb_8be4_02420a39105frow17_col0 {\n",
       "            : ;\n",
       "            background-color:  #f5fdff;\n",
       "        }    #T_7190194c_d9b8_11eb_8be4_02420a39105frow17_col1 {\n",
       "            : ;\n",
       "            background-color:  #f5fdff;\n",
       "        }    #T_7190194c_d9b8_11eb_8be4_02420a39105frow17_col2 {\n",
       "            color: blue;\n",
       "            background-color:  #f5fdff;\n",
       "        }    #T_7190194c_d9b8_11eb_8be4_02420a39105frow17_col3 {\n",
       "            : ;\n",
       "            background-color:  #f5fdff;\n",
       "        }    #T_7190194c_d9b8_11eb_8be4_02420a39105frow17_col4 {\n",
       "            : ;\n",
       "            background-color:  #f5fdff;\n",
       "        }    #T_7190194c_d9b8_11eb_8be4_02420a39105frow17_col5 {\n",
       "            : ;\n",
       "            background-color:  #f5fdff;\n",
       "        }    #T_7190194c_d9b8_11eb_8be4_02420a39105frow18_col0 {\n",
       "            : ;\n",
       "            background-color:  #fff9f0;\n",
       "        }    #T_7190194c_d9b8_11eb_8be4_02420a39105frow18_col1 {\n",
       "            : ;\n",
       "            background-color:  #fff9f0;\n",
       "        }    #T_7190194c_d9b8_11eb_8be4_02420a39105frow18_col2 {\n",
       "            color: red;\n",
       "            background-color:  #fff9f0;\n",
       "        }    #T_7190194c_d9b8_11eb_8be4_02420a39105frow18_col3 {\n",
       "            : ;\n",
       "            background-color:  #fff9f0;\n",
       "        }    #T_7190194c_d9b8_11eb_8be4_02420a39105frow18_col4 {\n",
       "            : ;\n",
       "            background-color:  #fff9f0;\n",
       "        }    #T_7190194c_d9b8_11eb_8be4_02420a39105frow18_col5 {\n",
       "            : ;\n",
       "            background-color:  #fff9f0;\n",
       "        }    #T_7190194c_d9b8_11eb_8be4_02420a39105frow19_col0 {\n",
       "            : ;\n",
       "            background-color:  #fff9f0;\n",
       "        }    #T_7190194c_d9b8_11eb_8be4_02420a39105frow19_col1 {\n",
       "            : ;\n",
       "            background-color:  #fff9f0;\n",
       "        }    #T_7190194c_d9b8_11eb_8be4_02420a39105frow19_col2 {\n",
       "            color: green;\n",
       "            background-color:  #fff9f0;\n",
       "        }    #T_7190194c_d9b8_11eb_8be4_02420a39105frow19_col3 {\n",
       "            : ;\n",
       "            background-color:  #fff9f0;\n",
       "        }    #T_7190194c_d9b8_11eb_8be4_02420a39105frow19_col4 {\n",
       "            : ;\n",
       "            background-color:  #fff9f0;\n",
       "        }    #T_7190194c_d9b8_11eb_8be4_02420a39105frow19_col5 {\n",
       "            : ;\n",
       "            background-color:  #fff9f0;\n",
       "        }</style><table id=\"T_7190194c_d9b8_11eb_8be4_02420a39105f\" ><thead>    <tr>        <th class=\"col_heading level0 col0\" >user_id</th>        <th class=\"col_heading level0 col1\" >event_date</th>        <th class=\"col_heading level0 col2\" >event_name</th>        <th class=\"col_heading level0 col3\" >details</th>        <th class=\"col_heading level0 col4\" >time_diff</th>        <th class=\"col_heading level0 col5\" >session_id</th>    </tr></thead><tbody>\n",
       "                <tr>\n",
       "                                <td id=\"T_7190194c_d9b8_11eb_8be4_02420a39105frow0_col0\" class=\"data row0 col0\" >000199F1887AE5E6</td>\n",
       "                        <td id=\"T_7190194c_d9b8_11eb_8be4_02420a39105frow0_col1\" class=\"data row0 col1\" >2020-12-14 09:56:09</td>\n",
       "                        <td id=\"T_7190194c_d9b8_11eb_8be4_02420a39105frow0_col2\" class=\"data row0 col2\" >purchase</td>\n",
       "                        <td id=\"T_7190194c_d9b8_11eb_8be4_02420a39105frow0_col3\" class=\"data row0 col3\" >4.99</td>\n",
       "                        <td id=\"T_7190194c_d9b8_11eb_8be4_02420a39105frow0_col4\" class=\"data row0 col4\" ></td>\n",
       "                        <td id=\"T_7190194c_d9b8_11eb_8be4_02420a39105frow0_col5\" class=\"data row0 col5\" >1</td>\n",
       "            </tr>\n",
       "            <tr>\n",
       "                                <td id=\"T_7190194c_d9b8_11eb_8be4_02420a39105frow1_col0\" class=\"data row1 col0\" >000199F1887AE5E6</td>\n",
       "                        <td id=\"T_7190194c_d9b8_11eb_8be4_02420a39105frow1_col1\" class=\"data row1 col1\" >2020-12-14 09:56:09</td>\n",
       "                        <td id=\"T_7190194c_d9b8_11eb_8be4_02420a39105frow1_col2\" class=\"data row1 col2\" >product_page</td>\n",
       "                        <td id=\"T_7190194c_d9b8_11eb_8be4_02420a39105frow1_col3\" class=\"data row1 col3\" >nan</td>\n",
       "                        <td id=\"T_7190194c_d9b8_11eb_8be4_02420a39105frow1_col4\" class=\"data row1 col4\" >0 days 00:00:00</td>\n",
       "                        <td id=\"T_7190194c_d9b8_11eb_8be4_02420a39105frow1_col5\" class=\"data row1 col5\" >1</td>\n",
       "            </tr>\n",
       "            <tr>\n",
       "                                <td id=\"T_7190194c_d9b8_11eb_8be4_02420a39105frow2_col0\" class=\"data row2 col0\" >000199F1887AE5E6</td>\n",
       "                        <td id=\"T_7190194c_d9b8_11eb_8be4_02420a39105frow2_col1\" class=\"data row2 col1\" >2020-12-14 09:56:09</td>\n",
       "                        <td id=\"T_7190194c_d9b8_11eb_8be4_02420a39105frow2_col2\" class=\"data row2 col2\" >login</td>\n",
       "                        <td id=\"T_7190194c_d9b8_11eb_8be4_02420a39105frow2_col3\" class=\"data row2 col3\" >nan</td>\n",
       "                        <td id=\"T_7190194c_d9b8_11eb_8be4_02420a39105frow2_col4\" class=\"data row2 col4\" >0 days 00:00:00</td>\n",
       "                        <td id=\"T_7190194c_d9b8_11eb_8be4_02420a39105frow2_col5\" class=\"data row2 col5\" >1</td>\n",
       "            </tr>\n",
       "            <tr>\n",
       "                                <td id=\"T_7190194c_d9b8_11eb_8be4_02420a39105frow3_col0\" class=\"data row3 col0\" >000199F1887AE5E6</td>\n",
       "                        <td id=\"T_7190194c_d9b8_11eb_8be4_02420a39105frow3_col1\" class=\"data row3 col1\" >2020-12-15 07:22:56</td>\n",
       "                        <td id=\"T_7190194c_d9b8_11eb_8be4_02420a39105frow3_col2\" class=\"data row3 col2\" >purchase</td>\n",
       "                        <td id=\"T_7190194c_d9b8_11eb_8be4_02420a39105frow3_col3\" class=\"data row3 col3\" >4.99</td>\n",
       "                        <td id=\"T_7190194c_d9b8_11eb_8be4_02420a39105frow3_col4\" class=\"data row3 col4\" >0 days 21:26:47</td>\n",
       "                        <td id=\"T_7190194c_d9b8_11eb_8be4_02420a39105frow3_col5\" class=\"data row3 col5\" >2</td>\n",
       "            </tr>\n",
       "            <tr>\n",
       "                                <td id=\"T_7190194c_d9b8_11eb_8be4_02420a39105frow4_col0\" class=\"data row4 col0\" >000199F1887AE5E6</td>\n",
       "                        <td id=\"T_7190194c_d9b8_11eb_8be4_02420a39105frow4_col1\" class=\"data row4 col1\" >2020-12-15 07:22:56</td>\n",
       "                        <td id=\"T_7190194c_d9b8_11eb_8be4_02420a39105frow4_col2\" class=\"data row4 col2\" >product_cart</td>\n",
       "                        <td id=\"T_7190194c_d9b8_11eb_8be4_02420a39105frow4_col3\" class=\"data row4 col3\" >nan</td>\n",
       "                        <td id=\"T_7190194c_d9b8_11eb_8be4_02420a39105frow4_col4\" class=\"data row4 col4\" >0 days 00:00:00</td>\n",
       "                        <td id=\"T_7190194c_d9b8_11eb_8be4_02420a39105frow4_col5\" class=\"data row4 col5\" >2</td>\n",
       "            </tr>\n",
       "            <tr>\n",
       "                                <td id=\"T_7190194c_d9b8_11eb_8be4_02420a39105frow5_col0\" class=\"data row5 col0\" >000199F1887AE5E6</td>\n",
       "                        <td id=\"T_7190194c_d9b8_11eb_8be4_02420a39105frow5_col1\" class=\"data row5 col1\" >2020-12-15 07:22:56</td>\n",
       "                        <td id=\"T_7190194c_d9b8_11eb_8be4_02420a39105frow5_col2\" class=\"data row5 col2\" >product_page</td>\n",
       "                        <td id=\"T_7190194c_d9b8_11eb_8be4_02420a39105frow5_col3\" class=\"data row5 col3\" >nan</td>\n",
       "                        <td id=\"T_7190194c_d9b8_11eb_8be4_02420a39105frow5_col4\" class=\"data row5 col4\" >0 days 00:00:00</td>\n",
       "                        <td id=\"T_7190194c_d9b8_11eb_8be4_02420a39105frow5_col5\" class=\"data row5 col5\" >2</td>\n",
       "            </tr>\n",
       "            <tr>\n",
       "                                <td id=\"T_7190194c_d9b8_11eb_8be4_02420a39105frow6_col0\" class=\"data row6 col0\" >000199F1887AE5E6</td>\n",
       "                        <td id=\"T_7190194c_d9b8_11eb_8be4_02420a39105frow6_col1\" class=\"data row6 col1\" >2020-12-15 07:22:56</td>\n",
       "                        <td id=\"T_7190194c_d9b8_11eb_8be4_02420a39105frow6_col2\" class=\"data row6 col2\" >login</td>\n",
       "                        <td id=\"T_7190194c_d9b8_11eb_8be4_02420a39105frow6_col3\" class=\"data row6 col3\" >nan</td>\n",
       "                        <td id=\"T_7190194c_d9b8_11eb_8be4_02420a39105frow6_col4\" class=\"data row6 col4\" >0 days 00:00:00</td>\n",
       "                        <td id=\"T_7190194c_d9b8_11eb_8be4_02420a39105frow6_col5\" class=\"data row6 col5\" >2</td>\n",
       "            </tr>\n",
       "            <tr>\n",
       "                                <td id=\"T_7190194c_d9b8_11eb_8be4_02420a39105frow7_col0\" class=\"data row7 col0\" >000199F1887AE5E6</td>\n",
       "                        <td id=\"T_7190194c_d9b8_11eb_8be4_02420a39105frow7_col1\" class=\"data row7 col1\" >2020-12-20 06:36:35</td>\n",
       "                        <td id=\"T_7190194c_d9b8_11eb_8be4_02420a39105frow7_col2\" class=\"data row7 col2\" >purchase</td>\n",
       "                        <td id=\"T_7190194c_d9b8_11eb_8be4_02420a39105frow7_col3\" class=\"data row7 col3\" >4.99</td>\n",
       "                        <td id=\"T_7190194c_d9b8_11eb_8be4_02420a39105frow7_col4\" class=\"data row7 col4\" >4 days 23:13:39</td>\n",
       "                        <td id=\"T_7190194c_d9b8_11eb_8be4_02420a39105frow7_col5\" class=\"data row7 col5\" >3</td>\n",
       "            </tr>\n",
       "            <tr>\n",
       "                                <td id=\"T_7190194c_d9b8_11eb_8be4_02420a39105frow8_col0\" class=\"data row8 col0\" >000199F1887AE5E6</td>\n",
       "                        <td id=\"T_7190194c_d9b8_11eb_8be4_02420a39105frow8_col1\" class=\"data row8 col1\" >2020-12-20 06:36:35</td>\n",
       "                        <td id=\"T_7190194c_d9b8_11eb_8be4_02420a39105frow8_col2\" class=\"data row8 col2\" >product_cart</td>\n",
       "                        <td id=\"T_7190194c_d9b8_11eb_8be4_02420a39105frow8_col3\" class=\"data row8 col3\" >nan</td>\n",
       "                        <td id=\"T_7190194c_d9b8_11eb_8be4_02420a39105frow8_col4\" class=\"data row8 col4\" >0 days 00:00:00</td>\n",
       "                        <td id=\"T_7190194c_d9b8_11eb_8be4_02420a39105frow8_col5\" class=\"data row8 col5\" >3</td>\n",
       "            </tr>\n",
       "            <tr>\n",
       "                                <td id=\"T_7190194c_d9b8_11eb_8be4_02420a39105frow9_col0\" class=\"data row9 col0\" >000199F1887AE5E6</td>\n",
       "                        <td id=\"T_7190194c_d9b8_11eb_8be4_02420a39105frow9_col1\" class=\"data row9 col1\" >2020-12-20 06:36:35</td>\n",
       "                        <td id=\"T_7190194c_d9b8_11eb_8be4_02420a39105frow9_col2\" class=\"data row9 col2\" >login</td>\n",
       "                        <td id=\"T_7190194c_d9b8_11eb_8be4_02420a39105frow9_col3\" class=\"data row9 col3\" >nan</td>\n",
       "                        <td id=\"T_7190194c_d9b8_11eb_8be4_02420a39105frow9_col4\" class=\"data row9 col4\" >0 days 00:00:00</td>\n",
       "                        <td id=\"T_7190194c_d9b8_11eb_8be4_02420a39105frow9_col5\" class=\"data row9 col5\" >3</td>\n",
       "            </tr>\n",
       "            <tr>\n",
       "                                <td id=\"T_7190194c_d9b8_11eb_8be4_02420a39105frow10_col0\" class=\"data row10 col0\" >000199F1887AE5E6</td>\n",
       "                        <td id=\"T_7190194c_d9b8_11eb_8be4_02420a39105frow10_col1\" class=\"data row10 col1\" >2020-12-21 02:11:23</td>\n",
       "                        <td id=\"T_7190194c_d9b8_11eb_8be4_02420a39105frow10_col2\" class=\"data row10 col2\" >purchase</td>\n",
       "                        <td id=\"T_7190194c_d9b8_11eb_8be4_02420a39105frow10_col3\" class=\"data row10 col3\" >99.99</td>\n",
       "                        <td id=\"T_7190194c_d9b8_11eb_8be4_02420a39105frow10_col4\" class=\"data row10 col4\" >0 days 19:34:48</td>\n",
       "                        <td id=\"T_7190194c_d9b8_11eb_8be4_02420a39105frow10_col5\" class=\"data row10 col5\" >4</td>\n",
       "            </tr>\n",
       "            <tr>\n",
       "                                <td id=\"T_7190194c_d9b8_11eb_8be4_02420a39105frow11_col0\" class=\"data row11 col0\" >000199F1887AE5E6</td>\n",
       "                        <td id=\"T_7190194c_d9b8_11eb_8be4_02420a39105frow11_col1\" class=\"data row11 col1\" >2020-12-21 02:11:23</td>\n",
       "                        <td id=\"T_7190194c_d9b8_11eb_8be4_02420a39105frow11_col2\" class=\"data row11 col2\" >login</td>\n",
       "                        <td id=\"T_7190194c_d9b8_11eb_8be4_02420a39105frow11_col3\" class=\"data row11 col3\" >nan</td>\n",
       "                        <td id=\"T_7190194c_d9b8_11eb_8be4_02420a39105frow11_col4\" class=\"data row11 col4\" >0 days 00:00:00</td>\n",
       "                        <td id=\"T_7190194c_d9b8_11eb_8be4_02420a39105frow11_col5\" class=\"data row11 col5\" >4</td>\n",
       "            </tr>\n",
       "            <tr>\n",
       "                                <td id=\"T_7190194c_d9b8_11eb_8be4_02420a39105frow12_col0\" class=\"data row12 col0\" >000199F1887AE5E6</td>\n",
       "                        <td id=\"T_7190194c_d9b8_11eb_8be4_02420a39105frow12_col1\" class=\"data row12 col1\" >2020-12-21 02:11:24</td>\n",
       "                        <td id=\"T_7190194c_d9b8_11eb_8be4_02420a39105frow12_col2\" class=\"data row12 col2\" >product_cart</td>\n",
       "                        <td id=\"T_7190194c_d9b8_11eb_8be4_02420a39105frow12_col3\" class=\"data row12 col3\" >nan</td>\n",
       "                        <td id=\"T_7190194c_d9b8_11eb_8be4_02420a39105frow12_col4\" class=\"data row12 col4\" >0 days 00:00:01</td>\n",
       "                        <td id=\"T_7190194c_d9b8_11eb_8be4_02420a39105frow12_col5\" class=\"data row12 col5\" >5</td>\n",
       "            </tr>\n",
       "            <tr>\n",
       "                                <td id=\"T_7190194c_d9b8_11eb_8be4_02420a39105frow13_col0\" class=\"data row13 col0\" >000199F1887AE5E6</td>\n",
       "                        <td id=\"T_7190194c_d9b8_11eb_8be4_02420a39105frow13_col1\" class=\"data row13 col1\" >2020-12-21 02:11:24</td>\n",
       "                        <td id=\"T_7190194c_d9b8_11eb_8be4_02420a39105frow13_col2\" class=\"data row13 col2\" >product_page</td>\n",
       "                        <td id=\"T_7190194c_d9b8_11eb_8be4_02420a39105frow13_col3\" class=\"data row13 col3\" >nan</td>\n",
       "                        <td id=\"T_7190194c_d9b8_11eb_8be4_02420a39105frow13_col4\" class=\"data row13 col4\" >0 days 00:00:00</td>\n",
       "                        <td id=\"T_7190194c_d9b8_11eb_8be4_02420a39105frow13_col5\" class=\"data row13 col5\" >5</td>\n",
       "            </tr>\n",
       "            <tr>\n",
       "                                <td id=\"T_7190194c_d9b8_11eb_8be4_02420a39105frow14_col0\" class=\"data row14 col0\" >0002499E372175C7</td>\n",
       "                        <td id=\"T_7190194c_d9b8_11eb_8be4_02420a39105frow14_col1\" class=\"data row14 col1\" >2020-12-22 03:49:52</td>\n",
       "                        <td id=\"T_7190194c_d9b8_11eb_8be4_02420a39105frow14_col2\" class=\"data row14 col2\" >purchase</td>\n",
       "                        <td id=\"T_7190194c_d9b8_11eb_8be4_02420a39105frow14_col3\" class=\"data row14 col3\" >4.99</td>\n",
       "                        <td id=\"T_7190194c_d9b8_11eb_8be4_02420a39105frow14_col4\" class=\"data row14 col4\" >1 days 01:38:28</td>\n",
       "                        <td id=\"T_7190194c_d9b8_11eb_8be4_02420a39105frow14_col5\" class=\"data row14 col5\" >6</td>\n",
       "            </tr>\n",
       "            <tr>\n",
       "                                <td id=\"T_7190194c_d9b8_11eb_8be4_02420a39105frow15_col0\" class=\"data row15 col0\" >0002499E372175C7</td>\n",
       "                        <td id=\"T_7190194c_d9b8_11eb_8be4_02420a39105frow15_col1\" class=\"data row15 col1\" >2020-12-22 03:49:52</td>\n",
       "                        <td id=\"T_7190194c_d9b8_11eb_8be4_02420a39105frow15_col2\" class=\"data row15 col2\" >login</td>\n",
       "                        <td id=\"T_7190194c_d9b8_11eb_8be4_02420a39105frow15_col3\" class=\"data row15 col3\" >nan</td>\n",
       "                        <td id=\"T_7190194c_d9b8_11eb_8be4_02420a39105frow15_col4\" class=\"data row15 col4\" >0 days 00:00:00</td>\n",
       "                        <td id=\"T_7190194c_d9b8_11eb_8be4_02420a39105frow15_col5\" class=\"data row15 col5\" >6</td>\n",
       "            </tr>\n",
       "            <tr>\n",
       "                                <td id=\"T_7190194c_d9b8_11eb_8be4_02420a39105frow16_col0\" class=\"data row16 col0\" >0002499E372175C7</td>\n",
       "                        <td id=\"T_7190194c_d9b8_11eb_8be4_02420a39105frow16_col1\" class=\"data row16 col1\" >2020-12-23 05:32:56</td>\n",
       "                        <td id=\"T_7190194c_d9b8_11eb_8be4_02420a39105frow16_col2\" class=\"data row16 col2\" >purchase</td>\n",
       "                        <td id=\"T_7190194c_d9b8_11eb_8be4_02420a39105frow16_col3\" class=\"data row16 col3\" >4.99</td>\n",
       "                        <td id=\"T_7190194c_d9b8_11eb_8be4_02420a39105frow16_col4\" class=\"data row16 col4\" >1 days 01:43:04</td>\n",
       "                        <td id=\"T_7190194c_d9b8_11eb_8be4_02420a39105frow16_col5\" class=\"data row16 col5\" >7</td>\n",
       "            </tr>\n",
       "            <tr>\n",
       "                                <td id=\"T_7190194c_d9b8_11eb_8be4_02420a39105frow17_col0\" class=\"data row17 col0\" >0002499E372175C7</td>\n",
       "                        <td id=\"T_7190194c_d9b8_11eb_8be4_02420a39105frow17_col1\" class=\"data row17 col1\" >2020-12-23 05:32:56</td>\n",
       "                        <td id=\"T_7190194c_d9b8_11eb_8be4_02420a39105frow17_col2\" class=\"data row17 col2\" >login</td>\n",
       "                        <td id=\"T_7190194c_d9b8_11eb_8be4_02420a39105frow17_col3\" class=\"data row17 col3\" >nan</td>\n",
       "                        <td id=\"T_7190194c_d9b8_11eb_8be4_02420a39105frow17_col4\" class=\"data row17 col4\" >0 days 00:00:00</td>\n",
       "                        <td id=\"T_7190194c_d9b8_11eb_8be4_02420a39105frow17_col5\" class=\"data row17 col5\" >7</td>\n",
       "            </tr>\n",
       "            <tr>\n",
       "                                <td id=\"T_7190194c_d9b8_11eb_8be4_02420a39105frow18_col0\" class=\"data row18 col0\" >0002499E372175C7</td>\n",
       "                        <td id=\"T_7190194c_d9b8_11eb_8be4_02420a39105frow18_col1\" class=\"data row18 col1\" >2020-12-26 04:53:03</td>\n",
       "                        <td id=\"T_7190194c_d9b8_11eb_8be4_02420a39105frow18_col2\" class=\"data row18 col2\" >purchase</td>\n",
       "                        <td id=\"T_7190194c_d9b8_11eb_8be4_02420a39105frow18_col3\" class=\"data row18 col3\" >4.99</td>\n",
       "                        <td id=\"T_7190194c_d9b8_11eb_8be4_02420a39105frow18_col4\" class=\"data row18 col4\" >2 days 23:20:07</td>\n",
       "                        <td id=\"T_7190194c_d9b8_11eb_8be4_02420a39105frow18_col5\" class=\"data row18 col5\" >8</td>\n",
       "            </tr>\n",
       "            <tr>\n",
       "                                <td id=\"T_7190194c_d9b8_11eb_8be4_02420a39105frow19_col0\" class=\"data row19 col0\" >0002499E372175C7</td>\n",
       "                        <td id=\"T_7190194c_d9b8_11eb_8be4_02420a39105frow19_col1\" class=\"data row19 col1\" >2020-12-26 04:53:03</td>\n",
       "                        <td id=\"T_7190194c_d9b8_11eb_8be4_02420a39105frow19_col2\" class=\"data row19 col2\" >product_page</td>\n",
       "                        <td id=\"T_7190194c_d9b8_11eb_8be4_02420a39105frow19_col3\" class=\"data row19 col3\" >nan</td>\n",
       "                        <td id=\"T_7190194c_d9b8_11eb_8be4_02420a39105frow19_col4\" class=\"data row19 col4\" >0 days 00:00:00</td>\n",
       "                        <td id=\"T_7190194c_d9b8_11eb_8be4_02420a39105frow19_col5\" class=\"data row19 col5\" >8</td>\n",
       "            </tr>\n",
       "    </tbody></table>"
      ],
      "text/plain": [
       "<pandas.io.formats.style.Styler at 0x7f4aec568b10>"
      ]
     },
     "metadata": {},
     "output_type": "display_data"
    }
   ],
   "source": [
    "# Let's look at duplicates  \n",
    "print(BOLD + 'Full duplicates:' + END)\n",
    "for table, descr in zip([users, user_events_log, ab_groups], descriptions[1:]):\n",
    "    print(\"The number of full duplicates in the table containing data on \" + BOLD + descr + END + ':',\n",
    "          len(table[table.duplicated()]))\n",
    "print()\n",
    "print(BOLD + 'Duplicates in particular columns:' + END)\n",
    "duplicated_day_and_time = len(user_events_log[user_events_log.duplicated(['user_id', 'event_date'], keep=False)])\n",
    "print('The number of user ' + BOLD + 'events recorded on the same day and time' + BOLD \n",
    "      + ': ' + END + '{:,},'.format(duplicated_day_and_time),\n",
    "      'which is {:.2%} of all log records.'.format(duplicated_day_and_time/len(user_events_log)))\n",
    "print()\n",
    "\n",
    "print(BOLD + 'Some examples of events recorded on the same day and time:' + END)\n",
    "display(user_events_log[user_events_log.duplicated(['user_id', 'event_date'], keep=False)]\\\n",
    "    .sort_values(['user_id', 'event_date']).head(20)\\\n",
    "        .assign(time_diff = lambda x: (x.event_date-x.event_date.shift(1)).fillna(''),\n",
    "                session_id = lambda x: (x.event_date-x.event_date.shift(1) > pd.Timedelta(0, 's')).cumsum()+1)\\\n",
    "            .style.apply(event_name_color).apply(row_style, axis=1).hide_index())"
   ]
  },
  {
   "cell_type": "markdown",
   "metadata": {},
   "source": [
    "There are no full duplicates in the dataset. \n",
    "\n",
    "Nevertheles we have several events of different types recorded on the same day and time. It happens that all 4 types of events are recorded on the same date and time with an accuracy of seconds. Perhaps the user goes to the product page, to the cart, and starts to place an order as an anonymous user and only sign in when he or she is making a purchase. Only after that we are able to write down his or her logs.\n",
    "\n",
    "In addition, we have duplicate users who participated in both tests (see investigations above), which need removing from consideration when analyzing the results of A/B tests."
   ]
  },
  {
   "cell_type": "code",
   "execution_count": 11,
   "metadata": {},
   "outputs": [
    {
     "name": "stdout",
     "output_type": "stream",
     "text": [
      "\u001b[1mDistribution of the number of users by test experiments after removing users who took part in both tests\u001b[0m\n",
      "The number of users in A and B experiments in the recommender system and interface(EU) tests:\n"
     ]
    },
    {
     "data": {
      "text/html": [
       "<div>\n",
       "<style scoped>\n",
       "    .dataframe tbody tr th:only-of-type {\n",
       "        vertical-align: middle;\n",
       "    }\n",
       "\n",
       "    .dataframe tbody tr th {\n",
       "        vertical-align: top;\n",
       "    }\n",
       "\n",
       "    .dataframe thead th {\n",
       "        text-align: right;\n",
       "    }\n",
       "</style>\n",
       "<table border=\"1\" class=\"dataframe\">\n",
       "  <thead>\n",
       "    <tr style=\"text-align: right;\">\n",
       "      <th>group</th>\n",
       "      <th>A</th>\n",
       "      <th>B</th>\n",
       "    </tr>\n",
       "    <tr>\n",
       "      <th>ab_test</th>\n",
       "      <th></th>\n",
       "      <th></th>\n",
       "    </tr>\n",
       "  </thead>\n",
       "  <tbody>\n",
       "    <tr>\n",
       "      <td>interface_eu_test</td>\n",
       "      <td>5011</td>\n",
       "      <td>4952</td>\n",
       "    </tr>\n",
       "    <tr>\n",
       "      <td>recommender_system_test</td>\n",
       "      <td>2082</td>\n",
       "      <td>706</td>\n",
       "    </tr>\n",
       "  </tbody>\n",
       "</table>\n",
       "</div>"
      ],
      "text/plain": [
       "group                       A     B\n",
       "ab_test                            \n",
       "interface_eu_test        5011  4952\n",
       "recommender_system_test  2082  706 "
      ]
     },
     "metadata": {},
     "output_type": "display_data"
    },
    {
     "name": "stdout",
     "output_type": "stream",
     "text": [
      "Share of users in A and B experiments in both tests:\n"
     ]
    },
    {
     "data": {
      "text/html": [
       "<div>\n",
       "<style scoped>\n",
       "    .dataframe tbody tr th:only-of-type {\n",
       "        vertical-align: middle;\n",
       "    }\n",
       "\n",
       "    .dataframe tbody tr th {\n",
       "        vertical-align: top;\n",
       "    }\n",
       "\n",
       "    .dataframe thead th {\n",
       "        text-align: right;\n",
       "    }\n",
       "</style>\n",
       "<table border=\"1\" class=\"dataframe\">\n",
       "  <thead>\n",
       "    <tr style=\"text-align: right;\">\n",
       "      <th>group</th>\n",
       "      <th>A</th>\n",
       "      <th>B</th>\n",
       "    </tr>\n",
       "    <tr>\n",
       "      <th>ab_test</th>\n",
       "      <th></th>\n",
       "      <th></th>\n",
       "    </tr>\n",
       "  </thead>\n",
       "  <tbody>\n",
       "    <tr>\n",
       "      <td>interface_eu_test</td>\n",
       "      <td>50.0</td>\n",
       "      <td>50.0</td>\n",
       "    </tr>\n",
       "    <tr>\n",
       "      <td>recommender_system_test</td>\n",
       "      <td>75.0</td>\n",
       "      <td>25.0</td>\n",
       "    </tr>\n",
       "  </tbody>\n",
       "</table>\n",
       "</div>"
      ],
      "text/plain": [
       "group                       A     B\n",
       "ab_test                            \n",
       "interface_eu_test        50.0  50.0\n",
       "recommender_system_test  75.0  25.0"
      ]
     },
     "metadata": {},
     "output_type": "display_data"
    }
   ],
   "source": [
    "# Let's remove users who took part in both tests\n",
    "ab_groups = ab_groups[~ab_groups.user_id.isin(users_in_both_experiments)]\n",
    "\n",
    "print(BOLD \n",
    "      + 'Distribution of the number of users by test experiments after removing users who took part in both tests'\n",
    "      + END)\n",
    "print_distr_users_by_test_experiments()"
   ]
  },
  {
   "cell_type": "markdown",
   "metadata": {},
   "source": [
    "We have removed users who took part in both tests from table contains A/B testing information. The user shares of A and B experiments did not change for both tests."
   ]
  },
  {
   "cell_type": "markdown",
   "metadata": {},
   "source": [
    "### Processing users who took part in the marketing campaign and who did not"
   ]
  },
  {
   "cell_type": "code",
   "execution_count": 12,
   "metadata": {},
   "outputs": [
    {
     "name": "stdout",
     "output_type": "stream",
     "text": [
      "\u001b[1mDistribution of the number of users by region in the experiments of both tests:\u001b[0m\n"
     ]
    },
    {
     "data": {
      "text/html": [
       "<div>\n",
       "<style scoped>\n",
       "    .dataframe tbody tr th:only-of-type {\n",
       "        vertical-align: middle;\n",
       "    }\n",
       "\n",
       "    .dataframe tbody tr th {\n",
       "        vertical-align: top;\n",
       "    }\n",
       "\n",
       "    .dataframe thead tr th {\n",
       "        text-align: left;\n",
       "    }\n",
       "\n",
       "    .dataframe thead tr:last-of-type th {\n",
       "        text-align: right;\n",
       "    }\n",
       "</style>\n",
       "<table border=\"1\" class=\"dataframe\">\n",
       "  <thead>\n",
       "    <tr>\n",
       "      <th>ab_test</th>\n",
       "      <th colspan=\"2\" halign=\"left\">interface_eu_test</th>\n",
       "      <th colspan=\"2\" halign=\"left\">recommender_system_test</th>\n",
       "    </tr>\n",
       "    <tr>\n",
       "      <th>group</th>\n",
       "      <th>A</th>\n",
       "      <th>B</th>\n",
       "      <th>A</th>\n",
       "      <th>B</th>\n",
       "    </tr>\n",
       "    <tr>\n",
       "      <th>region</th>\n",
       "      <th></th>\n",
       "      <th></th>\n",
       "      <th></th>\n",
       "      <th></th>\n",
       "    </tr>\n",
       "  </thead>\n",
       "  <tbody>\n",
       "    <tr>\n",
       "      <td>APAC</td>\n",
       "      <td>0.0</td>\n",
       "      <td>0.0</td>\n",
       "      <td>28.0</td>\n",
       "      <td>17.0</td>\n",
       "    </tr>\n",
       "    <tr>\n",
       "      <td>CIS</td>\n",
       "      <td>0.0</td>\n",
       "      <td>0.0</td>\n",
       "      <td>19.0</td>\n",
       "      <td>11.0</td>\n",
       "    </tr>\n",
       "    <tr>\n",
       "      <td>EU</td>\n",
       "      <td>5011.0</td>\n",
       "      <td>4952.0</td>\n",
       "      <td>1939.0</td>\n",
       "      <td>655.0</td>\n",
       "    </tr>\n",
       "    <tr>\n",
       "      <td>N.America</td>\n",
       "      <td>0.0</td>\n",
       "      <td>0.0</td>\n",
       "      <td>96.0</td>\n",
       "      <td>23.0</td>\n",
       "    </tr>\n",
       "  </tbody>\n",
       "</table>\n",
       "</div>"
      ],
      "text/plain": [
       "ab_test   interface_eu_test         recommender_system_test       \n",
       "group                     A       B                       A      B\n",
       "region                                                            \n",
       "APAC       0.0               0.0     28.0                    17.0 \n",
       "CIS        0.0               0.0     19.0                    11.0 \n",
       "EU         5011.0            4952.0  1939.0                  655.0\n",
       "N.America  0.0               0.0     96.0                    23.0 "
      ]
     },
     "metadata": {},
     "output_type": "display_data"
    }
   ],
   "source": [
    "# Let's look at the regions from where the users who took part in the tests.\n",
    "print(BOLD + 'Distribution of the number of users by region in the experiments of both tests:' + END)\n",
    "display(ab_groups.merge(users, on='user_id').pivot_table(index='region', columns=['ab_test', 'group'],\n",
    "                                                         values='user_id', aggfunc='count').fillna(0))"
   ]
  },
  {
   "cell_type": "markdown",
   "metadata": {},
   "source": [
    "The users who took part in the interface (EU) test were only from Europe, which corresponds to the name. Users from 4 different regions took part in the recommender system test, but most of them are from Europe. But only European and North American users participated in the 'Christmas and New Year Promo' marketing campaign. Accordingly, we need to remove APAC and CIS regions from consideration.\n",
    "\n",
    "Note that the share of European users in the recommender system test significantly exceeds 15% required in the technical description of the test.\n",
    "\n",
    "There are very few observations from North America, their share in different experiments is also different: 5% of users in control group A and 3% in group B, perhaps in the remaining two regions (Europe and North America) react differently to changes and this may affect on the overall test result."
   ]
  },
  {
   "cell_type": "code",
   "execution_count": 13,
   "metadata": {},
   "outputs": [],
   "source": [
    "# Let's remove users from APAC and CIS regions \n",
    "# since they didn't take part in the Christmas & New Year Promo but most of the users in the tests did. \n",
    "ab_groups = ab_groups.merge(users, on='user_id').query(\"region=='EU' or region=='N.America'\")[ab_groups.columns]"
   ]
  },
  {
   "cell_type": "markdown",
   "metadata": {},
   "source": [
    "We only kept users from two regions to avoid bias due to users from other regions not participating in the promo."
   ]
  },
  {
   "cell_type": "markdown",
   "metadata": {},
   "source": [
    "### Handling users from different regions"
   ]
  },
  {
   "cell_type": "code",
   "execution_count": 14,
   "metadata": {},
   "outputs": [
    {
     "name": "stdout",
     "output_type": "stream",
     "text": [
      "\u001b[1mDistribution of the number of events of different types in two regions in both groups of recommender system test:\u001b[0m\n"
     ]
    },
    {
     "data": {
      "text/html": [
       "<div>\n",
       "<style scoped>\n",
       "    .dataframe tbody tr th:only-of-type {\n",
       "        vertical-align: middle;\n",
       "    }\n",
       "\n",
       "    .dataframe tbody tr th {\n",
       "        vertical-align: top;\n",
       "    }\n",
       "\n",
       "    .dataframe thead tr th {\n",
       "        text-align: left;\n",
       "    }\n",
       "\n",
       "    .dataframe thead tr:last-of-type th {\n",
       "        text-align: right;\n",
       "    }\n",
       "</style>\n",
       "<table border=\"1\" class=\"dataframe\">\n",
       "  <thead>\n",
       "    <tr>\n",
       "      <th>region</th>\n",
       "      <th colspan=\"2\" halign=\"left\">EU</th>\n",
       "      <th colspan=\"2\" halign=\"left\">N.America</th>\n",
       "    </tr>\n",
       "    <tr>\n",
       "      <th>group</th>\n",
       "      <th>A</th>\n",
       "      <th>B</th>\n",
       "      <th>A</th>\n",
       "      <th>B</th>\n",
       "    </tr>\n",
       "    <tr>\n",
       "      <th>event_name</th>\n",
       "      <th></th>\n",
       "      <th></th>\n",
       "      <th></th>\n",
       "      <th></th>\n",
       "    </tr>\n",
       "  </thead>\n",
       "  <tbody>\n",
       "    <tr>\n",
       "      <td>login</td>\n",
       "      <td>5876</td>\n",
       "      <td>1781</td>\n",
       "      <td>283</td>\n",
       "      <td>71</td>\n",
       "    </tr>\n",
       "    <tr>\n",
       "      <td>product_cart</td>\n",
       "      <td>1802</td>\n",
       "      <td>489</td>\n",
       "      <td>80</td>\n",
       "      <td>8</td>\n",
       "    </tr>\n",
       "    <tr>\n",
       "      <td>product_page</td>\n",
       "      <td>3806</td>\n",
       "      <td>946</td>\n",
       "      <td>211</td>\n",
       "      <td>33</td>\n",
       "    </tr>\n",
       "    <tr>\n",
       "      <td>purchase</td>\n",
       "      <td>1774</td>\n",
       "      <td>485</td>\n",
       "      <td>105</td>\n",
       "      <td>13</td>\n",
       "    </tr>\n",
       "  </tbody>\n",
       "</table>\n",
       "</div>"
      ],
      "text/plain": [
       "region          EU       N.America    \n",
       "group            A     B         A   B\n",
       "event_name                            \n",
       "login         5876  1781  283       71\n",
       "product_cart  1802  489   80        8 \n",
       "product_page  3806  946   211       33\n",
       "purchase      1774  485   105       13"
      ]
     },
     "metadata": {},
     "output_type": "display_data"
    },
    {
     "name": "stdout",
     "output_type": "stream",
     "text": [
      "\u001b[1mConversion rate of each stage in two regions in both groups of recommender system test:\u001b[0m\n"
     ]
    },
    {
     "data": {
      "text/html": [
       "<div>\n",
       "<style scoped>\n",
       "    .dataframe tbody tr th:only-of-type {\n",
       "        vertical-align: middle;\n",
       "    }\n",
       "\n",
       "    .dataframe tbody tr th {\n",
       "        vertical-align: top;\n",
       "    }\n",
       "\n",
       "    .dataframe thead tr th {\n",
       "        text-align: left;\n",
       "    }\n",
       "\n",
       "    .dataframe thead tr:last-of-type th {\n",
       "        text-align: right;\n",
       "    }\n",
       "</style>\n",
       "<table border=\"1\" class=\"dataframe\">\n",
       "  <thead>\n",
       "    <tr>\n",
       "      <th>region</th>\n",
       "      <th colspan=\"2\" halign=\"left\">EU</th>\n",
       "      <th colspan=\"2\" halign=\"left\">N.America</th>\n",
       "    </tr>\n",
       "    <tr>\n",
       "      <th>group</th>\n",
       "      <th>A</th>\n",
       "      <th>B</th>\n",
       "      <th>A</th>\n",
       "      <th>B</th>\n",
       "    </tr>\n",
       "    <tr>\n",
       "      <th>event_name</th>\n",
       "      <th></th>\n",
       "      <th></th>\n",
       "      <th></th>\n",
       "      <th></th>\n",
       "    </tr>\n",
       "  </thead>\n",
       "  <tbody>\n",
       "    <tr>\n",
       "      <td>login</td>\n",
       "      <td>100.0</td>\n",
       "      <td>100.0</td>\n",
       "      <td>100.0</td>\n",
       "      <td>100.0</td>\n",
       "    </tr>\n",
       "    <tr>\n",
       "      <td>product_cart</td>\n",
       "      <td>31.0</td>\n",
       "      <td>27.0</td>\n",
       "      <td>28.0</td>\n",
       "      <td>11.0</td>\n",
       "    </tr>\n",
       "    <tr>\n",
       "      <td>product_page</td>\n",
       "      <td>65.0</td>\n",
       "      <td>53.0</td>\n",
       "      <td>75.0</td>\n",
       "      <td>46.0</td>\n",
       "    </tr>\n",
       "    <tr>\n",
       "      <td>purchase</td>\n",
       "      <td>30.0</td>\n",
       "      <td>27.0</td>\n",
       "      <td>37.0</td>\n",
       "      <td>18.0</td>\n",
       "    </tr>\n",
       "  </tbody>\n",
       "</table>\n",
       "</div>"
      ],
      "text/plain": [
       "region           EU        N.America       \n",
       "group             A      B         A      B\n",
       "event_name                                 \n",
       "login         100.0  100.0  100.0     100.0\n",
       "product_cart  31.0   27.0   28.0      11.0 \n",
       "product_page  65.0   53.0   75.0      46.0 \n",
       "purchase      30.0   27.0   37.0      18.0 "
      ]
     },
     "metadata": {},
     "output_type": "display_data"
    }
   ],
   "source": [
    "# Let's consider the impact of the region on the A/B test result.\n",
    "print(BOLD \n",
    "      + 'Distribution of the number of events of different types in two regions in both groups of '\n",
    "      + 'recommender system test:' + END)\n",
    "conversion_by_region = user_events_log.merge(ab_groups.query(\"ab_test=='recommender_system_test'\")\\\n",
    "                                                 .merge(users, on='user_id'),\n",
    "                                             on='user_id', how='inner')\\\n",
    "                          .pivot_table(index='event_name', columns=['region', 'group'],\n",
    "                                       values='user_id', aggfunc='count')\n",
    "display(conversion_by_region)\n",
    "\n",
    "print(BOLD \n",
    "      + 'Conversion rate of each stage in two regions in both groups of recommender system test:' \n",
    "      + END)\n",
    "display(conversion_by_region.div(conversion_by_region.loc['login'], axis=1).round(2)*100)"
   ]
  },
  {
   "cell_type": "markdown",
   "metadata": {},
   "source": [
    "Conversion at different stages for both regions differs noticeably, but there are too few observations for the North American region. Thus, we can only keep users from Europe.\n",
    "\n",
    "Note that the conversion at all stages for group B is lower than for group A for both regions, for North America this is most appreciable."
   ]
  },
  {
   "cell_type": "code",
   "execution_count": 15,
   "metadata": {},
   "outputs": [],
   "source": [
    "# Let's remove users from N.America region as well\n",
    "ab_groups = ab_groups.merge(users, on='user_id').query(\"region=='EU'\")[ab_groups.columns]"
   ]
  },
  {
   "cell_type": "markdown",
   "metadata": {},
   "source": [
    "Hereinafter, we will consider the results of A/B testing only for users from the European region, since it is necessary to examine each region separately, and for other regions there is not enough data."
   ]
  },
  {
   "cell_type": "markdown",
   "metadata": {},
   "source": [
    "## 3. Exploratory Data Analysis of A/B Testing Data\n",
    "<a id='section3'></a>"
   ]
  },
  {
   "cell_type": "code",
   "execution_count": 16,
   "metadata": {},
   "outputs": [
    {
     "name": "stdout",
     "output_type": "stream",
     "text": [
      "Event funnel of users proceed from each stage in \u001b[1minterface_eu_test:\u001b[0m\n"
     ]
    },
    {
     "data": {
      "image/png": "[encoded data removed]",
      "text/plain": [
       "<Figure size 1728x576 with 2 Axes>"
      ]
     },
     "metadata": {
      "needs_background": "light"
     },
     "output_type": "display_data"
    },
    {
     "name": "stdout",
     "output_type": "stream",
     "text": [
      "Event funnel of users proceed from each stage in \u001b[1mrecommender_system_test:\u001b[0m\n"
     ]
    },
    {
     "data": {
      "image/png": "[encoded data removed]",
      "text/plain": [
       "<Figure size 1728x576 with 2 Axes>"
      ]
     },
     "metadata": {
      "needs_background": "light"
     },
     "output_type": "display_data"
    }
   ],
   "source": [
    "# Let's study conversion at different funnel stages\n",
    "# creating sequence of events\n",
    "events_sequence = ['login', 'product_page', 'product_cart', 'purchase']\n",
    "\n",
    "\n",
    "# function to plot event funnel\n",
    "def plot_funnel(quantities_by_events, ax, color):\n",
    "    \n",
    "    conversion = quantities_by_events / quantities_by_events[0] * 100\n",
    "    y = range(len(quantities_by_events), 0, -1)\n",
    "    next_stage_ration = quantities_by_events / quantities_by_events.shift(1) * 100\n",
    "    \n",
    "    quantities_labels = ['{:} users'.format(x) for x in quantities_by_events]\n",
    "    conversion_labels = ['{:.1f}% of initial'.format(x) for x in conversion]\n",
    "    next_stage_ration_labels = ['{:.1f}% of previous'.format(x) for x in next_stage_ration]\n",
    "\n",
    "    for i, value in enumerate(conversion):\n",
    "        left = (100 - value) / 2\n",
    "        ax.barh(y[i], conversion[i], left = left, color=color, alpha=0.5, height=.8)\n",
    "        \n",
    "        ax.text(50, y[i]+0.25, quantities_by_events.index[i], ha='center', fontsize=18, color='w')\n",
    "        \n",
    "        ax.text(50, y[i]+0.05, quantities_labels[i], ha='center', fontsize=16, alpha=0.8)\n",
    "\n",
    "        if i > 0:\n",
    "            ax.text(50, y[i]-0.125, conversion_labels[i], ha='center', fontsize=16, alpha=0.6)\n",
    "        \n",
    "            ax.text(50, y[i]-0.3, next_stage_ration_labels[i], ha='center', fontsize=16, alpha=0.6)\n",
    "\n",
    "        if i != len(quantities_by_events) - 1:\n",
    "            next_left = (100 - conversion[i+1]) / 2\n",
    "            shadow_x = [left, next_left, 100-next_left, 100-left, left]\n",
    "            shadow_y = [y[i]-0.4, y[i+1]+0.4, y[i+1]+0.4, y[i]-0.4, y[i]-0.4]\n",
    "            ax.fill(shadow_x, shadow_y, color=color, alpha=0.2)\n",
    "    ax.axis('off')\n",
    "\n",
    "# Let's plot event funnels for each group of both tests.\n",
    "for test, test_data in user_events_log.merge(ab_groups, on='user_id', how='inner').groupby('ab_test'):\n",
    "    fig, axes = plt.subplots(ncols=2, figsize=(12*2, 8))\n",
    "    print('Event funnel of users proceed from each stage in ' + BOLD + test + ':' + END)\n",
    "    for i, (group, group_data) in enumerate(test_data.groupby('group')): \n",
    "        quantities_by_events = group_data.groupby('event_name').user_id.nunique().loc[events_sequence]\n",
    "        plot_funnel(quantities_by_events, axes[i], '#1f77b4' if group=='A' else '#ff7f0e');\n",
    "        axes[i].set_title('experiment ' + group)\n",
    "    plt.show()"
   ]
  },
  {
   "cell_type": "markdown",
   "metadata": {},
   "source": [
    "According to the plotted funnels, it can be seen that the product cart page is not necessary for making purchases: the number of purchases can be more than the number of visits to the product cart page.\n",
    "\n",
    "The shares of users by event for the interface (EU) test look evenly distributed, with minor differences in conversion rates. About 5000 users took part in each experiment (group A and group B).\n",
    "\n",
    "Much fewer users took part in the recommendation system test: about 2 thousand users in group A and only 650 users who saw the corresponding changes, which is not enough to track statistically significant improvements required according to the technical description (based on the available data, 6,000 users are required to achieve a statistically significant minimum detectable effect of 10%). Note that the share of users who went to the product page is almost 10% less for users from group B, which practically did not affect the share of users who made a purchase in comparison with group B.\n",
    "\n",
    "Note that equal proportions in groups A and B are not required to test the statistical difference between proportions."
   ]
  },
  {
   "cell_type": "code",
   "execution_count": 17,
   "metadata": {},
   "outputs": [
    {
     "name": "stdout",
     "output_type": "stream",
     "text": [
      "\u001b[1mDistribution of the number of events per user in the tests\u001b[0m\n",
      "The number of events per user in \u001b[1minterface_eu_test:\u001b[0m\n"
     ]
    },
    {
     "data": {
      "image/png": "[encoded data removed]",
      "text/plain": [
       "<Figure size 720x360 with 1 Axes>"
      ]
     },
     "metadata": {
      "needs_background": "light"
     },
     "output_type": "display_data"
    },
    {
     "name": "stdout",
     "output_type": "stream",
     "text": [
      "The number of events per user in \u001b[1mrecommender_system_test:\u001b[0m\n"
     ]
    },
    {
     "data": {
      "image/png": "[encoded data removed]",
      "text/plain": [
       "<Figure size 720x360 with 1 Axes>"
      ]
     },
     "metadata": {
      "needs_background": "light"
     },
     "output_type": "display_data"
    }
   ],
   "source": [
    "# Let's look at the number of events per user to make sure they are evenly distributed in the samples\n",
    "print(BOLD + 'Distribution of the number of events per user in the tests' + END)\n",
    "for test, test_data in ab_groups.groupby('ab_test'):\n",
    "    print('The number of events per user in ' + BOLD + test + ':' + END)\n",
    "    fig, ax = plt.subplots(figsize=(10, 5))\n",
    "    for group, group_data in user_events_log.merge(test_data, on='user_id', how='inner').groupby('group'):\n",
    "        group_data.groupby('user_id').event_name.count().hist(density=True, alpha=0.5, linewidth=3, edgecolor='w',\n",
    "                                                              label=group, ax=ax)\n",
    "    plt.legend(); \n",
    "    ax.grid(b=None)\n",
    "    ax.set_xlabel('Number of events per user')\n",
    "    ax.set_ylabel('Density')\n",
    "    plt.show()"
   ]
  },
  {
   "cell_type": "markdown",
   "metadata": {},
   "source": [
    "The distribution of the number of events per user in the interface (EU) test for both groups looks approximately the same without far stood out points.\n",
    "\n",
    "The distribution of the number of events per user in the recommender system tests is shifted to the right towards a larger number of events for group A. This means that there are more loyal users and users who reach the purchase in group A, which can bias the results of the A/B test. Nevertheless, no anomalous values are observed either."
   ]
  },
  {
   "cell_type": "code",
   "execution_count": 18,
   "metadata": {},
   "outputs": [
    {
     "name": "stdout",
     "output_type": "stream",
     "text": [
      "\u001b[1mAmount of events by days\u001b[0m\n",
      "The number of events in \u001b[1minterface_eu_test\u001b[0m by days:\n"
     ]
    },
    {
     "data": {
      "image/png": "[encoded data removed]",
      "text/plain": [
       "<Figure size 720x360 with 1 Axes>"
      ]
     },
     "metadata": {
      "needs_background": "light"
     },
     "output_type": "display_data"
    },
    {
     "name": "stdout",
     "output_type": "stream",
     "text": [
      "The number of events in \u001b[1mrecommender_system_test\u001b[0m by days:\n"
     ]
    },
    {
     "data": {
      "image/png": "[encoded data removed]",
      "text/plain": [
       "<Figure size 720x360 with 1 Axes>"
      ]
     },
     "metadata": {
      "needs_background": "light"
     },
     "output_type": "display_data"
    }
   ],
   "source": [
    "# Let's look at the number of events distributed by days\n",
    "print(BOLD + 'Amount of events by days' + END)\n",
    "for test, test_data in ab_groups.groupby('ab_test'):\n",
    "    print('The number of events in ' + BOLD + test + END + ' by days:')\n",
    "    fig, ax = plt.subplots(figsize=(10, 5))\n",
    "    for group, group_data in user_events_log.merge(test_data, on='user_id', how='inner').groupby('group'):\n",
    "        group_data.event_date.dt.date.value_counts(sort=False).sort_index()\\\n",
    "            .plot(kind='bar', ax=ax, alpha=0.6, label=group, color=next(ax._get_lines.prop_cycler)['color']);\n",
    "    plt.legend(); \n",
    "    ax.grid(False)\n",
    "    ax.grid(axis='y', linestyle='--', color='dimgray', alpha=0.5)\n",
    "    ax.set_xlabel('Date')\n",
    "    ax.set_ylabel('Number of events')\n",
    "    plt.show()"
   ]
  },
  {
   "cell_type": "markdown",
   "metadata": {},
   "source": [
    "The distribution of the number of events by days in the interface (EU) test for both groups looks the same. The number of events grows with the addition of new users and decreases after new users are not added to the experiment.\n",
    "\n",
    "The distribution of the number of events by day in the recommender system test is very different for both groups. In the first week, the number of events in group A was about the same, but then it increased sharply and continued to grow, after new users stopped adding to the test, the number of events decreased. In group B, the number of events per day most of the time was about the same, about 200. The first few days, amount of events was comparable to group A, then it decreased, slightly increased starting from the second week, after new users stopped adding, the number of events was also decreased. \n",
    "\n",
    "Trends in the number of events depends on the number of new users added to the tests by days.\n",
    "\n",
    "Note that the date 2020-12-25 is missing. It is worth finding out what happened on that date."
   ]
  },
  {
   "cell_type": "code",
   "execution_count": null,
   "metadata": {},
   "outputs": [],
   "source": [
    "# Let's take a look at the number of users that have been added to the tests by day.\n",
    "print(BOLD + 'Amount of registered users by days' + END)\n",
    "for test, test_data in ab_groups.groupby('ab_test'):\n",
    "    print('The number of registered users in ' + BOLD + test + END + ' by days:')\n",
    "    fig, ax = plt.subplots(figsize=(10, 5))\n",
    "    for group, group_data in user_events_log.merge(test_data.merge(users, on='user_id'),\n",
    "                                                   on='user_id', how='inner').groupby('group'):\n",
    "        group_data.groupby(group_data.first_date.dt.date).user_id.nunique().sort_index()\\\n",
    "            .plot(kind='bar', ax=ax, alpha=0.6, label=group, color=next(ax._get_lines.prop_cycler)['color']);\n",
    "    plt.legend(); \n",
    "    ax.grid(False)\n",
    "    ax.grid(axis='y', linestyle='--', color='dimgray', alpha=0.5)\n",
    "    ax.set_xlabel('Date')\n",
    "    ax.set_ylabel('Number of registered users')\n",
    "    plt.show()"
   ]
  },
  {
   "cell_type": "markdown",
   "metadata": {},
   "source": [
    "The distribution of the number of new users by days in the interface (EU) test for both groups looks the same but it is not even. Trends in the distribution of users added to the test by day repeat trends in the number of events by day.\n",
    "\n",
    "The distribution of the number of new users by days in the recommender system test is very different for both groups as well as for the number of events by days. Since the second week, the number of new users in group A has increased significantly, 5 times higher than for group B. Adding users unevenly to groups A and B can lead to biased test results, for example, due to the fact that more users in group A were able to participate in the 'Christmas and New Year' marketing campaign or, on some of the days, the site could be unstable."
   ]
  },
  {
   "cell_type": "code",
   "execution_count": 20,
   "metadata": {},
   "outputs": [
    {
     "name": "stdout",
     "output_type": "stream",
     "text": [
      "\u001b[1mDistribution of the number of users by devices:\u001b[0m\n"
     ]
    },
    {
     "data": {
      "text/html": [
       "<div>\n",
       "<style scoped>\n",
       "    .dataframe tbody tr th:only-of-type {\n",
       "        vertical-align: middle;\n",
       "    }\n",
       "\n",
       "    .dataframe tbody tr th {\n",
       "        vertical-align: top;\n",
       "    }\n",
       "\n",
       "    .dataframe thead tr th {\n",
       "        text-align: left;\n",
       "    }\n",
       "\n",
       "    .dataframe thead tr:last-of-type th {\n",
       "        text-align: right;\n",
       "    }\n",
       "</style>\n",
       "<table border=\"1\" class=\"dataframe\">\n",
       "  <thead>\n",
       "    <tr>\n",
       "      <th>ab_test</th>\n",
       "      <th colspan=\"2\" halign=\"left\">interface_eu_test</th>\n",
       "      <th colspan=\"2\" halign=\"left\">recommender_system_test</th>\n",
       "    </tr>\n",
       "    <tr>\n",
       "      <th>group</th>\n",
       "      <th>A</th>\n",
       "      <th>B</th>\n",
       "      <th>A</th>\n",
       "      <th>B</th>\n",
       "    </tr>\n",
       "    <tr>\n",
       "      <th>device</th>\n",
       "      <th></th>\n",
       "      <th></th>\n",
       "      <th></th>\n",
       "      <th></th>\n",
       "    </tr>\n",
       "  </thead>\n",
       "  <tbody>\n",
       "    <tr>\n",
       "      <td>Android</td>\n",
       "      <td>2218</td>\n",
       "      <td>2264</td>\n",
       "      <td>858</td>\n",
       "      <td>309</td>\n",
       "    </tr>\n",
       "    <tr>\n",
       "      <td>Mac</td>\n",
       "      <td>511</td>\n",
       "      <td>515</td>\n",
       "      <td>177</td>\n",
       "      <td>58</td>\n",
       "    </tr>\n",
       "    <tr>\n",
       "      <td>PC</td>\n",
       "      <td>1302</td>\n",
       "      <td>1223</td>\n",
       "      <td>504</td>\n",
       "      <td>158</td>\n",
       "    </tr>\n",
       "    <tr>\n",
       "      <td>iPhone</td>\n",
       "      <td>980</td>\n",
       "      <td>950</td>\n",
       "      <td>400</td>\n",
       "      <td>130</td>\n",
       "    </tr>\n",
       "  </tbody>\n",
       "</table>\n",
       "</div>"
      ],
      "text/plain": [
       "ab_test interface_eu_test       recommender_system_test     \n",
       "group                   A     B                       A    B\n",
       "device                                                      \n",
       "Android  2218              2264  858                     309\n",
       "Mac      511               515   177                     58 \n",
       "PC       1302              1223  504                     158\n",
       "iPhone   980               950   400                     130"
      ]
     },
     "metadata": {},
     "output_type": "display_data"
    },
    {
     "name": "stdout",
     "output_type": "stream",
     "text": [
      "\n",
      "\u001b[1mDistribution of the share of users by devices:\u001b[0m\n"
     ]
    },
    {
     "data": {
      "text/html": [
       "<div>\n",
       "<style scoped>\n",
       "    .dataframe tbody tr th:only-of-type {\n",
       "        vertical-align: middle;\n",
       "    }\n",
       "\n",
       "    .dataframe tbody tr th {\n",
       "        vertical-align: top;\n",
       "    }\n",
       "\n",
       "    .dataframe thead tr th {\n",
       "        text-align: left;\n",
       "    }\n",
       "\n",
       "    .dataframe thead tr:last-of-type th {\n",
       "        text-align: right;\n",
       "    }\n",
       "</style>\n",
       "<table border=\"1\" class=\"dataframe\">\n",
       "  <thead>\n",
       "    <tr>\n",
       "      <th>ab_test</th>\n",
       "      <th colspan=\"2\" halign=\"left\">interface_eu_test</th>\n",
       "      <th colspan=\"2\" halign=\"left\">recommender_system_test</th>\n",
       "    </tr>\n",
       "    <tr>\n",
       "      <th>group</th>\n",
       "      <th>A</th>\n",
       "      <th>B</th>\n",
       "      <th>A</th>\n",
       "      <th>B</th>\n",
       "    </tr>\n",
       "    <tr>\n",
       "      <th>device</th>\n",
       "      <th></th>\n",
       "      <th></th>\n",
       "      <th></th>\n",
       "      <th></th>\n",
       "    </tr>\n",
       "  </thead>\n",
       "  <tbody>\n",
       "    <tr>\n",
       "      <td>Android</td>\n",
       "      <td>44.0</td>\n",
       "      <td>46.0</td>\n",
       "      <td>44.0</td>\n",
       "      <td>47.0</td>\n",
       "    </tr>\n",
       "    <tr>\n",
       "      <td>Mac</td>\n",
       "      <td>10.0</td>\n",
       "      <td>10.0</td>\n",
       "      <td>9.0</td>\n",
       "      <td>9.0</td>\n",
       "    </tr>\n",
       "    <tr>\n",
       "      <td>PC</td>\n",
       "      <td>26.0</td>\n",
       "      <td>25.0</td>\n",
       "      <td>26.0</td>\n",
       "      <td>24.0</td>\n",
       "    </tr>\n",
       "    <tr>\n",
       "      <td>iPhone</td>\n",
       "      <td>20.0</td>\n",
       "      <td>19.0</td>\n",
       "      <td>21.0</td>\n",
       "      <td>20.0</td>\n",
       "    </tr>\n",
       "  </tbody>\n",
       "</table>\n",
       "</div>"
      ],
      "text/plain": [
       "ab_test interface_eu_test       recommender_system_test      \n",
       "group                   A     B                       A     B\n",
       "device                                                       \n",
       "Android  44.0              46.0  44.0                    47.0\n",
       "Mac      10.0              10.0  9.0                     9.0 \n",
       "PC       26.0              25.0  26.0                    24.0\n",
       "iPhone   20.0              19.0  21.0                    20.0"
      ]
     },
     "metadata": {},
     "output_type": "display_data"
    }
   ],
   "source": [
    "# Users participating in the tests use different devices, this can also bias the A/B test results.\n",
    "# Let's look at the distribution of the number of users by devices in the tests.\n",
    "print(BOLD + 'Distribution of the number of users by devices:' + END)\n",
    "users_num_by_device = ab_groups.merge(users, on='user_id').pivot_table(index='device', columns=['ab_test', 'group'],\n",
    "                                                                       values='user_id', aggfunc='count')\n",
    "display(users_num_by_device)\n",
    "print()\n",
    "\n",
    "print(BOLD + 'Distribution of the share of users by devices:' + END)\n",
    "display(users_num_by_device.div(users_num_by_device.sum()).round(2)*100)"
   ]
  },
  {
   "cell_type": "markdown",
   "metadata": {},
   "source": [
    "For all experiments of both tests, the distribution of devices looks the same: a significant part of users used Android, about 45% of users, together with 20% of users who used an iPhone, 65% of users used the mobile version of the site. About 25% of users used PC and only 10% used Mac. Uneven distribution across devices can bias the A/B test results. For example, users of the mobile version of the store can react differently to changes in the interface. As their share is higher, they have a greater impact on the results. It is necessary to conduct tests for each device separately or to be sure that the use of different devices does not affect the conversion at each stage."
   ]
  },
  {
   "cell_type": "markdown",
   "metadata": {},
   "source": [
    "## 4. Evalueting the results of the A/B tests\n",
    "<a id='section4'></a>"
   ]
  },
  {
   "cell_type": "markdown",
   "metadata": {},
   "source": [
    "The recommender system test was conducted inaccurately. Moreover, the interface (EU) test did not lead to a change in conversion (see the event funnels for groups A and B of the test). Let's make a group comparison to determine the potential for testing again."
   ]
  },
  {
   "cell_type": "code",
   "execution_count": 21,
   "metadata": {},
   "outputs": [
    {
     "data": {
      "text/html": [
       "<div>\n",
       "<style scoped>\n",
       "    .dataframe tbody tr th:only-of-type {\n",
       "        vertical-align: middle;\n",
       "    }\n",
       "\n",
       "    .dataframe tbody tr th {\n",
       "        vertical-align: top;\n",
       "    }\n",
       "\n",
       "    .dataframe thead th {\n",
       "        text-align: right;\n",
       "    }\n",
       "</style>\n",
       "<table border=\"1\" class=\"dataframe\">\n",
       "  <thead>\n",
       "    <tr style=\"text-align: right;\">\n",
       "      <th></th>\n",
       "      <th>ab_test</th>\n",
       "      <th>user_id</th>\n",
       "    </tr>\n",
       "  </thead>\n",
       "  <tbody>\n",
       "    <tr>\n",
       "      <td>0</td>\n",
       "      <td>interface_eu_test</td>\n",
       "      <td>9963</td>\n",
       "    </tr>\n",
       "    <tr>\n",
       "      <td>1</td>\n",
       "      <td>recommender_system_test</td>\n",
       "      <td>2594</td>\n",
       "    </tr>\n",
       "  </tbody>\n",
       "</table>\n",
       "</div>"
      ],
      "text/plain": [
       "                   ab_test  user_id\n",
       "0  interface_eu_test        9963   \n",
       "1  recommender_system_test  2594   "
      ]
     },
     "execution_count": 21,
     "metadata": {},
     "output_type": "execute_result"
    }
   ],
   "source": [
    "# Let's look at the number of users who took part in both tests.\n",
    "user_events_log.merge(ab_groups[['user_id', 'group', 'ab_test']], on='user_id').groupby('ab_test').user_id.nunique()\\\n",
    "    .reset_index()"
   ]
  },
  {
   "cell_type": "markdown",
   "metadata": {},
   "source": [
    "The number of participating users is significantly less than 6000 as expected for the recommender systems test."
   ]
  },
  {
   "cell_type": "code",
   "execution_count": 22,
   "metadata": {},
   "outputs": [
    {
     "name": "stdout",
     "output_type": "stream",
     "text": [
      "\u001b[1mThe number of users in each group by events and in total:\u001b[0m\n"
     ]
    },
    {
     "data": {
      "text/html": [
       "<div>\n",
       "<style scoped>\n",
       "    .dataframe tbody tr th:only-of-type {\n",
       "        vertical-align: middle;\n",
       "    }\n",
       "\n",
       "    .dataframe tbody tr th {\n",
       "        vertical-align: top;\n",
       "    }\n",
       "\n",
       "    .dataframe thead tr th {\n",
       "        text-align: left;\n",
       "    }\n",
       "\n",
       "    .dataframe thead tr:last-of-type th {\n",
       "        text-align: right;\n",
       "    }\n",
       "</style>\n",
       "<table border=\"1\" class=\"dataframe\">\n",
       "  <thead>\n",
       "    <tr>\n",
       "      <th>ab_test</th>\n",
       "      <th colspan=\"2\" halign=\"left\">interface_eu_test</th>\n",
       "      <th colspan=\"2\" halign=\"left\">recommender_system_test</th>\n",
       "    </tr>\n",
       "    <tr>\n",
       "      <th>group</th>\n",
       "      <th>A</th>\n",
       "      <th>B</th>\n",
       "      <th>A</th>\n",
       "      <th>B</th>\n",
       "    </tr>\n",
       "    <tr>\n",
       "      <th>event_name</th>\n",
       "      <th></th>\n",
       "      <th></th>\n",
       "      <th></th>\n",
       "      <th></th>\n",
       "    </tr>\n",
       "  </thead>\n",
       "  <tbody>\n",
       "    <tr>\n",
       "      <td>login</td>\n",
       "      <td>5010</td>\n",
       "      <td>4952</td>\n",
       "      <td>1939</td>\n",
       "      <td>654</td>\n",
       "    </tr>\n",
       "    <tr>\n",
       "      <td>product_page</td>\n",
       "      <td>3366</td>\n",
       "      <td>3254</td>\n",
       "      <td>1265</td>\n",
       "      <td>367</td>\n",
       "    </tr>\n",
       "    <tr>\n",
       "      <td>product_cart</td>\n",
       "      <td>1629</td>\n",
       "      <td>1686</td>\n",
       "      <td>589</td>\n",
       "      <td>184</td>\n",
       "    </tr>\n",
       "    <tr>\n",
       "      <td>purchase</td>\n",
       "      <td>1782</td>\n",
       "      <td>1653</td>\n",
       "      <td>613</td>\n",
       "      <td>191</td>\n",
       "    </tr>\n",
       "    <tr>\n",
       "      <td>all_users</td>\n",
       "      <td>5011</td>\n",
       "      <td>4952</td>\n",
       "      <td>1939</td>\n",
       "      <td>655</td>\n",
       "    </tr>\n",
       "  </tbody>\n",
       "</table>\n",
       "</div>"
      ],
      "text/plain": [
       "ab_test      interface_eu_test       recommender_system_test     \n",
       "group                        A     B                       A    B\n",
       "event_name                                                       \n",
       "login         5010              4952  1939                    654\n",
       "product_page  3366              3254  1265                    367\n",
       "product_cart  1629              1686  589                     184\n",
       "purchase      1782              1653  613                     191\n",
       "all_users     5011              4952  1939                    655"
      ]
     },
     "metadata": {},
     "output_type": "display_data"
    },
    {
     "name": "stdout",
     "output_type": "stream",
     "text": [
      "\u001b[1mThe share of users in each group by events:\u001b[0m\n"
     ]
    },
    {
     "data": {
      "text/html": [
       "<div>\n",
       "<style scoped>\n",
       "    .dataframe tbody tr th:only-of-type {\n",
       "        vertical-align: middle;\n",
       "    }\n",
       "\n",
       "    .dataframe tbody tr th {\n",
       "        vertical-align: top;\n",
       "    }\n",
       "\n",
       "    .dataframe thead tr th {\n",
       "        text-align: left;\n",
       "    }\n",
       "\n",
       "    .dataframe thead tr:last-of-type th {\n",
       "        text-align: right;\n",
       "    }\n",
       "</style>\n",
       "<table border=\"1\" class=\"dataframe\">\n",
       "  <thead>\n",
       "    <tr>\n",
       "      <th>ab_test</th>\n",
       "      <th colspan=\"2\" halign=\"left\">interface_eu_test</th>\n",
       "      <th colspan=\"2\" halign=\"left\">recommender_system_test</th>\n",
       "    </tr>\n",
       "    <tr>\n",
       "      <th>group</th>\n",
       "      <th>A</th>\n",
       "      <th>B</th>\n",
       "      <th>A</th>\n",
       "      <th>B</th>\n",
       "    </tr>\n",
       "    <tr>\n",
       "      <th>event_name</th>\n",
       "      <th></th>\n",
       "      <th></th>\n",
       "      <th></th>\n",
       "      <th></th>\n",
       "    </tr>\n",
       "  </thead>\n",
       "  <tbody>\n",
       "    <tr>\n",
       "      <td>login</td>\n",
       "      <td>99.98</td>\n",
       "      <td>100.00</td>\n",
       "      <td>100.00</td>\n",
       "      <td>99.85</td>\n",
       "    </tr>\n",
       "    <tr>\n",
       "      <td>product_page</td>\n",
       "      <td>67.17</td>\n",
       "      <td>65.71</td>\n",
       "      <td>65.24</td>\n",
       "      <td>56.03</td>\n",
       "    </tr>\n",
       "    <tr>\n",
       "      <td>product_cart</td>\n",
       "      <td>32.51</td>\n",
       "      <td>34.05</td>\n",
       "      <td>30.38</td>\n",
       "      <td>28.09</td>\n",
       "    </tr>\n",
       "    <tr>\n",
       "      <td>purchase</td>\n",
       "      <td>35.56</td>\n",
       "      <td>33.38</td>\n",
       "      <td>31.61</td>\n",
       "      <td>29.16</td>\n",
       "    </tr>\n",
       "  </tbody>\n",
       "</table>\n",
       "</div>"
      ],
      "text/plain": [
       "ab_test      interface_eu_test         recommender_system_test       \n",
       "group                        A       B                       A      B\n",
       "event_name                                                           \n",
       "login         99.98             100.00  100.00                  99.85\n",
       "product_page  67.17             65.71   65.24                   56.03\n",
       "product_cart  32.51             34.05   30.38                   28.09\n",
       "purchase      35.56             33.38   31.61                   29.16"
      ]
     },
     "metadata": {},
     "output_type": "display_data"
    }
   ],
   "source": [
    "# Let's look at the number of users in each group by events and in total\n",
    "\n",
    "# creating the pivot table with the number of users in each group by events and in total\n",
    "experiment_results = user_events_log.merge(ab_groups, on='user_id')\\\n",
    "                         .pivot_table(index='event_name', values='user_id',\n",
    "                                      columns=['ab_test', 'group'], aggfunc='nunique').loc[events_sequence]\n",
    "experiment_results.loc['all_users'] = user_events_log.merge(ab_groups, on='user_id')\\\n",
    "                                          .groupby(['ab_test', 'group']).user_id.nunique()\n",
    "\n",
    "print(BOLD + 'The number of users in each group by events and in total:' + END)\n",
    "display(experiment_results)\n",
    "\n",
    "print(BOLD + 'The share of users in each group by events:' + END)\n",
    "display(round(experiment_results\\\n",
    "              .divide(experiment_results[experiment_results.index=='all_users'].iloc[0])*100,\n",
    "        2)[:-1])"
   ]
  },
  {
   "cell_type": "markdown",
   "metadata": {},
   "source": [
    "Both groups of the interface (EU) test involve about 5 thousand users each. The shares of users by events look evenly distributed. \n",
    "\n",
    "The number of users in group B of the recommender system test is significantly less than in group A, but this should not affect the result of testing the hypothesis of equality of proportions.\n",
    "\n",
    "Note login page does not appear for all users and the product cart page is not necessary for making purchases (the number of purchases can be more than the number of visits to the product cart page).\n",
    "\n",
    "Let's test hypotheses, assuming that the changes being tested are not affected by the type of device the user is using."
   ]
  },
  {
   "cell_type": "code",
   "execution_count": 23,
   "metadata": {},
   "outputs": [
    {
     "name": "stdout",
     "output_type": "stream",
     "text": [
      "Hypotheses:\n",
      "\u001b[1mH₀: The proportions of users performed the event in A and B groups are equel.\n",
      "H₁: The proportions of users performed the event in A and B groups are not equel\n",
      "\u001b[0m\n",
      "\u001b[1mp-value for the proportion z-test between both groups by event:\u001b[0m\n"
     ]
    },
    {
     "data": {
      "text/html": [
       "<div>\n",
       "<style scoped>\n",
       "    .dataframe tbody tr th:only-of-type {\n",
       "        vertical-align: middle;\n",
       "    }\n",
       "\n",
       "    .dataframe tbody tr th {\n",
       "        vertical-align: top;\n",
       "    }\n",
       "\n",
       "    .dataframe thead th {\n",
       "        text-align: right;\n",
       "    }\n",
       "</style>\n",
       "<table border=\"1\" class=\"dataframe\">\n",
       "  <thead>\n",
       "    <tr style=\"text-align: right;\">\n",
       "      <th></th>\n",
       "      <th>test_name</th>\n",
       "      <th>event_name</th>\n",
       "      <th>p</th>\n",
       "    </tr>\n",
       "  </thead>\n",
       "  <tbody>\n",
       "    <tr>\n",
       "      <td>0</td>\n",
       "      <td>recommender_system_test</td>\n",
       "      <td>login</td>\n",
       "      <td>0.085272</td>\n",
       "    </tr>\n",
       "    <tr>\n",
       "      <td>1</td>\n",
       "      <td>recommender_system_test</td>\n",
       "      <td>product_page</td>\n",
       "      <td>0.000025</td>\n",
       "    </tr>\n",
       "    <tr>\n",
       "      <td>2</td>\n",
       "      <td>recommender_system_test</td>\n",
       "      <td>product_cart</td>\n",
       "      <td>0.268993</td>\n",
       "    </tr>\n",
       "    <tr>\n",
       "      <td>3</td>\n",
       "      <td>recommender_system_test</td>\n",
       "      <td>purchase</td>\n",
       "      <td>0.240358</td>\n",
       "    </tr>\n",
       "    <tr>\n",
       "      <td>4</td>\n",
       "      <td>interface_eu_test</td>\n",
       "      <td>login</td>\n",
       "      <td>0.320152</td>\n",
       "    </tr>\n",
       "    <tr>\n",
       "      <td>5</td>\n",
       "      <td>interface_eu_test</td>\n",
       "      <td>product_page</td>\n",
       "      <td>0.122441</td>\n",
       "    </tr>\n",
       "    <tr>\n",
       "      <td>6</td>\n",
       "      <td>interface_eu_test</td>\n",
       "      <td>product_cart</td>\n",
       "      <td>0.103234</td>\n",
       "    </tr>\n",
       "    <tr>\n",
       "      <td>7</td>\n",
       "      <td>interface_eu_test</td>\n",
       "      <td>purchase</td>\n",
       "      <td>0.021998</td>\n",
       "    </tr>\n",
       "  </tbody>\n",
       "</table>\n",
       "</div>"
      ],
      "text/plain": [
       "                 test_name    event_name         p\n",
       "0  recommender_system_test  login         0.085272\n",
       "1  recommender_system_test  product_page  0.000025\n",
       "2  recommender_system_test  product_cart  0.268993\n",
       "3  recommender_system_test  purchase      0.240358\n",
       "4  interface_eu_test        login         0.320152\n",
       "5  interface_eu_test        product_page  0.122441\n",
       "6  interface_eu_test        product_cart  0.103234\n",
       "7  interface_eu_test        purchase      0.021998"
      ]
     },
     "metadata": {},
     "output_type": "display_data"
    }
   ],
   "source": [
    "# Let's see if there is a statistically significant difference between groups\n",
    "\n",
    "# Let's calculate p-value for the proportion z-test between both groups by event\n",
    "# and write the results to the log\n",
    "test_log = pd.DataFrame(columns=['test_name', 'event_name', 'p'])\n",
    "i = 0\n",
    "for test in ab_groups.ab_test.unique():\n",
    "    for event in events_sequence:\n",
    "        test_log.loc[i] = [test, event, proportions_diff_pvalue(experiment_results[test], 'A', 'B', event)]\n",
    "        i += 1\n",
    "    \n",
    "print('Hypotheses:')\n",
    "print(BOLD + 'H\\u2080: The proportions of users performed the event in A and B groups are equel.')\n",
    "print('H\\u2081: The proportions of users performed the event in A and B groups are not equel')\n",
    "print(END)\n",
    "    \n",
    "print(BOLD + 'p-value for the proportion z-test between both groups by event:' + END)\n",
    "display(test_log)"
   ]
  },
  {
   "cell_type": "markdown",
   "metadata": {},
   "source": [
    "We tested 4 hypotheses on the same data for each test. If we want an overall alpha of 0.05, the significance level of each test should be 0.05 / 4 = 0.0125 according to the Bonferoni correction procedure. Thus, we can reject only one null hypothesis about the equality of the proportion of users who went to the product page in groups A and B in the recommender system test. The share of users who went to the product page is almost 10% less for users from group B. Perhaps the introduction of an improved recommendation system led to the fact that users immediately went to the purchase without additional viewing product details. But at the same time this did not lead to a change in the share of users who made a purchase. It might be worth taking advantage of event-based analytics to take a closer look at the behavior of users and see exactly how users use the new recommender system."
   ]
  },
  {
   "cell_type": "code",
   "execution_count": 24,
   "metadata": {},
   "outputs": [
    {
     "name": "stdout",
     "output_type": "stream",
     "text": [
      "\u001b[1mThe number of users in each group by events and in total for different devices:\u001b[0m\n"
     ]
    },
    {
     "data": {
      "text/html": [
       "<div>\n",
       "<style scoped>\n",
       "    .dataframe tbody tr th:only-of-type {\n",
       "        vertical-align: middle;\n",
       "    }\n",
       "\n",
       "    .dataframe tbody tr th {\n",
       "        vertical-align: top;\n",
       "    }\n",
       "\n",
       "    .dataframe thead tr th {\n",
       "        text-align: left;\n",
       "    }\n",
       "\n",
       "    .dataframe thead tr:last-of-type th {\n",
       "        text-align: right;\n",
       "    }\n",
       "</style>\n",
       "<table border=\"1\" class=\"dataframe\">\n",
       "  <thead>\n",
       "    <tr>\n",
       "      <th>ab_test</th>\n",
       "      <th colspan=\"8\" halign=\"left\">interface_eu_test</th>\n",
       "      <th colspan=\"8\" halign=\"left\">recommender_system_test</th>\n",
       "    </tr>\n",
       "    <tr>\n",
       "      <th>device</th>\n",
       "      <th colspan=\"2\" halign=\"left\">Android</th>\n",
       "      <th colspan=\"2\" halign=\"left\">Mac</th>\n",
       "      <th colspan=\"2\" halign=\"left\">PC</th>\n",
       "      <th colspan=\"2\" halign=\"left\">iPhone</th>\n",
       "      <th colspan=\"2\" halign=\"left\">Android</th>\n",
       "      <th colspan=\"2\" halign=\"left\">Mac</th>\n",
       "      <th colspan=\"2\" halign=\"left\">PC</th>\n",
       "      <th colspan=\"2\" halign=\"left\">iPhone</th>\n",
       "    </tr>\n",
       "    <tr>\n",
       "      <th>group</th>\n",
       "      <th>A</th>\n",
       "      <th>B</th>\n",
       "      <th>A</th>\n",
       "      <th>B</th>\n",
       "      <th>A</th>\n",
       "      <th>B</th>\n",
       "      <th>A</th>\n",
       "      <th>B</th>\n",
       "      <th>A</th>\n",
       "      <th>B</th>\n",
       "      <th>A</th>\n",
       "      <th>B</th>\n",
       "      <th>A</th>\n",
       "      <th>B</th>\n",
       "      <th>A</th>\n",
       "      <th>B</th>\n",
       "    </tr>\n",
       "    <tr>\n",
       "      <th>event_name</th>\n",
       "      <th></th>\n",
       "      <th></th>\n",
       "      <th></th>\n",
       "      <th></th>\n",
       "      <th></th>\n",
       "      <th></th>\n",
       "      <th></th>\n",
       "      <th></th>\n",
       "      <th></th>\n",
       "      <th></th>\n",
       "      <th></th>\n",
       "      <th></th>\n",
       "      <th></th>\n",
       "      <th></th>\n",
       "      <th></th>\n",
       "      <th></th>\n",
       "    </tr>\n",
       "  </thead>\n",
       "  <tbody>\n",
       "    <tr>\n",
       "      <td>login</td>\n",
       "      <td>2218</td>\n",
       "      <td>2264</td>\n",
       "      <td>511</td>\n",
       "      <td>515</td>\n",
       "      <td>1301</td>\n",
       "      <td>1223</td>\n",
       "      <td>980</td>\n",
       "      <td>950</td>\n",
       "      <td>858</td>\n",
       "      <td>308</td>\n",
       "      <td>177</td>\n",
       "      <td>58</td>\n",
       "      <td>504</td>\n",
       "      <td>158</td>\n",
       "      <td>400</td>\n",
       "      <td>130</td>\n",
       "    </tr>\n",
       "    <tr>\n",
       "      <td>product_page</td>\n",
       "      <td>1496</td>\n",
       "      <td>1520</td>\n",
       "      <td>337</td>\n",
       "      <td>339</td>\n",
       "      <td>878</td>\n",
       "      <td>795</td>\n",
       "      <td>655</td>\n",
       "      <td>600</td>\n",
       "      <td>545</td>\n",
       "      <td>175</td>\n",
       "      <td>127</td>\n",
       "      <td>37</td>\n",
       "      <td>331</td>\n",
       "      <td>81</td>\n",
       "      <td>262</td>\n",
       "      <td>74</td>\n",
       "    </tr>\n",
       "    <tr>\n",
       "      <td>product_cart</td>\n",
       "      <td>720</td>\n",
       "      <td>777</td>\n",
       "      <td>167</td>\n",
       "      <td>188</td>\n",
       "      <td>437</td>\n",
       "      <td>422</td>\n",
       "      <td>305</td>\n",
       "      <td>299</td>\n",
       "      <td>264</td>\n",
       "      <td>82</td>\n",
       "      <td>54</td>\n",
       "      <td>16</td>\n",
       "      <td>143</td>\n",
       "      <td>38</td>\n",
       "      <td>128</td>\n",
       "      <td>48</td>\n",
       "    </tr>\n",
       "    <tr>\n",
       "      <td>purchase</td>\n",
       "      <td>777</td>\n",
       "      <td>758</td>\n",
       "      <td>187</td>\n",
       "      <td>167</td>\n",
       "      <td>466</td>\n",
       "      <td>402</td>\n",
       "      <td>352</td>\n",
       "      <td>326</td>\n",
       "      <td>269</td>\n",
       "      <td>93</td>\n",
       "      <td>69</td>\n",
       "      <td>19</td>\n",
       "      <td>152</td>\n",
       "      <td>42</td>\n",
       "      <td>123</td>\n",
       "      <td>37</td>\n",
       "    </tr>\n",
       "    <tr>\n",
       "      <td>all_users</td>\n",
       "      <td>2218</td>\n",
       "      <td>2264</td>\n",
       "      <td>511</td>\n",
       "      <td>515</td>\n",
       "      <td>1302</td>\n",
       "      <td>1223</td>\n",
       "      <td>980</td>\n",
       "      <td>950</td>\n",
       "      <td>858</td>\n",
       "      <td>309</td>\n",
       "      <td>177</td>\n",
       "      <td>58</td>\n",
       "      <td>504</td>\n",
       "      <td>158</td>\n",
       "      <td>400</td>\n",
       "      <td>130</td>\n",
       "    </tr>\n",
       "  </tbody>\n",
       "</table>\n",
       "</div>"
      ],
      "text/plain": [
       "ab_test      interface_eu_test                                          \\\n",
       "device                 Android        Mac         PC       iPhone        \n",
       "group                        A     B    A    B     A     B      A    B   \n",
       "event_name                                                               \n",
       "login         2218              2264  511  515  1301  1223  980    950   \n",
       "product_page  1496              1520  337  339  878   795   655    600   \n",
       "product_cart  720               777   167  188  437   422   305    299   \n",
       "purchase      777               758   187  167  466   402   352    326   \n",
       "all_users     2218              2264  511  515  1302  1223  980    950   \n",
       "\n",
       "ab_test      recommender_system_test                                      \n",
       "device                       Android       Mac       PC      iPhone       \n",
       "group                              A    B    A   B    A    B      A    B  \n",
       "event_name                                                                \n",
       "login         858                     308  177  58  504  158  400    130  \n",
       "product_page  545                     175  127  37  331  81   262    74   \n",
       "product_cart  264                     82   54   16  143  38   128    48   \n",
       "purchase      269                     93   69   19  152  42   123    37   \n",
       "all_users     858                     309  177  58  504  158  400    130  "
      ]
     },
     "metadata": {},
     "output_type": "display_data"
    },
    {
     "name": "stdout",
     "output_type": "stream",
     "text": [
      "\n",
      "\u001b[1mThe share of users in each group by events for different devices:\u001b[0m\n"
     ]
    },
    {
     "data": {
      "text/html": [
       "<div>\n",
       "<style scoped>\n",
       "    .dataframe tbody tr th:only-of-type {\n",
       "        vertical-align: middle;\n",
       "    }\n",
       "\n",
       "    .dataframe tbody tr th {\n",
       "        vertical-align: top;\n",
       "    }\n",
       "\n",
       "    .dataframe thead tr th {\n",
       "        text-align: left;\n",
       "    }\n",
       "\n",
       "    .dataframe thead tr:last-of-type th {\n",
       "        text-align: right;\n",
       "    }\n",
       "</style>\n",
       "<table border=\"1\" class=\"dataframe\">\n",
       "  <thead>\n",
       "    <tr>\n",
       "      <th>ab_test</th>\n",
       "      <th colspan=\"8\" halign=\"left\">interface_eu_test</th>\n",
       "      <th colspan=\"8\" halign=\"left\">recommender_system_test</th>\n",
       "    </tr>\n",
       "    <tr>\n",
       "      <th>device</th>\n",
       "      <th colspan=\"2\" halign=\"left\">Android</th>\n",
       "      <th colspan=\"2\" halign=\"left\">Mac</th>\n",
       "      <th colspan=\"2\" halign=\"left\">PC</th>\n",
       "      <th colspan=\"2\" halign=\"left\">iPhone</th>\n",
       "      <th colspan=\"2\" halign=\"left\">Android</th>\n",
       "      <th colspan=\"2\" halign=\"left\">Mac</th>\n",
       "      <th colspan=\"2\" halign=\"left\">PC</th>\n",
       "      <th colspan=\"2\" halign=\"left\">iPhone</th>\n",
       "    </tr>\n",
       "    <tr>\n",
       "      <th>group</th>\n",
       "      <th>A</th>\n",
       "      <th>B</th>\n",
       "      <th>A</th>\n",
       "      <th>B</th>\n",
       "      <th>A</th>\n",
       "      <th>B</th>\n",
       "      <th>A</th>\n",
       "      <th>B</th>\n",
       "      <th>A</th>\n",
       "      <th>B</th>\n",
       "      <th>A</th>\n",
       "      <th>B</th>\n",
       "      <th>A</th>\n",
       "      <th>B</th>\n",
       "      <th>A</th>\n",
       "      <th>B</th>\n",
       "    </tr>\n",
       "    <tr>\n",
       "      <th>event_name</th>\n",
       "      <th></th>\n",
       "      <th></th>\n",
       "      <th></th>\n",
       "      <th></th>\n",
       "      <th></th>\n",
       "      <th></th>\n",
       "      <th></th>\n",
       "      <th></th>\n",
       "      <th></th>\n",
       "      <th></th>\n",
       "      <th></th>\n",
       "      <th></th>\n",
       "      <th></th>\n",
       "      <th></th>\n",
       "      <th></th>\n",
       "      <th></th>\n",
       "    </tr>\n",
       "  </thead>\n",
       "  <tbody>\n",
       "    <tr>\n",
       "      <td>login</td>\n",
       "      <td>100.0</td>\n",
       "      <td>100.0</td>\n",
       "      <td>100.0</td>\n",
       "      <td>100.0</td>\n",
       "      <td>100.0</td>\n",
       "      <td>100.0</td>\n",
       "      <td>100.0</td>\n",
       "      <td>100.0</td>\n",
       "      <td>100.0</td>\n",
       "      <td>100.0</td>\n",
       "      <td>100.0</td>\n",
       "      <td>100.0</td>\n",
       "      <td>100.0</td>\n",
       "      <td>100.0</td>\n",
       "      <td>100.0</td>\n",
       "      <td>100.0</td>\n",
       "    </tr>\n",
       "    <tr>\n",
       "      <td>product_page</td>\n",
       "      <td>67.0</td>\n",
       "      <td>67.0</td>\n",
       "      <td>66.0</td>\n",
       "      <td>66.0</td>\n",
       "      <td>67.0</td>\n",
       "      <td>65.0</td>\n",
       "      <td>67.0</td>\n",
       "      <td>63.0</td>\n",
       "      <td>64.0</td>\n",
       "      <td>57.0</td>\n",
       "      <td>72.0</td>\n",
       "      <td>64.0</td>\n",
       "      <td>66.0</td>\n",
       "      <td>51.0</td>\n",
       "      <td>66.0</td>\n",
       "      <td>57.0</td>\n",
       "    </tr>\n",
       "    <tr>\n",
       "      <td>product_cart</td>\n",
       "      <td>32.0</td>\n",
       "      <td>34.0</td>\n",
       "      <td>33.0</td>\n",
       "      <td>37.0</td>\n",
       "      <td>34.0</td>\n",
       "      <td>35.0</td>\n",
       "      <td>31.0</td>\n",
       "      <td>31.0</td>\n",
       "      <td>31.0</td>\n",
       "      <td>27.0</td>\n",
       "      <td>31.0</td>\n",
       "      <td>28.0</td>\n",
       "      <td>28.0</td>\n",
       "      <td>24.0</td>\n",
       "      <td>32.0</td>\n",
       "      <td>37.0</td>\n",
       "    </tr>\n",
       "    <tr>\n",
       "      <td>purchase</td>\n",
       "      <td>35.0</td>\n",
       "      <td>33.0</td>\n",
       "      <td>37.0</td>\n",
       "      <td>32.0</td>\n",
       "      <td>36.0</td>\n",
       "      <td>33.0</td>\n",
       "      <td>36.0</td>\n",
       "      <td>34.0</td>\n",
       "      <td>31.0</td>\n",
       "      <td>30.0</td>\n",
       "      <td>39.0</td>\n",
       "      <td>33.0</td>\n",
       "      <td>30.0</td>\n",
       "      <td>27.0</td>\n",
       "      <td>31.0</td>\n",
       "      <td>28.0</td>\n",
       "    </tr>\n",
       "  </tbody>\n",
       "</table>\n",
       "</div>"
      ],
      "text/plain": [
       "ab_test      interface_eu_test                                            \\\n",
       "device                 Android           Mac            PC        iPhone   \n",
       "group                        A      B      A      B      A      B      A   \n",
       "event_name                                                                 \n",
       "login         100.0             100.0  100.0  100.0  100.0  100.0  100.0   \n",
       "product_page  67.0              67.0   66.0   66.0   67.0   65.0   67.0    \n",
       "product_cart  32.0              34.0   33.0   37.0   34.0   35.0   31.0    \n",
       "purchase      35.0              33.0   37.0   32.0   36.0   33.0   36.0    \n",
       "\n",
       "ab_test             recommender_system_test                              \\\n",
       "device                              Android           Mac            PC   \n",
       "group             B                       A      B      A      B      A   \n",
       "event_name                                                                \n",
       "login         100.0  100.0                   100.0  100.0  100.0  100.0   \n",
       "product_page  63.0   64.0                    57.0   72.0   64.0   66.0    \n",
       "product_cart  31.0   31.0                    27.0   31.0   28.0   28.0    \n",
       "purchase      34.0   31.0                    30.0   39.0   33.0   30.0    \n",
       "\n",
       "ab_test                            \n",
       "device              iPhone         \n",
       "group             B      A      B  \n",
       "event_name                         \n",
       "login         100.0  100.0  100.0  \n",
       "product_page  51.0   66.0   57.0   \n",
       "product_cart  24.0   32.0   37.0   \n",
       "purchase      27.0   31.0   28.0   "
      ]
     },
     "metadata": {},
     "output_type": "display_data"
    }
   ],
   "source": [
    "# Let's look at the number of users in each group by events and in total for different devices\n",
    "\n",
    "# creating the pivot table with the number of users in each group by events and in total for different devices\n",
    "conversion_by_device = user_events_log.merge(ab_groups.merge(users, on='user_id'),\n",
    "                                             on='user_id', how='inner')\\\n",
    "                          .pivot_table(index='event_name', columns=['ab_test', 'device', 'group'],\n",
    "                                       values='user_id', aggfunc='nunique').loc[events_sequence]\n",
    "conversion_by_device.loc['all_users'] = user_events_log.merge(ab_groups.merge(users, on='user_id'),\n",
    "                                                              on='user_id', how='inner')\\\n",
    "                                            .groupby(['ab_test', 'device', 'group']).user_id.nunique()\n",
    "\n",
    "print(BOLD + 'The number of users in each group by events and in total for different devices:' + END)\n",
    "display(conversion_by_device)\n",
    "print()\n",
    "\n",
    "print(BOLD + 'The share of users in each group by events for different devices:' + END)\n",
    "display((conversion_by_device.div(conversion_by_device.loc['login'], axis=1).round(2)*100)[:-1])"
   ]
  },
  {
   "cell_type": "markdown",
   "metadata": {},
   "source": [
    "When looking at users on different devices separately, there are very few observations for the recommender system test, especially for those using a Mac. \n",
    "\n",
    "The shares of users by events for the interface (EU) test look evenly distributed for all groups and devices. \n",
    "For the recommender system test, product page conversions are higher for group B compared to group A for all devices."
   ]
  },
  {
   "cell_type": "code",
   "execution_count": 25,
   "metadata": {},
   "outputs": [
    {
     "name": "stdout",
     "output_type": "stream",
     "text": [
      "Hypotheses:\n",
      "\u001b[1mH₀: The proportions of users performed the event in A and B groups are equel.\n",
      "H₁: The proportions of users performed the event in A and B groups are not equel\n",
      "\u001b[0m\n",
      "\u001b[1mp-value for the proportion z-test between both groups by event:\u001b[0m\n"
     ]
    },
    {
     "data": {
      "text/html": [
       "<div>\n",
       "<style scoped>\n",
       "    .dataframe tbody tr th:only-of-type {\n",
       "        vertical-align: middle;\n",
       "    }\n",
       "\n",
       "    .dataframe tbody tr th {\n",
       "        vertical-align: top;\n",
       "    }\n",
       "\n",
       "    .dataframe thead th {\n",
       "        text-align: right;\n",
       "    }\n",
       "</style>\n",
       "<table border=\"1\" class=\"dataframe\">\n",
       "  <thead>\n",
       "    <tr style=\"text-align: right;\">\n",
       "      <th></th>\n",
       "      <th>test_name</th>\n",
       "      <th>device</th>\n",
       "      <th>event_name</th>\n",
       "      <th>p</th>\n",
       "    </tr>\n",
       "  </thead>\n",
       "  <tbody>\n",
       "    <tr>\n",
       "      <td>0</td>\n",
       "      <td>recommender_system_test</td>\n",
       "      <td>PC</td>\n",
       "      <td>product_page</td>\n",
       "      <td>0.001115</td>\n",
       "    </tr>\n",
       "    <tr>\n",
       "      <td>1</td>\n",
       "      <td>recommender_system_test</td>\n",
       "      <td>PC</td>\n",
       "      <td>product_cart</td>\n",
       "      <td>0.287503</td>\n",
       "    </tr>\n",
       "    <tr>\n",
       "      <td>2</td>\n",
       "      <td>recommender_system_test</td>\n",
       "      <td>PC</td>\n",
       "      <td>purchase</td>\n",
       "      <td>0.388803</td>\n",
       "    </tr>\n",
       "    <tr>\n",
       "      <td>3</td>\n",
       "      <td>recommender_system_test</td>\n",
       "      <td>Android</td>\n",
       "      <td>product_page</td>\n",
       "      <td>0.032770</td>\n",
       "    </tr>\n",
       "    <tr>\n",
       "      <td>4</td>\n",
       "      <td>recommender_system_test</td>\n",
       "      <td>Android</td>\n",
       "      <td>product_cart</td>\n",
       "      <td>0.162511</td>\n",
       "    </tr>\n",
       "    <tr>\n",
       "      <td>5</td>\n",
       "      <td>recommender_system_test</td>\n",
       "      <td>Android</td>\n",
       "      <td>purchase</td>\n",
       "      <td>0.682616</td>\n",
       "    </tr>\n",
       "    <tr>\n",
       "      <td>6</td>\n",
       "      <td>recommender_system_test</td>\n",
       "      <td>iPhone</td>\n",
       "      <td>product_page</td>\n",
       "      <td>0.077799</td>\n",
       "    </tr>\n",
       "    <tr>\n",
       "      <td>7</td>\n",
       "      <td>recommender_system_test</td>\n",
       "      <td>iPhone</td>\n",
       "      <td>product_cart</td>\n",
       "      <td>0.300471</td>\n",
       "    </tr>\n",
       "    <tr>\n",
       "      <td>8</td>\n",
       "      <td>recommender_system_test</td>\n",
       "      <td>iPhone</td>\n",
       "      <td>purchase</td>\n",
       "      <td>0.621470</td>\n",
       "    </tr>\n",
       "    <tr>\n",
       "      <td>9</td>\n",
       "      <td>recommender_system_test</td>\n",
       "      <td>Mac</td>\n",
       "      <td>product_page</td>\n",
       "      <td>0.251992</td>\n",
       "    </tr>\n",
       "    <tr>\n",
       "      <td>10</td>\n",
       "      <td>recommender_system_test</td>\n",
       "      <td>Mac</td>\n",
       "      <td>product_cart</td>\n",
       "      <td>0.672776</td>\n",
       "    </tr>\n",
       "    <tr>\n",
       "      <td>11</td>\n",
       "      <td>recommender_system_test</td>\n",
       "      <td>Mac</td>\n",
       "      <td>purchase</td>\n",
       "      <td>0.395309</td>\n",
       "    </tr>\n",
       "    <tr>\n",
       "      <td>12</td>\n",
       "      <td>interface_eu_test</td>\n",
       "      <td>PC</td>\n",
       "      <td>product_page</td>\n",
       "      <td>0.196731</td>\n",
       "    </tr>\n",
       "    <tr>\n",
       "      <td>13</td>\n",
       "      <td>interface_eu_test</td>\n",
       "      <td>PC</td>\n",
       "      <td>product_cart</td>\n",
       "      <td>0.617726</td>\n",
       "    </tr>\n",
       "    <tr>\n",
       "      <td>14</td>\n",
       "      <td>interface_eu_test</td>\n",
       "      <td>PC</td>\n",
       "      <td>purchase</td>\n",
       "      <td>0.122479</td>\n",
       "    </tr>\n",
       "    <tr>\n",
       "      <td>15</td>\n",
       "      <td>interface_eu_test</td>\n",
       "      <td>Android</td>\n",
       "      <td>product_page</td>\n",
       "      <td>0.824767</td>\n",
       "    </tr>\n",
       "    <tr>\n",
       "      <td>16</td>\n",
       "      <td>interface_eu_test</td>\n",
       "      <td>Android</td>\n",
       "      <td>product_cart</td>\n",
       "      <td>0.187272</td>\n",
       "    </tr>\n",
       "    <tr>\n",
       "      <td>17</td>\n",
       "      <td>interface_eu_test</td>\n",
       "      <td>Android</td>\n",
       "      <td>purchase</td>\n",
       "      <td>0.273951</td>\n",
       "    </tr>\n",
       "    <tr>\n",
       "      <td>18</td>\n",
       "      <td>interface_eu_test</td>\n",
       "      <td>iPhone</td>\n",
       "      <td>product_page</td>\n",
       "      <td>0.090208</td>\n",
       "    </tr>\n",
       "    <tr>\n",
       "      <td>19</td>\n",
       "      <td>interface_eu_test</td>\n",
       "      <td>iPhone</td>\n",
       "      <td>product_cart</td>\n",
       "      <td>0.867870</td>\n",
       "    </tr>\n",
       "    <tr>\n",
       "      <td>20</td>\n",
       "      <td>interface_eu_test</td>\n",
       "      <td>iPhone</td>\n",
       "      <td>purchase</td>\n",
       "      <td>0.460928</td>\n",
       "    </tr>\n",
       "    <tr>\n",
       "      <td>21</td>\n",
       "      <td>interface_eu_test</td>\n",
       "      <td>Mac</td>\n",
       "      <td>product_page</td>\n",
       "      <td>0.966620</td>\n",
       "    </tr>\n",
       "    <tr>\n",
       "      <td>22</td>\n",
       "      <td>interface_eu_test</td>\n",
       "      <td>Mac</td>\n",
       "      <td>product_cart</td>\n",
       "      <td>0.197957</td>\n",
       "    </tr>\n",
       "    <tr>\n",
       "      <td>23</td>\n",
       "      <td>interface_eu_test</td>\n",
       "      <td>Mac</td>\n",
       "      <td>purchase</td>\n",
       "      <td>0.160286</td>\n",
       "    </tr>\n",
       "  </tbody>\n",
       "</table>\n",
       "</div>"
      ],
      "text/plain": [
       "                  test_name   device    event_name         p\n",
       "0   recommender_system_test  PC       product_page  0.001115\n",
       "1   recommender_system_test  PC       product_cart  0.287503\n",
       "2   recommender_system_test  PC       purchase      0.388803\n",
       "3   recommender_system_test  Android  product_page  0.032770\n",
       "4   recommender_system_test  Android  product_cart  0.162511\n",
       "5   recommender_system_test  Android  purchase      0.682616\n",
       "6   recommender_system_test  iPhone   product_page  0.077799\n",
       "7   recommender_system_test  iPhone   product_cart  0.300471\n",
       "8   recommender_system_test  iPhone   purchase      0.621470\n",
       "9   recommender_system_test  Mac      product_page  0.251992\n",
       "10  recommender_system_test  Mac      product_cart  0.672776\n",
       "11  recommender_system_test  Mac      purchase      0.395309\n",
       "12  interface_eu_test        PC       product_page  0.196731\n",
       "13  interface_eu_test        PC       product_cart  0.617726\n",
       "14  interface_eu_test        PC       purchase      0.122479\n",
       "15  interface_eu_test        Android  product_page  0.824767\n",
       "16  interface_eu_test        Android  product_cart  0.187272\n",
       "17  interface_eu_test        Android  purchase      0.273951\n",
       "18  interface_eu_test        iPhone   product_page  0.090208\n",
       "19  interface_eu_test        iPhone   product_cart  0.867870\n",
       "20  interface_eu_test        iPhone   purchase      0.460928\n",
       "21  interface_eu_test        Mac      product_page  0.966620\n",
       "22  interface_eu_test        Mac      product_cart  0.197957\n",
       "23  interface_eu_test        Mac      purchase      0.160286"
      ]
     },
     "metadata": {},
     "output_type": "display_data"
    }
   ],
   "source": [
    "# Let's see if there are statistically significant differences between groups for different devices \n",
    "\n",
    "# Let's calculate p-value for the proportion z-test between both groups by event for each device\n",
    "# and write the results to the log\n",
    "test_log = pd.DataFrame(columns=['test_name', 'device', 'event_name', 'p'])\n",
    "i = 0\n",
    "for test in ab_groups.ab_test.unique():\n",
    "    for device in users.device.unique():\n",
    "        for event in events_sequence[1:]:\n",
    "            test_log.loc[i] = [test, device, event, proportions_diff_pvalue(conversion_by_device[test][device],\n",
    "                                                                            'A', 'B', event)]\n",
    "            i += 1\n",
    "            \n",
    "print('Hypotheses:')\n",
    "print(BOLD + 'H\\u2080: The proportions of users performed the event in A and B groups are equel.')\n",
    "print('H\\u2081: The proportions of users performed the event in A and B groups are not equel')\n",
    "print(END)\n",
    "    \n",
    "print(BOLD + 'p-value for the proportion z-test between both groups by event:' + END)\n",
    "display(test_log)"
   ]
  },
  {
   "cell_type": "markdown",
   "metadata": {},
   "source": [
    "We tested 12 additional hypotheses on the same data for each test. If we want an overall alpha of 0.05, the significance level of each test should be 0.05 / 16 = 0.003125 according to the Bonferoni correction procedure. Thus, we can reject only one null hypothesis about the equality of the proportion of users who went to the product page in groups A and B in the recommender system test for PC. The share of users who went to the product page is 15% less for users from group B. "
   ]
  },
  {
   "cell_type": "markdown",
   "metadata": {},
   "source": [
    "## 5. Overall Conclusions\n",
    "<a id='section5'></a>\n",
    "\n",
    "There are a page views logs of users of the online store, some of which showed a new recommendation system or a modified interface in order to conduct appropriate AB tests.\n",
    "\n",
    "The dataset contains 423,761 pageview log records for 58,703 users.\n",
    "The dataset contains data regarding 4 events:\n",
    "\n",
    "* Went to login page (login)\n",
    "* Navigated to the page of a product (product_page)\n",
    "* Viewed the cart (product_cart)\n",
    "* Paid for the order (purchase)\n",
    "\n",
    "About 20% users took part in two A/B tests conducted during more than 3 weeks (from December 7th to December 7th, 2020). The timing of one of the 14 marketing campaigns overlapped with both A/B tests. The dataset contains users from 4 regions: EU, N.America, APAC, CIS, who use 4 types of devices.\n",
    "\n",
    "The recommender system test performed does not match the following description items:\n",
    "* the share of users from Europe is considerably over 15%\n",
    "* the number of participating users is significantly less than 6000\n",
    "\n",
    "Moreover, both tests were conducted inaccurately:\n",
    "* There is partial overlapping with the marketing campaigns might bias the test results especially if the distribution of users among groups A and B was uneven these days. It is better if the test is not carried out simultaneously with an ad campaign (we can select users from regions where the ad campaign is not being conducted) or the periods overlap completely.\n",
    "* There are users who participated in both tests. We cannot use A/B test results on these users since we don't know for sure what they saw and what influenced their behavior. \n",
    "* The share of users in the recommender system test is unevenly distributed between A and B groups.\n",
    "* There are users from different regions who react differently to tested changes. It is necessary to examine each region separately, and there is enough data for each region.\n",
    "* The distribution of the number of users by days in the recommender system test is not similar for A and B groups. It might lead to bias in the test results. For example, an ad company can differently affect the conversion in groups A and B, or the unstable operation of the site on some of the days can cause a bias.\n",
    "* The shares of users with different devices are not equal. Uneven distribution across devices can bias the A/B test results. For example, users of the mobile version of the store can react differently to changes in the interface. As their share is higher, they have a greater impact on the results. It is necessary to conduct tests for each device separately or to be sure that the use of different devices does not affect the conversion at each stage.\n",
    "\n",
    "We cannot expect the reproducibility of tests in production. It is necessary to correct all the shortcomings and re-run tests if we are interested in finding out the impact of the proposed changes.\n",
    "\n",
    "After deleting users who participated in both tests and leaving only European users (there is not enough data for the rest of the regions to consider them separately), we tested the hypotheses about the equality of the proportion of users who perform each event in groups A and B. We got a statistically significant difference between the proportion of users who went to the product page in two groups in the recommendation system test. The share of users from group B is almost 10% less than for users from group A. \n",
    "\n",
    "If assume that the changes being tested are affected by the type of device the user is utilizing, we got a statistically significant difference between the proportion of users who went to the product page in two groups only in the recommender system test for PC. The share of users from group B is 15% less than for users from group A. \n",
    "\n",
    "Perhaps the introduction of an improved recommendation system led to the fact that users immediately went to purchase without additional viewing product details (apparently it is more convenient to do this on a PC). But at the same time, this did not lead to a change in the share of users who made a purchase in A and B groups. It might be worth taking advantage of event-base analytics to take a closer look at user behavior and see exactly how users iteract with the new recommendation system.\n",
    "\n",
    "Assuming that the interface changes being tested are not affected by the type of device the user is using, the interface test was carried out more accurately. We did not reveal a statistically significant difference between the control groups and the group with changed interface in terms of the proportion of users who performed each type of action. "
   ]
  }
 ],
 "metadata": {
  "ExecuteTimeLog": [
   {
    "duration": 1339,
    "start_time": "2021-06-26T06:27:05.614Z"
   },
   {
    "duration": 1985,
    "start_time": "2021-06-26T06:29:33.547Z"
   },
   {
    "duration": 258,
    "start_time": "2021-06-26T06:30:38.527Z"
   },
   {
    "duration": 15,
    "start_time": "2021-06-26T06:37:48.519Z"
   },
   {
    "duration": 108,
    "start_time": "2021-06-26T06:39:16.391Z"
   },
   {
    "duration": 1361,
    "start_time": "2021-06-26T17:51:18.762Z"
   },
   {
    "duration": 2005,
    "start_time": "2021-06-26T17:51:21.607Z"
   },
   {
    "duration": 11,
    "start_time": "2021-06-26T17:52:12.270Z"
   },
   {
    "duration": 12,
    "start_time": "2021-06-26T17:52:59.093Z"
   },
   {
    "duration": 17,
    "start_time": "2021-06-26T17:53:06.483Z"
   },
   {
    "duration": 119,
    "start_time": "2021-06-26T17:56:46.612Z"
   },
   {
    "duration": 17,
    "start_time": "2021-06-26T17:56:58.145Z"
   },
   {
    "duration": 16,
    "start_time": "2021-06-26T17:57:59.498Z"
   },
   {
    "duration": 426,
    "start_time": "2021-06-26T18:00:05.339Z"
   },
   {
    "duration": 16,
    "start_time": "2021-06-26T18:00:10.338Z"
   },
   {
    "duration": 370,
    "start_time": "2021-06-26T18:00:12.992Z"
   },
   {
    "duration": 416,
    "start_time": "2021-06-26T18:00:35.972Z"
   },
   {
    "duration": 100,
    "start_time": "2021-06-26T18:01:11.605Z"
   },
   {
    "duration": 16,
    "start_time": "2021-06-26T18:01:17.294Z"
   },
   {
    "duration": 20,
    "start_time": "2021-06-26T18:01:19.817Z"
   },
   {
    "duration": 1396,
    "start_time": "2021-06-27T09:29:10.165Z"
   },
   {
    "duration": 2000,
    "start_time": "2021-06-27T09:29:13.317Z"
   },
   {
    "duration": 22,
    "start_time": "2021-06-27T09:31:48.209Z"
   },
   {
    "duration": 17,
    "start_time": "2021-06-27T09:31:54.797Z"
   },
   {
    "duration": 16,
    "start_time": "2021-06-27T09:32:07.605Z"
   },
   {
    "duration": 17,
    "start_time": "2021-06-27T09:33:34.073Z"
   },
   {
    "duration": 22,
    "start_time": "2021-06-27T09:34:22.241Z"
   },
   {
    "duration": 449,
    "start_time": "2021-06-27T09:36:57.447Z"
   },
   {
    "duration": 349,
    "start_time": "2021-06-27T09:37:06.261Z"
   },
   {
    "duration": 28,
    "start_time": "2021-06-27T09:37:20.755Z"
   },
   {
    "duration": 28,
    "start_time": "2021-06-27T09:37:45.643Z"
   },
   {
    "duration": 296,
    "start_time": "2021-06-27T09:41:15.995Z"
   },
   {
    "duration": 6,
    "start_time": "2021-06-27T09:41:21.060Z"
   },
   {
    "duration": 9,
    "start_time": "2021-06-27T09:41:35.189Z"
   },
   {
    "duration": 34,
    "start_time": "2021-06-27T09:42:24.388Z"
   },
   {
    "duration": 34,
    "start_time": "2021-06-27T09:42:41.457Z"
   },
   {
    "duration": 39,
    "start_time": "2021-06-27T09:43:01.613Z"
   },
   {
    "duration": 36,
    "start_time": "2021-06-27T09:43:23.328Z"
   },
   {
    "duration": 337,
    "start_time": "2021-06-27T09:43:36.790Z"
   },
   {
    "duration": 34,
    "start_time": "2021-06-27T09:43:43.358Z"
   },
   {
    "duration": 37,
    "start_time": "2021-06-27T09:43:48.359Z"
   },
   {
    "duration": 1402,
    "start_time": "2021-06-27T22:15:08.962Z"
   },
   {
    "duration": 2120,
    "start_time": "2021-06-27T22:15:10.371Z"
   },
   {
    "duration": 20,
    "start_time": "2021-06-27T22:15:29.976Z"
   },
   {
    "duration": 43,
    "start_time": "2021-06-27T22:15:33.960Z"
   },
   {
    "duration": 1340,
    "start_time": "2021-06-28T06:48:53.607Z"
   },
   {
    "duration": 2025,
    "start_time": "2021-06-28T06:48:56.099Z"
   },
   {
    "duration": 251,
    "start_time": "2021-06-28T06:49:02.823Z"
   },
   {
    "duration": 19,
    "start_time": "2021-06-28T06:49:06.758Z"
   },
   {
    "duration": 21,
    "start_time": "2021-06-28T06:49:11.643Z"
   },
   {
    "duration": 43,
    "start_time": "2021-06-28T06:49:31.587Z"
   },
   {
    "duration": 49,
    "start_time": "2021-06-28T06:58:18.643Z"
   },
   {
    "duration": 160,
    "start_time": "2021-06-28T06:58:54.097Z"
   },
   {
    "duration": 160,
    "start_time": "2021-06-28T06:59:03.796Z"
   },
   {
    "duration": 395,
    "start_time": "2021-06-28T07:08:49.464Z"
   },
   {
    "duration": 319,
    "start_time": "2021-06-28T07:09:15.407Z"
   },
   {
    "duration": 296,
    "start_time": "2021-06-28T07:11:54.074Z"
   },
   {
    "duration": 378,
    "start_time": "2021-06-28T07:16:41.971Z"
   },
   {
    "duration": 311,
    "start_time": "2021-06-28T07:20:06.949Z"
   },
   {
    "duration": 97,
    "start_time": "2021-06-28T07:20:10.962Z"
   },
   {
    "duration": 55,
    "start_time": "2021-06-28T07:21:09.865Z"
   },
   {
    "duration": 144,
    "start_time": "2021-06-28T07:21:39.627Z"
   },
   {
    "duration": 141,
    "start_time": "2021-06-28T07:21:50.732Z"
   },
   {
    "duration": 150,
    "start_time": "2021-06-28T07:22:17.430Z"
   },
   {
    "duration": 152,
    "start_time": "2021-06-28T07:22:24.935Z"
   },
   {
    "duration": 162,
    "start_time": "2021-06-28T07:22:55.752Z"
   },
   {
    "duration": 156,
    "start_time": "2021-06-28T07:24:31.240Z"
   },
   {
    "duration": 278,
    "start_time": "2021-06-28T07:30:07.356Z"
   },
   {
    "duration": 269,
    "start_time": "2021-06-28T08:03:26.097Z"
   },
   {
    "duration": 528,
    "start_time": "2021-06-28T08:04:15.784Z"
   },
   {
    "duration": 283,
    "start_time": "2021-06-28T08:04:36.023Z"
   },
   {
    "duration": 265,
    "start_time": "2021-06-28T08:04:55.803Z"
   },
   {
    "duration": 286,
    "start_time": "2021-06-28T08:10:44.271Z"
   },
   {
    "duration": 523,
    "start_time": "2021-06-28T08:11:04.405Z"
   },
   {
    "duration": 302,
    "start_time": "2021-06-28T08:11:08.922Z"
   },
   {
    "duration": 268,
    "start_time": "2021-06-28T08:11:26.946Z"
   },
   {
    "duration": 10,
    "start_time": "2021-06-28T08:11:35.650Z"
   },
   {
    "duration": 347,
    "start_time": "2021-06-28T08:12:05.300Z"
   },
   {
    "duration": 1512,
    "start_time": "2021-06-28T08:12:15.283Z"
   },
   {
    "duration": 1251,
    "start_time": "2021-06-28T08:12:20.545Z"
   },
   {
    "duration": 512,
    "start_time": "2021-06-28T08:12:29.840Z"
   },
   {
    "duration": 14,
    "start_time": "2021-06-28T08:14:20.100Z"
   },
   {
    "duration": 36,
    "start_time": "2021-06-28T08:21:28.324Z"
   },
   {
    "duration": 43,
    "start_time": "2021-06-28T08:23:28.281Z"
   },
   {
    "duration": 12,
    "start_time": "2021-06-28T08:31:44.430Z"
   },
   {
    "duration": 35,
    "start_time": "2021-06-28T08:31:54.221Z"
   },
   {
    "duration": 5,
    "start_time": "2021-06-28T08:33:29.166Z"
   },
   {
    "duration": 40,
    "start_time": "2021-06-28T08:33:51.378Z"
   },
   {
    "duration": 41,
    "start_time": "2021-06-28T08:34:30.595Z"
   },
   {
    "duration": 3,
    "start_time": "2021-06-28T09:14:09.170Z"
   },
   {
    "duration": 968,
    "start_time": "2021-06-28T09:18:44.956Z"
   },
   {
    "duration": 12,
    "start_time": "2021-06-28T09:28:27.743Z"
   },
   {
    "duration": 291,
    "start_time": "2021-06-28T09:30:01.163Z"
   },
   {
    "duration": 12,
    "start_time": "2021-06-28T09:30:29.354Z"
   },
   {
    "duration": 11,
    "start_time": "2021-06-28T09:31:44.390Z"
   },
   {
    "duration": 175,
    "start_time": "2021-06-28T09:32:03.813Z"
   },
   {
    "duration": 7450,
    "start_time": "2021-06-28T09:32:13.468Z"
   },
   {
    "duration": 927,
    "start_time": "2021-06-28T09:33:59.361Z"
   },
   {
    "duration": 1232,
    "start_time": "2021-06-28T09:34:20.007Z"
   },
   {
    "duration": 1374,
    "start_time": "2021-06-28T09:34:40.249Z"
   },
   {
    "duration": 1437,
    "start_time": "2021-06-28T09:34:49.752Z"
   },
   {
    "duration": 1432,
    "start_time": "2021-06-28T09:35:08.729Z"
   },
   {
    "duration": 1132,
    "start_time": "2021-06-28T09:36:51.172Z"
   },
   {
    "duration": 12,
    "start_time": "2021-06-28T09:36:57.465Z"
   },
   {
    "duration": 1425,
    "start_time": "2021-06-28T09:36:58.223Z"
   },
   {
    "duration": 155,
    "start_time": "2021-06-28T09:37:58.255Z"
   },
   {
    "duration": 1502,
    "start_time": "2021-06-28T09:37:58.871Z"
   },
   {
    "duration": 297,
    "start_time": "2021-06-28T09:40:43.164Z"
   },
   {
    "duration": 1487,
    "start_time": "2021-06-28T09:40:55.359Z"
   },
   {
    "duration": 1451,
    "start_time": "2021-06-28T09:41:11.722Z"
   },
   {
    "duration": 1490,
    "start_time": "2021-06-28T09:41:24.400Z"
   },
   {
    "duration": 1705,
    "start_time": "2021-06-28T09:41:57.415Z"
   },
   {
    "duration": 151,
    "start_time": "2021-06-28T10:21:32.719Z"
   },
   {
    "duration": 54,
    "start_time": "2021-06-28T10:25:49.973Z"
   },
   {
    "duration": 171,
    "start_time": "2021-06-28T10:56:34.916Z"
   },
   {
    "duration": 154,
    "start_time": "2021-06-28T10:56:47.469Z"
   },
   {
    "duration": 68,
    "start_time": "2021-06-28T10:56:57.220Z"
   },
   {
    "duration": 60,
    "start_time": "2021-06-28T10:57:01.810Z"
   },
   {
    "duration": 1563,
    "start_time": "2021-06-28T10:59:07.184Z"
   },
   {
    "duration": 61,
    "start_time": "2021-06-28T11:01:03.154Z"
   },
   {
    "duration": 1638,
    "start_time": "2021-06-28T11:02:02.181Z"
   },
   {
    "duration": 1723,
    "start_time": "2021-06-28T11:02:30.597Z"
   },
   {
    "duration": 1807,
    "start_time": "2021-06-28T11:04:34.512Z"
   },
   {
    "duration": 138,
    "start_time": "2021-06-28T11:09:35.076Z"
   },
   {
    "duration": 960,
    "start_time": "2021-06-28T11:10:11.556Z"
   },
   {
    "duration": 907,
    "start_time": "2021-06-28T11:10:19.134Z"
   },
   {
    "duration": 125,
    "start_time": "2021-06-28T11:10:40.551Z"
   },
   {
    "duration": 132,
    "start_time": "2021-06-28T11:12:51.696Z"
   },
   {
    "duration": 159,
    "start_time": "2021-06-28T11:12:59.429Z"
   },
   {
    "duration": 164,
    "start_time": "2021-06-28T11:13:31.208Z"
   },
   {
    "duration": 133,
    "start_time": "2021-06-28T11:13:40.445Z"
   },
   {
    "duration": 1285,
    "start_time": "2021-06-28T11:14:29.104Z"
   },
   {
    "duration": 289,
    "start_time": "2021-06-28T11:15:38.767Z"
   },
   {
    "duration": 466,
    "start_time": "2021-06-28T11:15:46.200Z"
   },
   {
    "duration": 424,
    "start_time": "2021-06-28T11:15:51.074Z"
   },
   {
    "duration": 82,
    "start_time": "2021-06-28T11:18:38.722Z"
   },
   {
    "duration": 431,
    "start_time": "2021-06-28T11:18:42.458Z"
   },
   {
    "duration": 462,
    "start_time": "2021-06-28T11:18:54.150Z"
   },
   {
    "duration": 1287,
    "start_time": "2021-06-28T11:21:49.833Z"
   },
   {
    "duration": 1216,
    "start_time": "2021-06-28T11:24:01.507Z"
   },
   {
    "duration": 1286,
    "start_time": "2021-06-28T11:24:25.134Z"
   },
   {
    "duration": 1222,
    "start_time": "2021-06-28T11:24:43.588Z"
   },
   {
    "duration": 1301,
    "start_time": "2021-06-28T11:25:23.489Z"
   },
   {
    "duration": 1205,
    "start_time": "2021-06-28T11:33:23.652Z"
   },
   {
    "duration": 1277,
    "start_time": "2021-06-28T11:34:16.052Z"
   },
   {
    "duration": 1362,
    "start_time": "2021-06-28T11:35:47.190Z"
   },
   {
    "duration": 1206,
    "start_time": "2021-06-28T11:36:03.476Z"
   },
   {
    "duration": 1325,
    "start_time": "2021-06-28T11:37:23.489Z"
   },
   {
    "duration": 1236,
    "start_time": "2021-06-28T11:37:49.169Z"
   },
   {
    "duration": 95,
    "start_time": "2021-06-28T11:44:26.314Z"
   },
   {
    "duration": 1214,
    "start_time": "2021-06-28T11:44:40.369Z"
   },
   {
    "duration": 1228,
    "start_time": "2021-06-28T11:45:03.638Z"
   },
   {
    "duration": 874,
    "start_time": "2021-06-28T11:48:15.215Z"
   },
   {
    "duration": 1614,
    "start_time": "2021-06-28T11:53:55.078Z"
   },
   {
    "duration": 1470,
    "start_time": "2021-06-28T11:56:06.773Z"
   },
   {
    "duration": 1602,
    "start_time": "2021-06-28T11:56:20.356Z"
   },
   {
    "duration": 1518,
    "start_time": "2021-06-28T11:56:54.382Z"
   },
   {
    "duration": 1488,
    "start_time": "2021-06-28T11:57:45.273Z"
   },
   {
    "duration": 1565,
    "start_time": "2021-06-28T12:00:12.294Z"
   },
   {
    "duration": 1724,
    "start_time": "2021-06-28T12:01:42.689Z"
   },
   {
    "duration": 1763,
    "start_time": "2021-06-28T12:02:01.068Z"
   },
   {
    "duration": 1577,
    "start_time": "2021-06-28T12:03:48.063Z"
   },
   {
    "duration": 1592,
    "start_time": "2021-06-28T12:05:27.367Z"
   },
   {
    "duration": 237,
    "start_time": "2021-06-28T12:08:53.691Z"
   },
   {
    "duration": 1011,
    "start_time": "2021-06-28T12:09:47.120Z"
   },
   {
    "duration": 937,
    "start_time": "2021-06-28T12:11:05.223Z"
   },
   {
    "duration": 2447,
    "start_time": "2021-06-28T12:11:41.914Z"
   },
   {
    "duration": 1758,
    "start_time": "2021-06-28T12:12:45.787Z"
   },
   {
    "duration": 1634,
    "start_time": "2021-06-28T12:15:57.813Z"
   },
   {
    "duration": 1793,
    "start_time": "2021-06-28T12:17:36.839Z"
   },
   {
    "duration": 1670,
    "start_time": "2021-06-28T12:17:47.034Z"
   },
   {
    "duration": 3,
    "start_time": "2021-06-28T12:19:10.319Z"
   },
   {
    "duration": 55,
    "start_time": "2021-06-28T12:35:15.597Z"
   },
   {
    "duration": 67,
    "start_time": "2021-06-28T12:40:18.459Z"
   },
   {
    "duration": 68,
    "start_time": "2021-06-28T12:40:40.553Z"
   },
   {
    "duration": 71,
    "start_time": "2021-06-28T12:44:08.814Z"
   },
   {
    "duration": 6,
    "start_time": "2021-06-28T12:44:31.361Z"
   },
   {
    "duration": 60,
    "start_time": "2021-06-28T12:44:39.764Z"
   },
   {
    "duration": 11,
    "start_time": "2021-06-28T12:44:59.212Z"
   },
   {
    "duration": 49,
    "start_time": "2021-06-28T14:16:41.696Z"
   },
   {
    "duration": 1541,
    "start_time": "2021-06-28T14:16:48.445Z"
   },
   {
    "duration": 1169,
    "start_time": "2021-06-28T14:19:49.968Z"
   },
   {
    "duration": 1786,
    "start_time": "2021-06-28T14:20:40.389Z"
   },
   {
    "duration": 1614,
    "start_time": "2021-06-28T14:21:30.724Z"
   },
   {
    "duration": 1580,
    "start_time": "2021-06-28T14:22:21.866Z"
   },
   {
    "duration": 1648,
    "start_time": "2021-06-28T14:22:32.556Z"
   },
   {
    "duration": 2149,
    "start_time": "2021-06-28T14:22:45.211Z"
   },
   {
    "duration": 4,
    "start_time": "2021-06-28T14:28:34.889Z"
   },
   {
    "duration": 63,
    "start_time": "2021-06-28T14:30:07.926Z"
   },
   {
    "duration": 5,
    "start_time": "2021-06-28T14:32:27.310Z"
   },
   {
    "duration": 8,
    "start_time": "2021-06-28T14:32:46.256Z"
   },
   {
    "duration": 301,
    "start_time": "2021-06-28T14:38:23.296Z"
   },
   {
    "duration": 297,
    "start_time": "2021-06-28T14:38:59.197Z"
   },
   {
    "duration": 428,
    "start_time": "2021-06-28T14:39:15.169Z"
   },
   {
    "duration": 286,
    "start_time": "2021-06-28T14:39:21.401Z"
   },
   {
    "duration": 20,
    "start_time": "2021-06-28T14:39:27.420Z"
   },
   {
    "duration": 193,
    "start_time": "2021-06-28T14:39:43.641Z"
   },
   {
    "duration": 227,
    "start_time": "2021-06-28T14:39:50.973Z"
   },
   {
    "duration": 212,
    "start_time": "2021-06-28T14:42:32.578Z"
   },
   {
    "duration": 98,
    "start_time": "2021-06-28T14:43:23.072Z"
   },
   {
    "duration": 683,
    "start_time": "2021-06-28T14:43:32.564Z"
   },
   {
    "duration": 408,
    "start_time": "2021-06-28T14:43:45.621Z"
   },
   {
    "duration": 462,
    "start_time": "2021-06-28T14:43:52.967Z"
   },
   {
    "duration": 449,
    "start_time": "2021-06-28T14:44:01.591Z"
   },
   {
    "duration": 6,
    "start_time": "2021-06-28T14:59:31.535Z"
   },
   {
    "duration": 5,
    "start_time": "2021-06-28T14:59:42.854Z"
   },
   {
    "duration": 1276,
    "start_time": "2021-06-28T15:07:28.257Z"
   },
   {
    "duration": 348,
    "start_time": "2021-06-28T15:07:35.329Z"
   },
   {
    "duration": 60,
    "start_time": "2021-06-28T15:09:21.725Z"
   },
   {
    "duration": 1847,
    "start_time": "2021-06-28T15:09:26.930Z"
   },
   {
    "duration": 1255,
    "start_time": "2021-06-28T15:10:31.271Z"
   },
   {
    "duration": 1768,
    "start_time": "2021-06-28T15:10:36.648Z"
   },
   {
    "duration": 1901,
    "start_time": "2021-06-28T15:10:44.502Z"
   },
   {
    "duration": 2108,
    "start_time": "2021-06-28T15:10:53.990Z"
   },
   {
    "duration": 80,
    "start_time": "2021-06-28T15:12:44.614Z"
   },
   {
    "duration": 1622,
    "start_time": "2021-06-28T15:29:55.174Z"
   },
   {
    "duration": 1751,
    "start_time": "2021-06-28T15:32:56.338Z"
   },
   {
    "duration": 304,
    "start_time": "2021-06-28T16:07:58.883Z"
   },
   {
    "duration": 64,
    "start_time": "2021-06-28T16:08:35.017Z"
   },
   {
    "duration": 312,
    "start_time": "2021-06-28T16:35:18.384Z"
   },
   {
    "duration": 35,
    "start_time": "2021-06-28T16:35:42.024Z"
   },
   {
    "duration": 65,
    "start_time": "2021-06-28T16:40:01.444Z"
   },
   {
    "duration": 130,
    "start_time": "2021-06-28T16:40:18.591Z"
   },
   {
    "duration": 132,
    "start_time": "2021-06-28T16:40:46.010Z"
   },
   {
    "duration": 5,
    "start_time": "2021-06-28T16:46:03.231Z"
   },
   {
    "duration": 6,
    "start_time": "2021-06-28T16:46:32.462Z"
   },
   {
    "duration": 12,
    "start_time": "2021-06-28T17:45:00.583Z"
   },
   {
    "duration": 1541,
    "start_time": "2021-06-28T17:45:10.160Z"
   },
   {
    "duration": 1729,
    "start_time": "2021-06-28T18:16:53.460Z"
   },
   {
    "duration": 1690,
    "start_time": "2021-06-28T18:17:12.444Z"
   },
   {
    "duration": 69,
    "start_time": "2021-06-28T18:32:54.109Z"
   },
   {
    "duration": 322,
    "start_time": "2021-06-28T18:40:44.376Z"
   },
   {
    "duration": 78,
    "start_time": "2021-06-28T18:41:06.648Z"
   },
   {
    "duration": 309,
    "start_time": "2021-06-28T18:41:12.224Z"
   },
   {
    "duration": 60,
    "start_time": "2021-06-28T18:41:24.128Z"
   },
   {
    "duration": 81,
    "start_time": "2021-06-28T18:42:17.225Z"
   },
   {
    "duration": 142,
    "start_time": "2021-06-28T18:42:52.255Z"
   },
   {
    "duration": 281,
    "start_time": "2021-06-28T19:53:04.689Z"
   },
   {
    "duration": 279,
    "start_time": "2021-06-28T19:53:17.246Z"
   },
   {
    "duration": 320,
    "start_time": "2021-06-28T20:03:34.223Z"
   },
   {
    "duration": 281,
    "start_time": "2021-06-28T20:04:28.913Z"
   },
   {
    "duration": 445,
    "start_time": "2021-06-28T20:11:01.483Z"
   },
   {
    "duration": 19,
    "start_time": "2021-06-28T20:11:27.566Z"
   },
   {
    "duration": 461,
    "start_time": "2021-06-28T20:11:42.601Z"
   },
   {
    "duration": 284,
    "start_time": "2021-06-28T20:12:46.991Z"
   },
   {
    "duration": 322,
    "start_time": "2021-06-28T20:13:02.309Z"
   },
   {
    "duration": 825,
    "start_time": "2021-06-28T20:14:10.320Z"
   },
   {
    "duration": 11,
    "start_time": "2021-06-28T20:29:45.716Z"
   },
   {
    "duration": 7,
    "start_time": "2021-06-28T20:30:01.967Z"
   },
   {
    "duration": 6,
    "start_time": "2021-06-28T21:00:09.121Z"
   },
   {
    "duration": 6,
    "start_time": "2021-06-28T21:01:07.012Z"
   },
   {
    "duration": 11,
    "start_time": "2021-06-28T21:01:52.583Z"
   },
   {
    "duration": 111,
    "start_time": "2021-06-28T21:02:17.961Z"
   },
   {
    "duration": 6498,
    "start_time": "2021-06-28T21:02:22.097Z"
   },
   {
    "duration": 94,
    "start_time": "2021-06-28T21:03:48.131Z"
   },
   {
    "duration": 6,
    "start_time": "2021-06-28T21:05:13.104Z"
   },
   {
    "duration": 6,
    "start_time": "2021-06-28T21:05:17.335Z"
   },
   {
    "duration": 14,
    "start_time": "2021-06-28T21:10:58.934Z"
   },
   {
    "duration": 24,
    "start_time": "2021-06-28T21:11:50.350Z"
   },
   {
    "duration": 8,
    "start_time": "2021-06-28T21:12:43.017Z"
   },
   {
    "duration": 28,
    "start_time": "2021-06-28T21:13:35.746Z"
   },
   {
    "duration": 319,
    "start_time": "2021-06-28T21:19:15.068Z"
   },
   {
    "duration": 33,
    "start_time": "2021-06-28T21:19:22.383Z"
   },
   {
    "duration": 24,
    "start_time": "2021-06-28T21:19:38.262Z"
   },
   {
    "duration": 14,
    "start_time": "2021-06-28T21:19:50.347Z"
   },
   {
    "duration": 311,
    "start_time": "2021-06-28T21:20:50.960Z"
   },
   {
    "duration": 262,
    "start_time": "2021-06-28T21:22:39.179Z"
   },
   {
    "duration": 1226,
    "start_time": "2021-06-28T21:22:57.165Z"
   },
   {
    "duration": 292,
    "start_time": "2021-06-28T21:23:05.429Z"
   },
   {
    "duration": 15,
    "start_time": "2021-06-28T21:58:56.192Z"
   },
   {
    "duration": 581,
    "start_time": "2021-06-28T22:09:41.072Z"
   },
   {
    "duration": 453,
    "start_time": "2021-06-28T22:13:50.515Z"
   },
   {
    "duration": 385,
    "start_time": "2021-06-28T22:14:29.218Z"
   },
   {
    "duration": 419,
    "start_time": "2021-06-28T22:14:53.473Z"
   },
   {
    "duration": 310,
    "start_time": "2021-06-28T22:15:02.420Z"
   },
   {
    "duration": 12,
    "start_time": "2021-06-28T22:15:48.614Z"
   },
   {
    "duration": 8,
    "start_time": "2021-06-29T06:43:55.964Z"
   },
   {
    "duration": 2090,
    "start_time": "2021-06-29T09:07:03.427Z"
   },
   {
    "duration": 40,
    "start_time": "2021-06-29T09:07:14.267Z"
   },
   {
    "duration": 166,
    "start_time": "2021-06-29T09:07:29.748Z"
   },
   {
    "duration": 46,
    "start_time": "2021-06-29T09:24:06.260Z"
   },
   {
    "duration": 39,
    "start_time": "2021-06-29T09:24:21.514Z"
   },
   {
    "duration": 171,
    "start_time": "2021-06-29T09:56:30.239Z"
   },
   {
    "duration": 487,
    "start_time": "2021-06-29T09:56:38.610Z"
   },
   {
    "duration": 438,
    "start_time": "2021-06-29T09:56:49.845Z"
   },
   {
    "duration": 419,
    "start_time": "2021-06-29T10:00:19.515Z"
   },
   {
    "duration": 474,
    "start_time": "2021-06-29T10:00:42.250Z"
   },
   {
    "duration": 490,
    "start_time": "2021-06-29T10:01:09.598Z"
   },
   {
    "duration": 457,
    "start_time": "2021-06-29T10:01:14.840Z"
   },
   {
    "duration": 447,
    "start_time": "2021-06-29T10:01:24.005Z"
   },
   {
    "duration": 424,
    "start_time": "2021-06-29T10:01:59.471Z"
   },
   {
    "duration": 250,
    "start_time": "2021-06-29T10:04:53.323Z"
   },
   {
    "duration": 594,
    "start_time": "2021-06-29T10:04:58.448Z"
   },
   {
    "duration": 489,
    "start_time": "2021-06-29T10:05:04.859Z"
   },
   {
    "duration": 1048,
    "start_time": "2021-06-29T10:06:06.682Z"
   },
   {
    "duration": 541,
    "start_time": "2021-06-29T10:07:12.550Z"
   },
   {
    "duration": 903,
    "start_time": "2021-06-29T10:07:30.327Z"
   },
   {
    "duration": 586,
    "start_time": "2021-06-29T10:07:44.976Z"
   },
   {
    "duration": 7,
    "start_time": "2021-06-29T10:08:47.728Z"
   },
   {
    "duration": 817,
    "start_time": "2021-06-29T10:10:32.104Z"
   },
   {
    "duration": 694,
    "start_time": "2021-06-29T10:11:03.611Z"
   },
   {
    "duration": 496,
    "start_time": "2021-06-29T10:11:15.111Z"
   },
   {
    "duration": 884,
    "start_time": "2021-06-29T10:12:18.320Z"
   },
   {
    "duration": 863,
    "start_time": "2021-06-29T10:13:52.477Z"
   },
   {
    "duration": 97,
    "start_time": "2021-06-29T10:34:26.766Z"
   },
   {
    "duration": 83,
    "start_time": "2021-06-29T10:34:33.886Z"
   },
   {
    "duration": 1503,
    "start_time": "2021-06-29T14:58:08.504Z"
   },
   {
    "duration": 1946,
    "start_time": "2021-06-29T14:58:14.014Z"
   },
   {
    "duration": 216,
    "start_time": "2021-06-29T15:01:35.130Z"
   },
   {
    "duration": 747,
    "start_time": "2021-06-29T15:01:47.554Z"
   },
   {
    "duration": 46,
    "start_time": "2021-06-29T15:02:17.730Z"
   },
   {
    "duration": 274,
    "start_time": "2021-06-29T15:02:25.281Z"
   },
   {
    "duration": 157,
    "start_time": "2021-06-29T15:02:34.736Z"
   },
   {
    "duration": 55,
    "start_time": "2021-06-29T15:02:42.476Z"
   },
   {
    "duration": 322,
    "start_time": "2021-06-29T16:39:19.646Z"
   },
   {
    "duration": 76,
    "start_time": "2021-06-29T16:39:58.579Z"
   },
   {
    "duration": 242,
    "start_time": "2021-06-29T16:40:10.646Z"
   },
   {
    "duration": 277,
    "start_time": "2021-06-29T16:44:28.948Z"
   },
   {
    "duration": 233,
    "start_time": "2021-06-29T16:44:54.418Z"
   },
   {
    "duration": 52,
    "start_time": "2021-06-29T16:49:08.177Z"
   },
   {
    "duration": 223,
    "start_time": "2021-06-29T16:49:10.654Z"
   },
   {
    "duration": 52,
    "start_time": "2021-06-29T16:49:17.793Z"
   },
   {
    "duration": 301,
    "start_time": "2021-06-29T17:13:00.085Z"
   },
   {
    "duration": 4685,
    "start_time": "2021-06-29T17:14:07.639Z"
   },
   {
    "duration": 177,
    "start_time": "2021-06-29T17:14:32.152Z"
   },
   {
    "duration": 54,
    "start_time": "2021-06-29T17:14:40.257Z"
   },
   {
    "duration": 58,
    "start_time": "2021-06-29T17:14:50.987Z"
   },
   {
    "duration": 261,
    "start_time": "2021-06-29T17:14:56.755Z"
   },
   {
    "duration": 7,
    "start_time": "2021-06-29T17:23:16.852Z"
   },
   {
    "duration": 6,
    "start_time": "2021-06-29T17:48:59.301Z"
   },
   {
    "duration": 6,
    "start_time": "2021-06-29T17:49:12.702Z"
   },
   {
    "duration": 5,
    "start_time": "2021-06-29T17:49:35.881Z"
   },
   {
    "duration": 5,
    "start_time": "2021-06-29T17:50:17.774Z"
   },
   {
    "duration": 7,
    "start_time": "2021-06-29T19:42:43.704Z"
   },
   {
    "duration": 9,
    "start_time": "2021-06-29T19:43:28.193Z"
   },
   {
    "duration": 1414,
    "start_time": "2021-06-29T19:44:17.348Z"
   },
   {
    "duration": 7,
    "start_time": "2021-06-29T19:45:29.535Z"
   },
   {
    "duration": 2213,
    "start_time": "2021-06-29T19:45:30.825Z"
   },
   {
    "duration": 9,
    "start_time": "2021-06-29T19:49:08.289Z"
   },
   {
    "duration": 2307,
    "start_time": "2021-06-29T19:49:12.223Z"
   },
   {
    "duration": 2202,
    "start_time": "2021-06-29T19:50:07.637Z"
   },
   {
    "duration": 1314,
    "start_time": "2021-06-29T19:51:36.320Z"
   },
   {
    "duration": 2187,
    "start_time": "2021-06-29T19:52:12.974Z"
   },
   {
    "duration": 7,
    "start_time": "2021-06-29T19:52:59.668Z"
   },
   {
    "duration": 2622,
    "start_time": "2021-06-29T19:53:01.565Z"
   },
   {
    "duration": 3352,
    "start_time": "2021-06-29T19:54:03.502Z"
   },
   {
    "duration": 2820,
    "start_time": "2021-06-29T20:09:40.046Z"
   },
   {
    "duration": 59,
    "start_time": "2021-06-29T21:54:03.535Z"
   },
   {
    "duration": 57,
    "start_time": "2021-06-29T21:54:10.227Z"
   },
   {
    "duration": 73,
    "start_time": "2021-06-29T21:54:43.013Z"
   },
   {
    "duration": 104,
    "start_time": "2021-06-29T21:55:20.953Z"
   },
   {
    "duration": 6,
    "start_time": "2021-06-29T21:55:33.084Z"
   },
   {
    "duration": 362,
    "start_time": "2021-06-29T21:55:38.202Z"
   },
   {
    "duration": 57,
    "start_time": "2021-06-29T21:56:17.305Z"
   },
   {
    "duration": 53,
    "start_time": "2021-06-29T22:01:16.171Z"
   },
   {
    "duration": 153,
    "start_time": "2021-06-29T22:01:26.395Z"
   },
   {
    "duration": 58,
    "start_time": "2021-06-29T22:02:21.587Z"
   },
   {
    "duration": 65,
    "start_time": "2021-06-29T22:04:50.367Z"
   },
   {
    "duration": 346,
    "start_time": "2021-06-29T22:06:01.295Z"
   },
   {
    "duration": 345,
    "start_time": "2021-06-29T22:06:08.407Z"
   },
   {
    "duration": 102,
    "start_time": "2021-06-29T22:06:18.877Z"
   },
   {
    "duration": 51,
    "start_time": "2021-06-29T22:06:27.864Z"
   },
   {
    "duration": 65,
    "start_time": "2021-06-29T22:06:32.519Z"
   },
   {
    "duration": 327,
    "start_time": "2021-06-29T22:08:42.529Z"
   },
   {
    "duration": 69,
    "start_time": "2021-06-29T22:08:46.656Z"
   },
   {
    "duration": 137,
    "start_time": "2021-06-29T22:10:45.097Z"
   },
   {
    "duration": 72,
    "start_time": "2021-06-29T22:10:49.982Z"
   },
   {
    "duration": 6,
    "start_time": "2021-06-29T22:11:06.977Z"
   },
   {
    "duration": 6,
    "start_time": "2021-06-29T22:12:25.850Z"
   },
   {
    "duration": 5,
    "start_time": "2021-06-29T22:14:22.589Z"
   },
   {
    "duration": 10,
    "start_time": "2021-06-29T22:14:31.392Z"
   },
   {
    "duration": 6,
    "start_time": "2021-06-29T22:18:01.989Z"
   },
   {
    "duration": 16,
    "start_time": "2021-06-29T22:18:03.333Z"
   },
   {
    "duration": 70,
    "start_time": "2021-06-29T22:24:24.240Z"
   },
   {
    "duration": 72,
    "start_time": "2021-06-29T22:26:57.025Z"
   },
   {
    "duration": 78,
    "start_time": "2021-06-29T22:28:57.082Z"
   },
   {
    "duration": 77,
    "start_time": "2021-06-29T22:30:53.734Z"
   },
   {
    "duration": 83,
    "start_time": "2021-06-29T22:52:12.769Z"
   },
   {
    "duration": 8,
    "start_time": "2021-06-29T22:52:29.074Z"
   },
   {
    "duration": 99,
    "start_time": "2021-06-29T22:52:49.611Z"
   },
   {
    "duration": 100,
    "start_time": "2021-06-29T22:53:24.671Z"
   },
   {
    "duration": 110,
    "start_time": "2021-06-29T22:53:30.921Z"
   },
   {
    "duration": 12,
    "start_time": "2021-06-29T23:45:55.334Z"
   },
   {
    "duration": 300,
    "start_time": "2021-06-30T00:08:46.466Z"
   },
   {
    "duration": 996,
    "start_time": "2021-06-30T00:10:16.732Z"
   },
   {
    "duration": 1241,
    "start_time": "2021-06-30T00:10:54.329Z"
   },
   {
    "duration": 5,
    "start_time": "2021-06-30T00:11:19.617Z"
   },
   {
    "duration": 552,
    "start_time": "2021-06-30T00:11:36.673Z"
   },
   {
    "duration": 871,
    "start_time": "2021-06-30T00:12:54.831Z"
   },
   {
    "duration": 56,
    "start_time": "2021-06-30T00:14:06.341Z"
   },
   {
    "duration": 110,
    "start_time": "2021-06-30T00:14:41.524Z"
   },
   {
    "duration": 54,
    "start_time": "2021-06-30T00:14:46.766Z"
   },
   {
    "duration": 6,
    "start_time": "2021-06-30T00:15:55.412Z"
   },
   {
    "duration": 207,
    "start_time": "2021-06-30T00:16:59.555Z"
   },
   {
    "duration": 915,
    "start_time": "2021-06-30T00:21:21.832Z"
   },
   {
    "duration": 940,
    "start_time": "2021-06-30T00:21:33.918Z"
   },
   {
    "duration": 6,
    "start_time": "2021-06-30T00:32:59.948Z"
   },
   {
    "duration": 13,
    "start_time": "2021-06-30T00:33:25.656Z"
   },
   {
    "duration": 13,
    "start_time": "2021-06-30T00:35:27.051Z"
   },
   {
    "duration": 1540,
    "start_time": "2021-06-30T07:19:30.064Z"
   },
   {
    "duration": 1962,
    "start_time": "2021-06-30T07:19:34.906Z"
   },
   {
    "duration": 53,
    "start_time": "2021-06-30T07:19:41.839Z"
   },
   {
    "duration": 257,
    "start_time": "2021-06-30T07:19:44.909Z"
   },
   {
    "duration": 13,
    "start_time": "2021-06-30T07:19:51.476Z"
   },
   {
    "duration": 161,
    "start_time": "2021-06-30T07:19:54.602Z"
   },
   {
    "duration": 41,
    "start_time": "2021-06-30T07:19:58.178Z"
   },
   {
    "duration": 200,
    "start_time": "2021-06-30T07:20:01.642Z"
   },
   {
    "duration": 1125,
    "start_time": "2021-06-30T07:20:06.046Z"
   },
   {
    "duration": 433,
    "start_time": "2021-06-30T07:20:18.824Z"
   },
   {
    "duration": 121,
    "start_time": "2021-06-30T07:20:28.695Z"
   },
   {
    "duration": 1702,
    "start_time": "2021-06-30T07:20:32.928Z"
   },
   {
    "duration": 58,
    "start_time": "2021-06-30T07:20:41.123Z"
   },
   {
    "duration": 84,
    "start_time": "2021-06-30T07:20:45.144Z"
   },
   {
    "duration": 247,
    "start_time": "2021-06-30T07:20:48.652Z"
   },
   {
    "duration": 52,
    "start_time": "2021-06-30T07:21:01.626Z"
   },
   {
    "duration": 1556,
    "start_time": "2021-06-30T07:21:13.567Z"
   },
   {
    "duration": 1290,
    "start_time": "2021-06-30T07:21:18.736Z"
   },
   {
    "duration": 1530,
    "start_time": "2021-06-30T07:21:24.883Z"
   },
   {
    "duration": 1546,
    "start_time": "2021-06-30T07:21:43.487Z"
   },
   {
    "duration": 99,
    "start_time": "2021-06-30T07:21:52.023Z"
   },
   {
    "duration": 256,
    "start_time": "2021-06-30T07:22:00.903Z"
   },
   {
    "duration": 721,
    "start_time": "2021-06-30T07:22:05.176Z"
   },
   {
    "duration": 80,
    "start_time": "2021-06-30T07:22:11.222Z"
   },
   {
    "duration": 900,
    "start_time": "2021-06-30T07:22:19.846Z"
   },
   {
    "duration": 493,
    "start_time": "2021-06-30T07:22:25.622Z"
   },
   {
    "duration": 245,
    "start_time": "2021-06-30T07:22:35.994Z"
   },
   {
    "duration": 14,
    "start_time": "2021-06-30T07:22:46.906Z"
   },
   {
    "duration": 14,
    "start_time": "2021-06-30T07:22:48.205Z"
   },
   {
    "duration": 6,
    "start_time": "2021-06-30T07:28:54.690Z"
   },
   {
    "duration": 6,
    "start_time": "2021-06-30T09:14:17.933Z"
   },
   {
    "duration": 14,
    "start_time": "2021-06-30T09:14:43.192Z"
   },
   {
    "duration": 5,
    "start_time": "2021-06-30T13:16:42.675Z"
   },
   {
    "duration": 1455,
    "start_time": "2021-06-30T13:33:52.330Z"
   },
   {
    "duration": 2022,
    "start_time": "2021-06-30T13:33:53.788Z"
   },
   {
    "duration": 53,
    "start_time": "2021-06-30T13:33:55.813Z"
   },
   {
    "duration": 279,
    "start_time": "2021-06-30T13:33:55.886Z"
   },
   {
    "duration": 21,
    "start_time": "2021-06-30T13:33:56.168Z"
   },
   {
    "duration": 197,
    "start_time": "2021-06-30T13:33:56.191Z"
   },
   {
    "duration": 43,
    "start_time": "2021-06-30T13:33:56.391Z"
   },
   {
    "duration": 228,
    "start_time": "2021-06-30T13:33:56.436Z"
   },
   {
    "duration": 117,
    "start_time": "2021-06-30T13:33:56.668Z"
   },
   {
    "duration": 1719,
    "start_time": "2021-06-30T13:33:56.788Z"
   },
   {
    "duration": 80,
    "start_time": "2021-06-30T13:33:58.510Z"
   },
   {
    "duration": 102,
    "start_time": "2021-06-30T13:33:58.593Z"
   },
   {
    "duration": 55,
    "start_time": "2021-06-30T13:33:58.697Z"
   },
   {
    "duration": 353,
    "start_time": "2021-06-30T13:33:58.754Z"
   },
   {
    "duration": 52,
    "start_time": "2021-06-30T13:33:59.110Z"
   },
   {
    "duration": 1563,
    "start_time": "2021-06-30T13:33:59.165Z"
   },
   {
    "duration": 1388,
    "start_time": "2021-06-30T13:34:00.730Z"
   },
   {
    "duration": 1584,
    "start_time": "2021-06-30T13:34:02.121Z"
   },
   {
    "duration": 1561,
    "start_time": "2021-06-30T13:34:03.708Z"
   },
   {
    "duration": 113,
    "start_time": "2021-06-30T13:34:05.272Z"
   },
   {
    "duration": 445,
    "start_time": "2021-06-30T13:34:05.388Z"
   },
   {
    "duration": -11,
    "start_time": "2021-06-30T13:34:05.846Z"
   },
   {
    "duration": -12,
    "start_time": "2021-06-30T13:34:05.849Z"
   },
   {
    "duration": -14,
    "start_time": "2021-06-30T13:34:05.852Z"
   },
   {
    "duration": -15,
    "start_time": "2021-06-30T13:34:05.855Z"
   },
   {
    "duration": -16,
    "start_time": "2021-06-30T13:34:05.857Z"
   },
   {
    "duration": 1610,
    "start_time": "2021-06-30T13:48:33.365Z"
   },
   {
    "duration": 1968,
    "start_time": "2021-06-30T13:48:34.977Z"
   },
   {
    "duration": 74,
    "start_time": "2021-06-30T13:48:36.947Z"
   },
   {
    "duration": 283,
    "start_time": "2021-06-30T13:48:37.024Z"
   },
   {
    "duration": 14,
    "start_time": "2021-06-30T13:48:37.309Z"
   },
   {
    "duration": 203,
    "start_time": "2021-06-30T13:48:37.326Z"
   },
   {
    "duration": 65,
    "start_time": "2021-06-30T13:48:37.531Z"
   },
   {
    "duration": 220,
    "start_time": "2021-06-30T13:48:37.600Z"
   },
   {
    "duration": 119,
    "start_time": "2021-06-30T13:48:37.823Z"
   },
   {
    "duration": 1767,
    "start_time": "2021-06-30T13:48:37.944Z"
   },
   {
    "duration": 77,
    "start_time": "2021-06-30T13:48:39.714Z"
   },
   {
    "duration": 104,
    "start_time": "2021-06-30T13:48:39.794Z"
   },
   {
    "duration": 56,
    "start_time": "2021-06-30T13:48:39.901Z"
   },
   {
    "duration": 287,
    "start_time": "2021-06-30T13:48:39.960Z"
   },
   {
    "duration": 73,
    "start_time": "2021-06-30T13:48:40.250Z"
   },
   {
    "duration": 1559,
    "start_time": "2021-06-30T13:48:40.326Z"
   },
   {
    "duration": 1300,
    "start_time": "2021-06-30T13:48:41.888Z"
   },
   {
    "duration": 1585,
    "start_time": "2021-06-30T13:48:43.191Z"
   },
   {
    "duration": 1605,
    "start_time": "2021-06-30T13:48:44.780Z"
   },
   {
    "duration": 118,
    "start_time": "2021-06-30T13:48:46.388Z"
   },
   {
    "duration": 308,
    "start_time": "2021-06-30T13:48:46.510Z"
   },
   {
    "duration": 730,
    "start_time": "2021-06-30T13:48:46.820Z"
   },
   {
    "duration": 104,
    "start_time": "2021-06-30T13:48:47.556Z"
   },
   {
    "duration": 975,
    "start_time": "2021-06-30T13:48:47.664Z"
   },
   {
    "duration": 263,
    "start_time": "2021-06-30T13:48:48.642Z"
   },
   {
    "duration": 1486,
    "start_time": "2021-06-30T15:32:51.581Z"
   },
   {
    "duration": 933,
    "start_time": "2021-06-30T15:32:53.070Z"
   },
   {
    "duration": 60,
    "start_time": "2021-06-30T15:32:54.007Z"
   },
   {
    "duration": 323,
    "start_time": "2021-06-30T15:32:54.086Z"
   },
   {
    "duration": 22,
    "start_time": "2021-06-30T15:32:54.413Z"
   },
   {
    "duration": 208,
    "start_time": "2021-06-30T15:32:54.438Z"
   },
   {
    "duration": 58,
    "start_time": "2021-06-30T15:32:54.648Z"
   },
   {
    "duration": 220,
    "start_time": "2021-06-30T15:32:54.710Z"
   },
   {
    "duration": 137,
    "start_time": "2021-06-30T15:32:54.934Z"
   },
   {
    "duration": 1682,
    "start_time": "2021-06-30T15:32:55.075Z"
   },
   {
    "duration": 71,
    "start_time": "2021-06-30T15:32:56.760Z"
   },
   {
    "duration": 111,
    "start_time": "2021-06-30T15:32:56.833Z"
   },
   {
    "duration": 65,
    "start_time": "2021-06-30T15:32:56.947Z"
   },
   {
    "duration": 257,
    "start_time": "2021-06-30T15:32:57.015Z"
   },
   {
    "duration": 48,
    "start_time": "2021-06-30T15:32:57.285Z"
   },
   {
    "duration": 1634,
    "start_time": "2021-06-30T15:32:57.336Z"
   },
   {
    "duration": 1259,
    "start_time": "2021-06-30T15:32:58.972Z"
   },
   {
    "duration": 1554,
    "start_time": "2021-06-30T15:33:00.233Z"
   },
   {
    "duration": 1554,
    "start_time": "2021-06-30T15:33:01.790Z"
   },
   {
    "duration": 111,
    "start_time": "2021-06-30T15:33:03.346Z"
   },
   {
    "duration": 279,
    "start_time": "2021-06-30T15:33:03.460Z"
   },
   {
    "duration": 814,
    "start_time": "2021-06-30T15:33:03.741Z"
   },
   {
    "duration": 94,
    "start_time": "2021-06-30T15:33:04.558Z"
   },
   {
    "duration": 972,
    "start_time": "2021-06-30T15:33:04.655Z"
   },
   {
    "duration": 238,
    "start_time": "2021-06-30T15:33:05.630Z"
   }
  ],
  "kernelspec": {
   "display_name": "Python 3",
   "language": "python",
   "name": "python3"
  },
  "language_info": {
   "codemirror_mode": {
    "name": "ipython",
    "version": 3
   },
   "file_extension": ".py",
   "mimetype": "text/x-python",
   "name": "python",
   "nbconvert_exporter": "python",
   "pygments_lexer": "ipython3",
   "version": "3.7.8"
  },
  "toc": {
   "base_numbering": 1,
   "nav_menu": {},
   "number_sections": true,
   "sideBar": true,
   "skip_h1_title": true,
   "title_cell": "Table of Contents",
   "title_sidebar": "Contents",
   "toc_cell": false,
   "toc_position": {},
   "toc_section_display": true,
   "toc_window_display": false
  }
 },
 "nbformat": 4,
 "nbformat_minor": 2
}
