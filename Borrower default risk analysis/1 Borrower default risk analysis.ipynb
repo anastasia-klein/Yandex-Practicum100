{
 "cells": [
  {
   "cell_type": "markdown",
   "metadata": {},
   "source": [
    "# Analyzing borrowers’ risk of defaulting"
   ]
  },
  {
   "cell_type": "markdown",
   "metadata": {},
   "source": [
    "There are bank data on customers’ credit worthiness.\n",
    "\n",
    "The purpose of the study: find out if a customer’s marital status and number of children has an impact on whether they will default on a loan.\n",
    "\n",
    "The Work Plan:\n",
    "\n",
    "<a href='#section1'>1. Getting the data and study the general information</a>\n",
    "\n",
    "<a href='#section2'>2. Data preprocessing</a>\n",
    "* <a href='#section2.1'>2.1 Processing missing values\n",
    "* <a href='#section2.2'>2.2 Data type replacement\n",
    "* <a href='#section2.2'>2.3 Processing duplicates\n",
    "\n",
    "<a href='#section3'>3. Categorizing data</a>\n",
    "\n",
    "<a href='#section4'>4. Study of the impact of the investigated features on debt repayment</a>\n",
    "\n",
    "<a href='#section5'>5. Overall Conclusion</a>"
   ]
  },
  {
   "cell_type": "markdown",
   "metadata": {},
   "source": [
    "## 1. Getting the data and study the general information. \n",
    "<a id='section1'></a>"
   ]
  },
  {
   "cell_type": "code",
   "execution_count": 1,
   "metadata": {},
   "outputs": [
    {
     "name": "stdout",
     "output_type": "stream",
     "text": [
      "<class 'pandas.core.frame.DataFrame'>\n",
      "RangeIndex: 21525 entries, 0 to 21524\n",
      "Data columns (total 12 columns):\n",
      "children            21525 non-null int64\n",
      "days_employed       19351 non-null float64\n",
      "dob_years           21525 non-null int64\n",
      "education           21525 non-null object\n",
      "education_id        21525 non-null int64\n",
      "family_status       21525 non-null object\n",
      "family_status_id    21525 non-null int64\n",
      "gender              21525 non-null object\n",
      "income_type         21525 non-null object\n",
      "debt                21525 non-null int64\n",
      "total_income        19351 non-null float64\n",
      "purpose             21525 non-null object\n",
      "dtypes: float64(2), int64(5), object(5)\n",
      "memory usage: 2.0+ MB\n"
     ]
    }
   ],
   "source": [
    "#reading a file that contains credit scoring by customers \n",
    "import pandas as pd\n",
    "credit_scores_data = pd.read_csv('/datasets/credit_scoring_eng.csv')\n",
    "\n",
    "#looking at the data's general information. \n",
    "credit_scores_data.info()"
   ]
  },
  {
   "cell_type": "markdown",
   "metadata": {},
   "source": [
    "_The table contains __21525 rows__ for __12 features__._ \n",
    "\n",
    "*There are __missing values__ in the columns of `'days_employed'` and `'total_income'`. The number of missing values is the same, most likely both gaps in the same line. In addition, the `'days_employed'` column is of type __float__, although from the description it's expected that the values should be __integers__.* \n",
    "\n",
    "*For the columns `'dob_years'`(age), `'children'`, `'education_id'` and `'family_status_id'` __int64__ is used. This seems excessive and would be enough __int8__ (the values should most likely fit into the interval -128 127)*"
   ]
  },
  {
   "cell_type": "code",
   "execution_count": 2,
   "metadata": {},
   "outputs": [
    {
     "data": {
      "text/html": [
       "<div>\n",
       "<style scoped>\n",
       "    .dataframe tbody tr th:only-of-type {\n",
       "        vertical-align: middle;\n",
       "    }\n",
       "\n",
       "    .dataframe tbody tr th {\n",
       "        vertical-align: top;\n",
       "    }\n",
       "\n",
       "    .dataframe thead th {\n",
       "        text-align: right;\n",
       "    }\n",
       "</style>\n",
       "<table border=\"1\" class=\"dataframe\">\n",
       "  <thead>\n",
       "    <tr style=\"text-align: right;\">\n",
       "      <th></th>\n",
       "      <th>children</th>\n",
       "      <th>days_employed</th>\n",
       "      <th>dob_years</th>\n",
       "      <th>education</th>\n",
       "      <th>education_id</th>\n",
       "      <th>family_status</th>\n",
       "      <th>family_status_id</th>\n",
       "      <th>gender</th>\n",
       "      <th>income_type</th>\n",
       "      <th>debt</th>\n",
       "      <th>total_income</th>\n",
       "      <th>purpose</th>\n",
       "    </tr>\n",
       "  </thead>\n",
       "  <tbody>\n",
       "    <tr>\n",
       "      <td>0</td>\n",
       "      <td>1</td>\n",
       "      <td>-8437.673028</td>\n",
       "      <td>42</td>\n",
       "      <td>bachelor's degree</td>\n",
       "      <td>0</td>\n",
       "      <td>married</td>\n",
       "      <td>0</td>\n",
       "      <td>F</td>\n",
       "      <td>employee</td>\n",
       "      <td>0</td>\n",
       "      <td>40620.102</td>\n",
       "      <td>purchase of the house</td>\n",
       "    </tr>\n",
       "    <tr>\n",
       "      <td>1</td>\n",
       "      <td>1</td>\n",
       "      <td>-4024.803754</td>\n",
       "      <td>36</td>\n",
       "      <td>secondary education</td>\n",
       "      <td>1</td>\n",
       "      <td>married</td>\n",
       "      <td>0</td>\n",
       "      <td>F</td>\n",
       "      <td>employee</td>\n",
       "      <td>0</td>\n",
       "      <td>17932.802</td>\n",
       "      <td>car purchase</td>\n",
       "    </tr>\n",
       "    <tr>\n",
       "      <td>2</td>\n",
       "      <td>0</td>\n",
       "      <td>-5623.422610</td>\n",
       "      <td>33</td>\n",
       "      <td>Secondary Education</td>\n",
       "      <td>1</td>\n",
       "      <td>married</td>\n",
       "      <td>0</td>\n",
       "      <td>M</td>\n",
       "      <td>employee</td>\n",
       "      <td>0</td>\n",
       "      <td>23341.752</td>\n",
       "      <td>purchase of the house</td>\n",
       "    </tr>\n",
       "    <tr>\n",
       "      <td>3</td>\n",
       "      <td>3</td>\n",
       "      <td>-4124.747207</td>\n",
       "      <td>32</td>\n",
       "      <td>secondary education</td>\n",
       "      <td>1</td>\n",
       "      <td>married</td>\n",
       "      <td>0</td>\n",
       "      <td>M</td>\n",
       "      <td>employee</td>\n",
       "      <td>0</td>\n",
       "      <td>42820.568</td>\n",
       "      <td>supplementary education</td>\n",
       "    </tr>\n",
       "    <tr>\n",
       "      <td>4</td>\n",
       "      <td>0</td>\n",
       "      <td>340266.072047</td>\n",
       "      <td>53</td>\n",
       "      <td>secondary education</td>\n",
       "      <td>1</td>\n",
       "      <td>civil partnership</td>\n",
       "      <td>1</td>\n",
       "      <td>F</td>\n",
       "      <td>retiree</td>\n",
       "      <td>0</td>\n",
       "      <td>25378.572</td>\n",
       "      <td>to have a wedding</td>\n",
       "    </tr>\n",
       "  </tbody>\n",
       "</table>\n",
       "</div>"
      ],
      "text/plain": [
       "   children  days_employed  dob_years            education  education_id  \\\n",
       "0         1   -8437.673028         42    bachelor's degree             0   \n",
       "1         1   -4024.803754         36  secondary education             1   \n",
       "2         0   -5623.422610         33  Secondary Education             1   \n",
       "3         3   -4124.747207         32  secondary education             1   \n",
       "4         0  340266.072047         53  secondary education             1   \n",
       "\n",
       "       family_status  family_status_id gender income_type  debt  total_income  \\\n",
       "0            married                 0      F    employee     0     40620.102   \n",
       "1            married                 0      F    employee     0     17932.802   \n",
       "2            married                 0      M    employee     0     23341.752   \n",
       "3            married                 0      M    employee     0     42820.568   \n",
       "4  civil partnership                 1      F     retiree     0     25378.572   \n",
       "\n",
       "                   purpose  \n",
       "0    purchase of the house  \n",
       "1             car purchase  \n",
       "2    purchase of the house  \n",
       "3  supplementary education  \n",
       "4        to have a wedding  "
      ]
     },
     "execution_count": 2,
     "metadata": {},
     "output_type": "execute_result"
    }
   ],
   "source": [
    "#looking at the first few values in a table\n",
    "credit_scores_data.head()"
   ]
  },
  {
   "cell_type": "markdown",
   "metadata": {},
   "source": [
    "*The values in the `'days_employed'` column are indeed __not integer__ values and, moreover, there are __negative values__ among them. In the last displayed line, the value is __320 thousand and a little__. If it's days, and they are converted to years, dividing by 365, it will be __over 900 years__ of work experience. So far it __looks like some incorrect values__.*\n",
    "\n",
    "*In addition, it seems that the information in the `'education'` column __duplicates the information__ in the `'education_id'` column. The same is true for a couple `'family_status'` and `'family_status_id'`.*\n",
    "\n",
    "_Moreover, the values in the `'education'` column are __duplicated case sensitive__._"
   ]
  },
  {
   "cell_type": "code",
   "execution_count": 3,
   "metadata": {},
   "outputs": [
    {
     "data": {
      "text/html": [
       "<div>\n",
       "<style scoped>\n",
       "    .dataframe tbody tr th:only-of-type {\n",
       "        vertical-align: middle;\n",
       "    }\n",
       "\n",
       "    .dataframe tbody tr th {\n",
       "        vertical-align: top;\n",
       "    }\n",
       "\n",
       "    .dataframe thead th {\n",
       "        text-align: right;\n",
       "    }\n",
       "</style>\n",
       "<table border=\"1\" class=\"dataframe\">\n",
       "  <thead>\n",
       "    <tr style=\"text-align: right;\">\n",
       "      <th></th>\n",
       "      <th>min</th>\n",
       "      <th>max</th>\n",
       "      <th>mean</th>\n",
       "      <th>median</th>\n",
       "      <th>positive_min</th>\n",
       "    </tr>\n",
       "  </thead>\n",
       "  <tbody>\n",
       "    <tr>\n",
       "      <td>children</td>\n",
       "      <td>-1.000000</td>\n",
       "      <td>20.000000</td>\n",
       "      <td>0.538908</td>\n",
       "      <td>0.000000</td>\n",
       "      <td>1.000000</td>\n",
       "    </tr>\n",
       "    <tr>\n",
       "      <td>days_employed</td>\n",
       "      <td>-18388.949901</td>\n",
       "      <td>401755.400475</td>\n",
       "      <td>63046.497661</td>\n",
       "      <td>-1203.369529</td>\n",
       "      <td>328728.720605</td>\n",
       "    </tr>\n",
       "    <tr>\n",
       "      <td>dob_years</td>\n",
       "      <td>0.000000</td>\n",
       "      <td>75.000000</td>\n",
       "      <td>43.293380</td>\n",
       "      <td>42.000000</td>\n",
       "      <td>19.000000</td>\n",
       "    </tr>\n",
       "    <tr>\n",
       "      <td>total_income</td>\n",
       "      <td>3306.762000</td>\n",
       "      <td>362496.645000</td>\n",
       "      <td>26787.568355</td>\n",
       "      <td>23202.870000</td>\n",
       "      <td>3306.762000</td>\n",
       "    </tr>\n",
       "  </tbody>\n",
       "</table>\n",
       "</div>"
      ],
      "text/plain": [
       "                        min            max          mean        median  \\\n",
       "children          -1.000000      20.000000      0.538908      0.000000   \n",
       "days_employed -18388.949901  401755.400475  63046.497661  -1203.369529   \n",
       "dob_years          0.000000      75.000000     43.293380     42.000000   \n",
       "total_income    3306.762000  362496.645000  26787.568355  23202.870000   \n",
       "\n",
       "                positive_min  \n",
       "children            1.000000  \n",
       "days_employed  328728.720605  \n",
       "dob_years          19.000000  \n",
       "total_income     3306.762000  "
      ]
     },
     "execution_count": 3,
     "metadata": {},
     "output_type": "execute_result"
    }
   ],
   "source": [
    "#Let's look at numerical and categorical features in more detail\n",
    "#creating the corresponding lists\n",
    "numeric_cols = ['children', 'days_employed', 'dob_years', 'total_income']\n",
    "categorical_cols = ['education', 'education_id', 'family_status', 'family_status_id',\\\n",
    "                    'gender', 'income_type', 'debt', 'purpose']\n",
    "\n",
    "#adding a function to find the minimum positive number in a series. It's required at least for 'days_employed' feature.\n",
    "def positive_min(series):\n",
    "    return min([x for x in series if x > 0])\n",
    "\n",
    "#a couple of test cases:\n",
    "#positive_min([-1, 2, 3])\n",
    "#positive_min([-1, -2])\n",
    "\n",
    "#looking at the values that take numerical features \n",
    "credit_scores_data[numeric_cols].agg(['min', 'max', 'mean', 'median', positive_min]).T"
   ]
  },
  {
   "cell_type": "markdown",
   "metadata": {},
   "source": [
    "*The following __problems in the data of numerical columns__ could be identified:*\n",
    "* *negative value for number of children (see min value of the `'children'` feature)*\n",
    "* *20 kids seems like a lot for one family (see min value of the `'children'` feature)*\n",
    "* *at least 50% values of the `'days_employed'` feature are negative (the value of the median is negative)*\n",
    "* *the minimum positive value of the `'days_employed'` feature is quite huge (see positive_min value of the `'days_employed'` feature)*\n",
    "* *there is zero value of customer's age (see min value of the `'dob_years'` feature)*\n",
    "\n",
    "*In addition, the values for the columns `'dob_years'`(age) and `'children` are such that the type __int8__ would be enough for it.*"
   ]
  },
  {
   "cell_type": "code",
   "execution_count": 4,
   "metadata": {},
   "outputs": [
    {
     "name": "stdout",
     "output_type": "stream",
     "text": [
      "\u001b[1mThe 'children' feature:\u001b[0m\n",
      "Number of customers with a value of -1 in the 'children' field: 47\n",
      "Number of customers with 20 kids in the 'children' field: 76\n",
      "Number of customers with 20 kids less than 15+20 years of age: 21\n",
      "\n",
      "\u001b[1mThe 'days_employed' feature:\u001b[0m\n",
      "The number of negative values of the 'days_employed' feature is 15906 which is 73.9%\n",
      "\n",
      "The 'days_employed' feature values converted in years:\n",
      "                     min          max        mean    median  positive_min\n",
      "days_employed -50.380685  1100.699727  172.730131 -3.296903    900.626632\n",
      "\n",
      "\u001b[1mThe 'dob_years' feature:\u001b[0m\n",
      "Number of customers with zero age:  101\n"
     ]
    }
   ],
   "source": [
    "#Let's look at these problems in more detail\n",
    "\n",
    "#some global constats for formatting the output string\n",
    "BOLD = '\\033[1m'\n",
    "END = '\\033[0m'\n",
    "\n",
    "#loking at the 'children' feature\n",
    "print(BOLD + \"The 'children' feature:\" + END)\n",
    "print(\"Number of customers with a value of -1 in the 'children' field:\",\\\n",
    "          len(credit_scores_data[credit_scores_data.children==-1]))\n",
    "print(\"Number of customers with 20 kids in the 'children' field:\",\\\n",
    "          len(credit_scores_data[credit_scores_data.children==20]))\n",
    "print(\"Number of customers with 20 kids less than 15+20 years of age:\",\\\n",
    "          len(credit_scores_data[(credit_scores_data.children==20)\\\n",
    "                   &(credit_scores_data.dob_years<(15+20))\\\n",
    "                   &(credit_scores_data.dob_years>0)]))\n",
    "print()\n",
    "\n",
    "#loking at the 'days_employed' feature\n",
    "print(BOLD + \"The 'days_employed' feature:\" + END)\n",
    "\n",
    "#calculating the number of negative values of the 'days_employed' feature:\n",
    "neg_days_employed_count = credit_scores_data[credit_scores_data.days_employed<0].days_employed.count()\n",
    "print(\"The number of negative values of the 'days_employed' feature is\", neg_days_employed_count,\\\n",
    "         \"which is {:.1%}\".format(neg_days_employed_count/credit_scores_data.shape[0]))\n",
    "print()\n",
    "print(\"The 'days_employed' feature values converted in years:\")\n",
    "print((credit_scores_data[['days_employed']]/365).agg(['min', 'max', 'mean', 'median', positive_min]).T)\n",
    "print()\n",
    "\n",
    "#loking at the 'dob_years' feature\n",
    "print(BOLD + \"The 'dob_years' feature:\" + END)\n",
    "print(\"Number of customers with zero age: \",\\\n",
    "          len(credit_scores_data[credit_scores_data.dob_years==0]))"
   ]
  },
  {
   "cell_type": "markdown",
   "metadata": {},
   "source": [
    "_The value of __the number of children -1__ looks __incorrect__, as well as __20 kids__ for parents whose age is less than the beginning of reproductive age (15 years old) plus 20. There are not very many such values, but not single values either. This should be taken into account in further data analysis and considered separately._\n",
    "\n",
    "*More than __70%__ of the values in the `'days_employed'` column are __negative__ and values are __not integer__. The __minimum positive value__ of the `'days_employed'` feature converted __in years__ is also __huge__.*\n",
    "\n",
    "_The __age__ of __101__ customers is __unknown__ and is __0__ in the table._"
   ]
  },
  {
   "cell_type": "code",
   "execution_count": 5,
   "metadata": {},
   "outputs": [
    {
     "data": {
      "text/plain": [
       " 0     14149\n",
       " 1      4818\n",
       " 2      2055\n",
       " 3       330\n",
       " 20       76\n",
       "-1        47\n",
       " 4        41\n",
       " 5         9\n",
       "Name: children, dtype: int64"
      ]
     },
     "execution_count": 5,
     "metadata": {},
     "output_type": "execute_result"
    }
   ],
   "source": [
    "#looking at all unique values of the 'children' column and number of each values\n",
    "credit_scores_data.children.value_counts()"
   ]
  },
  {
   "cell_type": "markdown",
   "metadata": {},
   "source": [
    "_Other values of the 'children' column (except -1 and 20) appear normal._"
   ]
  },
  {
   "cell_type": "code",
   "execution_count": 6,
   "metadata": {},
   "outputs": [
    {
     "data": {
      "text/html": [
       "<div>\n",
       "<style scoped>\n",
       "    .dataframe tbody tr th:only-of-type {\n",
       "        vertical-align: middle;\n",
       "    }\n",
       "\n",
       "    .dataframe tbody tr th {\n",
       "        vertical-align: top;\n",
       "    }\n",
       "\n",
       "    .dataframe thead th {\n",
       "        text-align: right;\n",
       "    }\n",
       "</style>\n",
       "<table border=\"1\" class=\"dataframe\">\n",
       "  <thead>\n",
       "    <tr style=\"text-align: right;\">\n",
       "      <th></th>\n",
       "      <th>unique</th>\n",
       "    </tr>\n",
       "  </thead>\n",
       "  <tbody>\n",
       "    <tr>\n",
       "      <td>education</td>\n",
       "      <td>[bachelor's degree, secondary education, Secondary Education, SECONDARY EDUCATION, BACHELOR'S DEGREE, some college, primary education, Bachelor's Degree, SOME COLLEGE, Some College, PRIMARY EDUCATION, Primary Education, Graduate Degree, GRADUATE DEGREE, graduate degree]</td>\n",
       "    </tr>\n",
       "    <tr>\n",
       "      <td>education_id</td>\n",
       "      <td>[0, 1, 2, 3, 4]</td>\n",
       "    </tr>\n",
       "    <tr>\n",
       "      <td>family_status</td>\n",
       "      <td>[married, civil partnership, widow / widower, divorced, unmarried]</td>\n",
       "    </tr>\n",
       "    <tr>\n",
       "      <td>family_status_id</td>\n",
       "      <td>[0, 1, 2, 3, 4]</td>\n",
       "    </tr>\n",
       "    <tr>\n",
       "      <td>gender</td>\n",
       "      <td>[F, M, XNA]</td>\n",
       "    </tr>\n",
       "    <tr>\n",
       "      <td>income_type</td>\n",
       "      <td>[employee, retiree, business, civil servant, unemployed, entrepreneur, student, paternity / maternity leave]</td>\n",
       "    </tr>\n",
       "    <tr>\n",
       "      <td>debt</td>\n",
       "      <td>[0, 1]</td>\n",
       "    </tr>\n",
       "    <tr>\n",
       "      <td>purpose</td>\n",
       "      <td>[purchase of the house, car purchase, supplementary education, to have a wedding, housing transactions, education, having a wedding, purchase of the house for my family, buy real estate, buy commercial real estate, buy residential real estate, construction of own property, property, building a property, buying a second-hand car, buying my own car, transactions with commercial real estate, building a real estate, housing, transactions with my real estate, cars, to become educated, second-hand car purchase, getting an education, car, wedding ceremony, to get a supplementary education, purchase of my own house, real estate transactions, getting higher education, to own a car, purchase of a car, profile education, university education, buying property for renting out, to buy a car, housing renovation, going to university]</td>\n",
       "    </tr>\n",
       "  </tbody>\n",
       "</table>\n",
       "</div>"
      ],
      "text/plain": [
       "                                                                                                                                                                                                                                                                                                                                                                                                                                                                                                                                                                                                                                                                                                                                                                                                                                                                         unique\n",
       "education         [bachelor's degree, secondary education, Secondary Education, SECONDARY EDUCATION, BACHELOR'S DEGREE, some college, primary education, Bachelor's Degree, SOME COLLEGE, Some College, PRIMARY EDUCATION, Primary Education, Graduate Degree, GRADUATE DEGREE, graduate degree]                                                                                                                                                                                                                                                                                                                                                                                                                                                                                                                                                                               \n",
       "education_id      [0, 1, 2, 3, 4]                                                                                                                                                                                                                                                                                                                                                                                                                                                                                                                                                                                                                                                                                                                                                                                                                                              \n",
       "family_status     [married, civil partnership, widow / widower, divorced, unmarried]                                                                                                                                                                                                                                                                                                                                                                                                                                                                                                                                                                                                                                                                                                                                                                                           \n",
       "family_status_id  [0, 1, 2, 3, 4]                                                                                                                                                                                                                                                                                                                                                                                                                                                                                                                                                                                                                                                                                                                                                                                                                                              \n",
       "gender            [F, M, XNA]                                                                                                                                                                                                                                                                                                                                                                                                                                                                                                                                                                                                                                                                                                                                                                                                                                                  \n",
       "income_type       [employee, retiree, business, civil servant, unemployed, entrepreneur, student, paternity / maternity leave]                                                                                                                                                                                                                                                                                                                                                                                                                                                                                                                                                                                                                                                                                                                                                 \n",
       "debt              [0, 1]                                                                                                                                                                                                                                                                                                                                                                                                                                                                                                                                                                                                                                                                                                                                                                                                                                                       \n",
       "purpose           [purchase of the house, car purchase, supplementary education, to have a wedding, housing transactions, education, having a wedding, purchase of the house for my family, buy real estate, buy commercial real estate, buy residential real estate, construction of own property, property, building a property, buying a second-hand car, buying my own car, transactions with commercial real estate, building a real estate, housing, transactions with my real estate, cars, to become educated, second-hand car purchase, getting an education, car, wedding ceremony, to get a supplementary education, purchase of my own house, real estate transactions, getting higher education, to own a car, purchase of a car, profile education, university education, buying property for renting out, to buy a car, housing renovation, going to university]"
      ]
     },
     "execution_count": 6,
     "metadata": {},
     "output_type": "execute_result"
    }
   ],
   "source": [
    "#Let's look at the values that take categorical features \n",
    "pd.set_option('display.max_colwidth', -1)\n",
    "credit_scores_data[categorical_cols].agg(['unique']).T"
   ]
  },
  {
   "cell_type": "markdown",
   "metadata": {},
   "source": [
    "*The following __problems in the data of categorical columns__ could be identified:*\n",
    "* *the values in the `'education'` column are duplicated case sensitive*\n",
    "* *the information in the `'education'` column most likely duplicates the information in the `'education_id'` column*\n",
    "* *the information in the `'family_status'` column most likely duplicates the information in the `'family_status_id'` column*\n",
    "* *the `'gender'` column has odd value 'XNA'*\n",
    "* *the values in the `'purpose'` column are duplicated in meaning, for example, ' to have a wedding' and 'having a wedding' or 'car purchase' and 'buying my own car'*\n",
    "\n",
    "*In addition, the values for the columns `'education_id'` and `'family_status_id'` are such that the type __int8__ would be enough for them. For the column `'debt'` it would be enough just __Boolean type__.*"
   ]
  },
  {
   "cell_type": "code",
   "execution_count": 7,
   "metadata": {},
   "outputs": [
    {
     "name": "stdout",
     "output_type": "stream",
     "text": [
      "\u001b[1mMapping 'education' column and 'education_id' column:\n",
      "\u001b[0m\n",
      "                education  education_id\n",
      "0     bachelor's degree    0           \n",
      "8     BACHELOR'S DEGREE    0           \n",
      "62    Bachelor's Degree    0           \n",
      "1     secondary education  1           \n",
      "2     Secondary Education  1           \n",
      "7     SECONDARY EDUCATION  1           \n",
      "13    some college         2           \n",
      "134   SOME COLLEGE         2           \n",
      "376   Some College         2           \n",
      "31    primary education    3           \n",
      "797   PRIMARY EDUCATION    3           \n",
      "2817  Primary Education    3           \n",
      "2963  Graduate Degree      4           \n",
      "4170  GRADUATE DEGREE      4           \n",
      "6551  graduate degree      4           \n",
      "\n",
      "\u001b[1mMapping 'family_status' column and 'family_status_id' column:\n",
      "\u001b[0m\n",
      "        family_status  family_status_id\n",
      "0   married            0               \n",
      "4   civil partnership  1               \n",
      "18  widow / widower    2               \n",
      "19  divorced           3               \n",
      "24  unmarried          4               \n",
      "\n",
      "\u001b[1mUnique values of 'gender' column and their counts:\u001b[0m\n",
      "F      14236\n",
      "M      7288 \n",
      "XNA    1    \n",
      "Name: gender, dtype: int64\n"
     ]
    }
   ],
   "source": [
    "#Let's look at these problems in more detail\n",
    "print(BOLD + \"Mapping 'education' column and 'education_id' column:\\n\" + END)\n",
    "print(credit_scores_data[['education', 'education_id']].drop_duplicates(subset=['education', 'education_id'])\\\n",
    "        .sort_values('education_id'))\n",
    "print()\n",
    "print(BOLD + \"Mapping 'family_status' column and 'family_status_id' column:\\n\" + END)\n",
    "print(credit_scores_data[['family_status', 'family_status_id']].\\\n",
    "        drop_duplicates(subset=['family_status', 'family_status_id'])\\\n",
    "            .sort_values('family_status_id'))\n",
    "print()\n",
    "print(BOLD + \"Unique values of 'gender' column and their counts:\" + END)\n",
    "print(credit_scores_data.gender.value_counts())"
   ]
  },
  {
   "cell_type": "markdown",
   "metadata": {},
   "source": [
    "*The information in the `'education'` column indeed __duplicates case sensitive__ the information in the `'education_id'` column. Therefore, it is necessary to convert the values of the education column to lowercase. The excess information can be moved to a separate dictionary to simplify the table and use less memory.*\n",
    "\n",
    "*The information in the `'family_status'` column __entirely duplicates__ the information in the `'family_status_id'` column. This excess information can be moved to a separate dictionary as well.*\n",
    "\n",
    "_The __gender__ of only 1 customer is __unknown__ and is __'XNA'__ in the table._"
   ]
  },
  {
   "cell_type": "markdown",
   "metadata": {},
   "source": [
    "### Conclusions\n",
    "\n",
    "The table contains 21525 rows for 12 folowing features:\n",
    "* 4 numerical features:\n",
    " 1. `'children'` - the number of children in the family\n",
    "     *   __has excess type__ int64 which can be converted to int8\n",
    "     *   __has odd values__ -1 and 20 which should be taken into account in further data analysis and considered separately. These values could be due to technical or human error, for example, a dash in answer of a questionnaire could be processed as -1, and 2 children could turn into 20 by adding 0.\n",
    " 2. `'days_employed'` - how long the customer has been working\n",
    "     *   __contains null values__ It is possible that the customer's income cannot be specified because he/she is unemployed or a student. Or is it just a technical or human error. \n",
    "     *   __has incorect values__ that cannot be the number of days of employing. These values could be due to technical or human error, for example, when exporting data, the column with the account balance was selected instead of the required one. It makes sense to contact the developer who sent the source file. If nothing is cleared up, then this column will have to be removed from consideration.\n",
    " 3. `'dob_years'` -  the customer’s age\n",
    "     *   __has excess type__ int64 which can be converted to int8\n",
    "     *   __value for 101 customers is unknown__ and is 0 in the table\n",
    " 4. `'total_income'` -  monthly income\n",
    "     *   __contains null values__. It is possible that the customer's income cannot be specified because he/she is unemployed or a student. Or is it just a technical or human error. \n",
    "* 8 categorical features:\n",
    " 1. `'education'` - the customer’s education level\n",
    "     * __is duplicated case sensitive__. It is necessary to convert the values to lowercase. Duplication could have occurred due to manual filling of information, and not selection from the list.  \n",
    "     * __duplicates__ the information in the `'education_id'` column. The excess information can be moved to a separate dictionary to simplify the table and use less memory.\n",
    " 2. `'education_id'` - identifier for the customer’s education\n",
    "     * __has excess type__ int64 which can be converted to int8\n",
    "     * __duplicates__ the information in the `'education'` column\n",
    " 3. `'family_status'` - the customer’s marital status \n",
    "     * __duplicates__ the information in the `'family_status_id'` column. The excess information can be moved to a separate dictionary to simplify the table and use less memory.\n",
    " 4. `'family_status_id'` - identifier for the customer’s marital status\n",
    "     * __has excess type__ int64 which can be converted to int8\n",
    "     * __duplicates__ the information in the `'family_status'` column\n",
    " 5. `'gender'` - the customer’s gender\n",
    "     * __value for 1 customer is unknown__ and is 'XNA' in the table\n",
    " 6. `'income_type'` - the customer’s income type\n",
    "     * values can also be encoded as `'education_id'` and `'family_status_id'`\n",
    " 7. `'debt'` - whether the customer has ever defaulted on a loan\n",
    "     * __has excess type__ int64 which can be converted to bool\n",
    " 8. `'purpose'` - reason for taking out a loan\n",
    "     * it could take fewer categorical values"
   ]
  },
  {
   "cell_type": "markdown",
   "metadata": {},
   "source": [
    "## 2. Data Preprocessing\n",
    "<a id='section2'></a>"
   ]
  },
  {
   "cell_type": "markdown",
   "metadata": {},
   "source": [
    "### 2.1 Processing missing values\n",
    "<a id='section2.1'></a>"
   ]
  },
  {
   "cell_type": "code",
   "execution_count": 8,
   "metadata": {},
   "outputs": [
    {
     "name": "stdout",
     "output_type": "stream",
     "text": [
      "The number of missing values per column:\n",
      "\n",
      "children            0   \n",
      "days_employed       2174\n",
      "dob_years           0   \n",
      "education           0   \n",
      "education_id        0   \n",
      "family_status       0   \n",
      "family_status_id    0   \n",
      "gender              0   \n",
      "income_type         0   \n",
      "debt                0   \n",
      "total_income        2174\n",
      "purpose             0   \n",
      "dtype: int64\n",
      "\n",
      "As we noted earlier, the number of gaps is the same in both columns and is 10.1% of all data.\n",
      "\n",
      "The number of null values of the days_employed feature among the not-null values of the total_income feature:\n",
      "0\n",
      "\n",
      "The number of null values of the total_income feature among the not-null values of the days_employed feature:\n",
      "0\n"
     ]
    }
   ],
   "source": [
    "# Printing the number of missing values per column \n",
    "print(\"The number of missing values per column:\\n\")\n",
    "print(credit_scores_data.isnull().sum())\n",
    "print()\n",
    "\n",
    "#Let's calculate percentage of null values\n",
    "#Calculating number of null values\n",
    "gaps_num = len(credit_scores_data[credit_scores_data.days_employed.isnull()].days_employed)\n",
    "print(\"As we noted earlier, the number of gaps is the same in both columns and is {:.1%} of all data.\"\\\n",
    "         .format(gaps_num/credit_scores_data.shape[0]))\n",
    "print()\n",
    "\n",
    "#Are the missing values of these two variables by the same line?\n",
    "print(\"The number of null values of the days_employed feature among the not-null values of the total_income feature:\")\n",
    "print(credit_scores_data[~credit_scores_data.total_income.isnull()].days_employed.isnull().sum())\n",
    "print()\n",
    "print(\"The number of null values of the total_income feature among the not-null values of the days_employed feature:\")\n",
    "print(credit_scores_data[~credit_scores_data.days_employed.isnull()].total_income.isnull().sum())"
   ]
  },
  {
   "cell_type": "markdown",
   "metadata": {},
   "source": [
    "*There are missing values in two columns: `'days_employed'` and `'total_income'`. Both gaps in the same line. Missing values make up 10% of all data, this is a quite large part of the data to delete it.*"
   ]
  },
  {
   "cell_type": "markdown",
   "metadata": {},
   "source": [
    "If the customers are not employed or are students then it makes sense that total income is unknown and because of this, there are missing values in the table. Let's look at customers with income type unemployed or student: "
   ]
  },
  {
   "cell_type": "code",
   "execution_count": 9,
   "metadata": {},
   "outputs": [
    {
     "data": {
      "text/html": [
       "<div>\n",
       "<style scoped>\n",
       "    .dataframe tbody tr th:only-of-type {\n",
       "        vertical-align: middle;\n",
       "    }\n",
       "\n",
       "    .dataframe tbody tr th {\n",
       "        vertical-align: top;\n",
       "    }\n",
       "\n",
       "    .dataframe thead th {\n",
       "        text-align: right;\n",
       "    }\n",
       "</style>\n",
       "<table border=\"1\" class=\"dataframe\">\n",
       "  <thead>\n",
       "    <tr style=\"text-align: right;\">\n",
       "      <th></th>\n",
       "      <th>children</th>\n",
       "      <th>days_employed</th>\n",
       "      <th>dob_years</th>\n",
       "      <th>education</th>\n",
       "      <th>education_id</th>\n",
       "      <th>family_status</th>\n",
       "      <th>family_status_id</th>\n",
       "      <th>gender</th>\n",
       "      <th>income_type</th>\n",
       "      <th>debt</th>\n",
       "      <th>total_income</th>\n",
       "      <th>purpose</th>\n",
       "    </tr>\n",
       "  </thead>\n",
       "  <tbody>\n",
       "    <tr>\n",
       "      <td>3133</td>\n",
       "      <td>1</td>\n",
       "      <td>337524.466835</td>\n",
       "      <td>31</td>\n",
       "      <td>secondary education</td>\n",
       "      <td>1</td>\n",
       "      <td>married</td>\n",
       "      <td>0</td>\n",
       "      <td>M</td>\n",
       "      <td>unemployed</td>\n",
       "      <td>1</td>\n",
       "      <td>9593.119</td>\n",
       "      <td>buying property for renting out</td>\n",
       "    </tr>\n",
       "    <tr>\n",
       "      <td>9410</td>\n",
       "      <td>0</td>\n",
       "      <td>-578.751554</td>\n",
       "      <td>22</td>\n",
       "      <td>bachelor's degree</td>\n",
       "      <td>0</td>\n",
       "      <td>unmarried</td>\n",
       "      <td>4</td>\n",
       "      <td>M</td>\n",
       "      <td>student</td>\n",
       "      <td>0</td>\n",
       "      <td>15712.260</td>\n",
       "      <td>construction of own property</td>\n",
       "    </tr>\n",
       "    <tr>\n",
       "      <td>14798</td>\n",
       "      <td>0</td>\n",
       "      <td>395302.838654</td>\n",
       "      <td>45</td>\n",
       "      <td>Bachelor's Degree</td>\n",
       "      <td>0</td>\n",
       "      <td>civil partnership</td>\n",
       "      <td>1</td>\n",
       "      <td>F</td>\n",
       "      <td>unemployed</td>\n",
       "      <td>0</td>\n",
       "      <td>32435.602</td>\n",
       "      <td>housing renovation</td>\n",
       "    </tr>\n",
       "  </tbody>\n",
       "</table>\n",
       "</div>"
      ],
      "text/plain": [
       "       children  days_employed  dob_years            education  education_id  \\\n",
       "3133   1         337524.466835  31         secondary education  1              \n",
       "9410   0        -578.751554     22         bachelor's degree    0              \n",
       "14798  0         395302.838654  45         Bachelor's Degree    0              \n",
       "\n",
       "           family_status  family_status_id gender income_type  debt  \\\n",
       "3133   married            0                 M      unemployed  1      \n",
       "9410   unmarried          4                 M      student     0      \n",
       "14798  civil partnership  1                 F      unemployed  0      \n",
       "\n",
       "       total_income                          purpose  \n",
       "3133   9593.119      buying property for renting out  \n",
       "9410   15712.260     construction of own property     \n",
       "14798  32435.602     housing renovation               "
      ]
     },
     "execution_count": 9,
     "metadata": {},
     "output_type": "execute_result"
    }
   ],
   "source": [
    "credit_scores_data[(credit_scores_data.income_type=='unemployed')\\\n",
    "                   |(credit_scores_data.income_type=='student')]"
   ]
  },
  {
   "cell_type": "markdown",
   "metadata": {},
   "source": [
    "_There are no null values for unemployed customers or students._"
   ]
  },
  {
   "cell_type": "markdown",
   "metadata": {},
   "source": [
    "Let's look at income type for customers with null value of total_income:"
   ]
  },
  {
   "cell_type": "code",
   "execution_count": 10,
   "metadata": {},
   "outputs": [
    {
     "data": {
      "text/plain": [
       "employee         1105\n",
       "business         508 \n",
       "retiree          413 \n",
       "civil servant    147 \n",
       "entrepreneur     1   \n",
       "Name: income_type, dtype: int64"
      ]
     },
     "execution_count": 10,
     "metadata": {},
     "output_type": "execute_result"
    }
   ],
   "source": [
    "#save unique values of 'income_type' column for missing values of 'total_income' and their counts\n",
    "gaps_count_by_income_type = credit_scores_data[credit_scores_data.total_income.isnull()].income_type.value_counts()\n",
    "gaps_count_by_income_type"
   ]
  },
  {
   "cell_type": "markdown",
   "metadata": {},
   "source": [
    "_There are missing values for different income types._"
   ]
  },
  {
   "cell_type": "markdown",
   "metadata": {},
   "source": [
    "The income for different income types is most likely different, so it's necessary to fill in the missing values in accordance with the income type of the customer. Let's look at income corresponding the income type:"
   ]
  },
  {
   "cell_type": "code",
   "execution_count": 11,
   "metadata": {},
   "outputs": [
    {
     "data": {
      "text/html": [
       "<div>\n",
       "<style scoped>\n",
       "    .dataframe tbody tr th:only-of-type {\n",
       "        vertical-align: middle;\n",
       "    }\n",
       "\n",
       "    .dataframe tbody tr th {\n",
       "        vertical-align: top;\n",
       "    }\n",
       "\n",
       "    .dataframe thead th {\n",
       "        text-align: right;\n",
       "    }\n",
       "</style>\n",
       "<table border=\"1\" class=\"dataframe\">\n",
       "  <thead>\n",
       "    <tr style=\"text-align: right;\">\n",
       "      <th></th>\n",
       "      <th>count</th>\n",
       "      <th>min</th>\n",
       "      <th>median</th>\n",
       "      <th>mean</th>\n",
       "      <th>max</th>\n",
       "    </tr>\n",
       "    <tr>\n",
       "      <th>income_type</th>\n",
       "      <th></th>\n",
       "      <th></th>\n",
       "      <th></th>\n",
       "      <th></th>\n",
       "      <th></th>\n",
       "    </tr>\n",
       "  </thead>\n",
       "  <tbody>\n",
       "    <tr>\n",
       "      <td>business</td>\n",
       "      <td>4577</td>\n",
       "      <td>4592.450</td>\n",
       "      <td>27577.2720</td>\n",
       "      <td>32386.793835</td>\n",
       "      <td>362496.645</td>\n",
       "    </tr>\n",
       "    <tr>\n",
       "      <td>civil servant</td>\n",
       "      <td>1312</td>\n",
       "      <td>4672.012</td>\n",
       "      <td>24071.6695</td>\n",
       "      <td>27343.729582</td>\n",
       "      <td>145672.235</td>\n",
       "    </tr>\n",
       "    <tr>\n",
       "      <td>employee</td>\n",
       "      <td>10014</td>\n",
       "      <td>3418.824</td>\n",
       "      <td>22815.1035</td>\n",
       "      <td>25820.841683</td>\n",
       "      <td>276204.162</td>\n",
       "    </tr>\n",
       "    <tr>\n",
       "      <td>entrepreneur</td>\n",
       "      <td>1</td>\n",
       "      <td>79866.103</td>\n",
       "      <td>79866.1030</td>\n",
       "      <td>79866.103000</td>\n",
       "      <td>79866.103</td>\n",
       "    </tr>\n",
       "    <tr>\n",
       "      <td>paternity / maternity leave</td>\n",
       "      <td>1</td>\n",
       "      <td>8612.661</td>\n",
       "      <td>8612.6610</td>\n",
       "      <td>8612.661000</td>\n",
       "      <td>8612.661</td>\n",
       "    </tr>\n",
       "    <tr>\n",
       "      <td>retiree</td>\n",
       "      <td>3443</td>\n",
       "      <td>3306.762</td>\n",
       "      <td>18962.3180</td>\n",
       "      <td>21940.394503</td>\n",
       "      <td>117616.523</td>\n",
       "    </tr>\n",
       "    <tr>\n",
       "      <td>student</td>\n",
       "      <td>1</td>\n",
       "      <td>15712.260</td>\n",
       "      <td>15712.2600</td>\n",
       "      <td>15712.260000</td>\n",
       "      <td>15712.260</td>\n",
       "    </tr>\n",
       "    <tr>\n",
       "      <td>unemployed</td>\n",
       "      <td>2</td>\n",
       "      <td>9593.119</td>\n",
       "      <td>21014.3605</td>\n",
       "      <td>21014.360500</td>\n",
       "      <td>32435.602</td>\n",
       "    </tr>\n",
       "  </tbody>\n",
       "</table>\n",
       "</div>"
      ],
      "text/plain": [
       "                             count        min      median          mean  \\\n",
       "income_type                                                               \n",
       "business                     4577   4592.450   27577.2720  32386.793835   \n",
       "civil servant                1312   4672.012   24071.6695  27343.729582   \n",
       "employee                     10014  3418.824   22815.1035  25820.841683   \n",
       "entrepreneur                 1      79866.103  79866.1030  79866.103000   \n",
       "paternity / maternity leave  1      8612.661   8612.6610   8612.661000    \n",
       "retiree                      3443   3306.762   18962.3180  21940.394503   \n",
       "student                      1      15712.260  15712.2600  15712.260000   \n",
       "unemployed                   2      9593.119   21014.3605  21014.360500   \n",
       "\n",
       "                                    max  \n",
       "income_type                              \n",
       "business                     362496.645  \n",
       "civil servant                145672.235  \n",
       "employee                     276204.162  \n",
       "entrepreneur                 79866.103   \n",
       "paternity / maternity leave  8612.661    \n",
       "retiree                      117616.523  \n",
       "student                      15712.260   \n",
       "unemployed                   32435.602   "
      ]
     },
     "execution_count": 11,
     "metadata": {},
     "output_type": "execute_result"
    }
   ],
   "source": [
    "credit_scores_data.groupby('income_type').total_income.agg(['count','min', 'median', 'mean', 'max'])"
   ]
  },
  {
   "cell_type": "markdown",
   "metadata": {},
   "source": [
    "_Incomes do differ for diffrent income types, for instance, the imcome for business or civil servant is on average higher than for retiree._ \n",
    "\n",
    "_The average within a type is greater than the median. This implies that income has outliers with large values. So it's better to use the median for filling in the missing values._\n",
    "\n",
    "_Note that in our table the income for the type of entrepreneur is filled only for one customer and the value is quite high, so we cannot fill in the missing value of this type by this single value. Then the missing value for the entrepreneur should be filled in as the median value across the entire table (in this case, the estimate will most likely be underestimated) or completely removed this customer from the consideration._"
   ]
  },
  {
   "cell_type": "code",
   "execution_count": 12,
   "metadata": {},
   "outputs": [],
   "source": [
    "#income types with the missing values more than only for one customer:\n",
    "income_type_with_gaps = list(gaps_count_by_income_type[gaps_count_by_income_type>1].index)\n",
    "\n",
    "#Let's fill gaps in total income by income type in case when the data is enough\n",
    "#Missing values have special types but we need to fill gaps with different values so I used .loc \n",
    "for t in income_type_with_gaps:\n",
    "    income_type_median = credit_scores_data[credit_scores_data.income_type==t].total_income.median()\n",
    "    credit_scores_data.loc[credit_scores_data.total_income.isnull()\\\n",
    "                             &(credit_scores_data.income_type==t), 'total_income'] = income_type_median\n",
    "\n",
    "#filling gaps in total income for entrepreneur with median across all data    \n",
    "median_income = credit_scores_data.total_income.median()\n",
    "credit_scores_data.loc[credit_scores_data.total_income.isnull()\\\n",
    "                         &(credit_scores_data.income_type=='entrepreneur'),\\\n",
    "                         'total_income'] = median_income"
   ]
  },
  {
   "cell_type": "markdown",
   "metadata": {},
   "source": [
    "#### Conclusions"
   ]
  },
  {
   "cell_type": "markdown",
   "metadata": {},
   "source": [
    "There are missing values in the columns of `'days_employed'` and `'total_income'`. Both gaps in the same line. Missing values are 10% of all data, this is a quite large part of the data. \n",
    "\n",
    "The `'days_employed'` column is left unchanged until it becomes clear what data it contains.\n",
    "\n",
    "The total income depends on the type of employment that the bank's customer is engaged in. Incomes differ indeed for diffrent income types. Missing values in total income were filled in according to the income type, except for the entrepreneur type for which there is not enough data."
   ]
  },
  {
   "cell_type": "markdown",
   "metadata": {},
   "source": [
    "### 2.2 Data type replacement\n",
    "<a id='section2.2'></a>"
   ]
  },
  {
   "cell_type": "code",
   "execution_count": 13,
   "metadata": {},
   "outputs": [
    {
     "name": "stdout",
     "output_type": "stream",
     "text": [
      "<class 'pandas.core.frame.DataFrame'>\n",
      "RangeIndex: 21525 entries, 0 to 21524\n",
      "Data columns (total 12 columns):\n",
      "children            21525 non-null int8\n",
      "days_employed       19351 non-null float64\n",
      "dob_years           21525 non-null int8\n",
      "education           21525 non-null object\n",
      "education_id        21525 non-null int8\n",
      "family_status       21525 non-null object\n",
      "family_status_id    21525 non-null int8\n",
      "gender              21525 non-null object\n",
      "income_type         21525 non-null object\n",
      "debt                21525 non-null bool\n",
      "total_income        21525 non-null float64\n",
      "purpose             21525 non-null object\n",
      "dtypes: bool(1), float64(2), int8(4), object(5)\n",
      "memory usage: 1.3+ MB\n"
     ]
    }
   ],
   "source": [
    "#converting excess type int64 to int8 with help of astype() method:\n",
    "credit_scores_data['children'] = credit_scores_data.children.astype('int8') \n",
    "credit_scores_data['dob_years'] = credit_scores_data.dob_years.astype('int8') \n",
    "credit_scores_data['education_id'] = credit_scores_data.education_id.astype('int8') \n",
    "credit_scores_data['family_status_id'] = credit_scores_data.family_status_id.astype('int8') \n",
    "credit_scores_data['debt'] = credit_scores_data.debt.astype('bool')  \n",
    "\n",
    "##looking at the data's general information including data types  \n",
    "credit_scores_data.info()"
   ]
  },
  {
   "cell_type": "markdown",
   "metadata": {},
   "source": [
    "*Excess type int64 for columns `'children'`, `'dob_years'`, `'education_id'`, `'family_status_id'` war converted to int8 and `'debt'` to bool.*"
   ]
  },
  {
   "cell_type": "markdown",
   "metadata": {},
   "source": [
    "### 2.3 Processing duplicates\n",
    "<a id='section2.3'></a>"
   ]
  },
  {
   "cell_type": "code",
   "execution_count": 14,
   "metadata": {},
   "outputs": [],
   "source": [
    "#Values of 'education' is duplicated case sensitive (this was discovered in the step 1).\n",
    "#Let's convert them to lowercase. \n",
    "credit_scores_data['education'] = credit_scores_data.education.str.lower() "
   ]
  },
  {
   "cell_type": "markdown",
   "metadata": {},
   "source": [
    "_Duplicated case sensitive values in `'education'` columns were converted to lowercase._"
   ]
  },
  {
   "cell_type": "code",
   "execution_count": 15,
   "metadata": {},
   "outputs": [
    {
     "data": {
      "text/html": [
       "<div>\n",
       "<style scoped>\n",
       "    .dataframe tbody tr th:only-of-type {\n",
       "        vertical-align: middle;\n",
       "    }\n",
       "\n",
       "    .dataframe tbody tr th {\n",
       "        vertical-align: top;\n",
       "    }\n",
       "\n",
       "    .dataframe thead th {\n",
       "        text-align: right;\n",
       "    }\n",
       "</style>\n",
       "<table border=\"1\" class=\"dataframe\">\n",
       "  <thead>\n",
       "    <tr style=\"text-align: right;\">\n",
       "      <th></th>\n",
       "      <th>children</th>\n",
       "      <th>days_employed</th>\n",
       "      <th>dob_years</th>\n",
       "      <th>education</th>\n",
       "      <th>education_id</th>\n",
       "      <th>family_status</th>\n",
       "      <th>family_status_id</th>\n",
       "      <th>gender</th>\n",
       "      <th>income_type</th>\n",
       "      <th>debt</th>\n",
       "      <th>total_income</th>\n",
       "      <th>purpose</th>\n",
       "    </tr>\n",
       "  </thead>\n",
       "  <tbody>\n",
       "    <tr>\n",
       "      <td>2849</td>\n",
       "      <td>0</td>\n",
       "      <td>NaN</td>\n",
       "      <td>41</td>\n",
       "      <td>secondary education</td>\n",
       "      <td>1</td>\n",
       "      <td>married</td>\n",
       "      <td>0</td>\n",
       "      <td>F</td>\n",
       "      <td>employee</td>\n",
       "      <td>False</td>\n",
       "      <td>22815.1035</td>\n",
       "      <td>purchase of the house for my family</td>\n",
       "    </tr>\n",
       "    <tr>\n",
       "      <td>3290</td>\n",
       "      <td>0</td>\n",
       "      <td>NaN</td>\n",
       "      <td>58</td>\n",
       "      <td>secondary education</td>\n",
       "      <td>1</td>\n",
       "      <td>civil partnership</td>\n",
       "      <td>1</td>\n",
       "      <td>F</td>\n",
       "      <td>retiree</td>\n",
       "      <td>False</td>\n",
       "      <td>18962.3180</td>\n",
       "      <td>to have a wedding</td>\n",
       "    </tr>\n",
       "    <tr>\n",
       "      <td>4182</td>\n",
       "      <td>1</td>\n",
       "      <td>NaN</td>\n",
       "      <td>34</td>\n",
       "      <td>bachelor's degree</td>\n",
       "      <td>0</td>\n",
       "      <td>civil partnership</td>\n",
       "      <td>1</td>\n",
       "      <td>F</td>\n",
       "      <td>employee</td>\n",
       "      <td>False</td>\n",
       "      <td>22815.1035</td>\n",
       "      <td>wedding ceremony</td>\n",
       "    </tr>\n",
       "    <tr>\n",
       "      <td>4851</td>\n",
       "      <td>0</td>\n",
       "      <td>NaN</td>\n",
       "      <td>60</td>\n",
       "      <td>secondary education</td>\n",
       "      <td>1</td>\n",
       "      <td>civil partnership</td>\n",
       "      <td>1</td>\n",
       "      <td>F</td>\n",
       "      <td>retiree</td>\n",
       "      <td>False</td>\n",
       "      <td>18962.3180</td>\n",
       "      <td>wedding ceremony</td>\n",
       "    </tr>\n",
       "    <tr>\n",
       "      <td>5557</td>\n",
       "      <td>0</td>\n",
       "      <td>NaN</td>\n",
       "      <td>58</td>\n",
       "      <td>secondary education</td>\n",
       "      <td>1</td>\n",
       "      <td>civil partnership</td>\n",
       "      <td>1</td>\n",
       "      <td>F</td>\n",
       "      <td>retiree</td>\n",
       "      <td>False</td>\n",
       "      <td>18962.3180</td>\n",
       "      <td>to have a wedding</td>\n",
       "    </tr>\n",
       "  </tbody>\n",
       "</table>\n",
       "</div>"
      ],
      "text/plain": [
       "      children  days_employed  dob_years            education  education_id  \\\n",
       "2849  0        NaN             41         secondary education  1              \n",
       "3290  0        NaN             58         secondary education  1              \n",
       "4182  1        NaN             34         bachelor's degree    0              \n",
       "4851  0        NaN             60         secondary education  1              \n",
       "5557  0        NaN             58         secondary education  1              \n",
       "\n",
       "          family_status  family_status_id gender income_type   debt  \\\n",
       "2849  married            0                 F      employee    False   \n",
       "3290  civil partnership  1                 F      retiree     False   \n",
       "4182  civil partnership  1                 F      employee    False   \n",
       "4851  civil partnership  1                 F      retiree     False   \n",
       "5557  civil partnership  1                 F      retiree     False   \n",
       "\n",
       "      total_income                              purpose  \n",
       "2849  22815.1035    purchase of the house for my family  \n",
       "3290  18962.3180    to have a wedding                    \n",
       "4182  22815.1035    wedding ceremony                     \n",
       "4851  18962.3180    wedding ceremony                     \n",
       "5557  18962.3180    to have a wedding                    "
      ]
     },
     "execution_count": 15,
     "metadata": {},
     "output_type": "execute_result"
    }
   ],
   "source": [
    "#Let's see if there are any completely duplicated lines in the dataset\n",
    "credit_scores_data[credit_scores_data.duplicated()].head()"
   ]
  },
  {
   "cell_type": "markdown",
   "metadata": {},
   "source": [
    "_In the dataset there are some completely duplicated lines._\n",
    "\n",
    "Let's look at them in more details."
   ]
  },
  {
   "cell_type": "code",
   "execution_count": 16,
   "metadata": {},
   "outputs": [
    {
     "name": "stdout",
     "output_type": "stream",
     "text": [
      "\u001b[1mNumber of duplicated lines:\u001b[0m 71\n",
      "\n",
      "\u001b[1mThe values that take numeric values in duplicated lines:\n",
      "\u001b[0m\n",
      "                    min        max          mean      median  positive_min\n",
      "children      0.000      2.000      0.225352      0.0000      1.000       \n",
      "dob_years     23.000     71.000     49.985915     54.0000     23.000      \n",
      "total_income  18962.318  27577.272  21854.865514  22815.1035  18962.318   \n",
      "\n",
      "\u001b[1mThe values that take categorical values in duplicated lines:\n",
      "\u001b[0m\n",
      "                                                                                                                                                                                                                                                                                                                                                                                                                                                                                                                                                                                                                                                                                        unique\n",
      "education         [secondary education, bachelor's degree]                                                                                                                                                                                                                                                                                                                                                                                                                                                                                                                                                                                                                                    \n",
      "education_id      [1, 0]                                                                                                                                                                                                                                                                                                                                                                                                                                                                                                                                                                                                                                                                      \n",
      "family_status     [married, civil partnership, unmarried, widow / widower]                                                                                                                                                                                                                                                                                                                                                                                                                                                                                                                                                                                                                    \n",
      "family_status_id  [0, 1, 4, 2]                                                                                                                                                                                                                                                                                                                                                                                                                                                                                                                                                                                                                                                                \n",
      "gender            [F, M]                                                                                                                                                                                                                                                                                                                                                                                                                                                                                                                                                                                                                                                                      \n",
      "income_type       [employee, retiree, business, civil servant]                                                                                                                                                                                                                                                                                                                                                                                                                                                                                                                                                                                                                                \n",
      "debt              [False]                                                                                                                                                                                                                                                                                                                                                                                                                                                                                                                                                                                                                                                                     \n",
      "purpose           [purchase of the house for my family, to have a wedding, wedding ceremony, building a real estate, having a wedding, supplementary education, buying property for renting out, transactions with my real estate, to get a supplementary education, buy commercial real estate, housing renovation, building a property, buy real estate, to become educated, second-hand car purchase, car, purchase of the house, car purchase, getting an education, property, to buy a car, university education, buying a second-hand car, transactions with commercial real estate, buy residential real estate, housing, to own a car, real estate transactions, housing transactions]\n"
     ]
    }
   ],
   "source": [
    "print(BOLD + 'Number of duplicated lines:' + END, credit_scores_data.duplicated().sum())\n",
    "print()\n",
    "print(BOLD + 'The values that take numeric values in duplicated lines:\\n' + END)\n",
    "print(credit_scores_data[credit_scores_data.duplicated()][['children', 'dob_years', 'total_income']]\\\n",
    "    .agg(['min', 'max', 'mean', 'median', positive_min]).T)\n",
    "print()\n",
    "print(BOLD + 'The values that take categorical values in duplicated lines:\\n' + END)\n",
    "print(credit_scores_data[credit_scores_data.duplicated()][categorical_cols].agg(['unique']).T)"
   ]
  },
  {
   "cell_type": "markdown",
   "metadata": {},
   "source": [
    "_There are 71 completely duplicated lines in the dataset. The values in these lines appear normal._\n",
    "\n",
    "Let's drop duplicates:"
   ]
  },
  {
   "cell_type": "code",
   "execution_count": 17,
   "metadata": {},
   "outputs": [],
   "source": [
    "#removing completely duplicated lines\n",
    "credit_scores_data.drop_duplicates(inplace=True)"
   ]
  },
  {
   "cell_type": "markdown",
   "metadata": {},
   "source": [
    "#### Conclusions\n",
    "\n",
    "The column `'education'` had duplicated values case sensitive. Values in this column were converted to lowercase. \n",
    "After that, it made sense to drop completely duplicated lines (the drop_duplicates method would not drop duplicate lines with case sensitive duplicated fields)."
   ]
  },
  {
   "cell_type": "markdown",
   "metadata": {},
   "source": [
    "## 3. Categorizing Data\n",
    "<a id='section3'></a>"
   ]
  },
  {
   "cell_type": "code",
   "execution_count": 18,
   "metadata": {},
   "outputs": [
    {
     "name": "stdout",
     "output_type": "stream",
     "text": [
      "\u001b[1mThe main dataset without excessed columns (first 5 lines):\n",
      "\u001b[0m\n",
      "   children  dob_years  education_id  family_status_id gender income_type  \\\n",
      "0  1         42         0             0                 F      employee     \n",
      "1  1         36         1             0                 F      employee     \n",
      "2  0         33         1             0                 M      employee     \n",
      "3  3         32         1             0                 M      employee     \n",
      "4  0         53         1             1                 F      retiree      \n",
      "\n",
      "    debt  total_income                  purpose  \n",
      "0  False  40620.102     purchase of the house    \n",
      "1  False  17932.802     car purchase             \n",
      "2  False  23341.752     purchase of the house    \n",
      "3  False  42820.568     supplementary education  \n",
      "4  False  25378.572     to have a wedding        \n",
      "\n",
      "\u001b[1mDictionary for education types:\u001b[0m\n",
      "   education_id            education\n",
      "0  0             bachelor's degree  \n",
      "1  1             secondary education\n",
      "2  2             some college       \n",
      "3  3             primary education  \n",
      "4  4             graduate degree    \n",
      "\n",
      "\u001b[1mDictionary for family status:\u001b[0m\n",
      "   family_status_id      family_status\n",
      "0  0                 married          \n",
      "1  1                 civil partnership\n",
      "2  2                 widow / widower  \n",
      "3  3                 divorced         \n",
      "4  4                 unmarried        \n"
     ]
    }
   ],
   "source": [
    "#Let's take excess columns into separate dictionaries\n",
    "print(BOLD + 'The main dataset without excessed columns (first 5 lines):\\n' + END)\n",
    "credit_scores_main = credit_scores_data[['children', 'dob_years', 'education_id',\n",
    "       'family_status_id', 'gender', 'income_type', 'debt',\n",
    "       'total_income', 'purpose']].copy() \n",
    "print(credit_scores_main.head())  \n",
    "print()\n",
    "print(BOLD + 'Dictionary for education types:' + END)\n",
    "education_dictionary = credit_scores_data[['education_id', 'education']]\n",
    "education_dictionary = education_dictionary.drop_duplicates().reset_index(drop=True) \n",
    "print(education_dictionary)\n",
    "print()\n",
    "print(BOLD + 'Dictionary for family status:' + END)\n",
    "family_status_dictionary = credit_scores_data[['family_status_id', 'family_status']]\n",
    "family_status_dictionary = family_status_dictionary.drop_duplicates().reset_index(drop=True) \n",
    "print(family_status_dictionary)"
   ]
  },
  {
   "cell_type": "markdown",
   "metadata": {},
   "source": [
    "_Now the main table does not contain excess information._\n",
    "\n",
    "_In addition, we have different categories of marital status and it's possible to see then if there is a difference in debt in each category. Let's create similar categories for having children, income levels and loan purposes._"
   ]
  },
  {
   "cell_type": "code",
   "execution_count": 19,
   "metadata": {},
   "outputs": [
    {
     "data": {
      "text/plain": [
       "children\n",
       "-1     47   \n",
       " 0     14091\n",
       " 1     4808 \n",
       " 2     2052 \n",
       " 3     330  \n",
       " 4     41   \n",
       " 5     9    \n",
       " 20    76   \n",
       "Name: children, dtype: int64"
      ]
     },
     "execution_count": 19,
     "metadata": {},
     "output_type": "execute_result"
    }
   ],
   "source": [
    "#looking at the number of customers with diffrent number of kids\n",
    "credit_scores_main.groupby('children').children.agg('count')"
   ]
  },
  {
   "cell_type": "markdown",
   "metadata": {},
   "source": [
    "_There are two incorrect values for the number of kids and a very small number of customers with 4 and 5 kids. Let's combine two odd values into the 'Unknown' category and also combine 3 or more children together. To do this, create a dictionary with these categories and add a column to the table with their numeric designation._"
   ]
  },
  {
   "cell_type": "code",
   "execution_count": 20,
   "metadata": {},
   "outputs": [
    {
     "name": "stdout",
     "output_type": "stream",
     "text": [
      "\u001b[1mDictionary for having kids categories:\u001b[0m\n",
      "   id      having_kids\n",
      "0  0   no kids        \n",
      "1  1   1 kid          \n",
      "2  2   2 kids         \n",
      "3  3   3 kids and more\n",
      "4  4   Unknown        \n",
      "\n",
      "\u001b[1mThe number of customers with different having kids category:\u001b[0m\n",
      "no kids            14091\n",
      "1 kid              4808 \n",
      "2 kids             2052 \n",
      "3 kids and more    380  \n",
      "Unknown            123  \n",
      "Name: having_kids, dtype: int64\n"
     ]
    }
   ],
   "source": [
    "#creating dict to make it easier to add code values to the table\n",
    "kids_dict = {'no kids': 0,\n",
    "                     '1 kid': 1, \n",
    "                     '2 kids': 2, \n",
    "                     '3 kids and more': 3,\n",
    "                     'Unknown': 4}\n",
    "\n",
    "#function to calculate a corresponding category ID by the number of children\n",
    "def having_kids_id(children):\n",
    "    if children == 0:\n",
    "        return kids_dict['no kids']\n",
    "    if children == 1:\n",
    "        return kids_dict['1 kid']\n",
    "    if children == 2:\n",
    "        return kids_dict['2 kids']\n",
    "    if children >= 3 and children <= 5: \n",
    "        return kids_dict['3 kids and more']\n",
    "    return kids_dict['Unknown']\n",
    "\n",
    "#creating a dictionary with names of having kids categories and their numeric designation\n",
    "having_kids_dictionary = pd.DataFrame(list(zip(kids_dict.values(), kids_dict.keys())),\\\n",
    "                       columns = ['id', 'having_kids']) \n",
    "print(BOLD + 'Dictionary for having kids categories:' + END)\n",
    "print(having_kids_dictionary)\n",
    "print()\n",
    "#adding a column with category IDs for having kids\n",
    "credit_scores_main['having_kids_id'] = credit_scores_main.children.apply(having_kids_id) \n",
    "\n",
    "#looking at the number of customers with diffrent number of kids\n",
    "print(BOLD + 'The number of customers with different having kids category:' + END)\n",
    "print(credit_scores_main.merge(having_kids_dictionary, left_on='having_kids_id', right_on='id').having_kids.value_counts())"
   ]
  },
  {
   "cell_type": "markdown",
   "metadata": {},
   "source": [
    "_There are different categories of having kids with a sufficient number of customers in each category and it's possible to see then if there is a difference in debt in these categories. Note that we can easy to exclude the category Unknown in further analysis._ "
   ]
  },
  {
   "cell_type": "code",
   "execution_count": 21,
   "metadata": {},
   "outputs": [
    {
     "data": {
      "text/plain": [
       "count    21454.000000 \n",
       "mean     26448.553705 \n",
       "std      15705.754178 \n",
       "min      3306.762000  \n",
       "25%      17219.817250 \n",
       "50%      22815.103500 \n",
       "75%      31330.237250 \n",
       "max      362496.645000\n",
       "Name: total_income, dtype: float64"
      ]
     },
     "execution_count": 21,
     "metadata": {},
     "output_type": "execute_result"
    }
   ],
   "source": [
    "#Let's look at the descriptive statistics for the total income to choose an apropriate categories for it\n",
    "credit_scores_data.total_income.describe()"
   ]
  },
  {
   "cell_type": "markdown",
   "metadata": {},
   "source": [
    "_To divide the total income into income levels, we can take the values of the first three quantiles (see 25%, 50% and 75%)._ \n",
    "\n",
    "_The average (see mean) is greater than the median (see 50%). This implies that income has outliers with large values. Note the maximum income (see max) is an order of magnitude more than the third quantile (see 75%). We can also look at the 1% of customers with the highest income separately, if there are enough observations._\n",
    "\n",
    "Let's create a dictionary with appropriate categories of income and add a column to the table with their numeric designation."
   ]
  },
  {
   "cell_type": "code",
   "execution_count": 22,
   "metadata": {},
   "outputs": [
    {
     "name": "stdout",
     "output_type": "stream",
     "text": [
      "\u001b[1mDictionary for income level categories:\u001b[0m\n",
      "   id  income_level\n",
      "0  0   low         \n",
      "1  1   lower middle\n",
      "2  2   upper middle\n",
      "3  3   high        \n",
      "4  4   very high   \n",
      "\n",
      "\u001b[1mThe number of customers with different income level:\u001b[0m\n",
      "lower middle    5480\n",
      "low             5364\n",
      "upper middle    5246\n",
      "high            5149\n",
      "very high       215 \n",
      "Name: income_level, dtype: int64\n"
     ]
    }
   ],
   "source": [
    "#creating dict to make it easier to add code values to the table\n",
    "income_level_dict = {'low': 0,\n",
    "                     'lower middle': 1, \n",
    "                     'upper middle': 2, \n",
    "                     'high': 3,\n",
    "                     'very high': 4}\n",
    "\n",
    "'''creating grobal variables for Q1, median, Q3 and 99% quantile \n",
    "so that each time we do not calculate them inside the function when it is called'''\n",
    "TOTAL_INCOME_Q1 = credit_scores_main.total_income.quantile(0.25)\n",
    "TOTAL_INCOME_MEDIAN = credit_scores_main.total_income.median()\n",
    "TOTAL_INCOME_Q3 = credit_scores_main.total_income.quantile(0.75)\n",
    "TOTAL_INCOME_QUANTILE99 = credit_scores_main.total_income.quantile(0.99)\n",
    "\n",
    "#function to calculate a corresponding category ID by the total income\n",
    "def income_level_id(total_income):\n",
    "    if total_income <= TOTAL_INCOME_Q1:\n",
    "        return income_level_dict['low']\n",
    "    elif total_income <= TOTAL_INCOME_MEDIAN:\n",
    "        return income_level_dict['lower middle']\n",
    "    elif total_income <= TOTAL_INCOME_Q3:\n",
    "        return income_level_dict['upper middle']\n",
    "    elif total_income <= TOTAL_INCOME_QUANTILE99:\n",
    "        return income_level_dict['high']\n",
    "    else:\n",
    "        return income_level_dict['very high']\n",
    "\n",
    "#creating a dictionary with names of income level categories and their numeric designation\n",
    "income_level_dictionary = pd.DataFrame(list(zip(income_level_dict.values(), income_level_dict.keys())),\\\n",
    "                       columns = ['id', 'income_level']) \n",
    "print(BOLD + 'Dictionary for income level categories:' + END)\n",
    "print(income_level_dictionary)\n",
    "print()\n",
    "#adding a column with category IDs for income level\n",
    "credit_scores_main['income_level_id'] = credit_scores_main.total_income.apply(income_level_id) \n",
    "#looking at the number of customers with diffrent number of kids\n",
    "print(BOLD + 'The number of customers with different income level:' + END)\n",
    "print(credit_scores_main.merge(income_level_dictionary, left_on='income_level_id', right_on='id')\\\n",
    "      .income_level.value_counts())"
   ]
  },
  {
   "cell_type": "markdown",
   "metadata": {},
   "source": [
    "_There are different categories of income level with a sufficient number of customers in each category and it's possible to see then if there is a difference in debt in these categories._"
   ]
  },
  {
   "cell_type": "code",
   "execution_count": 23,
   "metadata": {},
   "outputs": [
    {
     "name": "stdout",
     "output_type": "stream",
     "text": [
      "\u001b[1mDictionary for purpose type categories:\u001b[0m\n",
      "   id purpose_type\n",
      "0  0   wedding    \n",
      "1  1   education  \n",
      "2  2   car        \n",
      "3  3   real estate\n",
      "\n",
      "\u001b[1mMapping purpose and purpose type:\u001b[0m\n",
      "                                        purpose purpose_type\n",
      "10813  buying a second-hand car                  car        \n",
      "10817  cars                                      car        \n",
      "10819  second-hand car purchase                  car        \n",
      "10823  car                                       car        \n",
      "10829  to own a car                              car        \n",
      "10830  purchase of a car                         car        \n",
      "10840  to buy a car                              car        \n",
      "10814  buying my own car                         car        \n",
      "10811  car purchase                              car        \n",
      "15117  supplementary education                   education  \n",
      "15122  getting an education                      education  \n",
      "15124  to get a supplementary education          education  \n",
      "15128  getting higher education                  education  \n",
      "15131  profile education                         education  \n",
      "15132  university education                      education  \n",
      "15144  going to university                       education  \n",
      "15121  to become educated                        education  \n",
      "15118  education                                 education  \n",
      "0      purchase of the house                     real estate\n",
      "65     housing renovation                        real estate\n",
      "3      housing transactions                      real estate\n",
      "4      purchase of the house for my family       real estate\n",
      "5      buy real estate                           real estate\n",
      "6      buy commercial real estate                real estate\n",
      "7      buy residential real estate               real estate\n",
      "8      construction of own property              real estate\n",
      "10     building a property                       real estate\n",
      "9      property                                  real estate\n",
      "16     building a real estate                    real estate\n",
      "18     housing                                   real estate\n",
      "20     transactions with my real estate          real estate\n",
      "23     purchase of my own house                  real estate\n",
      "25     real estate transactions                  real estate\n",
      "39     buying property for renting out           real estate\n",
      "12     transactions with commercial real estate  real estate\n",
      "19131  having a wedding                          wedding    \n",
      "19130  to have a wedding                         wedding    \n",
      "19137  wedding ceremony                          wedding    \n",
      "\n",
      "\u001b[1mThe number of customers with different purpose type:\u001b[0m\n",
      "real estate    10811\n",
      "car            4306 \n",
      "education      4013 \n",
      "wedding        2324 \n",
      "Name: purpose_type, dtype: int64\n"
     ]
    }
   ],
   "source": [
    "\"\"\"Among the large number of specified loan purposes, in fact, there are only several categories:\n",
    "    * wedding\n",
    "    * education\n",
    "    * car \n",
    "    * real estate\n",
    "   Let's pick out these category\n",
    "\"\"\"\n",
    "#importing library for working with stem of words\n",
    "from nltk.stem import SnowballStemmer  \n",
    "english_stemmer = SnowballStemmer('english')\n",
    "\n",
    "#creating dict to make it easier to add code values to the table\n",
    "purpose_type_dict = {'wedding': 0,\n",
    "                     'education': 1, \n",
    "                     'car': 2, \n",
    "                     'real estate': 3}\n",
    "\n",
    "#function to calculate a corresponding category ID by the purpose\n",
    "def purpose_type_id(purpose):\n",
    "    purpose_words = purpose.split(\" \")\n",
    "    if english_stemmer.stem('house') in map(english_stemmer.stem, purpose_words):\n",
    "        return purpose_type_dict['real estate']\n",
    "    if english_stemmer.stem('property') in map(english_stemmer.stem, purpose_words):\n",
    "        return purpose_type_dict['real estate']\n",
    "    if english_stemmer.stem('estate') in map(english_stemmer.stem, purpose_words):\n",
    "        return purpose_type_dict['real estate']\n",
    "    if english_stemmer.stem('car') in map(english_stemmer.stem, purpose_words):\n",
    "        return purpose_type_dict['car']\n",
    "    if english_stemmer.stem('education') in map(english_stemmer.stem, purpose_words):\n",
    "        return purpose_type_dict['education']\n",
    "    if english_stemmer.stem('university') in map(english_stemmer.stem, purpose_words):\n",
    "        return purpose_type_dict['education']\n",
    "    if english_stemmer.stem('wedding') in map(english_stemmer.stem, purpose_words):\n",
    "        return purpose_type_dict['wedding']\n",
    "    return 'Unknown'\n",
    "\n",
    "#creating a dictionary with names of purpose type categories and their numeric designation\n",
    "purpose_type_dictionary = pd.DataFrame(list(zip(purpose_type_dict.values(), purpose_type_dict.keys())),\\\n",
    "                       columns = ['id', 'purpose_type']) \n",
    "print(BOLD + 'Dictionary for purpose type categories:' + END)\n",
    "print(purpose_type_dictionary)\n",
    "print()\n",
    "#adding a column with category IDs for income level\n",
    "credit_scores_main['purpose_type_id'] = credit_scores_main.purpose.apply(purpose_type_id) \n",
    "print(BOLD + 'Mapping purpose and purpose type:' + END)\n",
    "print(credit_scores_main.merge(purpose_type_dictionary, left_on='purpose_type_id', right_on='id')\\\n",
    "          [['purpose', 'purpose_type']].drop_duplicates(subset=['purpose', 'purpose_type'])\\\n",
    "                .sort_values('purpose_type'))\n",
    "print()\n",
    "#looking at the number of customers with diffrent purpose type\n",
    "print(BOLD + 'The number of customers with different purpose type:' + END)\n",
    "print(credit_scores_main.merge(purpose_type_dictionary, left_on='purpose_type_id', right_on='id')\\\n",
    "      .purpose_type.value_counts())"
   ]
  },
  {
   "cell_type": "markdown",
   "metadata": {},
   "source": [
    "_A few typical categories of loan purpose have been distinguished and it's possible to see then if there is a difference in debt in these categories._"
   ]
  },
  {
   "cell_type": "markdown",
   "metadata": {},
   "source": [
    "### Conclusion\n",
    "\n",
    "To look at the relationship between having kids, marital status, income level and the loan purpose with the timely repaying a loan, the corresponding categories were created with a sufficient number of observations within them."
   ]
  },
  {
   "cell_type": "markdown",
   "metadata": {},
   "source": [
    "## 4. Study of the Impact of the Investigated Features on Debt Repayment\n",
    "<a id='section4'></a>"
   ]
  },
  {
   "cell_type": "code",
   "execution_count": 24,
   "metadata": {},
   "outputs": [
    {
     "name": "stdout",
     "output_type": "stream",
     "text": [
      "In average debt defaul rate is 8.1%\n"
     ]
    }
   ],
   "source": [
    "#Let's calculate the rate of who did not repay their debt among all customers\n",
    "print('In average debt defaul rate is {:.1%}'.format(credit_scores_data.debt.mean()))"
   ]
  },
  {
   "cell_type": "markdown",
   "metadata": {},
   "source": [
    "_To look at the differences in debt in different categories, we can also look at the average of `'debt'` in each category. It will be the ratio of customers who did not repay their debt to all customers in this category._ \n",
    "\n",
    "It is more convenient to perceive this value as a percentage, so let's create a custom function for aggregation:"
   ]
  },
  {
   "cell_type": "code",
   "execution_count": 25,
   "metadata": {},
   "outputs": [],
   "source": [
    "def debt_default_rate(is_debt_series):\n",
    "    return str(round(is_debt_series.mean()*100,1))+'%'"
   ]
  },
  {
   "cell_type": "markdown",
   "metadata": {},
   "source": [
    "- __Is there a relation between having kids and repaying a loan on time?__"
   ]
  },
  {
   "cell_type": "code",
   "execution_count": 26,
   "metadata": {},
   "outputs": [
    {
     "data": {
      "text/html": [
       "<div>\n",
       "<style scoped>\n",
       "    .dataframe tbody tr th:only-of-type {\n",
       "        vertical-align: middle;\n",
       "    }\n",
       "\n",
       "    .dataframe tbody tr th {\n",
       "        vertical-align: top;\n",
       "    }\n",
       "\n",
       "    .dataframe thead th {\n",
       "        text-align: right;\n",
       "    }\n",
       "</style>\n",
       "<table border=\"1\" class=\"dataframe\">\n",
       "  <thead>\n",
       "    <tr style=\"text-align: right;\">\n",
       "      <th></th>\n",
       "      <th></th>\n",
       "      <th>debt</th>\n",
       "    </tr>\n",
       "    <tr>\n",
       "      <th>id</th>\n",
       "      <th>having_kids</th>\n",
       "      <th></th>\n",
       "    </tr>\n",
       "  </thead>\n",
       "  <tbody>\n",
       "    <tr>\n",
       "      <td>0</td>\n",
       "      <td>no kids</td>\n",
       "      <td>7.5%</td>\n",
       "    </tr>\n",
       "    <tr>\n",
       "      <td>1</td>\n",
       "      <td>1 kid</td>\n",
       "      <td>9.2%</td>\n",
       "    </tr>\n",
       "    <tr>\n",
       "      <td>2</td>\n",
       "      <td>2 kids</td>\n",
       "      <td>9.5%</td>\n",
       "    </tr>\n",
       "    <tr>\n",
       "      <td>3</td>\n",
       "      <td>3 kids and more</td>\n",
       "      <td>8.2%</td>\n",
       "    </tr>\n",
       "  </tbody>\n",
       "</table>\n",
       "</div>"
      ],
      "text/plain": [
       "                    debt\n",
       "id having_kids          \n",
       "0  no kids          7.5%\n",
       "1  1 kid            9.2%\n",
       "2  2 kids           9.5%\n",
       "3  3 kids and more  8.2%"
      ]
     },
     "execution_count": 26,
     "metadata": {},
     "output_type": "execute_result"
    }
   ],
   "source": [
    "#filtering out customers with unknown kids data \n",
    "filtered_having_kids_dictionary = having_kids_dictionary[having_kids_dictionary.having_kids!='Unknown']\n",
    "\n",
    "#calculating the rate of customers who did not repay their debt by having kids categories \n",
    "credit_scores_main.merge(filtered_having_kids_dictionary, left_on='having_kids_id', right_on='id')\\\n",
    "    .pivot_table(index=['id', 'having_kids'], values='debt', aggfunc=debt_default_rate)"
   ]
  },
  {
   "cell_type": "markdown",
   "metadata": {},
   "source": [
    "_The rate of defaulted customers without children is slightly lower than customers with 1 or 2 children. But it is necessary to look at the statistical significance of these differences._"
   ]
  },
  {
   "cell_type": "markdown",
   "metadata": {},
   "source": [
    "- __Is there a relation between marital status and repaying a loan on time?__"
   ]
  },
  {
   "cell_type": "code",
   "execution_count": 27,
   "metadata": {},
   "outputs": [
    {
     "data": {
      "text/html": [
       "<div>\n",
       "<style scoped>\n",
       "    .dataframe tbody tr th:only-of-type {\n",
       "        vertical-align: middle;\n",
       "    }\n",
       "\n",
       "    .dataframe tbody tr th {\n",
       "        vertical-align: top;\n",
       "    }\n",
       "\n",
       "    .dataframe thead th {\n",
       "        text-align: right;\n",
       "    }\n",
       "</style>\n",
       "<table border=\"1\" class=\"dataframe\">\n",
       "  <thead>\n",
       "    <tr style=\"text-align: right;\">\n",
       "      <th></th>\n",
       "      <th>debt</th>\n",
       "    </tr>\n",
       "    <tr>\n",
       "      <th>family_status</th>\n",
       "      <th></th>\n",
       "    </tr>\n",
       "  </thead>\n",
       "  <tbody>\n",
       "    <tr>\n",
       "      <td>civil partnership</td>\n",
       "      <td>9.3%</td>\n",
       "    </tr>\n",
       "    <tr>\n",
       "      <td>divorced</td>\n",
       "      <td>7.1%</td>\n",
       "    </tr>\n",
       "    <tr>\n",
       "      <td>married</td>\n",
       "      <td>7.5%</td>\n",
       "    </tr>\n",
       "    <tr>\n",
       "      <td>unmarried</td>\n",
       "      <td>9.8%</td>\n",
       "    </tr>\n",
       "    <tr>\n",
       "      <td>widow / widower</td>\n",
       "      <td>6.6%</td>\n",
       "    </tr>\n",
       "  </tbody>\n",
       "</table>\n",
       "</div>"
      ],
      "text/plain": [
       "                   debt\n",
       "family_status          \n",
       "civil partnership  9.3%\n",
       "divorced           7.1%\n",
       "married            7.5%\n",
       "unmarried          9.8%\n",
       "widow / widower    6.6%"
      ]
     },
     "execution_count": 27,
     "metadata": {},
     "output_type": "execute_result"
    }
   ],
   "source": [
    "#calculating the rate of customers who did not repay their debt by marital status categories \n",
    "credit_scores_main.merge(family_status_dictionary, on='family_status_id')\\\n",
    "    .pivot_table(index=['family_status'], values='debt', aggfunc=debt_default_rate)"
   ]
  },
  {
   "cell_type": "markdown",
   "metadata": {},
   "source": [
    "_The rate of defaulted customers among widows/widowers is a litle bit lower than among all bank's customers. But the rate of defaulted customers among unmarried is in opposite a litle bit higher. It still is necessary to look at the statistical significance of these differences._"
   ]
  },
  {
   "cell_type": "markdown",
   "metadata": {},
   "source": [
    "- __Is there a relation between income level and repaying a loan on time?__"
   ]
  },
  {
   "cell_type": "code",
   "execution_count": 28,
   "metadata": {},
   "outputs": [
    {
     "data": {
      "text/html": [
       "<div>\n",
       "<style scoped>\n",
       "    .dataframe tbody tr th:only-of-type {\n",
       "        vertical-align: middle;\n",
       "    }\n",
       "\n",
       "    .dataframe tbody tr th {\n",
       "        vertical-align: top;\n",
       "    }\n",
       "\n",
       "    .dataframe thead th {\n",
       "        text-align: right;\n",
       "    }\n",
       "</style>\n",
       "<table border=\"1\" class=\"dataframe\">\n",
       "  <thead>\n",
       "    <tr style=\"text-align: right;\">\n",
       "      <th></th>\n",
       "      <th></th>\n",
       "      <th>debt</th>\n",
       "    </tr>\n",
       "    <tr>\n",
       "      <th>id</th>\n",
       "      <th>income_level</th>\n",
       "      <th></th>\n",
       "    </tr>\n",
       "  </thead>\n",
       "  <tbody>\n",
       "    <tr>\n",
       "      <td>0</td>\n",
       "      <td>low</td>\n",
       "      <td>8.0%</td>\n",
       "    </tr>\n",
       "    <tr>\n",
       "      <td>1</td>\n",
       "      <td>lower middle</td>\n",
       "      <td>8.8%</td>\n",
       "    </tr>\n",
       "    <tr>\n",
       "      <td>2</td>\n",
       "      <td>upper middle</td>\n",
       "      <td>8.5%</td>\n",
       "    </tr>\n",
       "    <tr>\n",
       "      <td>3</td>\n",
       "      <td>high</td>\n",
       "      <td>7.2%</td>\n",
       "    </tr>\n",
       "    <tr>\n",
       "      <td>4</td>\n",
       "      <td>very high</td>\n",
       "      <td>6.5%</td>\n",
       "    </tr>\n",
       "  </tbody>\n",
       "</table>\n",
       "</div>"
      ],
      "text/plain": [
       "                 debt\n",
       "id income_level      \n",
       "0  low           8.0%\n",
       "1  lower middle  8.8%\n",
       "2  upper middle  8.5%\n",
       "3  high          7.2%\n",
       "4  very high     6.5%"
      ]
     },
     "execution_count": 28,
     "metadata": {},
     "output_type": "execute_result"
    }
   ],
   "source": [
    "#calculating the rate of customers who did not repay their debt by income level \n",
    "credit_scores_main.merge(income_level_dictionary, left_on='income_level_id', right_on='id')\\\n",
    "    .pivot_table(index=['id', 'income_level'], values='debt', aggfunc=debt_default_rate)"
   ]
  },
  {
   "cell_type": "markdown",
   "metadata": {},
   "source": [
    "_The rate of defaulted customers among only customers with very high income is a litle bit lower than among all customers. It is necessary to look at the statistical significance of these differences as well._"
   ]
  },
  {
   "cell_type": "markdown",
   "metadata": {},
   "source": [
    "- __How do different loan purposes affect on-time repayment of the loan?__"
   ]
  },
  {
   "cell_type": "code",
   "execution_count": 29,
   "metadata": {},
   "outputs": [
    {
     "data": {
      "text/html": [
       "<div>\n",
       "<style scoped>\n",
       "    .dataframe tbody tr th:only-of-type {\n",
       "        vertical-align: middle;\n",
       "    }\n",
       "\n",
       "    .dataframe tbody tr th {\n",
       "        vertical-align: top;\n",
       "    }\n",
       "\n",
       "    .dataframe thead th {\n",
       "        text-align: right;\n",
       "    }\n",
       "</style>\n",
       "<table border=\"1\" class=\"dataframe\">\n",
       "  <thead>\n",
       "    <tr style=\"text-align: right;\">\n",
       "      <th></th>\n",
       "      <th></th>\n",
       "      <th>debt</th>\n",
       "    </tr>\n",
       "    <tr>\n",
       "      <th>id</th>\n",
       "      <th>purpose_type</th>\n",
       "      <th></th>\n",
       "    </tr>\n",
       "  </thead>\n",
       "  <tbody>\n",
       "    <tr>\n",
       "      <td>0</td>\n",
       "      <td>wedding</td>\n",
       "      <td>8.0%</td>\n",
       "    </tr>\n",
       "    <tr>\n",
       "      <td>1</td>\n",
       "      <td>education</td>\n",
       "      <td>9.2%</td>\n",
       "    </tr>\n",
       "    <tr>\n",
       "      <td>2</td>\n",
       "      <td>car</td>\n",
       "      <td>9.4%</td>\n",
       "    </tr>\n",
       "    <tr>\n",
       "      <td>3</td>\n",
       "      <td>real estate</td>\n",
       "      <td>7.2%</td>\n",
       "    </tr>\n",
       "  </tbody>\n",
       "</table>\n",
       "</div>"
      ],
      "text/plain": [
       "                 debt\n",
       "id purpose_type      \n",
       "0  wedding       8.0%\n",
       "1  education     9.2%\n",
       "2  car           9.4%\n",
       "3  real estate   7.2%"
      ]
     },
     "execution_count": 29,
     "metadata": {},
     "output_type": "execute_result"
    }
   ],
   "source": [
    "#calculating the rate of customers who did not repay their debt by purpose type \n",
    "credit_scores_main.merge(purpose_type_dictionary, left_on='purpose_type_id', right_on='id')\\\n",
    "    .pivot_table(index=['id', 'purpose_type'], values='debt', aggfunc=debt_default_rate)"
   ]
  },
  {
   "cell_type": "markdown",
   "metadata": {},
   "source": [
    "_The rate of defaulted customers without real estate loan purpose is slightly lower than customers with car or education loan purposes. But it is necessary to look at the statistical significance of these differences._\n",
    "\n",
    "A loan purpose seems to be an important factor when making a loan decision. It is interesting to see its impact on default together with other factors."
   ]
  },
  {
   "cell_type": "markdown",
   "metadata": {},
   "source": [
    "- __A load purpose and income type__"
   ]
  },
  {
   "cell_type": "code",
   "execution_count": 30,
   "metadata": {},
   "outputs": [
    {
     "data": {
      "text/html": [
       "<div>\n",
       "<style scoped>\n",
       "    .dataframe tbody tr th:only-of-type {\n",
       "        vertical-align: middle;\n",
       "    }\n",
       "\n",
       "    .dataframe tbody tr th {\n",
       "        vertical-align: top;\n",
       "    }\n",
       "\n",
       "    .dataframe thead th {\n",
       "        text-align: right;\n",
       "    }\n",
       "</style>\n",
       "<table border=\"1\" class=\"dataframe\">\n",
       "  <thead>\n",
       "    <tr style=\"text-align: right;\">\n",
       "      <th>income_type</th>\n",
       "      <th>business</th>\n",
       "      <th>civil servant</th>\n",
       "      <th>employee</th>\n",
       "      <th>entrepreneur</th>\n",
       "      <th>paternity / maternity leave</th>\n",
       "      <th>retiree</th>\n",
       "      <th>student</th>\n",
       "      <th>unemployed</th>\n",
       "    </tr>\n",
       "    <tr>\n",
       "      <th>purpose_type</th>\n",
       "      <th></th>\n",
       "      <th></th>\n",
       "      <th></th>\n",
       "      <th></th>\n",
       "      <th></th>\n",
       "      <th></th>\n",
       "      <th></th>\n",
       "      <th></th>\n",
       "    </tr>\n",
       "  </thead>\n",
       "  <tbody>\n",
       "    <tr>\n",
       "      <td>car</td>\n",
       "      <td>1052.0</td>\n",
       "      <td>286.0</td>\n",
       "      <td>2172.0</td>\n",
       "      <td>NaN</td>\n",
       "      <td>1.0</td>\n",
       "      <td>795.0</td>\n",
       "      <td>NaN</td>\n",
       "      <td>NaN</td>\n",
       "    </tr>\n",
       "    <tr>\n",
       "      <td>education</td>\n",
       "      <td>954.0</td>\n",
       "      <td>258.0</td>\n",
       "      <td>2080.0</td>\n",
       "      <td>NaN</td>\n",
       "      <td>NaN</td>\n",
       "      <td>721.0</td>\n",
       "      <td>NaN</td>\n",
       "      <td>NaN</td>\n",
       "    </tr>\n",
       "    <tr>\n",
       "      <td>real estate</td>\n",
       "      <td>2547.0</td>\n",
       "      <td>754.0</td>\n",
       "      <td>5615.0</td>\n",
       "      <td>1.0</td>\n",
       "      <td>NaN</td>\n",
       "      <td>1891.0</td>\n",
       "      <td>1.0</td>\n",
       "      <td>2.0</td>\n",
       "    </tr>\n",
       "    <tr>\n",
       "      <td>wedding</td>\n",
       "      <td>525.0</td>\n",
       "      <td>159.0</td>\n",
       "      <td>1217.0</td>\n",
       "      <td>1.0</td>\n",
       "      <td>NaN</td>\n",
       "      <td>422.0</td>\n",
       "      <td>NaN</td>\n",
       "      <td>NaN</td>\n",
       "    </tr>\n",
       "  </tbody>\n",
       "</table>\n",
       "</div>"
      ],
      "text/plain": [
       "income_type   business  civil servant  employee  entrepreneur  \\\n",
       "purpose_type                                                    \n",
       "car           1052.0    286.0          2172.0   NaN             \n",
       "education     954.0     258.0          2080.0   NaN             \n",
       "real estate   2547.0    754.0          5615.0    1.0            \n",
       "wedding       525.0     159.0          1217.0    1.0            \n",
       "\n",
       "income_type   paternity / maternity leave  retiree  student  unemployed  \n",
       "purpose_type                                                             \n",
       "car           1.0                          795.0   NaN      NaN          \n",
       "education    NaN                           721.0   NaN      NaN          \n",
       "real estate  NaN                           1891.0   1.0      2.0         \n",
       "wedding      NaN                           422.0   NaN      NaN          "
      ]
     },
     "execution_count": 30,
     "metadata": {},
     "output_type": "execute_result"
    }
   ],
   "source": [
    "#looking at number of observation in each group\n",
    "credit_scores_main.merge(purpose_type_dictionary, left_on='purpose_type_id', right_on='id')\\\n",
    "    .pivot_table(index='purpose_type', columns = 'income_type', values='debt', aggfunc='count') "
   ]
  },
  {
   "cell_type": "markdown",
   "metadata": {},
   "source": [
    "_There are enough observations only for the following types of income: business, civil servant, employee, retiree. Let's look at debt default rate only for them._"
   ]
  },
  {
   "cell_type": "code",
   "execution_count": 31,
   "metadata": {},
   "outputs": [
    {
     "data": {
      "text/html": [
       "<div>\n",
       "<style scoped>\n",
       "    .dataframe tbody tr th:only-of-type {\n",
       "        vertical-align: middle;\n",
       "    }\n",
       "\n",
       "    .dataframe tbody tr th {\n",
       "        vertical-align: top;\n",
       "    }\n",
       "\n",
       "    .dataframe thead th {\n",
       "        text-align: right;\n",
       "    }\n",
       "</style>\n",
       "<table border=\"1\" class=\"dataframe\">\n",
       "  <thead>\n",
       "    <tr style=\"text-align: right;\">\n",
       "      <th></th>\n",
       "      <th>income_type</th>\n",
       "      <th>business</th>\n",
       "      <th>civil servant</th>\n",
       "      <th>employee</th>\n",
       "      <th>retiree</th>\n",
       "    </tr>\n",
       "    <tr>\n",
       "      <th>id</th>\n",
       "      <th>purpose_type</th>\n",
       "      <th></th>\n",
       "      <th></th>\n",
       "      <th></th>\n",
       "      <th></th>\n",
       "    </tr>\n",
       "  </thead>\n",
       "  <tbody>\n",
       "    <tr>\n",
       "      <td>0</td>\n",
       "      <td>wedding</td>\n",
       "      <td>9.9%</td>\n",
       "      <td>4.4%</td>\n",
       "      <td>8.4%</td>\n",
       "      <td>5.9%</td>\n",
       "    </tr>\n",
       "    <tr>\n",
       "      <td>1</td>\n",
       "      <td>education</td>\n",
       "      <td>7.5%</td>\n",
       "      <td>8.1%</td>\n",
       "      <td>11.0%</td>\n",
       "      <td>6.7%</td>\n",
       "    </tr>\n",
       "    <tr>\n",
       "      <td>2</td>\n",
       "      <td>car</td>\n",
       "      <td>8.1%</td>\n",
       "      <td>7.7%</td>\n",
       "      <td>11.2%</td>\n",
       "      <td>6.4%</td>\n",
       "    </tr>\n",
       "    <tr>\n",
       "      <td>3</td>\n",
       "      <td>real estate</td>\n",
       "      <td>6.6%</td>\n",
       "      <td>4.8%</td>\n",
       "      <td>8.7%</td>\n",
       "      <td>4.9%</td>\n",
       "    </tr>\n",
       "  </tbody>\n",
       "</table>\n",
       "</div>"
      ],
      "text/plain": [
       "income_type     business civil servant employee retiree\n",
       "id purpose_type                                        \n",
       "0  wedding       9.9%     4.4%          8.4%     5.9%  \n",
       "1  education     7.5%     8.1%          11.0%    6.7%  \n",
       "2  car           8.1%     7.7%          11.2%    6.4%  \n",
       "3  real estate   6.6%     4.8%          8.7%     4.9%  "
      ]
     },
     "execution_count": 31,
     "metadata": {},
     "output_type": "execute_result"
    }
   ],
   "source": [
    "#looking at the rate of customers who did not repay their debt in each group\n",
    "credit_scores_main[credit_scores_main.income_type.isin(['business', 'civil servant', 'employee', 'retiree'])]\\\n",
    "    .merge(purpose_type_dictionary, left_on='purpose_type_id', right_on='id')\\\n",
    "        .pivot_table(index=['id', 'purpose_type'], columns = 'income_type', values='debt', aggfunc=debt_default_rate)"
   ]
  },
  {
   "cell_type": "markdown",
   "metadata": {},
   "source": [
    "_Interestingly, among civil servants, the percentage of non-repayment of debt for wedding and real estate purposes is quite low - 4.4% and 4.8% accodingly. There is also a low percentage of defaults among retiree for real estate purpose - 4.9% and relatively small percentage for a wedding - 5.9%. For employee the percentage of non-payment for a car or education is relatively high - 11.2% and 11.0% accodingly._"
   ]
  },
  {
   "cell_type": "markdown",
   "metadata": {},
   "source": [
    "- __A load purpose and having kids__"
   ]
  },
  {
   "cell_type": "code",
   "execution_count": 32,
   "metadata": {},
   "outputs": [
    {
     "data": {
      "text/html": [
       "<div>\n",
       "<style scoped>\n",
       "    .dataframe tbody tr th:only-of-type {\n",
       "        vertical-align: middle;\n",
       "    }\n",
       "\n",
       "    .dataframe tbody tr th {\n",
       "        vertical-align: top;\n",
       "    }\n",
       "\n",
       "    .dataframe thead th {\n",
       "        text-align: right;\n",
       "    }\n",
       "</style>\n",
       "<table border=\"1\" class=\"dataframe\">\n",
       "  <thead>\n",
       "    <tr style=\"text-align: right;\">\n",
       "      <th>having_kids</th>\n",
       "      <th>1 kid</th>\n",
       "      <th>2 kids</th>\n",
       "      <th>3 kids and more</th>\n",
       "      <th>no kids</th>\n",
       "    </tr>\n",
       "    <tr>\n",
       "      <th>purpose_type</th>\n",
       "      <th></th>\n",
       "      <th></th>\n",
       "      <th></th>\n",
       "      <th></th>\n",
       "    </tr>\n",
       "  </thead>\n",
       "  <tbody>\n",
       "    <tr>\n",
       "      <td>car</td>\n",
       "      <td>963</td>\n",
       "      <td>399</td>\n",
       "      <td>72</td>\n",
       "      <td>2845</td>\n",
       "    </tr>\n",
       "    <tr>\n",
       "      <td>education</td>\n",
       "      <td>866</td>\n",
       "      <td>403</td>\n",
       "      <td>77</td>\n",
       "      <td>2642</td>\n",
       "    </tr>\n",
       "    <tr>\n",
       "      <td>real estate</td>\n",
       "      <td>2447</td>\n",
       "      <td>1035</td>\n",
       "      <td>195</td>\n",
       "      <td>7074</td>\n",
       "    </tr>\n",
       "    <tr>\n",
       "      <td>wedding</td>\n",
       "      <td>532</td>\n",
       "      <td>215</td>\n",
       "      <td>36</td>\n",
       "      <td>1530</td>\n",
       "    </tr>\n",
       "  </tbody>\n",
       "</table>\n",
       "</div>"
      ],
      "text/plain": [
       "having_kids   1 kid  2 kids  3 kids and more  no kids\n",
       "purpose_type                                         \n",
       "car           963    399     72               2845   \n",
       "education     866    403     77               2642   \n",
       "real estate   2447   1035    195              7074   \n",
       "wedding       532    215     36               1530   "
      ]
     },
     "execution_count": 32,
     "metadata": {},
     "output_type": "execute_result"
    }
   ],
   "source": [
    "#looking at number of observation in each group\n",
    "credit_scores_main.merge(filtered_having_kids_dictionary, left_on='having_kids_id', right_on='id')\\\n",
    "    .merge(purpose_type_dictionary, left_on='purpose_type_id', right_on='id')\\\n",
    "        .pivot_table(index='purpose_type', columns = 'having_kids', values='debt', aggfunc='count') "
   ]
  },
  {
   "cell_type": "markdown",
   "metadata": {},
   "source": [
    "There are enough observations let's look at all groups."
   ]
  },
  {
   "cell_type": "code",
   "execution_count": 33,
   "metadata": {},
   "outputs": [
    {
     "data": {
      "text/html": [
       "<div>\n",
       "<style scoped>\n",
       "    .dataframe tbody tr th:only-of-type {\n",
       "        vertical-align: middle;\n",
       "    }\n",
       "\n",
       "    .dataframe tbody tr th {\n",
       "        vertical-align: top;\n",
       "    }\n",
       "\n",
       "    .dataframe thead th {\n",
       "        text-align: right;\n",
       "    }\n",
       "</style>\n",
       "<table border=\"1\" class=\"dataframe\">\n",
       "  <thead>\n",
       "    <tr style=\"text-align: right;\">\n",
       "      <th>having_kids</th>\n",
       "      <th>1 kid</th>\n",
       "      <th>2 kids</th>\n",
       "      <th>3 kids and more</th>\n",
       "      <th>no kids</th>\n",
       "    </tr>\n",
       "    <tr>\n",
       "      <th>purpose_type</th>\n",
       "      <th></th>\n",
       "      <th></th>\n",
       "      <th></th>\n",
       "      <th></th>\n",
       "    </tr>\n",
       "  </thead>\n",
       "  <tbody>\n",
       "    <tr>\n",
       "      <td>car</td>\n",
       "      <td>10.7%</td>\n",
       "      <td>12.0%</td>\n",
       "      <td>8.3%</td>\n",
       "      <td>8.5%</td>\n",
       "    </tr>\n",
       "    <tr>\n",
       "      <td>education</td>\n",
       "      <td>10.4%</td>\n",
       "      <td>11.4%</td>\n",
       "      <td>5.2%</td>\n",
       "      <td>8.7%</td>\n",
       "    </tr>\n",
       "    <tr>\n",
       "      <td>real estate</td>\n",
       "      <td>8.2%</td>\n",
       "      <td>8.5%</td>\n",
       "      <td>8.2%</td>\n",
       "      <td>6.7%</td>\n",
       "    </tr>\n",
       "    <tr>\n",
       "      <td>wedding</td>\n",
       "      <td>9.6%</td>\n",
       "      <td>5.6%</td>\n",
       "      <td>13.9%</td>\n",
       "      <td>7.5%</td>\n",
       "    </tr>\n",
       "  </tbody>\n",
       "</table>\n",
       "</div>"
      ],
      "text/plain": [
       "having_kids   1 kid 2 kids 3 kids and more no kids\n",
       "purpose_type                                      \n",
       "car           10.7%  12.0%  8.3%            8.5%  \n",
       "education     10.4%  11.4%  5.2%            8.7%  \n",
       "real estate   8.2%   8.5%   8.2%            6.7%  \n",
       "wedding       9.6%   5.6%   13.9%           7.5%  "
      ]
     },
     "execution_count": 33,
     "metadata": {},
     "output_type": "execute_result"
    }
   ],
   "source": [
    "#looking at the rate of customers who did not repay their debt in each group\n",
    "credit_scores_main.merge(filtered_having_kids_dictionary, left_on='having_kids_id', right_on='id')\\\n",
    "    .merge(purpose_type_dictionary, left_on='purpose_type_id', right_on='id')\\\n",
    "        .pivot_table(index='purpose_type', columns = 'having_kids', values='debt', aggfunc=debt_default_rate) "
   ]
  },
  {
   "cell_type": "markdown",
   "metadata": {},
   "source": [
    "_Funny that, among customers with 3 kids and more, the percentage of non-repayment of debt for education purposes is quite low - 5.2% although it seems quite difficult. There is also a low percentage of defaults among customers with 2 kids for wedding purpose - 5.6%, apparently people with two children are pretty serious. For customers with 3 kids and more in opposite getting married seems like a pretty daunting challenge - the percentage of non-payment is quite high - 13.9%. But it is still necessary to look at the statistical significance since the amount of people with 3+ kids is not large._"
   ]
  },
  {
   "cell_type": "markdown",
   "metadata": {},
   "source": [
    "- __A load purpose and marital status__"
   ]
  },
  {
   "cell_type": "code",
   "execution_count": 34,
   "metadata": {},
   "outputs": [
    {
     "data": {
      "text/html": [
       "<div>\n",
       "<style scoped>\n",
       "    .dataframe tbody tr th:only-of-type {\n",
       "        vertical-align: middle;\n",
       "    }\n",
       "\n",
       "    .dataframe tbody tr th {\n",
       "        vertical-align: top;\n",
       "    }\n",
       "\n",
       "    .dataframe thead th {\n",
       "        text-align: right;\n",
       "    }\n",
       "</style>\n",
       "<table border=\"1\" class=\"dataframe\">\n",
       "  <thead>\n",
       "    <tr style=\"text-align: right;\">\n",
       "      <th>family_status</th>\n",
       "      <th>civil partnership</th>\n",
       "      <th>divorced</th>\n",
       "      <th>married</th>\n",
       "      <th>unmarried</th>\n",
       "      <th>widow / widower</th>\n",
       "    </tr>\n",
       "    <tr>\n",
       "      <th>purpose_type</th>\n",
       "      <th></th>\n",
       "      <th></th>\n",
       "      <th></th>\n",
       "      <th></th>\n",
       "      <th></th>\n",
       "    </tr>\n",
       "  </thead>\n",
       "  <tbody>\n",
       "    <tr>\n",
       "      <td>car</td>\n",
       "      <td>434.0</td>\n",
       "      <td>281.0</td>\n",
       "      <td>2736.0</td>\n",
       "      <td>637.0</td>\n",
       "      <td>218.0</td>\n",
       "    </tr>\n",
       "    <tr>\n",
       "      <td>education</td>\n",
       "      <td>404.0</td>\n",
       "      <td>238.0</td>\n",
       "      <td>2595.0</td>\n",
       "      <td>577.0</td>\n",
       "      <td>199.0</td>\n",
       "    </tr>\n",
       "    <tr>\n",
       "      <td>real estate</td>\n",
       "      <td>989.0</td>\n",
       "      <td>676.0</td>\n",
       "      <td>7008.0</td>\n",
       "      <td>1596.0</td>\n",
       "      <td>542.0</td>\n",
       "    </tr>\n",
       "    <tr>\n",
       "      <td>wedding</td>\n",
       "      <td>2324.0</td>\n",
       "      <td>NaN</td>\n",
       "      <td>NaN</td>\n",
       "      <td>NaN</td>\n",
       "      <td>NaN</td>\n",
       "    </tr>\n",
       "  </tbody>\n",
       "</table>\n",
       "</div>"
      ],
      "text/plain": [
       "family_status  civil partnership  divorced  married  unmarried  \\\n",
       "purpose_type                                                     \n",
       "car            434.0              281.0     2736.0   637.0       \n",
       "education      404.0              238.0     2595.0   577.0       \n",
       "real estate    989.0              676.0     7008.0   1596.0      \n",
       "wedding        2324.0            NaN       NaN      NaN          \n",
       "\n",
       "family_status  widow / widower  \n",
       "purpose_type                    \n",
       "car            218.0            \n",
       "education      199.0            \n",
       "real estate    542.0            \n",
       "wedding       NaN               "
      ]
     },
     "execution_count": 34,
     "metadata": {},
     "output_type": "execute_result"
    }
   ],
   "source": [
    "#looking at number of observation in each group\n",
    "credit_scores_main.merge(family_status_dictionary, on='family_status_id')\\\n",
    "    .merge(purpose_type_dictionary, left_on='purpose_type_id', right_on='id')\\\n",
    "        .pivot_table(index='purpose_type', columns = 'family_status', values='debt', aggfunc='count') "
   ]
  },
  {
   "cell_type": "markdown",
   "metadata": {},
   "source": [
    "_There are no observations only for wedding purpose among divorced, married, unmarried and widow/widower customers, which is not surprising. For other groups, observations are sufficient. Let's look at debt default rate for them._"
   ]
  },
  {
   "cell_type": "code",
   "execution_count": 35,
   "metadata": {},
   "outputs": [
    {
     "data": {
      "text/html": [
       "<div>\n",
       "<style scoped>\n",
       "    .dataframe tbody tr th:only-of-type {\n",
       "        vertical-align: middle;\n",
       "    }\n",
       "\n",
       "    .dataframe tbody tr th {\n",
       "        vertical-align: top;\n",
       "    }\n",
       "\n",
       "    .dataframe thead th {\n",
       "        text-align: right;\n",
       "    }\n",
       "</style>\n",
       "<table border=\"1\" class=\"dataframe\">\n",
       "  <thead>\n",
       "    <tr style=\"text-align: right;\">\n",
       "      <th>family_status</th>\n",
       "      <th>civil partnership</th>\n",
       "      <th>divorced</th>\n",
       "      <th>married</th>\n",
       "      <th>unmarried</th>\n",
       "      <th>widow / widower</th>\n",
       "    </tr>\n",
       "    <tr>\n",
       "      <th>purpose_type</th>\n",
       "      <th></th>\n",
       "      <th></th>\n",
       "      <th></th>\n",
       "      <th></th>\n",
       "      <th></th>\n",
       "    </tr>\n",
       "  </thead>\n",
       "  <tbody>\n",
       "    <tr>\n",
       "      <td>car</td>\n",
       "      <td>11.8%</td>\n",
       "      <td>7.5%</td>\n",
       "      <td>8.4%</td>\n",
       "      <td>12.9%</td>\n",
       "      <td>9.2%</td>\n",
       "    </tr>\n",
       "    <tr>\n",
       "      <td>education</td>\n",
       "      <td>14.9%</td>\n",
       "      <td>7.1%</td>\n",
       "      <td>8.3%</td>\n",
       "      <td>10.7%</td>\n",
       "      <td>7.5%</td>\n",
       "    </tr>\n",
       "    <tr>\n",
       "      <td>real estate</td>\n",
       "      <td>9.2%</td>\n",
       "      <td>7.0%</td>\n",
       "      <td>6.9%</td>\n",
       "      <td>8.1%</td>\n",
       "      <td>5.2%</td>\n",
       "    </tr>\n",
       "    <tr>\n",
       "      <td>wedding</td>\n",
       "      <td>8.0%</td>\n",
       "      <td>NaN</td>\n",
       "      <td>NaN</td>\n",
       "      <td>NaN</td>\n",
       "      <td>NaN</td>\n",
       "    </tr>\n",
       "  </tbody>\n",
       "</table>\n",
       "</div>"
      ],
      "text/plain": [
       "family_status civil partnership divorced married unmarried widow / widower\n",
       "purpose_type                                                              \n",
       "car            11.8%             7.5%     8.4%    12.9%     9.2%          \n",
       "education      14.9%             7.1%     8.3%    10.7%     7.5%          \n",
       "real estate    9.2%              7.0%     6.9%    8.1%      5.2%          \n",
       "wedding        8.0%              NaN      NaN     NaN       NaN           "
      ]
     },
     "execution_count": 35,
     "metadata": {},
     "output_type": "execute_result"
    }
   ],
   "source": [
    "#looking at the rate of customers who did not repay their debt in each group\n",
    "credit_scores_main.merge(family_status_dictionary, on='family_status_id')\\\n",
    "    .merge(purpose_type_dictionary, left_on='purpose_type_id', right_on='id')\\\n",
    "        .pivot_table(index='purpose_type', columns = 'family_status', values='debt', aggfunc=debt_default_rate) "
   ]
  },
  {
   "cell_type": "markdown",
   "metadata": {},
   "source": [
    "_The rate of defaulted customers among widows/widowers is quite low for real estate purpose and especially in comparison with paying off the debt for the car. But the rate of defaulted customers among customers of civil partnership is high for education purpose._"
   ]
  },
  {
   "cell_type": "markdown",
   "metadata": {},
   "source": [
    "- __A load purpose and education__"
   ]
  },
  {
   "cell_type": "code",
   "execution_count": 36,
   "metadata": {},
   "outputs": [
    {
     "data": {
      "text/html": [
       "<div>\n",
       "<style scoped>\n",
       "    .dataframe tbody tr th:only-of-type {\n",
       "        vertical-align: middle;\n",
       "    }\n",
       "\n",
       "    .dataframe tbody tr th {\n",
       "        vertical-align: top;\n",
       "    }\n",
       "\n",
       "    .dataframe thead th {\n",
       "        text-align: right;\n",
       "    }\n",
       "</style>\n",
       "<table border=\"1\" class=\"dataframe\">\n",
       "  <thead>\n",
       "    <tr style=\"text-align: right;\">\n",
       "      <th>education</th>\n",
       "      <th>bachelor's degree</th>\n",
       "      <th>graduate degree</th>\n",
       "      <th>primary education</th>\n",
       "      <th>secondary education</th>\n",
       "      <th>some college</th>\n",
       "    </tr>\n",
       "    <tr>\n",
       "      <th>purpose_type</th>\n",
       "      <th></th>\n",
       "      <th></th>\n",
       "      <th></th>\n",
       "      <th></th>\n",
       "      <th></th>\n",
       "    </tr>\n",
       "  </thead>\n",
       "  <tbody>\n",
       "    <tr>\n",
       "      <td>car</td>\n",
       "      <td>1036.0</td>\n",
       "      <td>NaN</td>\n",
       "      <td>55.0</td>\n",
       "      <td>3062.0</td>\n",
       "      <td>153.0</td>\n",
       "    </tr>\n",
       "    <tr>\n",
       "      <td>education</td>\n",
       "      <td>934.0</td>\n",
       "      <td>1.0</td>\n",
       "      <td>55.0</td>\n",
       "      <td>2892.0</td>\n",
       "      <td>131.0</td>\n",
       "    </tr>\n",
       "    <tr>\n",
       "      <td>real estate</td>\n",
       "      <td>2680.0</td>\n",
       "      <td>5.0</td>\n",
       "      <td>144.0</td>\n",
       "      <td>7602.0</td>\n",
       "      <td>380.0</td>\n",
       "    </tr>\n",
       "    <tr>\n",
       "      <td>wedding</td>\n",
       "      <td>600.0</td>\n",
       "      <td>NaN</td>\n",
       "      <td>28.0</td>\n",
       "      <td>1616.0</td>\n",
       "      <td>80.0</td>\n",
       "    </tr>\n",
       "  </tbody>\n",
       "</table>\n",
       "</div>"
      ],
      "text/plain": [
       "education     bachelor's degree  graduate degree  primary education  \\\n",
       "purpose_type                                                          \n",
       "car           1036.0            NaN               55.0                \n",
       "education     934.0              1.0              55.0                \n",
       "real estate   2680.0             5.0              144.0               \n",
       "wedding       600.0             NaN               28.0                \n",
       "\n",
       "education     secondary education  some college  \n",
       "purpose_type                                     \n",
       "car           3062.0               153.0         \n",
       "education     2892.0               131.0         \n",
       "real estate   7602.0               380.0         \n",
       "wedding       1616.0               80.0          "
      ]
     },
     "execution_count": 36,
     "metadata": {},
     "output_type": "execute_result"
    }
   ],
   "source": [
    "#looking at number of observation in each group\n",
    "credit_scores_main.merge(education_dictionary, on='education_id')\\\n",
    "    .merge(purpose_type_dictionary, left_on='purpose_type_id', right_on='id')\\\n",
    "            .pivot_table(index='purpose_type', columns = 'education', values='debt', aggfunc='count') "
   ]
  },
  {
   "cell_type": "markdown",
   "metadata": {},
   "source": [
    "_There are not enough observations for graduate degree._\n",
    "\n",
    "Let's look at debt default rate for other groups."
   ]
  },
  {
   "cell_type": "code",
   "execution_count": 37,
   "metadata": {},
   "outputs": [
    {
     "data": {
      "text/html": [
       "<div>\n",
       "<style scoped>\n",
       "    .dataframe tbody tr th:only-of-type {\n",
       "        vertical-align: middle;\n",
       "    }\n",
       "\n",
       "    .dataframe tbody tr th {\n",
       "        vertical-align: top;\n",
       "    }\n",
       "\n",
       "    .dataframe thead th {\n",
       "        text-align: right;\n",
       "    }\n",
       "</style>\n",
       "<table border=\"1\" class=\"dataframe\">\n",
       "  <thead>\n",
       "    <tr style=\"text-align: right;\">\n",
       "      <th>education</th>\n",
       "      <th>bachelor's degree</th>\n",
       "      <th>primary education</th>\n",
       "      <th>secondary education</th>\n",
       "      <th>some college</th>\n",
       "    </tr>\n",
       "    <tr>\n",
       "      <th>purpose_type</th>\n",
       "      <th></th>\n",
       "      <th></th>\n",
       "      <th></th>\n",
       "      <th></th>\n",
       "    </tr>\n",
       "  </thead>\n",
       "  <tbody>\n",
       "    <tr>\n",
       "      <td>car</td>\n",
       "      <td>6.5%</td>\n",
       "      <td>10.9%</td>\n",
       "      <td>10.3%</td>\n",
       "      <td>10.5%</td>\n",
       "    </tr>\n",
       "    <tr>\n",
       "      <td>education</td>\n",
       "      <td>5.9%</td>\n",
       "      <td>9.1%</td>\n",
       "      <td>10.3%</td>\n",
       "      <td>9.2%</td>\n",
       "    </tr>\n",
       "    <tr>\n",
       "      <td>real estate</td>\n",
       "      <td>4.8%</td>\n",
       "      <td>11.1%</td>\n",
       "      <td>7.9%</td>\n",
       "      <td>8.9%</td>\n",
       "    </tr>\n",
       "    <tr>\n",
       "      <td>wedding</td>\n",
       "      <td>4.5%</td>\n",
       "      <td>14.3%</td>\n",
       "      <td>9.2%</td>\n",
       "      <td>7.5%</td>\n",
       "    </tr>\n",
       "  </tbody>\n",
       "</table>\n",
       "</div>"
      ],
      "text/plain": [
       "education    bachelor's degree primary education secondary education  \\\n",
       "purpose_type                                                           \n",
       "car           6.5%              10.9%             10.3%                \n",
       "education     5.9%              9.1%              10.3%                \n",
       "real estate   4.8%              11.1%             7.9%                 \n",
       "wedding       4.5%              14.3%             9.2%                 \n",
       "\n",
       "education    some college  \n",
       "purpose_type               \n",
       "car           10.5%        \n",
       "education     9.2%         \n",
       "real estate   8.9%         \n",
       "wedding       7.5%         "
      ]
     },
     "execution_count": 37,
     "metadata": {},
     "output_type": "execute_result"
    }
   ],
   "source": [
    "#adding to main table names of education categories\n",
    "credit_scores_main_with_educ = credit_scores_main.merge(education_dictionary, on='education_id')\n",
    "#looking at the rate of customers who did not repay their debt in each group exept 'graduate degree'\n",
    "credit_scores_main_with_educ[~credit_scores_main_with_educ.education.isin(['graduate degree'])]\\\n",
    "    .merge(purpose_type_dictionary, left_on='purpose_type_id', right_on='id')\\\n",
    "        .pivot_table(index='purpose_type', columns = 'education', values='debt', aggfunc=debt_default_rate) "
   ]
  },
  {
   "cell_type": "markdown",
   "metadata": {},
   "source": [
    "_Customers with bachelor's degrees generally repay a loan better. The rate of defaulted customers with only primary education is high for wedding purpose._ "
   ]
  },
  {
   "cell_type": "markdown",
   "metadata": {},
   "source": [
    "### Conclusions\n",
    "\n",
    "The relationship between having kids, marital status, income level and the loan purpose with the timely repaying a loan were considered by the corresponding categories for these features. For different groups it could be noticed differences in the debt default rate. It seems that  there is some connection between considered feature and repaying a loan on time. Although for most income levels, the rate is practically the same and only for customers with very high income is a litle bit lower. Found interesting differences in groups when the group is divided by 2 features at the same time. But it is necessary to look at the statistical significance of all revealed differences."
   ]
  },
  {
   "cell_type": "markdown",
   "metadata": {},
   "source": [
    "## 5. Overall Conclusion\n",
    "<a id='section5'></a>"
   ]
  },
  {
   "cell_type": "markdown",
   "metadata": {},
   "source": [
    "There are credit scoresing data from bank's loan division to further assess the impact of various customer characteristics on loan defaults. \n",
    "\n",
    "Before proceeding to the analysis, the data was preprocessed. \n",
    "\n",
    "After a general review of the data revealed:\n",
    "* columns with some odd and unknown values and one column with incorect data\n",
    "* columns with excess types\n",
    "* columns with null values\n",
    "* columns with case sensitive duplicated values\n",
    "* complitly duplicated lines\n",
    "\n",
    "It makes sense to contact the developer who sent the source file about the column with incorrect values, and also to clarify other minor inaccuracies. \n",
    "\n",
    "There ware missing values in the total income. The missing data made up a fairly large portion of the data. The total income depends on the type of employment that the bank's customer is engaged in. So that missing values in total income were filled in according to the income type.\n",
    "The excess types were converted to appropriate ones. The case sensitive duplicated values were fixed to lowercase. Then the complitly duplicated lines were dropped. \n",
    "\n",
    "To look at the relationship between having kids, marital status, income level and the loan purpose with the timely repaying a loan, the corresponding categories were created with a sufficient number of observations within them. \n",
    "\n",
    "Further, the debt default rate was considered for each group within the categories. The following differences have been identified:\n",
    "* customers without children have a slightly lower default-rate than customers with 1 or 2 children\n",
    "* widows/widowers have a litle bit lower default-rate than all bank's customers in average\n",
    "* unmarried customers have a little bit higher default-rate than all customers in average\n",
    "* customers with a very high income (1% of customers with the highest income) have a litle bit lower default-rate than all customers in average\n",
    "* customers without real estate loan purpose have a slightly lower default-rate than customers with car or education loan purposes\n",
    "\n",
    "The impact of one more feature exept a loan purpose on the customers's repaying was additionally considered. The following interesting differences were found in the respective groups:\n",
    "* civil servants have a low default-rate for wedding and real estate purposes\n",
    "* retirees have a low default-rate for real estate purposes and _wedding_\n",
    "* employees have a relatively high default-rate for a car or education\n",
    "* customers with 3 kids and more have a low default-rate for _education_ purposes\n",
    "* customers with 2 kids have a low default-rate for _wedding_ purpose\n",
    "* customers with 3 kids and more have a high default-rate for _wedding_ purpose\n",
    "* customers with bachelor's degrees generally repay a loan better\n",
    "* customers with only primary education have a high default-rate for wedding purpose\n",
    "\n",
    "It seems that there is some relation between considered features and repaying a loan on time. But it is necessary to look at the statistical significance of all revealed differences."
   ]
  },
  {
   "cell_type": "code",
   "execution_count": null,
   "metadata": {},
   "outputs": [],
   "source": []
  }
 ],
 "metadata": {
  "ExecuteTimeLog": [
   {
    "duration": 762,
    "start_time": "2021-09-12T17:01:28.294Z"
   },
   {
    "duration": 25,
    "start_time": "2021-09-12T17:01:29.059Z"
   },
   {
    "duration": 48,
    "start_time": "2021-09-12T17:01:29.087Z"
   },
   {
    "duration": 61,
    "start_time": "2021-09-12T17:01:29.138Z"
   },
   {
    "duration": 7,
    "start_time": "2021-09-12T17:01:29.201Z"
   },
   {
    "duration": 54,
    "start_time": "2021-09-12T17:01:29.210Z"
   },
   {
    "duration": 26,
    "start_time": "2021-09-12T17:01:29.267Z"
   },
   {
    "duration": 23,
    "start_time": "2021-09-12T17:01:29.297Z"
   },
   {
    "duration": 54,
    "start_time": "2021-09-12T17:01:29.323Z"
   },
   {
    "duration": 13,
    "start_time": "2021-09-12T17:01:29.379Z"
   },
   {
    "duration": 23,
    "start_time": "2021-09-12T17:01:29.395Z"
   },
   {
    "duration": 71,
    "start_time": "2021-09-12T17:01:29.421Z"
   },
   {
    "duration": 23,
    "start_time": "2021-09-12T17:01:29.494Z"
   },
   {
    "duration": 41,
    "start_time": "2021-09-12T17:01:29.520Z"
   },
   {
    "duration": 35,
    "start_time": "2021-09-12T17:01:29.564Z"
   },
   {
    "duration": 106,
    "start_time": "2021-09-12T17:01:29.601Z"
   },
   {
    "duration": 22,
    "start_time": "2021-09-12T17:01:29.710Z"
   },
   {
    "duration": 51,
    "start_time": "2021-09-12T17:01:29.734Z"
   },
   {
    "duration": 8,
    "start_time": "2021-09-12T17:01:29.787Z"
   },
   {
    "duration": 66,
    "start_time": "2021-09-12T17:01:29.797Z"
   },
   {
    "duration": 11,
    "start_time": "2021-09-12T17:01:29.866Z"
   },
   {
    "duration": 51,
    "start_time": "2021-09-12T17:01:29.879Z"
   },
   {
    "duration": 5682,
    "start_time": "2021-09-12T17:01:29.963Z"
   },
   {
    "duration": 13,
    "start_time": "2021-09-12T17:01:35.648Z"
   },
   {
    "duration": 8,
    "start_time": "2021-09-12T17:01:35.664Z"
   },
   {
    "duration": 44,
    "start_time": "2021-09-12T17:01:35.675Z"
   },
   {
    "duration": 65,
    "start_time": "2021-09-12T17:01:35.722Z"
   },
   {
    "duration": 38,
    "start_time": "2021-09-12T17:01:35.790Z"
   },
   {
    "duration": 61,
    "start_time": "2021-09-12T17:01:35.830Z"
   },
   {
    "duration": 46,
    "start_time": "2021-09-12T17:01:35.894Z"
   },
   {
    "duration": 56,
    "start_time": "2021-09-12T17:01:35.962Z"
   },
   {
    "duration": 65,
    "start_time": "2021-09-12T17:01:36.020Z"
   },
   {
    "duration": 54,
    "start_time": "2021-09-12T17:01:36.087Z"
   },
   {
    "duration": 75,
    "start_time": "2021-09-12T17:01:36.143Z"
   },
   {
    "duration": 82,
    "start_time": "2021-09-12T17:01:36.221Z"
   },
   {
    "duration": 60,
    "start_time": "2021-09-12T17:01:36.306Z"
   },
   {
    "duration": 67,
    "start_time": "2021-09-12T17:01:36.369Z"
   }
  ],
  "kernelspec": {
   "display_name": "Python 3",
   "language": "python",
   "name": "python3"
  },
  "language_info": {
   "codemirror_mode": {
    "name": "ipython",
    "version": 3
   },
   "file_extension": ".py",
   "mimetype": "text/x-python",
   "name": "python",
   "nbconvert_exporter": "python",
   "pygments_lexer": "ipython3",
   "version": "3.7.8"
  },
  "toc": {
   "base_numbering": 1,
   "nav_menu": {},
   "number_sections": true,
   "sideBar": true,
   "skip_h1_title": false,
   "title_cell": "Table of Contents",
   "title_sidebar": "Contents",
   "toc_cell": false,
   "toc_position": {},
   "toc_section_display": true,
   "toc_window_display": false
  }
 },
 "nbformat": 4,
 "nbformat_minor": 2
}
