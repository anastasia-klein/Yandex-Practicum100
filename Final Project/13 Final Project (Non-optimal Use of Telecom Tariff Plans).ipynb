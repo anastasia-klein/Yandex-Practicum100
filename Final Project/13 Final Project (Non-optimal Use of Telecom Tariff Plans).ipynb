{
 "cells": [
  {
   "cell_type": "markdown",
   "metadata": {},
   "source": [
    "# Final Project: Analysis of Non-optimal Use of Tariff Plans of the Virtual Telephony Service."
   ]
  },
  {
   "cell_type": "markdown",
   "metadata": {},
   "source": [
    "A link to the dashboard: https://public.tableau.com/app/profile/anastasia.klein/viz/FinalProject_CallsStatistics/Dashboard\n",
    "\n",
    "[dashboard 2 (other controls)](https://public.tableau.com/app/profile/anastasia.klein/viz/FinalProject_CallsStatistics/Dashboard2)\n",
    "\n",
    "A link to the presentation: https://drive.google.com/file/d/1Wyiwu5qJ_DvesaBiBwBxY3dPhQA29vLA/view?usp=sharing\n",
    "\n",
    "A link to documentation used in the analysis: https://drive.google.com/file/d/1mC_NtZTB2WiKgIpqmaqQ09RhMWT39XHq/view?usp=sharing\n",
    "\n",
    "There is the virtual telephony service that provides a communication network for organizations and distributes incoming calls among their operators, connects them to each other, and allows outgoing calls as well. \n",
    "\n",
    "Statistics on the use of the service by operators of the clients are available: what tariff plan they use, how many calls they make, duration of calls, type of calls (internal or not, incoming or outgoing), information about missed calls. \n",
    "\n",
    "The purposes of the study are to:\n",
    "* find clients with non-optimal plans and those who need bigger calling plans, reveal their characteristics\n",
    "* estimate the reduction in revenue if all users switch to plans that are more beneficial to them\n",
    "\n",
    "<a href='#section1'>1. Getting the data and studying the general information</a>\n",
    "\n",
    "<a href='#section2'>2. Data preprocessing</a>\n",
    "* <a href='#section2.1'>2.1 Data type replacement</a>\n",
    "* <a href='#section2.2'>2.2 Examing and processing duplicates</a>\n",
    "* <a href='#section2.3'>2.3 Examing and processing missing values</a>\n",
    "* <a href='#section2.4'>2.4 Data consistency checking</a>\n",
    "* <a href='#section2.5'>2.5 Investigation of outliers</a>\n",
    "\n",
    "<a href='#section3'>3. Additional calculations</a>\n",
    "\n",
    "<a href='#section4'>4. Exploratory data analysiss</a>\n",
    "\n",
    "<a href='#section5'>5. Testing hypotheses</a>\n",
    "\n",
    "<a href='#section6'>6. Overall conclusions</a>"
   ]
  },
  {
   "cell_type": "code",
   "execution_count": 1,
   "metadata": {},
   "outputs": [],
   "source": [
    "# importing of libraries\n",
    "import pandas as pd\n",
    "import numpy as np\n",
    "from matplotlib import pyplot as plt\n",
    "import matplotlib as mpl\n",
    "import seaborn as sns\n",
    "from scipy import stats as st\n",
    "import warnings\n",
    "warnings.filterwarnings('ignore')\n",
    "\n",
    "# some global constats for formatting the output string\n",
    "BOLD = '\\033[1m'\n",
    "END = '\\033[0m'\n",
    "\n",
    "# function to run Shapiro-Wilk normality tests\n",
    "def norm_test(samples, sample_descriptions, random_value_description):\n",
    "    \"\"\"The function runs Shapiro-Wilk normality tests \n",
    "    \"\"\" \n",
    "\n",
    "    print(BOLD + 'Q-Q Plots for duration of a trip for ' + ' and '.join(sample_descriptions) + ':' + END)\n",
    "    fig, axes = plt.subplots(ncols=3, figsize=(6*3, 4))\n",
    "    for i, (sample, descr) in enumerate(zip(samples, sample_descriptions)):\n",
    "        st.probplot(sample.additional_revenue, dist=\"norm\", plot=axes[i])\n",
    "        axes[i].set_title('Probability Plot for ' + descr)\n",
    "    plt.show()\n",
    "\n",
    "    # Let's test the hypothesis that the distribution of sample is normal using the Shapiro-Wilk normality test\n",
    "    print(BOLD + 'Shapiro-Wilk normality tests:' + END)\n",
    "    alpha = 0.05\n",
    "    for sample, descr in zip(samples, sample_descriptions):\n",
    "        print('Hypotheses:')\n",
    "        print(BOLD + 'H\\u2080: ' + random_value_description + ' for ' + descr + ' is distributed normally' + END)\n",
    "        print(BOLD + 'H\\u2081: ' + random_value_description + ' for ' + descr + ' is not distributed normally' + END)\n",
    "        norn_pvalue = st.shapiro(sample.additional_revenue)[1]\n",
    "        print(\"Shapiro-Wilk normality test, p-value: \", norn_pvalue)\n",
    "        if (norn_pvalue < alpha): \n",
    "            print(\"We reject the hypothesis H\\u2080\") \n",
    "        else: \n",
    "            print(\"We can't reject the hypothesis H\\u2080\") \n",
    "        print()\n",
    "        \n",
    "# function to run Mann-Whitney U test for two samples\n",
    "def mann_whitneyu_test(sample1, sample2, description):\n",
    "    \"\"\"The function runs Mann-Whitney U test for two samples\n",
    "    \"\"\" \n",
    "    \n",
    "    print(BOLD + 'Mann-Whitney U test:' + END)\n",
    "    alpha = 0.05\n",
    "    print('Hypotheses:')\n",
    "    print(BOLD + 'H\\u2080: Sample distributions of ' + description + ' are equal.'+ END)\n",
    "    print(BOLD +'H\\u2081: Sample distributions of ' + description + ' are not equal.' + END)\n",
    "    pvalue = st.mannwhitneyu(sample1, sample2, alternative='two-sided')[1]\n",
    "    print(\"Mann-Whitney U test, p-value: \", pvalue)\n",
    "    if (pvalue < alpha): \n",
    "        print(\"We reject the hypothesis H\\u2080\") \n",
    "    else: \n",
    "        print(\"We can't reject the hypothesis H\\u2080\") \n",
    "        \n",
    "# function to calculate p-value for an independent proportion z-test\n",
    "def proportions_diff_z_test(successes1, successes2, n1, n2, alternative = 'two-sided'):\n",
    "    \"\"\"The function calculates p-value for an independent proportion z-test\n",
    "    \"\"\" \n",
    "    \n",
    "    # proportion for success in the first group\n",
    "    p1 = successes1 / n1\n",
    "    # proportion for success in the second group\n",
    "    p2 = successes2 / n2 \n",
    "    # proportion in a combined dataset\n",
    "    P = (successes1 + successes2) / (n1 + n2)\n",
    "    \n",
    "    # calculating z-test statistic\n",
    "    z_stat = (p1 - p2) / np.sqrt(P * (1 - P) * (1 / n1 + 1 / n2))\n",
    "\n",
    "    # return p-value for independent proportion z-test\n",
    "    if alternative == 'two-sided':\n",
    "        return 2 * (1 - st.norm(0, 1).cdf(abs(z_stat)))\n",
    "    \n",
    "    if alternative == 'less':\n",
    "        return st.norm(0, 1).cdf(z_stat)\n",
    "\n",
    "    if alternative == 'greater':\n",
    "        return 1 - st.norm(0, 1).cdf(z_stat)\n",
    "    \n",
    "# function to calculate p-value for the proportion z-test based on a contingency table\n",
    "def proportions_diff_pvalue(contingency_table):\n",
    "    \"\"\"The function calculates p-value for an the proportion z-test based on a contingency table\n",
    "    \"\"\"\n",
    "    \n",
    "    successes1 = contingency_table.iloc[0, 0]\n",
    "    successes2 = contingency_table.iloc[1, 0]\n",
    "    \n",
    "    n1 = contingency_table.iloc[0, 1]\n",
    "    n2 = contingency_table.iloc[1, 1]\n",
    "\n",
    "    return proportions_diff_z_test(successes1, successes2, n1, n2)\n",
    "\n",
    "# function to run the independent proportion z-test based on a contingency table\n",
    "def z_test(contingency_table, description):\n",
    "    \"\"\"The function runs the independent proportion z-test based on a contingency table\n",
    "    \"\"\"\n",
    "    \n",
    "    print(BOLD + 'Two-Proportions Z-Test:' + END)\n",
    "    alpha = 0.05\n",
    "    print('Hypotheses:')\n",
    "    print(BOLD + 'H\\u2080: The proportions of ' + description + ' are equal.'+ END)\n",
    "    print(BOLD +'H\\u2081: The proportions of ' + description + ' are not equal.' + END)\n",
    "    pvalue = proportions_diff_pvalue(contingency_table)\n",
    "    print(\"The proportion difference z-test, p-value: \", pvalue)\n",
    "    if (pvalue < alpha): \n",
    "        print(\"We reject the hypothesis H\\u2080\") \n",
    "    else: \n",
    "        print(\"We can't reject the hypothesis H\\u2080\") "
   ]
  },
  {
   "cell_type": "markdown",
   "metadata": {},
   "source": [
    "## 1. Getting the data and studying the general information\n",
    "<a id='section1'></a>"
   ]
  },
  {
   "cell_type": "code",
   "execution_count": 2,
   "metadata": {},
   "outputs": [
    {
     "name": "stdout",
     "output_type": "stream",
     "text": [
      "\u001b[1mGeneral inforamation about the table contains call statistics:\u001b[0m\n",
      "<class 'pandas.core.frame.DataFrame'>\n",
      "RangeIndex: 53902 entries, 0 to 53901\n",
      "Data columns (total 9 columns):\n",
      "user_id                53902 non-null int64\n",
      "date                   53902 non-null object\n",
      "direction              53902 non-null object\n",
      "internal               53785 non-null object\n",
      "operator_id            45730 non-null float64\n",
      "is_missed_call         53902 non-null bool\n",
      "calls_count            53902 non-null int64\n",
      "call_duration          53902 non-null int64\n",
      "total_call_duration    53902 non-null int64\n",
      "dtypes: bool(1), float64(1), int64(4), object(3)\n",
      "memory usage: 3.3+ MB\n",
      "\n",
      "\u001b[1mThe first rows of the table contains call statistics:\u001b[0m\n"
     ]
    },
    {
     "data": {
      "text/html": [
       "<div>\n",
       "<style scoped>\n",
       "    .dataframe tbody tr th:only-of-type {\n",
       "        vertical-align: middle;\n",
       "    }\n",
       "\n",
       "    .dataframe tbody tr th {\n",
       "        vertical-align: top;\n",
       "    }\n",
       "\n",
       "    .dataframe thead th {\n",
       "        text-align: right;\n",
       "    }\n",
       "</style>\n",
       "<table border=\"1\" class=\"dataframe\">\n",
       "  <thead>\n",
       "    <tr style=\"text-align: right;\">\n",
       "      <th></th>\n",
       "      <th>user_id</th>\n",
       "      <th>date</th>\n",
       "      <th>direction</th>\n",
       "      <th>internal</th>\n",
       "      <th>operator_id</th>\n",
       "      <th>is_missed_call</th>\n",
       "      <th>calls_count</th>\n",
       "      <th>call_duration</th>\n",
       "      <th>total_call_duration</th>\n",
       "    </tr>\n",
       "  </thead>\n",
       "  <tbody>\n",
       "    <tr>\n",
       "      <td>0</td>\n",
       "      <td>166377</td>\n",
       "      <td>2019-08-04 00:00:00+03:00</td>\n",
       "      <td>in</td>\n",
       "      <td>False</td>\n",
       "      <td>NaN</td>\n",
       "      <td>True</td>\n",
       "      <td>2</td>\n",
       "      <td>0</td>\n",
       "      <td>4</td>\n",
       "    </tr>\n",
       "    <tr>\n",
       "      <td>1</td>\n",
       "      <td>166377</td>\n",
       "      <td>2019-08-05 00:00:00+03:00</td>\n",
       "      <td>out</td>\n",
       "      <td>True</td>\n",
       "      <td>880022.0</td>\n",
       "      <td>True</td>\n",
       "      <td>3</td>\n",
       "      <td>0</td>\n",
       "      <td>5</td>\n",
       "    </tr>\n",
       "    <tr>\n",
       "      <td>2</td>\n",
       "      <td>166377</td>\n",
       "      <td>2019-08-05 00:00:00+03:00</td>\n",
       "      <td>out</td>\n",
       "      <td>True</td>\n",
       "      <td>880020.0</td>\n",
       "      <td>True</td>\n",
       "      <td>1</td>\n",
       "      <td>0</td>\n",
       "      <td>1</td>\n",
       "    </tr>\n",
       "    <tr>\n",
       "      <td>3</td>\n",
       "      <td>166377</td>\n",
       "      <td>2019-08-05 00:00:00+03:00</td>\n",
       "      <td>out</td>\n",
       "      <td>True</td>\n",
       "      <td>880020.0</td>\n",
       "      <td>False</td>\n",
       "      <td>1</td>\n",
       "      <td>10</td>\n",
       "      <td>18</td>\n",
       "    </tr>\n",
       "    <tr>\n",
       "      <td>4</td>\n",
       "      <td>166377</td>\n",
       "      <td>2019-08-05 00:00:00+03:00</td>\n",
       "      <td>out</td>\n",
       "      <td>False</td>\n",
       "      <td>880022.0</td>\n",
       "      <td>True</td>\n",
       "      <td>3</td>\n",
       "      <td>0</td>\n",
       "      <td>25</td>\n",
       "    </tr>\n",
       "  </tbody>\n",
       "</table>\n",
       "</div>"
      ],
      "text/plain": [
       "   user_id                       date direction internal  operator_id  \\\n",
       "0   166377  2019-08-04 00:00:00+03:00        in    False          NaN   \n",
       "1   166377  2019-08-05 00:00:00+03:00       out     True     880022.0   \n",
       "2   166377  2019-08-05 00:00:00+03:00       out     True     880020.0   \n",
       "3   166377  2019-08-05 00:00:00+03:00       out     True     880020.0   \n",
       "4   166377  2019-08-05 00:00:00+03:00       out    False     880022.0   \n",
       "\n",
       "   is_missed_call  calls_count  call_duration  total_call_duration  \n",
       "0            True            2              0                    4  \n",
       "1            True            3              0                    5  \n",
       "2            True            1              0                    1  \n",
       "3           False            1             10                   18  \n",
       "4            True            3              0                   25  "
      ]
     },
     "metadata": {},
     "output_type": "display_data"
    },
    {
     "name": "stdout",
     "output_type": "stream",
     "text": [
      "\n",
      "\u001b[1mGeneral inforamation about the table contains clients info:\u001b[0m\n",
      "<class 'pandas.core.frame.DataFrame'>\n",
      "RangeIndex: 732 entries, 0 to 731\n",
      "Data columns (total 3 columns):\n",
      "user_id        732 non-null int64\n",
      "tariff_plan    732 non-null object\n",
      "date_start     732 non-null object\n",
      "dtypes: int64(1), object(2)\n",
      "memory usage: 17.3+ KB\n",
      "\n",
      "\u001b[1mThe first rows of the table contains clients info:\u001b[0m\n"
     ]
    },
    {
     "data": {
      "text/html": [
       "<div>\n",
       "<style scoped>\n",
       "    .dataframe tbody tr th:only-of-type {\n",
       "        vertical-align: middle;\n",
       "    }\n",
       "\n",
       "    .dataframe tbody tr th {\n",
       "        vertical-align: top;\n",
       "    }\n",
       "\n",
       "    .dataframe thead th {\n",
       "        text-align: right;\n",
       "    }\n",
       "</style>\n",
       "<table border=\"1\" class=\"dataframe\">\n",
       "  <thead>\n",
       "    <tr style=\"text-align: right;\">\n",
       "      <th></th>\n",
       "      <th>user_id</th>\n",
       "      <th>tariff_plan</th>\n",
       "      <th>date_start</th>\n",
       "    </tr>\n",
       "  </thead>\n",
       "  <tbody>\n",
       "    <tr>\n",
       "      <td>0</td>\n",
       "      <td>166713</td>\n",
       "      <td>A</td>\n",
       "      <td>2019-08-15</td>\n",
       "    </tr>\n",
       "    <tr>\n",
       "      <td>1</td>\n",
       "      <td>166901</td>\n",
       "      <td>A</td>\n",
       "      <td>2019-08-23</td>\n",
       "    </tr>\n",
       "    <tr>\n",
       "      <td>2</td>\n",
       "      <td>168527</td>\n",
       "      <td>A</td>\n",
       "      <td>2019-10-29</td>\n",
       "    </tr>\n",
       "    <tr>\n",
       "      <td>3</td>\n",
       "      <td>167097</td>\n",
       "      <td>A</td>\n",
       "      <td>2019-09-01</td>\n",
       "    </tr>\n",
       "    <tr>\n",
       "      <td>4</td>\n",
       "      <td>168193</td>\n",
       "      <td>A</td>\n",
       "      <td>2019-10-16</td>\n",
       "    </tr>\n",
       "  </tbody>\n",
       "</table>\n",
       "</div>"
      ],
      "text/plain": [
       "   user_id tariff_plan  date_start\n",
       "0   166713           A  2019-08-15\n",
       "1   166901           A  2019-08-23\n",
       "2   168527           A  2019-10-29\n",
       "3   167097           A  2019-09-01\n",
       "4   168193           A  2019-10-16"
      ]
     },
     "metadata": {},
     "output_type": "display_data"
    },
    {
     "name": "stdout",
     "output_type": "stream",
     "text": [
      "\n"
     ]
    }
   ],
   "source": [
    "# reading files that contain the virtual telephony servise data \n",
    "df = pd.read_csv('/datasets/telecom_dataset_us.csv')\n",
    "clients = pd.read_csv('/datasets/telecom_clients_us.csv')\n",
    "\n",
    "# creating lists of tables and descriptions to them\n",
    "tables = [df, clients]\n",
    "descriptions = ['call statistics', 'clients info']\n",
    "\n",
    "for i, (table, description) in enumerate(zip(tables, descriptions)):\n",
    "    # looking at the data's general information.\n",
    "    print(BOLD + 'General inforamation about the table contains ' \n",
    "          + description + ':' + END)\n",
    "    table.info()\n",
    "    print()\n",
    "    \n",
    "    # looking at the first few rows in a table\n",
    "    print(BOLD + 'The first rows of the table contains ' \n",
    "      + description + ':' + END)\n",
    "    display(table.head())\n",
    "    print()"
   ]
  },
  {
   "cell_type": "markdown",
   "metadata": {},
   "source": [
    "The dataset contains daily reports on internal, external, incoming and outgoing calls of 732 clients of the virtual telephony service.\n",
    "\n",
    "There are 8,172 missing values in the `'operator_id'` column, which is about 15% of all data. There are also 117 missing values in the `'internal'` column.\n",
    "\n",
    "The `'internal'` column appears to contain boolean values, but it has null values as well, therefor object type is used. For the `'operator_id'` column float64 is used, but it seems to contain integer type. For the `'date'` and `'date_start'` columns, it's nessecary to change the type to datetime to make it convenient to work with dates."
   ]
  },
  {
   "cell_type": "code",
   "execution_count": 3,
   "metadata": {},
   "outputs": [
    {
     "name": "stdout",
     "output_type": "stream",
     "text": [
      "\u001b[1mCategorical features:\u001b[0m\n",
      "The columns with categorical values in the table containing data on \u001b[1mcall statistics\u001b[0m:\n"
     ]
    },
    {
     "data": {
      "text/html": [
       "<div>\n",
       "<style scoped>\n",
       "    .dataframe tbody tr th:only-of-type {\n",
       "        vertical-align: middle;\n",
       "    }\n",
       "\n",
       "    .dataframe tbody tr th {\n",
       "        vertical-align: top;\n",
       "    }\n",
       "\n",
       "    .dataframe thead th {\n",
       "        text-align: right;\n",
       "    }\n",
       "</style>\n",
       "<table border=\"1\" class=\"dataframe\">\n",
       "  <thead>\n",
       "    <tr style=\"text-align: right;\">\n",
       "      <th></th>\n",
       "      <th>unique</th>\n",
       "      <th>nunique</th>\n",
       "    </tr>\n",
       "  </thead>\n",
       "  <tbody>\n",
       "    <tr>\n",
       "      <td>direction</td>\n",
       "      <td>[in, out]</td>\n",
       "      <td>2</td>\n",
       "    </tr>\n",
       "    <tr>\n",
       "      <td>internal</td>\n",
       "      <td>[False, True, nan]</td>\n",
       "      <td>2</td>\n",
       "    </tr>\n",
       "  </tbody>\n",
       "</table>\n",
       "</div>"
      ],
      "text/plain": [
       "                       unique nunique\n",
       "direction  [in, out]           2     \n",
       "internal   [False, True, nan]  2     "
      ]
     },
     "metadata": {},
     "output_type": "display_data"
    },
    {
     "name": "stdout",
     "output_type": "stream",
     "text": [
      "\n",
      "The columns with categorical values in the table containing data on \u001b[1mclients info\u001b[0m:\n"
     ]
    },
    {
     "data": {
      "text/html": [
       "<div>\n",
       "<style scoped>\n",
       "    .dataframe tbody tr th:only-of-type {\n",
       "        vertical-align: middle;\n",
       "    }\n",
       "\n",
       "    .dataframe tbody tr th {\n",
       "        vertical-align: top;\n",
       "    }\n",
       "\n",
       "    .dataframe thead th {\n",
       "        text-align: right;\n",
       "    }\n",
       "</style>\n",
       "<table border=\"1\" class=\"dataframe\">\n",
       "  <thead>\n",
       "    <tr style=\"text-align: right;\">\n",
       "      <th></th>\n",
       "      <th>unique</th>\n",
       "      <th>nunique</th>\n",
       "    </tr>\n",
       "  </thead>\n",
       "  <tbody>\n",
       "    <tr>\n",
       "      <td>tariff_plan</td>\n",
       "      <td>[A, C, B]</td>\n",
       "      <td>3</td>\n",
       "    </tr>\n",
       "  </tbody>\n",
       "</table>\n",
       "</div>"
      ],
      "text/plain": [
       "                unique nunique\n",
       "tariff_plan  [A, C, B]  3     "
      ]
     },
     "metadata": {},
     "output_type": "display_data"
    },
    {
     "name": "stdout",
     "output_type": "stream",
     "text": [
      "\n",
      "\u001b[1mFeatures containg ID values:\u001b[0m\n"
     ]
    },
    {
     "data": {
      "text/html": [
       "<div>\n",
       "<style scoped>\n",
       "    .dataframe tbody tr th:only-of-type {\n",
       "        vertical-align: middle;\n",
       "    }\n",
       "\n",
       "    .dataframe tbody tr th {\n",
       "        vertical-align: top;\n",
       "    }\n",
       "\n",
       "    .dataframe thead th {\n",
       "        text-align: right;\n",
       "    }\n",
       "</style>\n",
       "<table border=\"1\" class=\"dataframe\">\n",
       "  <thead>\n",
       "    <tr style=\"text-align: right;\">\n",
       "      <th></th>\n",
       "      <th>nunique</th>\n",
       "      <th>min</th>\n",
       "      <th>max</th>\n",
       "    </tr>\n",
       "  </thead>\n",
       "  <tbody>\n",
       "    <tr>\n",
       "      <td>user_id</td>\n",
       "      <td>307.0</td>\n",
       "      <td>166377.0</td>\n",
       "      <td>168606.0</td>\n",
       "    </tr>\n",
       "    <tr>\n",
       "      <td>operator_id</td>\n",
       "      <td>1092.0</td>\n",
       "      <td>879896.0</td>\n",
       "      <td>973286.0</td>\n",
       "    </tr>\n",
       "  </tbody>\n",
       "</table>\n",
       "</div>"
      ],
      "text/plain": [
       "             nunique       min       max\n",
       "user_id      307.0    166377.0  168606.0\n",
       "operator_id  1092.0   879896.0  973286.0"
      ]
     },
     "metadata": {},
     "output_type": "display_data"
    },
    {
     "name": "stdout",
     "output_type": "stream",
     "text": [
      "\u001b[1mNumerical features:\u001b[0m\n"
     ]
    },
    {
     "data": {
      "text/html": [
       "<div>\n",
       "<style scoped>\n",
       "    .dataframe tbody tr th:only-of-type {\n",
       "        vertical-align: middle;\n",
       "    }\n",
       "\n",
       "    .dataframe tbody tr th {\n",
       "        vertical-align: top;\n",
       "    }\n",
       "\n",
       "    .dataframe thead th {\n",
       "        text-align: right;\n",
       "    }\n",
       "</style>\n",
       "<table border=\"1\" class=\"dataframe\">\n",
       "  <thead>\n",
       "    <tr style=\"text-align: right;\">\n",
       "      <th></th>\n",
       "      <th>count</th>\n",
       "      <th>mean</th>\n",
       "      <th>std</th>\n",
       "      <th>min</th>\n",
       "      <th>25%</th>\n",
       "      <th>50%</th>\n",
       "      <th>75%</th>\n",
       "      <th>max</th>\n",
       "    </tr>\n",
       "  </thead>\n",
       "  <tbody>\n",
       "    <tr>\n",
       "      <td>calls_count</td>\n",
       "      <td>53902.0</td>\n",
       "      <td>16.45</td>\n",
       "      <td>62.92</td>\n",
       "      <td>1.0</td>\n",
       "      <td>1.0</td>\n",
       "      <td>4.0</td>\n",
       "      <td>12.0</td>\n",
       "      <td>4817.0</td>\n",
       "    </tr>\n",
       "    <tr>\n",
       "      <td>call_duration</td>\n",
       "      <td>53902.0</td>\n",
       "      <td>866.68</td>\n",
       "      <td>3731.79</td>\n",
       "      <td>0.0</td>\n",
       "      <td>0.0</td>\n",
       "      <td>38.0</td>\n",
       "      <td>572.0</td>\n",
       "      <td>144395.0</td>\n",
       "    </tr>\n",
       "    <tr>\n",
       "      <td>total_call_duration</td>\n",
       "      <td>53902.0</td>\n",
       "      <td>1157.13</td>\n",
       "      <td>4403.47</td>\n",
       "      <td>0.0</td>\n",
       "      <td>47.0</td>\n",
       "      <td>210.0</td>\n",
       "      <td>902.0</td>\n",
       "      <td>166155.0</td>\n",
       "    </tr>\n",
       "  </tbody>\n",
       "</table>\n",
       "</div>"
      ],
      "text/plain": [
       "                       count     mean      std  min   25%    50%    75%  \\\n",
       "calls_count          53902.0  16.45    62.92    1.0  1.0   4.0    12.0    \n",
       "call_duration        53902.0  866.68   3731.79  0.0  0.0   38.0   572.0   \n",
       "total_call_duration  53902.0  1157.13  4403.47  0.0  47.0  210.0  902.0   \n",
       "\n",
       "                          max  \n",
       "calls_count          4817.0    \n",
       "call_duration        144395.0  \n",
       "total_call_duration  166155.0  "
      ]
     },
     "metadata": {},
     "output_type": "display_data"
    },
    {
     "name": "stdout",
     "output_type": "stream",
     "text": [
      "\u001b[1mFeatures containing dates:\u001b[0m\n",
      "Date range in the table containing data on \u001b[1mcall statistics\u001b[0m:\n"
     ]
    },
    {
     "data": {
      "text/html": [
       "<div>\n",
       "<style scoped>\n",
       "    .dataframe tbody tr th:only-of-type {\n",
       "        vertical-align: middle;\n",
       "    }\n",
       "\n",
       "    .dataframe tbody tr th {\n",
       "        vertical-align: top;\n",
       "    }\n",
       "\n",
       "    .dataframe thead th {\n",
       "        text-align: right;\n",
       "    }\n",
       "</style>\n",
       "<table border=\"1\" class=\"dataframe\">\n",
       "  <thead>\n",
       "    <tr style=\"text-align: right;\">\n",
       "      <th></th>\n",
       "      <th>date</th>\n",
       "    </tr>\n",
       "  </thead>\n",
       "  <tbody>\n",
       "    <tr>\n",
       "      <td>min</td>\n",
       "      <td>2019-08-02 00:00:00+03:00</td>\n",
       "    </tr>\n",
       "    <tr>\n",
       "      <td>max</td>\n",
       "      <td>2019-11-28 00:00:00+03:00</td>\n",
       "    </tr>\n",
       "  </tbody>\n",
       "</table>\n",
       "</div>"
      ],
      "text/plain": [
       "                          date\n",
       "min  2019-08-02 00:00:00+03:00\n",
       "max  2019-11-28 00:00:00+03:00"
      ]
     },
     "metadata": {},
     "output_type": "display_data"
    },
    {
     "name": "stdout",
     "output_type": "stream",
     "text": [
      "Date range in the table containing data on \u001b[1mclients info\u001b[0m:\n"
     ]
    },
    {
     "data": {
      "text/html": [
       "<div>\n",
       "<style scoped>\n",
       "    .dataframe tbody tr th:only-of-type {\n",
       "        vertical-align: middle;\n",
       "    }\n",
       "\n",
       "    .dataframe tbody tr th {\n",
       "        vertical-align: top;\n",
       "    }\n",
       "\n",
       "    .dataframe thead th {\n",
       "        text-align: right;\n",
       "    }\n",
       "</style>\n",
       "<table border=\"1\" class=\"dataframe\">\n",
       "  <thead>\n",
       "    <tr style=\"text-align: right;\">\n",
       "      <th></th>\n",
       "      <th>date_start</th>\n",
       "    </tr>\n",
       "  </thead>\n",
       "  <tbody>\n",
       "    <tr>\n",
       "      <td>min</td>\n",
       "      <td>2019-08-01</td>\n",
       "    </tr>\n",
       "    <tr>\n",
       "      <td>max</td>\n",
       "      <td>2019-10-31</td>\n",
       "    </tr>\n",
       "  </tbody>\n",
       "</table>\n",
       "</div>"
      ],
      "text/plain": [
       "     date_start\n",
       "min  2019-08-01\n",
       "max  2019-10-31"
      ]
     },
     "metadata": {},
     "output_type": "display_data"
    },
    {
     "name": "stdout",
     "output_type": "stream",
     "text": [
      "\u001b[1mChecking types:\u001b[0m\n",
      "Are all values of 'operator_id' column integer? \u001b[1m True \u001b[0m\n",
      "\n",
      "Does the 'date' column contain hours? \u001b[1m False \u001b[0m\n",
      "Does the 'date' column contain minutes? \u001b[1m False \u001b[0m\n",
      "Does the 'date' column contain seconds? \u001b[1m False \u001b[0m\n"
     ]
    }
   ],
   "source": [
    "# Let's take a closer look at the values that the features take.\n",
    "\n",
    "# Let's look at the values that take categorical features \n",
    "print(BOLD + 'Categorical features:' + END)\n",
    "for table, cols, descr in zip(tables, [['direction','internal'], ['tariff_plan']],\n",
    "                              descriptions):\n",
    "    print(\"The columns with categorical values in the table containing data on \" + BOLD + descr + END + ':')\n",
    "    pd.set_option('display.max_colwidth', -1)\n",
    "    display(table[cols].agg(['unique', 'nunique']).T)\n",
    "    print()\n",
    "    \n",
    "print(BOLD + 'Features containg ID values:' + END)\n",
    "display(df[['user_id', 'operator_id']].agg(['nunique', 'min', 'max']).T)\n",
    "\n",
    "# Let's look at the values that take numerical features. \n",
    "print(BOLD + 'Numerical features:' + END)\n",
    "display(df[['calls_count', 'call_duration', 'total_call_duration']].describe().round(2).T)\n",
    "    \n",
    "# Let's look at date range in the dataset\n",
    "print(BOLD + 'Features containing dates:' + END)\n",
    "for table, date_cols, descr in zip(tables, [['date'], ['date_start']], descriptions):\n",
    "    print(\"Date range in the table containing data on \" + BOLD + descr + END + ':')\n",
    "    display(table[date_cols].agg(['min', 'max']))\n",
    "\n",
    "print(BOLD + 'Checking types:' + END)\n",
    "# checking if the 'operator_id' column has only integer values\n",
    "print(\"Are all values of 'operator_id' column integer?\", BOLD, \n",
    "      df[df.operator_id.notnull()].operator_id.apply(float.is_integer).all(), END)\n",
    "print()\n",
    "\n",
    "# Checking if the 'date' column contains time (hours, minutes, seconds)\n",
    "print(\"Does the 'date' column contain hours?\", BOLD, \n",
    "      (pd.to_datetime(df.date).map(lambda x: x.hour)>0).any(), END)\n",
    "\n",
    "print(\"Does the 'date' column contain minutes?\", BOLD, \n",
    "      (pd.to_datetime(df.date).map(lambda x: x.minute)>0).any(), END)\n",
    "\n",
    "print(\"Does the 'date' column contain seconds?\", BOLD, \n",
    "      (pd.to_datetime(df.date).map(lambda x: x.second)>0).any(), END)"
   ]
  },
  {
   "cell_type": "markdown",
   "metadata": {},
   "source": [
    "There are three types of tariff plans in the dataset (calling plans A, B and C).\n",
    "\n",
    "The dataset contains reports for only 307 clients, which is about 40% of all clients registered from August 1st, 2019 to October 31st, 2019 (see table with clients info). There are reports from August 2nd, 2019 to November 28th, 2019.\n",
    "\n",
    "An average number calls in a report is 4, the maximum is 4817 that corresponds to continuous calls every 18 seconds throughout the day.\n",
    "\n",
    "An average call duration is 38 and with waiting time is 210 units. There can be both minutes and seconds. This information is not specified in the specification. The maximum call duration including waiting time is 166155, which corresponds to 2 days of continuous calling, assuming the duration is in seconds. This value looks like an outlier.\n",
    "\n",
    "We could use Int32 type for the `'operator_id'` column and discard time in the `'date'` column for the convenience of further calculations."
   ]
  },
  {
   "cell_type": "code",
   "execution_count": 4,
   "metadata": {},
   "outputs": [
    {
     "name": "stdout",
     "output_type": "stream",
     "text": [
      "\u001b[1mNumber of clients with reports by date for last 2 weeks:\u001b[0m\n"
     ]
    },
    {
     "data": {
      "text/html": [
       "<div>\n",
       "<style scoped>\n",
       "    .dataframe tbody tr th:only-of-type {\n",
       "        vertical-align: middle;\n",
       "    }\n",
       "\n",
       "    .dataframe tbody tr th {\n",
       "        vertical-align: top;\n",
       "    }\n",
       "\n",
       "    .dataframe thead th {\n",
       "        text-align: right;\n",
       "    }\n",
       "</style>\n",
       "<table border=\"1\" class=\"dataframe\">\n",
       "  <thead>\n",
       "    <tr style=\"text-align: right;\">\n",
       "      <th></th>\n",
       "      <th>date</th>\n",
       "      <th>number of clients</th>\n",
       "    </tr>\n",
       "  </thead>\n",
       "  <tbody>\n",
       "    <tr>\n",
       "      <td>0</td>\n",
       "      <td>2019-11-15 00:00:00+03:00</td>\n",
       "      <td>168</td>\n",
       "    </tr>\n",
       "    <tr>\n",
       "      <td>1</td>\n",
       "      <td>2019-11-16 00:00:00+03:00</td>\n",
       "      <td>95</td>\n",
       "    </tr>\n",
       "    <tr>\n",
       "      <td>2</td>\n",
       "      <td>2019-11-17 00:00:00+03:00</td>\n",
       "      <td>93</td>\n",
       "    </tr>\n",
       "    <tr>\n",
       "      <td>3</td>\n",
       "      <td>2019-11-18 00:00:00+03:00</td>\n",
       "      <td>166</td>\n",
       "    </tr>\n",
       "    <tr>\n",
       "      <td>4</td>\n",
       "      <td>2019-11-19 00:00:00+03:00</td>\n",
       "      <td>172</td>\n",
       "    </tr>\n",
       "    <tr>\n",
       "      <td>5</td>\n",
       "      <td>2019-11-20 00:00:00+03:00</td>\n",
       "      <td>177</td>\n",
       "    </tr>\n",
       "    <tr>\n",
       "      <td>6</td>\n",
       "      <td>2019-11-21 00:00:00+03:00</td>\n",
       "      <td>163</td>\n",
       "    </tr>\n",
       "    <tr>\n",
       "      <td>7</td>\n",
       "      <td>2019-11-22 00:00:00+03:00</td>\n",
       "      <td>168</td>\n",
       "    </tr>\n",
       "    <tr>\n",
       "      <td>8</td>\n",
       "      <td>2019-11-23 00:00:00+03:00</td>\n",
       "      <td>106</td>\n",
       "    </tr>\n",
       "    <tr>\n",
       "      <td>9</td>\n",
       "      <td>2019-11-24 00:00:00+03:00</td>\n",
       "      <td>89</td>\n",
       "    </tr>\n",
       "    <tr>\n",
       "      <td>10</td>\n",
       "      <td>2019-11-25 00:00:00+03:00</td>\n",
       "      <td>168</td>\n",
       "    </tr>\n",
       "    <tr>\n",
       "      <td>11</td>\n",
       "      <td>2019-11-26 00:00:00+03:00</td>\n",
       "      <td>167</td>\n",
       "    </tr>\n",
       "    <tr>\n",
       "      <td>12</td>\n",
       "      <td>2019-11-27 00:00:00+03:00</td>\n",
       "      <td>169</td>\n",
       "    </tr>\n",
       "    <tr>\n",
       "      <td>13</td>\n",
       "      <td>2019-11-28 00:00:00+03:00</td>\n",
       "      <td>166</td>\n",
       "    </tr>\n",
       "  </tbody>\n",
       "</table>\n",
       "</div>"
      ],
      "text/plain": [
       "                         date  number of clients\n",
       "0   2019-11-15 00:00:00+03:00  168              \n",
       "1   2019-11-16 00:00:00+03:00  95               \n",
       "2   2019-11-17 00:00:00+03:00  93               \n",
       "3   2019-11-18 00:00:00+03:00  166              \n",
       "4   2019-11-19 00:00:00+03:00  172              \n",
       "5   2019-11-20 00:00:00+03:00  177              \n",
       "6   2019-11-21 00:00:00+03:00  163              \n",
       "7   2019-11-22 00:00:00+03:00  168              \n",
       "8   2019-11-23 00:00:00+03:00  106              \n",
       "9   2019-11-24 00:00:00+03:00  89               \n",
       "10  2019-11-25 00:00:00+03:00  168              \n",
       "11  2019-11-26 00:00:00+03:00  167              \n",
       "12  2019-11-27 00:00:00+03:00  169              \n",
       "13  2019-11-28 00:00:00+03:00  166              "
      ]
     },
     "metadata": {},
     "output_type": "display_data"
    }
   ],
   "source": [
    "# Let's see if clients have reports every day\n",
    "print(BOLD + 'Number of clients with reports by date for last 2 weeks:' + END)\n",
    "display(df.groupby('date').user_id.nunique().tail(14).reset_index().rename(columns={'user_id':'number of clients'}))"
   ]
  },
  {
   "cell_type": "markdown",
   "metadata": {},
   "source": [
    "Clients do not have reports every day. Most likely some reports contain data for several days."
   ]
  },
  {
   "cell_type": "markdown",
   "metadata": {},
   "source": [
    "<a id='section2'></a>\n",
    "## 2. Data Preprocessing"
   ]
  },
  {
   "cell_type": "markdown",
   "metadata": {},
   "source": [
    "<a id='section2.1'></a>\n",
    "###  2.1 Data Type Replacement"
   ]
  },
  {
   "cell_type": "code",
   "execution_count": 5,
   "metadata": {},
   "outputs": [],
   "source": [
    "# converting date columns to datatime type:\n",
    "df['date'] = df.date.astype('datetime64[D]')\n",
    "clients['date_start'] = pd.to_datetime(clients.date_start, format='%Y-%m-%d')\n",
    "\n",
    "# converting excess type with help of astype() method:\n",
    "df['operator_id'] = df.operator_id.astype('Int32')"
   ]
  },
  {
   "cell_type": "markdown",
   "metadata": {},
   "source": [
    "The type for the `'date'` and `'date_start'` columns has been changed to datetime to make them convenient to work with it. Excess types for `'operator_id'` column has been converted to proper ones. "
   ]
  },
  {
   "cell_type": "markdown",
   "metadata": {},
   "source": [
    "<a id='section2.2'></a>\n",
    "###  2.2 Examing and Processing Duplicates"
   ]
  },
  {
   "cell_type": "code",
   "execution_count": 6,
   "metadata": {},
   "outputs": [
    {
     "name": "stdout",
     "output_type": "stream",
     "text": [
      "\u001b[1mFull duplicates:\u001b[0m\n",
      "The number of full duplicates in the table containing data on \u001b[1mcall statistics\u001b[0m is 4900, which is 9.1% of all data.\n",
      "The number of full duplicates in the table containing data on \u001b[1mclients info\u001b[0m is 0, which is 0.0% of all data.\n"
     ]
    }
   ],
   "source": [
    "# Let's look at duplicates  \n",
    "print(BOLD + 'Full duplicates:' + END)\n",
    "for table, descr in zip(tables, descriptions):\n",
    "    print(\"The number of full duplicates in the table containing data on \" + BOLD + descr + END \n",
    "          + ' is {}, which is {:.1%} of all data.'.format(len(table[table.duplicated()]),\n",
    "                                                        len(table[table.duplicated()])/len(table)))"
   ]
  },
  {
   "cell_type": "markdown",
   "metadata": {},
   "source": [
    "There are almost 5 thousand full duplicate rows in the report table. It makes sense to delete them."
   ]
  },
  {
   "cell_type": "code",
   "execution_count": 7,
   "metadata": {},
   "outputs": [],
   "source": [
    "# Let's drop duplicates\n",
    "df.drop_duplicates(inplace=True)"
   ]
  },
  {
   "cell_type": "markdown",
   "metadata": {},
   "source": [
    "The duplicate rows have been removed."
   ]
  },
  {
   "cell_type": "markdown",
   "metadata": {},
   "source": [
    "<a id='section2.3'></a>\n",
    "### 2.3 Examing and Processing Missing Values"
   ]
  },
  {
   "cell_type": "markdown",
   "metadata": {},
   "source": [
    "__Investigating missing values in the 'operator_id' column__ "
   ]
  },
  {
   "cell_type": "code",
   "execution_count": 8,
   "metadata": {},
   "outputs": [
    {
     "name": "stdout",
     "output_type": "stream",
     "text": [
      "\u001b[1mThere are 305 users with missing 'operator_id' values.\u001b[0m\n",
      "\u001b[1mThere are 17 users with only missing 'operator_id' values.\u001b[0m\n"
     ]
    }
   ],
   "source": [
    "# Let's investigate missing values in the 'operator_id' column\n",
    "users_with_missing_operator_id = df[df.operator_id.isnull()].user_id.unique()\n",
    "print(BOLD + \"There are {} users with missing 'operator_id' values.\"\\\n",
    "                 .format(len(users_with_missing_operator_id)) + END)\n",
    "\n",
    "users_with_all_null_operator_id = df[df.user_id.isin(users_with_missing_operator_id)]\\\n",
    "    .groupby('user_id').operator_id.nunique().reset_index().query('operator_id==0').user_id\n",
    "print(BOLD + \"There are {} users with only missing 'operator_id' values.\"\\\n",
    "                 .format(len(users_with_all_null_operator_id)) + END)"
   ]
  },
  {
   "cell_type": "markdown",
   "metadata": {},
   "source": [
    "305 out of 307 clients with reports have missing values in the `'operator_id'` column. \n",
    "\n",
    "The missing value of the `'operator_id'` column might affect further calculations of the cost of communication services as each individual operator is charged. This is especially true for clients who only have null `'operator_id'` values, since then the operator's cost will not be calculated."
   ]
  },
  {
   "cell_type": "code",
   "execution_count": 9,
   "metadata": {},
   "outputs": [
    {
     "name": "stdout",
     "output_type": "stream",
     "text": [
      "\u001b[1mDuplicated date for the same 'user_id', 'direction', 'internal', 'is_missing_call' values for clients who only have null 'operator_id' values:\u001b[0m\n"
     ]
    },
    {
     "data": {
      "text/html": [
       "<div>\n",
       "<style scoped>\n",
       "    .dataframe tbody tr th:only-of-type {\n",
       "        vertical-align: middle;\n",
       "    }\n",
       "\n",
       "    .dataframe tbody tr th {\n",
       "        vertical-align: top;\n",
       "    }\n",
       "\n",
       "    .dataframe thead th {\n",
       "        text-align: right;\n",
       "    }\n",
       "</style>\n",
       "<table border=\"1\" class=\"dataframe\">\n",
       "  <thead>\n",
       "    <tr style=\"text-align: right;\">\n",
       "      <th></th>\n",
       "      <th>user_id</th>\n",
       "      <th>date</th>\n",
       "      <th>direction</th>\n",
       "      <th>internal</th>\n",
       "      <th>operator_id</th>\n",
       "      <th>is_missed_call</th>\n",
       "      <th>calls_count</th>\n",
       "      <th>call_duration</th>\n",
       "      <th>total_call_duration</th>\n",
       "    </tr>\n",
       "  </thead>\n",
       "  <tbody>\n",
       "  </tbody>\n",
       "</table>\n",
       "</div>"
      ],
      "text/plain": [
       "Empty DataFrame\n",
       "Columns: [user_id, date, direction, internal, operator_id, is_missed_call, calls_count, call_duration, total_call_duration]\n",
       "Index: []"
      ]
     },
     "metadata": {},
     "output_type": "display_data"
    }
   ],
   "source": [
    "# Let's investigate clients who only have null 'operator_id' values\n",
    "# if there are no recurring days with the same 'user_id', 'direction', 'internal', 'is_missing_call' values\n",
    "# since this would mean they most likely have only one operator.\n",
    "print(BOLD + \"Duplicated date for the same 'user_id', 'direction', 'internal', 'is_missing_call' values \"\n",
    "           + \"for clients who only have null 'operator_id' values:\" + END)\n",
    "display(df[df.user_id.isin(users_with_all_null_operator_id)][df[df.user_id.isin(users_with_all_null_operator_id)]\\\n",
    "           .duplicated(['user_id', 'date', 'direction', 'internal', 'is_missed_call'], keep=False)])\n"
   ]
  },
  {
   "cell_type": "markdown",
   "metadata": {},
   "source": [
    "Most likely, clients who only have null values for `'operator_id'` only have one operator. We can set the `'user_id'` value as the `'operator_id'` value. Note in the dataset `'user_id'` and `'operator_id'` are not intercect (see general info, their min and max values)."
   ]
  },
  {
   "cell_type": "code",
   "execution_count": 10,
   "metadata": {},
   "outputs": [],
   "source": [
    "# Let's replace 'operator_id' with 'user_id' for clients with only null values for 'operator_id'\n",
    "\n",
    "# storing old operator_id values to a separate feature\n",
    "df['operator_id_old'] = df['operator_id']\n",
    "\n",
    "# replacing 'operator_id' with 'user_id' \n",
    "df.loc[df.user_id.isin(users_with_all_null_operator_id), 'operator_id'] \\\n",
    "    = df.loc[df.user_id.isin(users_with_all_null_operator_id), 'user_id'] "
   ]
  },
  {
   "cell_type": "markdown",
   "metadata": {},
   "source": [
    "We have replaced `'operator_id'` with `'user_id'` for clients with only null values for `'operator_id'`."
   ]
  },
  {
   "cell_type": "code",
   "execution_count": 11,
   "metadata": {},
   "outputs": [
    {
     "name": "stdout",
     "output_type": "stream",
     "text": [
      "\u001b[1mNumber of reports of missed and non-missed calls with null value in the 'operator_id' column:\u001b[0m\n"
     ]
    },
    {
     "data": {
      "text/plain": [
       "True     7244\n",
       "False    113 \n",
       "Name: is_missed_call, dtype: int64"
      ]
     },
     "metadata": {},
     "output_type": "display_data"
    }
   ],
   "source": [
    "# Let's look at the number of missing 'operator_id' values by the 'is_missed_call' column\n",
    "print(BOLD + \"Number of reports of missed and non-missed calls with null value in the 'operator_id' column:\" + END)\n",
    "display(df[df.operator_id.isnull()].is_missed_call.value_counts())"
   ]
  },
  {
   "cell_type": "markdown",
   "metadata": {},
   "source": [
    "Most calls with null value in the `'operator_id'` column in the report are missing. Most likely, the fact that the call was missed is the reason for the absence of an `'operator_id'`. Since we don't need to further evaluate the quality of each operator's work, we can fill the `'operator_id'` column in these cases with any client operator identifier, for instance, the first one that comes across.\n",
    "\n",
    "But in 103 cases the call was not missed."
   ]
  },
  {
   "cell_type": "code",
   "execution_count": 12,
   "metadata": {},
   "outputs": [],
   "source": [
    "# Let's fill the `'operator_id'` column for missed calls with the first client operator identifier that comes across\n",
    "for user in df[df.is_missed_call==True].user_id.unique():\n",
    "    df.loc[(df.user_id==user)&(df.is_missed_call==True)&df.operator_id.isnull(), 'operator_id'] \\\n",
    "        = df[(df.user_id==user)&df.operator_id.notnull()].operator_id.unique()[0]"
   ]
  },
  {
   "cell_type": "markdown",
   "metadata": {},
   "source": [
    "We have filled in missing `'operator_id'` values for missed calls with the first client operator identifier that comes across."
   ]
  },
  {
   "cell_type": "code",
   "execution_count": 13,
   "metadata": {},
   "outputs": [
    {
     "name": "stdout",
     "output_type": "stream",
     "text": [
      "\u001b[1mNumber of operators and number of rows with null 'operator_id' values by users:\u001b[0m\n"
     ]
    },
    {
     "data": {
      "text/html": [
       "<div>\n",
       "<style scoped>\n",
       "    .dataframe tbody tr th:only-of-type {\n",
       "        vertical-align: middle;\n",
       "    }\n",
       "\n",
       "    .dataframe tbody tr th {\n",
       "        vertical-align: top;\n",
       "    }\n",
       "\n",
       "    .dataframe thead th {\n",
       "        text-align: right;\n",
       "    }\n",
       "</style>\n",
       "<table border=\"1\" class=\"dataframe\">\n",
       "  <thead>\n",
       "    <tr style=\"text-align: right;\">\n",
       "      <th></th>\n",
       "      <th>operator_num</th>\n",
       "      <th>missing_operator_rows_num (non-missed call)</th>\n",
       "    </tr>\n",
       "    <tr>\n",
       "      <th>user_id</th>\n",
       "      <th></th>\n",
       "      <th></th>\n",
       "    </tr>\n",
       "  </thead>\n",
       "  <tbody>\n",
       "    <tr>\n",
       "      <td>166399</td>\n",
       "      <td>1</td>\n",
       "      <td>2</td>\n",
       "    </tr>\n",
       "    <tr>\n",
       "      <td>166503</td>\n",
       "      <td>6</td>\n",
       "      <td>3</td>\n",
       "    </tr>\n",
       "    <tr>\n",
       "      <td>166782</td>\n",
       "      <td>5</td>\n",
       "      <td>16</td>\n",
       "    </tr>\n",
       "    <tr>\n",
       "      <td>166916</td>\n",
       "      <td>16</td>\n",
       "      <td>1</td>\n",
       "    </tr>\n",
       "    <tr>\n",
       "      <td>166946</td>\n",
       "      <td>2</td>\n",
       "      <td>1</td>\n",
       "    </tr>\n",
       "    <tr>\n",
       "      <td>167402</td>\n",
       "      <td>1</td>\n",
       "      <td>1</td>\n",
       "    </tr>\n",
       "    <tr>\n",
       "      <td>167819</td>\n",
       "      <td>4</td>\n",
       "      <td>1</td>\n",
       "    </tr>\n",
       "    <tr>\n",
       "      <td>167977</td>\n",
       "      <td>5</td>\n",
       "      <td>1</td>\n",
       "    </tr>\n",
       "    <tr>\n",
       "      <td>168018</td>\n",
       "      <td>5</td>\n",
       "      <td>3</td>\n",
       "    </tr>\n",
       "    <tr>\n",
       "      <td>168252</td>\n",
       "      <td>28</td>\n",
       "      <td>83</td>\n",
       "    </tr>\n",
       "    <tr>\n",
       "      <td>168336</td>\n",
       "      <td>14</td>\n",
       "      <td>1</td>\n",
       "    </tr>\n",
       "  </tbody>\n",
       "</table>\n",
       "</div>"
      ],
      "text/plain": [
       "         operator_num  missing_operator_rows_num (non-missed call)\n",
       "user_id                                                           \n",
       "166399   1             2                                          \n",
       "166503   6             3                                          \n",
       "166782   5             16                                         \n",
       "166916   16            1                                          \n",
       "166946   2             1                                          \n",
       "167402   1             1                                          \n",
       "167819   4             1                                          \n",
       "167977   5             1                                          \n",
       "168018   5             3                                          \n",
       "168252   28            83                                         \n",
       "168336   14            1                                          "
      ]
     },
     "metadata": {},
     "output_type": "display_data"
    }
   ],
   "source": [
    "# Let's take a closer look at the missing 'operator_id' values for non-missed calls\n",
    "print(BOLD + \"Number of operators and number of rows with null 'operator_id' values by users:\" + END)\n",
    "users_with_missing_operator = df[df.operator_id.isnull()&(df.is_missed_call==False)].user_id.unique()\n",
    "display(df[df.operator_id.notnull()&df.user_id.isin(users_with_missing_operator)]\\\n",
    "            .groupby('user_id').agg({'operator_id':'nunique'})\\\n",
    "        .join(df[df.operator_id.isnull()&(df.is_missed_call==False)].user_id.value_counts())\\\n",
    "            .rename(columns={'operator_id':'operator_num', 'user_id':'missing_operator_rows_num (non-missed call)'}))"
   ]
  },
  {
   "cell_type": "markdown",
   "metadata": {},
   "source": [
    "When a client has only one operator we have a couple of gaps in the dataset and we can restore the `'operator_id'` values with this operator. In other cases, it is difficult to restore them. "
   ]
  },
  {
   "cell_type": "code",
   "execution_count": 14,
   "metadata": {},
   "outputs": [],
   "source": [
    "# Let's fill the missing 'operator_id' values for clients having only one operator with identifier of its operator.\n",
    "users_with_one_operator = df[df.operator_id.notnull()].groupby('user_id').operator_id.nunique().reset_index()\\\n",
    "                              .query('operator_id==1').user_id\n",
    "\n",
    "for user in users_with_one_operator:\n",
    "    df.loc[(df.user_id==user)&df.operator_id.isnull(), 'operator_id'] \\\n",
    "        = df[(df.user_id==user)&df.operator_id.notnull()].operator_id.unique()[0]"
   ]
  },
  {
   "cell_type": "markdown",
   "metadata": {},
   "source": [
    "We have filled in the missing `'operator_id'` values for clients who have only one operator with the value of that operator's identifier."
   ]
  },
  {
   "cell_type": "code",
   "execution_count": 15,
   "metadata": {},
   "outputs": [
    {
     "name": "stdout",
     "output_type": "stream",
     "text": [
      "\u001b[1mThere are all missing `'operator_id'` values for the client within a month:\u001b[0m\n"
     ]
    },
    {
     "data": {
      "text/html": [
       "<div>\n",
       "<style scoped>\n",
       "    .dataframe tbody tr th:only-of-type {\n",
       "        vertical-align: middle;\n",
       "    }\n",
       "\n",
       "    .dataframe tbody tr th {\n",
       "        vertical-align: top;\n",
       "    }\n",
       "\n",
       "    .dataframe thead th {\n",
       "        text-align: right;\n",
       "    }\n",
       "</style>\n",
       "<table border=\"1\" class=\"dataframe\">\n",
       "  <thead>\n",
       "    <tr style=\"text-align: right;\">\n",
       "      <th></th>\n",
       "      <th>user_id</th>\n",
       "      <th>date</th>\n",
       "      <th>operator_id</th>\n",
       "    </tr>\n",
       "  </thead>\n",
       "  <tbody>\n",
       "  </tbody>\n",
       "</table>\n",
       "</div>"
      ],
      "text/plain": [
       "Empty DataFrame\n",
       "Columns: [user_id, date, operator_id]\n",
       "Index: []"
      ]
     },
     "metadata": {},
     "output_type": "display_data"
    }
   ],
   "source": [
    "# Let's see if there are any months when all 'operator_id' values are missing for a client\n",
    "print(BOLD + \"There are all missing `'operator_id'` values for the client within a month:\" + END)\n",
    "display(df.groupby(['user_id',\n",
    "                    df[df.user_id.isin(users_with_missing_operator_id)].date.dt.date.astype('datetime64[M]')])\\\n",
    "            .operator_id.nunique().reset_index().query('operator_id==0'))"
   ]
  },
  {
   "cell_type": "markdown",
   "metadata": {},
   "source": [
    "There are no months when all `'operator_id'` values are missing for a client. We can assume that within a month there are reports for all operators of the client and the missing values will not lead to the fact that the number of operators who made calls during the month will be incorrectly calculated and, accordingly, the monthly cost of communication services. "
   ]
  },
  {
   "cell_type": "markdown",
   "metadata": {},
   "source": [
    "__Investigating missing values in the 'internal' column.__"
   ]
  },
  {
   "cell_type": "code",
   "execution_count": 16,
   "metadata": {},
   "outputs": [
    {
     "name": "stdout",
     "output_type": "stream",
     "text": [
      "\u001b[1mNumber of reports of incoming and outgoing calls with missing value in the 'internal' column:\u001b[0m\n"
     ]
    },
    {
     "data": {
      "text/plain": [
       "in     108\n",
       "out    2  \n",
       "Name: direction, dtype: int64"
      ]
     },
     "metadata": {},
     "output_type": "display_data"
    }
   ],
   "source": [
    "# Let's investigate missing values in the 'internal' column\n",
    "print(BOLD + \"Number of reports of incoming and outgoing calls with missing value in the 'internal' column:\" + END)\n",
    "display(df[df.internal.isnull()].direction.value_counts())"
   ]
  },
  {
   "cell_type": "markdown",
   "metadata": {},
   "source": [
    "Most calls with missing value in the `'internal'` column in the report are incoming. All incoming calls are free. Thus, lack of information about whether the call was internal or external will not affect further calculations of the cost of calls. These missing values can be left as null."
   ]
  },
  {
   "cell_type": "code",
   "execution_count": 17,
   "metadata": {},
   "outputs": [
    {
     "name": "stdout",
     "output_type": "stream",
     "text": [
      "\u001b[1mThe reports on outgoing calls with missing values in the 'internal' column:\u001b[0m\n"
     ]
    },
    {
     "data": {
      "text/html": [
       "<div>\n",
       "<style scoped>\n",
       "    .dataframe tbody tr th:only-of-type {\n",
       "        vertical-align: middle;\n",
       "    }\n",
       "\n",
       "    .dataframe tbody tr th {\n",
       "        vertical-align: top;\n",
       "    }\n",
       "\n",
       "    .dataframe thead th {\n",
       "        text-align: right;\n",
       "    }\n",
       "</style>\n",
       "<table border=\"1\" class=\"dataframe\">\n",
       "  <thead>\n",
       "    <tr style=\"text-align: right;\">\n",
       "      <th></th>\n",
       "      <th>user_id</th>\n",
       "      <th>date</th>\n",
       "      <th>direction</th>\n",
       "      <th>internal</th>\n",
       "      <th>operator_id</th>\n",
       "      <th>is_missed_call</th>\n",
       "      <th>calls_count</th>\n",
       "      <th>call_duration</th>\n",
       "      <th>total_call_duration</th>\n",
       "      <th>operator_id_old</th>\n",
       "    </tr>\n",
       "  </thead>\n",
       "  <tbody>\n",
       "    <tr>\n",
       "      <td>21004</td>\n",
       "      <td>167016</td>\n",
       "      <td>2019-10-22</td>\n",
       "      <td>out</td>\n",
       "      <td>NaN</td>\n",
       "      <td>916424</td>\n",
       "      <td>True</td>\n",
       "      <td>3</td>\n",
       "      <td>0</td>\n",
       "      <td>196</td>\n",
       "      <td>NaN</td>\n",
       "    </tr>\n",
       "    <tr>\n",
       "      <td>51367</td>\n",
       "      <td>168291</td>\n",
       "      <td>2019-11-27</td>\n",
       "      <td>out</td>\n",
       "      <td>NaN</td>\n",
       "      <td>946454</td>\n",
       "      <td>True</td>\n",
       "      <td>3</td>\n",
       "      <td>0</td>\n",
       "      <td>93</td>\n",
       "      <td>NaN</td>\n",
       "    </tr>\n",
       "  </tbody>\n",
       "</table>\n",
       "</div>"
      ],
      "text/plain": [
       "       user_id       date direction internal  operator_id  is_missed_call  \\\n",
       "21004  167016  2019-10-22  out       NaN      916424       True             \n",
       "51367  168291  2019-11-27  out       NaN      946454       True             \n",
       "\n",
       "       calls_count  call_duration  total_call_duration  operator_id_old  \n",
       "21004  3            0              196                  NaN              \n",
       "51367  3            0              93                   NaN              "
      ]
     },
     "metadata": {},
     "output_type": "display_data"
    }
   ],
   "source": [
    "# Let's look at reports on outgoing calls with missing values in the 'internal' column.\n",
    "print(BOLD + \"The reports on outgoing calls with missing values in the 'internal' column:\" + END)\n",
    "display(df[df.internal.isnull()&(df.direction=='out')])"
   ]
  },
  {
   "cell_type": "markdown",
   "metadata": {},
   "source": [
    "Outgoing calls with lack of `'internal'` value are missing calls (`'is_missed_call'` is True). We assume that missed calls are free of charge. Thus, lack of information about whether the call was internal or external will not affect further calculations of the cost of calls as well. These missing values can be restored with any `'internal'` value in oder to estimate charges for the number of operators, and not for calls cost according to these reports."
   ]
  },
  {
   "cell_type": "code",
   "execution_count": 18,
   "metadata": {},
   "outputs": [],
   "source": [
    "# Let's fill the missing 'internal' values with the most popular value of outgoing calls for the client\n",
    "\n",
    "# storing old 'internal' values to a separate feature\n",
    "df['internal_old'] = df['internal']\n",
    "\n",
    "for user in df[df.internal.isnull()&(df.direction=='out')].user_id.unique():\n",
    "    df.loc[(df.user_id==user)&df.internal.isnull()&(df.direction=='out'), 'internal'] \\\n",
    "        = df[(df.user_id==167016)&(df.direction=='out')].internal.value_counts().index[0]"
   ]
  },
  {
   "cell_type": "markdown",
   "metadata": {},
   "source": [
    "We have filled in missing `'internal'` values with the most popular `'internal'` value of outgoing calls for the client."
   ]
  },
  {
   "cell_type": "markdown",
   "metadata": {},
   "source": [
    "<a id='section2.4'></a>\n",
    "### 2.4 Data Сonsistency Сhecking"
   ]
  },
  {
   "cell_type": "code",
   "execution_count": 19,
   "metadata": {},
   "outputs": [
    {
     "name": "stdout",
     "output_type": "stream",
     "text": [
      "\u001b[1mThe number of cases when missed calls have a non-zero call duration is 296, which is 0.6% of all data. \u001b[0m\n"
     ]
    }
   ],
   "source": [
    "# Let's consider the cases when missed calls have a non-zero call duration.\n",
    "print(BOLD + 'The number of cases when missed calls have a non-zero call duration is {}, which is {:.1%} of all data.'\\\n",
    "             .format(len(df[(df.is_missed_call==True)&(df.call_duration>0)]),\n",
    "                     len(df[(df.is_missed_call==True)&(df.call_duration>0)])/len(df)), END)"
   ]
  },
  {
   "cell_type": "markdown",
   "metadata": {},
   "source": [
    "Some calls with a missed call status have a non-zero duration in the dataset. To restore data consistency, we need change the status to not missed or set the duration to zero."
   ]
  },
  {
   "cell_type": "code",
   "execution_count": 20,
   "metadata": {},
   "outputs": [
    {
     "name": "stdout",
     "output_type": "stream",
     "text": [
      "\u001b[1mNumber of reports of missed incoming and outgoing calls with a non-zero duration:\u001b[0m\n"
     ]
    },
    {
     "data": {
      "text/plain": [
       "in     275\n",
       "out    21 \n",
       "Name: direction, dtype: int64"
      ]
     },
     "metadata": {},
     "output_type": "display_data"
    }
   ],
   "source": [
    "# Let's look at the number of missed calls with a non-zero duration by direction\n",
    "print(BOLD + 'Number of reports of missed incoming and outgoing calls with a non-zero duration:' + END)\n",
    "display(df[(df.is_missed_call==True)&(df.call_duration>0)].direction.value_counts())"
   ]
  },
  {
   "cell_type": "markdown",
   "metadata": {},
   "source": [
    "Most missed calls with a non-zero duration are incoming. All incoming calls are free. Thus, the lack of information on whether the call was mistakenly marked as missed or the call duration was erroneously recorded will not affect further calculations of the cost of calls. In this cases, the call duration can be set to zero."
   ]
  },
  {
   "cell_type": "code",
   "execution_count": 21,
   "metadata": {},
   "outputs": [
    {
     "name": "stdout",
     "output_type": "stream",
     "text": [
      "\u001b[1mAll missed outgoing calls with a non-zero duration:\u001b[0m\n"
     ]
    },
    {
     "data": {
      "text/html": [
       "<div>\n",
       "<style scoped>\n",
       "    .dataframe tbody tr th:only-of-type {\n",
       "        vertical-align: middle;\n",
       "    }\n",
       "\n",
       "    .dataframe tbody tr th {\n",
       "        vertical-align: top;\n",
       "    }\n",
       "\n",
       "    .dataframe thead th {\n",
       "        text-align: right;\n",
       "    }\n",
       "</style>\n",
       "<table border=\"1\" class=\"dataframe\">\n",
       "  <thead>\n",
       "    <tr style=\"text-align: right;\">\n",
       "      <th></th>\n",
       "      <th>user_id</th>\n",
       "      <th>date</th>\n",
       "      <th>direction</th>\n",
       "      <th>internal</th>\n",
       "      <th>operator_id</th>\n",
       "      <th>is_missed_call</th>\n",
       "      <th>calls_count</th>\n",
       "      <th>call_duration</th>\n",
       "      <th>total_call_duration</th>\n",
       "      <th>operator_id_old</th>\n",
       "      <th>internal_old</th>\n",
       "    </tr>\n",
       "  </thead>\n",
       "  <tbody>\n",
       "    <tr>\n",
       "      <td>16129</td>\n",
       "      <td>166916</td>\n",
       "      <td>2019-09-26</td>\n",
       "      <td>out</td>\n",
       "      <td>True</td>\n",
       "      <td>906394</td>\n",
       "      <td>True</td>\n",
       "      <td>1</td>\n",
       "      <td>25</td>\n",
       "      <td>50</td>\n",
       "      <td>906394</td>\n",
       "      <td>True</td>\n",
       "    </tr>\n",
       "    <tr>\n",
       "      <td>16261</td>\n",
       "      <td>166916</td>\n",
       "      <td>2019-10-03</td>\n",
       "      <td>out</td>\n",
       "      <td>True</td>\n",
       "      <td>906406</td>\n",
       "      <td>True</td>\n",
       "      <td>3</td>\n",
       "      <td>3</td>\n",
       "      <td>39</td>\n",
       "      <td>906406</td>\n",
       "      <td>True</td>\n",
       "    </tr>\n",
       "    <tr>\n",
       "      <td>16300</td>\n",
       "      <td>166916</td>\n",
       "      <td>2019-10-06</td>\n",
       "      <td>out</td>\n",
       "      <td>True</td>\n",
       "      <td>906400</td>\n",
       "      <td>True</td>\n",
       "      <td>2</td>\n",
       "      <td>19</td>\n",
       "      <td>34</td>\n",
       "      <td>906400</td>\n",
       "      <td>True</td>\n",
       "    </tr>\n",
       "    <tr>\n",
       "      <td>16363</td>\n",
       "      <td>166916</td>\n",
       "      <td>2019-10-09</td>\n",
       "      <td>out</td>\n",
       "      <td>True</td>\n",
       "      <td>906408</td>\n",
       "      <td>True</td>\n",
       "      <td>7</td>\n",
       "      <td>1</td>\n",
       "      <td>32</td>\n",
       "      <td>906408</td>\n",
       "      <td>True</td>\n",
       "    </tr>\n",
       "    <tr>\n",
       "      <td>16409</td>\n",
       "      <td>166916</td>\n",
       "      <td>2019-10-13</td>\n",
       "      <td>out</td>\n",
       "      <td>True</td>\n",
       "      <td>906400</td>\n",
       "      <td>True</td>\n",
       "      <td>6</td>\n",
       "      <td>27</td>\n",
       "      <td>43</td>\n",
       "      <td>906400</td>\n",
       "      <td>True</td>\n",
       "    </tr>\n",
       "    <tr>\n",
       "      <td>16709</td>\n",
       "      <td>166916</td>\n",
       "      <td>2019-10-29</td>\n",
       "      <td>out</td>\n",
       "      <td>True</td>\n",
       "      <td>906412</td>\n",
       "      <td>True</td>\n",
       "      <td>4</td>\n",
       "      <td>87</td>\n",
       "      <td>164</td>\n",
       "      <td>906412</td>\n",
       "      <td>True</td>\n",
       "    </tr>\n",
       "    <tr>\n",
       "      <td>16796</td>\n",
       "      <td>166916</td>\n",
       "      <td>2019-11-04</td>\n",
       "      <td>out</td>\n",
       "      <td>True</td>\n",
       "      <td>906412</td>\n",
       "      <td>True</td>\n",
       "      <td>3</td>\n",
       "      <td>71</td>\n",
       "      <td>82</td>\n",
       "      <td>906412</td>\n",
       "      <td>True</td>\n",
       "    </tr>\n",
       "    <tr>\n",
       "      <td>16842</td>\n",
       "      <td>166916</td>\n",
       "      <td>2019-11-06</td>\n",
       "      <td>out</td>\n",
       "      <td>True</td>\n",
       "      <td>906416</td>\n",
       "      <td>True</td>\n",
       "      <td>4</td>\n",
       "      <td>148</td>\n",
       "      <td>239</td>\n",
       "      <td>906416</td>\n",
       "      <td>True</td>\n",
       "    </tr>\n",
       "    <tr>\n",
       "      <td>16973</td>\n",
       "      <td>166916</td>\n",
       "      <td>2019-11-11</td>\n",
       "      <td>out</td>\n",
       "      <td>True</td>\n",
       "      <td>906412</td>\n",
       "      <td>True</td>\n",
       "      <td>8</td>\n",
       "      <td>35</td>\n",
       "      <td>64</td>\n",
       "      <td>906412</td>\n",
       "      <td>True</td>\n",
       "    </tr>\n",
       "    <tr>\n",
       "      <td>16986</td>\n",
       "      <td>166916</td>\n",
       "      <td>2019-11-12</td>\n",
       "      <td>out</td>\n",
       "      <td>True</td>\n",
       "      <td>906412</td>\n",
       "      <td>True</td>\n",
       "      <td>4</td>\n",
       "      <td>17</td>\n",
       "      <td>29</td>\n",
       "      <td>906412</td>\n",
       "      <td>True</td>\n",
       "    </tr>\n",
       "    <tr>\n",
       "      <td>17081</td>\n",
       "      <td>166916</td>\n",
       "      <td>2019-11-17</td>\n",
       "      <td>out</td>\n",
       "      <td>True</td>\n",
       "      <td>906412</td>\n",
       "      <td>True</td>\n",
       "      <td>1</td>\n",
       "      <td>44</td>\n",
       "      <td>56</td>\n",
       "      <td>906412</td>\n",
       "      <td>True</td>\n",
       "    </tr>\n",
       "    <tr>\n",
       "      <td>17147</td>\n",
       "      <td>166916</td>\n",
       "      <td>2019-11-19</td>\n",
       "      <td>out</td>\n",
       "      <td>True</td>\n",
       "      <td>906412</td>\n",
       "      <td>True</td>\n",
       "      <td>3</td>\n",
       "      <td>34</td>\n",
       "      <td>83</td>\n",
       "      <td>906412</td>\n",
       "      <td>True</td>\n",
       "    </tr>\n",
       "    <tr>\n",
       "      <td>17158</td>\n",
       "      <td>166916</td>\n",
       "      <td>2019-11-19</td>\n",
       "      <td>out</td>\n",
       "      <td>True</td>\n",
       "      <td>906410</td>\n",
       "      <td>True</td>\n",
       "      <td>1</td>\n",
       "      <td>5</td>\n",
       "      <td>19</td>\n",
       "      <td>906410</td>\n",
       "      <td>True</td>\n",
       "    </tr>\n",
       "    <tr>\n",
       "      <td>17190</td>\n",
       "      <td>166916</td>\n",
       "      <td>2019-11-20</td>\n",
       "      <td>out</td>\n",
       "      <td>True</td>\n",
       "      <td>906394</td>\n",
       "      <td>True</td>\n",
       "      <td>5</td>\n",
       "      <td>34</td>\n",
       "      <td>94</td>\n",
       "      <td>906394</td>\n",
       "      <td>True</td>\n",
       "    </tr>\n",
       "    <tr>\n",
       "      <td>17225</td>\n",
       "      <td>166916</td>\n",
       "      <td>2019-11-21</td>\n",
       "      <td>out</td>\n",
       "      <td>True</td>\n",
       "      <td>906394</td>\n",
       "      <td>True</td>\n",
       "      <td>6</td>\n",
       "      <td>15</td>\n",
       "      <td>100</td>\n",
       "      <td>906394</td>\n",
       "      <td>True</td>\n",
       "    </tr>\n",
       "    <tr>\n",
       "      <td>17252</td>\n",
       "      <td>166916</td>\n",
       "      <td>2019-11-24</td>\n",
       "      <td>out</td>\n",
       "      <td>True</td>\n",
       "      <td>906412</td>\n",
       "      <td>True</td>\n",
       "      <td>5</td>\n",
       "      <td>16</td>\n",
       "      <td>86</td>\n",
       "      <td>906412</td>\n",
       "      <td>True</td>\n",
       "    </tr>\n",
       "    <tr>\n",
       "      <td>17330</td>\n",
       "      <td>166916</td>\n",
       "      <td>2019-11-26</td>\n",
       "      <td>out</td>\n",
       "      <td>True</td>\n",
       "      <td>906412</td>\n",
       "      <td>True</td>\n",
       "      <td>7</td>\n",
       "      <td>112</td>\n",
       "      <td>230</td>\n",
       "      <td>906412</td>\n",
       "      <td>True</td>\n",
       "    </tr>\n",
       "    <tr>\n",
       "      <td>27562</td>\n",
       "      <td>167176</td>\n",
       "      <td>2019-09-11</td>\n",
       "      <td>out</td>\n",
       "      <td>True</td>\n",
       "      <td>907986</td>\n",
       "      <td>True</td>\n",
       "      <td>2</td>\n",
       "      <td>8</td>\n",
       "      <td>45</td>\n",
       "      <td>907986</td>\n",
       "      <td>True</td>\n",
       "    </tr>\n",
       "    <tr>\n",
       "      <td>27593</td>\n",
       "      <td>167176</td>\n",
       "      <td>2019-09-16</td>\n",
       "      <td>out</td>\n",
       "      <td>True</td>\n",
       "      <td>907504</td>\n",
       "      <td>True</td>\n",
       "      <td>1</td>\n",
       "      <td>7</td>\n",
       "      <td>11</td>\n",
       "      <td>907504</td>\n",
       "      <td>True</td>\n",
       "    </tr>\n",
       "    <tr>\n",
       "      <td>27646</td>\n",
       "      <td>167176</td>\n",
       "      <td>2019-09-23</td>\n",
       "      <td>out</td>\n",
       "      <td>True</td>\n",
       "      <td>907986</td>\n",
       "      <td>True</td>\n",
       "      <td>3</td>\n",
       "      <td>6</td>\n",
       "      <td>35</td>\n",
       "      <td>907986</td>\n",
       "      <td>True</td>\n",
       "    </tr>\n",
       "    <tr>\n",
       "      <td>27766</td>\n",
       "      <td>167176</td>\n",
       "      <td>2019-10-13</td>\n",
       "      <td>out</td>\n",
       "      <td>True</td>\n",
       "      <td>907986</td>\n",
       "      <td>True</td>\n",
       "      <td>3</td>\n",
       "      <td>7</td>\n",
       "      <td>34</td>\n",
       "      <td>907986</td>\n",
       "      <td>True</td>\n",
       "    </tr>\n",
       "  </tbody>\n",
       "</table>\n",
       "</div>"
      ],
      "text/plain": [
       "       user_id       date direction internal  operator_id  is_missed_call  \\\n",
       "16129  166916  2019-09-26  out       True     906394       True             \n",
       "16261  166916  2019-10-03  out       True     906406       True             \n",
       "16300  166916  2019-10-06  out       True     906400       True             \n",
       "16363  166916  2019-10-09  out       True     906408       True             \n",
       "16409  166916  2019-10-13  out       True     906400       True             \n",
       "16709  166916  2019-10-29  out       True     906412       True             \n",
       "16796  166916  2019-11-04  out       True     906412       True             \n",
       "16842  166916  2019-11-06  out       True     906416       True             \n",
       "16973  166916  2019-11-11  out       True     906412       True             \n",
       "16986  166916  2019-11-12  out       True     906412       True             \n",
       "17081  166916  2019-11-17  out       True     906412       True             \n",
       "17147  166916  2019-11-19  out       True     906412       True             \n",
       "17158  166916  2019-11-19  out       True     906410       True             \n",
       "17190  166916  2019-11-20  out       True     906394       True             \n",
       "17225  166916  2019-11-21  out       True     906394       True             \n",
       "17252  166916  2019-11-24  out       True     906412       True             \n",
       "17330  166916  2019-11-26  out       True     906412       True             \n",
       "27562  167176  2019-09-11  out       True     907986       True             \n",
       "27593  167176  2019-09-16  out       True     907504       True             \n",
       "27646  167176  2019-09-23  out       True     907986       True             \n",
       "27766  167176  2019-10-13  out       True     907986       True             \n",
       "\n",
       "       calls_count  call_duration  total_call_duration  operator_id_old  \\\n",
       "16129  1            25             50                   906394            \n",
       "16261  3            3              39                   906406            \n",
       "16300  2            19             34                   906400            \n",
       "16363  7            1              32                   906408            \n",
       "16409  6            27             43                   906400            \n",
       "16709  4            87             164                  906412            \n",
       "16796  3            71             82                   906412            \n",
       "16842  4            148            239                  906416            \n",
       "16973  8            35             64                   906412            \n",
       "16986  4            17             29                   906412            \n",
       "17081  1            44             56                   906412            \n",
       "17147  3            34             83                   906412            \n",
       "17158  1            5              19                   906410            \n",
       "17190  5            34             94                   906394            \n",
       "17225  6            15             100                  906394            \n",
       "17252  5            16             86                   906412            \n",
       "17330  7            112            230                  906412            \n",
       "27562  2            8              45                   907986            \n",
       "27593  1            7              11                   907504            \n",
       "27646  3            6              35                   907986            \n",
       "27766  3            7              34                   907986            \n",
       "\n",
       "      internal_old  \n",
       "16129  True         \n",
       "16261  True         \n",
       "16300  True         \n",
       "16363  True         \n",
       "16409  True         \n",
       "16709  True         \n",
       "16796  True         \n",
       "16842  True         \n",
       "16973  True         \n",
       "16986  True         \n",
       "17081  True         \n",
       "17147  True         \n",
       "17158  True         \n",
       "17190  True         \n",
       "17225  True         \n",
       "17252  True         \n",
       "17330  True         \n",
       "27562  True         \n",
       "27593  True         \n",
       "27646  True         \n",
       "27766  True         "
      ]
     },
     "metadata": {},
     "output_type": "display_data"
    },
    {
     "name": "stdout",
     "output_type": "stream",
     "text": [
      "\n",
      "\u001b[1mComparison of missed outgoing calls of a non-zero duration with answered ones:\u001b[0m\n"
     ]
    },
    {
     "data": {
      "text/html": [
       "<div>\n",
       "<style scoped>\n",
       "    .dataframe tbody tr th:only-of-type {\n",
       "        vertical-align: middle;\n",
       "    }\n",
       "\n",
       "    .dataframe tbody tr th {\n",
       "        vertical-align: top;\n",
       "    }\n",
       "\n",
       "    .dataframe thead th {\n",
       "        text-align: right;\n",
       "    }\n",
       "</style>\n",
       "<table border=\"1\" class=\"dataframe\">\n",
       "  <thead>\n",
       "    <tr style=\"text-align: right;\">\n",
       "      <th></th>\n",
       "      <th>user_id</th>\n",
       "      <th>date</th>\n",
       "      <th>calls_count_miss</th>\n",
       "      <th>calls_count_non_miss</th>\n",
       "      <th>call_duration_miss</th>\n",
       "      <th>call_duration_non_miss</th>\n",
       "      <th>avg_call_duration_miss</th>\n",
       "      <th>avg_call_duration_non_miss</th>\n",
       "    </tr>\n",
       "  </thead>\n",
       "  <tbody>\n",
       "    <tr>\n",
       "      <td>0</td>\n",
       "      <td>166916</td>\n",
       "      <td>2019-09-26</td>\n",
       "      <td>1</td>\n",
       "      <td>2</td>\n",
       "      <td>25</td>\n",
       "      <td>48</td>\n",
       "      <td>25.00</td>\n",
       "      <td>24.00</td>\n",
       "    </tr>\n",
       "    <tr>\n",
       "      <td>1</td>\n",
       "      <td>166916</td>\n",
       "      <td>2019-10-03</td>\n",
       "      <td>3</td>\n",
       "      <td>5</td>\n",
       "      <td>3</td>\n",
       "      <td>187</td>\n",
       "      <td>1.00</td>\n",
       "      <td>37.40</td>\n",
       "    </tr>\n",
       "    <tr>\n",
       "      <td>2</td>\n",
       "      <td>166916</td>\n",
       "      <td>2019-10-06</td>\n",
       "      <td>2</td>\n",
       "      <td>2</td>\n",
       "      <td>19</td>\n",
       "      <td>35</td>\n",
       "      <td>9.50</td>\n",
       "      <td>17.50</td>\n",
       "    </tr>\n",
       "    <tr>\n",
       "      <td>3</td>\n",
       "      <td>166916</td>\n",
       "      <td>2019-10-09</td>\n",
       "      <td>7</td>\n",
       "      <td>3</td>\n",
       "      <td>1</td>\n",
       "      <td>70</td>\n",
       "      <td>0.14</td>\n",
       "      <td>23.33</td>\n",
       "    </tr>\n",
       "    <tr>\n",
       "      <td>4</td>\n",
       "      <td>166916</td>\n",
       "      <td>2019-10-13</td>\n",
       "      <td>6</td>\n",
       "      <td>6</td>\n",
       "      <td>27</td>\n",
       "      <td>181</td>\n",
       "      <td>4.50</td>\n",
       "      <td>30.17</td>\n",
       "    </tr>\n",
       "    <tr>\n",
       "      <td>5</td>\n",
       "      <td>166916</td>\n",
       "      <td>2019-10-29</td>\n",
       "      <td>4</td>\n",
       "      <td>8</td>\n",
       "      <td>87</td>\n",
       "      <td>496</td>\n",
       "      <td>21.75</td>\n",
       "      <td>62.00</td>\n",
       "    </tr>\n",
       "    <tr>\n",
       "      <td>6</td>\n",
       "      <td>166916</td>\n",
       "      <td>2019-11-04</td>\n",
       "      <td>3</td>\n",
       "      <td>10</td>\n",
       "      <td>71</td>\n",
       "      <td>539</td>\n",
       "      <td>23.67</td>\n",
       "      <td>53.90</td>\n",
       "    </tr>\n",
       "    <tr>\n",
       "      <td>7</td>\n",
       "      <td>166916</td>\n",
       "      <td>2019-11-06</td>\n",
       "      <td>4</td>\n",
       "      <td>2</td>\n",
       "      <td>148</td>\n",
       "      <td>1572</td>\n",
       "      <td>37.00</td>\n",
       "      <td>786.00</td>\n",
       "    </tr>\n",
       "    <tr>\n",
       "      <td>8</td>\n",
       "      <td>166916</td>\n",
       "      <td>2019-11-11</td>\n",
       "      <td>8</td>\n",
       "      <td>9</td>\n",
       "      <td>35</td>\n",
       "      <td>632</td>\n",
       "      <td>4.38</td>\n",
       "      <td>70.22</td>\n",
       "    </tr>\n",
       "    <tr>\n",
       "      <td>9</td>\n",
       "      <td>166916</td>\n",
       "      <td>2019-11-12</td>\n",
       "      <td>4</td>\n",
       "      <td>4</td>\n",
       "      <td>17</td>\n",
       "      <td>498</td>\n",
       "      <td>4.25</td>\n",
       "      <td>124.50</td>\n",
       "    </tr>\n",
       "    <tr>\n",
       "      <td>10</td>\n",
       "      <td>166916</td>\n",
       "      <td>2019-11-17</td>\n",
       "      <td>1</td>\n",
       "      <td>4</td>\n",
       "      <td>44</td>\n",
       "      <td>374</td>\n",
       "      <td>44.00</td>\n",
       "      <td>93.50</td>\n",
       "    </tr>\n",
       "    <tr>\n",
       "      <td>11</td>\n",
       "      <td>166916</td>\n",
       "      <td>2019-11-19</td>\n",
       "      <td>3</td>\n",
       "      <td>11</td>\n",
       "      <td>34</td>\n",
       "      <td>715</td>\n",
       "      <td>11.33</td>\n",
       "      <td>65.00</td>\n",
       "    </tr>\n",
       "    <tr>\n",
       "      <td>12</td>\n",
       "      <td>166916</td>\n",
       "      <td>2019-11-20</td>\n",
       "      <td>5</td>\n",
       "      <td>12</td>\n",
       "      <td>34</td>\n",
       "      <td>1491</td>\n",
       "      <td>6.80</td>\n",
       "      <td>124.25</td>\n",
       "    </tr>\n",
       "    <tr>\n",
       "      <td>13</td>\n",
       "      <td>166916</td>\n",
       "      <td>2019-11-21</td>\n",
       "      <td>6</td>\n",
       "      <td>10</td>\n",
       "      <td>15</td>\n",
       "      <td>719</td>\n",
       "      <td>2.50</td>\n",
       "      <td>71.90</td>\n",
       "    </tr>\n",
       "    <tr>\n",
       "      <td>14</td>\n",
       "      <td>166916</td>\n",
       "      <td>2019-11-24</td>\n",
       "      <td>5</td>\n",
       "      <td>9</td>\n",
       "      <td>16</td>\n",
       "      <td>449</td>\n",
       "      <td>3.20</td>\n",
       "      <td>49.89</td>\n",
       "    </tr>\n",
       "    <tr>\n",
       "      <td>15</td>\n",
       "      <td>166916</td>\n",
       "      <td>2019-11-26</td>\n",
       "      <td>7</td>\n",
       "      <td>9</td>\n",
       "      <td>112</td>\n",
       "      <td>952</td>\n",
       "      <td>16.00</td>\n",
       "      <td>105.78</td>\n",
       "    </tr>\n",
       "    <tr>\n",
       "      <td>16</td>\n",
       "      <td>167176</td>\n",
       "      <td>2019-09-11</td>\n",
       "      <td>2</td>\n",
       "      <td>10</td>\n",
       "      <td>8</td>\n",
       "      <td>345</td>\n",
       "      <td>4.00</td>\n",
       "      <td>34.50</td>\n",
       "    </tr>\n",
       "    <tr>\n",
       "      <td>17</td>\n",
       "      <td>167176</td>\n",
       "      <td>2019-09-23</td>\n",
       "      <td>3</td>\n",
       "      <td>19</td>\n",
       "      <td>6</td>\n",
       "      <td>812</td>\n",
       "      <td>2.00</td>\n",
       "      <td>42.74</td>\n",
       "    </tr>\n",
       "    <tr>\n",
       "      <td>18</td>\n",
       "      <td>167176</td>\n",
       "      <td>2019-10-13</td>\n",
       "      <td>3</td>\n",
       "      <td>13</td>\n",
       "      <td>7</td>\n",
       "      <td>457</td>\n",
       "      <td>2.33</td>\n",
       "      <td>35.15</td>\n",
       "    </tr>\n",
       "  </tbody>\n",
       "</table>\n",
       "</div>"
      ],
      "text/plain": [
       "    user_id       date  calls_count_miss  calls_count_non_miss  \\\n",
       "0   166916  2019-09-26  1                 2                      \n",
       "1   166916  2019-10-03  3                 5                      \n",
       "2   166916  2019-10-06  2                 2                      \n",
       "3   166916  2019-10-09  7                 3                      \n",
       "4   166916  2019-10-13  6                 6                      \n",
       "5   166916  2019-10-29  4                 8                      \n",
       "6   166916  2019-11-04  3                 10                     \n",
       "7   166916  2019-11-06  4                 2                      \n",
       "8   166916  2019-11-11  8                 9                      \n",
       "9   166916  2019-11-12  4                 4                      \n",
       "10  166916  2019-11-17  1                 4                      \n",
       "11  166916  2019-11-19  3                 11                     \n",
       "12  166916  2019-11-20  5                 12                     \n",
       "13  166916  2019-11-21  6                 10                     \n",
       "14  166916  2019-11-24  5                 9                      \n",
       "15  166916  2019-11-26  7                 9                      \n",
       "16  167176  2019-09-11  2                 10                     \n",
       "17  167176  2019-09-23  3                 19                     \n",
       "18  167176  2019-10-13  3                 13                     \n",
       "\n",
       "    call_duration_miss  call_duration_non_miss  avg_call_duration_miss  \\\n",
       "0   25                  48                      25.00                    \n",
       "1   3                   187                     1.00                     \n",
       "2   19                  35                      9.50                     \n",
       "3   1                   70                      0.14                     \n",
       "4   27                  181                     4.50                     \n",
       "5   87                  496                     21.75                    \n",
       "6   71                  539                     23.67                    \n",
       "7   148                 1572                    37.00                    \n",
       "8   35                  632                     4.38                     \n",
       "9   17                  498                     4.25                     \n",
       "10  44                  374                     44.00                    \n",
       "11  34                  715                     11.33                    \n",
       "12  34                  1491                    6.80                     \n",
       "13  15                  719                     2.50                     \n",
       "14  16                  449                     3.20                     \n",
       "15  112                 952                     16.00                    \n",
       "16  8                   345                     4.00                     \n",
       "17  6                   812                     2.00                     \n",
       "18  7                   457                     2.33                     \n",
       "\n",
       "    avg_call_duration_non_miss  \n",
       "0   24.00                       \n",
       "1   37.40                       \n",
       "2   17.50                       \n",
       "3   23.33                       \n",
       "4   30.17                       \n",
       "5   62.00                       \n",
       "6   53.90                       \n",
       "7   786.00                      \n",
       "8   70.22                       \n",
       "9   124.50                      \n",
       "10  93.50                       \n",
       "11  65.00                       \n",
       "12  124.25                      \n",
       "13  71.90                       \n",
       "14  49.89                       \n",
       "15  105.78                      \n",
       "16  34.50                       \n",
       "17  42.74                       \n",
       "18  35.15                       "
      ]
     },
     "metadata": {},
     "output_type": "display_data"
    }
   ],
   "source": [
    "# Let's take a closer look at all missed outgoing calls with a non-zero duration\n",
    "print(BOLD + 'All missed outgoing calls with a non-zero duration:' + END)\n",
    "display(df[(df.is_missed_call==True)&(df.call_duration>0)&(df.direction=='out')])\n",
    "print()\n",
    "\n",
    "print(BOLD + 'Comparison of missed outgoing calls of a non-zero duration with answered ones:' + END)\n",
    "display(df[(df.is_missed_call==True)&(df.call_duration>0)&(df.direction=='out')]\\\n",
    "            .merge(df[df.is_missed_call==False], on=['user_id', 'date', 'direction', 'internal', 'operator_id'],\n",
    "                   suffixes=('_miss', '_non_miss'))\\\n",
    "            .assign(avg_call_duration_miss=lambda x: x.call_duration_miss/x.calls_count_miss,\n",
    "                    avg_call_duration_non_miss=lambda x: x.call_duration_non_miss/x.calls_count_non_miss)\\\n",
    "            [['user_id', 'date', 'calls_count_miss', 'calls_count_non_miss',\n",
    "              'call_duration_miss', 'call_duration_non_miss',\n",
    "              'avg_call_duration_miss', 'avg_call_duration_non_miss']].round(2))"
   ]
  },
  {
   "cell_type": "markdown",
   "metadata": {},
   "source": [
    "The specified duration for missed calls is small and almost always shorter than the normal call duration, so we can set zero for the duration of the call indicated as missed.\n",
    "\n",
    "Note outgoing missed calls with a non-zero duration are internal."
   ]
  },
  {
   "cell_type": "code",
   "execution_count": 22,
   "metadata": {},
   "outputs": [],
   "source": [
    "# Let's set zero for the duration of the call indicated as missed\n",
    "\n",
    "# storing old 'call_duration' values to a separate feature\n",
    "df['call_duration_old'] = df['call_duration']\n",
    "\n",
    "# setting zero for the duration of the call indicated as missed\n",
    "df.loc[(df.is_missed_call==True)&(df.call_duration>0), 'call_duration'] = 0"
   ]
  },
  {
   "cell_type": "markdown",
   "metadata": {},
   "source": [
    "We have set zero for the duration of the call indicated as missed."
   ]
  },
  {
   "cell_type": "markdown",
   "metadata": {},
   "source": [
    "<a id='section2.5'></a>\n",
    "### 2.5 Investigation of Outliers"
   ]
  },
  {
   "cell_type": "code",
   "execution_count": 23,
   "metadata": {},
   "outputs": [
    {
     "name": "stdout",
     "output_type": "stream",
     "text": [
      "\u001b[1mDescribe statistics for average call duration per operator per day:\u001b[0m\n"
     ]
    },
    {
     "data": {
      "text/html": [
       "<div>\n",
       "<style scoped>\n",
       "    .dataframe tbody tr th:only-of-type {\n",
       "        vertical-align: middle;\n",
       "    }\n",
       "\n",
       "    .dataframe tbody tr th {\n",
       "        vertical-align: top;\n",
       "    }\n",
       "\n",
       "    .dataframe thead th {\n",
       "        text-align: right;\n",
       "    }\n",
       "</style>\n",
       "<table border=\"1\" class=\"dataframe\">\n",
       "  <thead>\n",
       "    <tr style=\"text-align: right;\">\n",
       "      <th></th>\n",
       "      <th>count</th>\n",
       "      <th>mean</th>\n",
       "      <th>std</th>\n",
       "      <th>min</th>\n",
       "      <th>25%</th>\n",
       "      <th>50%</th>\n",
       "      <th>75%</th>\n",
       "      <th>max</th>\n",
       "    </tr>\n",
       "  </thead>\n",
       "  <tbody>\n",
       "    <tr>\n",
       "      <td>call_duration_per_operator_per_day</td>\n",
       "      <td>799.0</td>\n",
       "      <td>659.83</td>\n",
       "      <td>3854.45</td>\n",
       "      <td>0.0</td>\n",
       "      <td>7.89</td>\n",
       "      <td>71.16</td>\n",
       "      <td>392.0</td>\n",
       "      <td>88735.62</td>\n",
       "    </tr>\n",
       "  </tbody>\n",
       "</table>\n",
       "</div>"
      ],
      "text/plain": [
       "                                    count    mean      std  min   25%    50%  \\\n",
       "call_duration_per_operator_per_day  799.0  659.83  3854.45  0.0  7.89  71.16   \n",
       "\n",
       "                                      75%       max  \n",
       "call_duration_per_operator_per_day  392.0  88735.62  "
      ]
     },
     "metadata": {},
     "output_type": "display_data"
    },
    {
     "name": "stdout",
     "output_type": "stream",
     "text": [
      "\u001b[1mNumber of months when call duration per operator per day more than 24*60 units is 83, which is 10.4% of all monthly data. It corresponds to 48 clients.\u001b[0m\n",
      "\n",
      "\u001b[1mNumber of months when call duration per operator per day more than 24*60*60 units is 1. \u001b[0m\n"
     ]
    }
   ],
   "source": [
    "# Let's investigate the outliers in the features corresponding to the call duration\n",
    "\n",
    "# Let's calculate monthly total call duration per operator\n",
    "# to neutralize the fact that customer reports are not available every day \n",
    "# and the report may contain data for several days. \n",
    "\n",
    "# calculating the number of operator for each client\n",
    "operator_num = df[df.operator_id.notnull()]\\\n",
    "                   .groupby(['user_id', df.date.dt.date.astype('datetime64[M]')]).operator_id.nunique()\\\n",
    "                        .reset_index().rename(columns={'operator_id':'operator_num'})\n",
    "\n",
    "# calculating monthly total call duration and the number of operators for each client\n",
    "total_monthly_call_duration = df.groupby(['user_id', df.date.dt.date.astype('datetime64[M]')])\\\n",
    "                                     .agg({'total_call_duration':'sum'}).reset_index()\\\n",
    "                                  .merge(operator_num, on=['user_id', 'date'], how='left').fillna(0)\n",
    "\n",
    "# calculating the number of days for each month\n",
    "day_num_per_month = df.groupby(df.date.dt.date.astype('datetime64[M]')).date.nunique()\n",
    "\n",
    "# calculating call duration per operator per day\n",
    "total_monthly_call_duration = total_monthly_call_duration\\\n",
    "                                  .merge(day_num_per_month, left_on='date', right_index=True, suffixes=('', '_num'))\\\n",
    "                                  .assign(call_duration_per_operator_per_day=lambda x: x.total_call_duration\\\n",
    "                                                                                          /x.operator_num/x.date_num)\n",
    "\n",
    "print(BOLD + 'Describe statistics for average call duration per operator per day:' + END)\n",
    "display(total_monthly_call_duration.agg({'call_duration_per_operator_per_day':'describe'}).round(2).T)\n",
    "\n",
    "more_than_24x60 = total_monthly_call_duration.query('call_duration_per_operator_per_day>24*60')\n",
    "print(BOLD + 'Number of months when call duration per operator per day more than 24*60 units is {}, which is {:.1%}'\\\n",
    "      .format(len(more_than_24x60), len(more_than_24x60)/len(total_monthly_call_duration)), \n",
    "      'of all monthly data. It corresponds to {} clients.'.format(more_than_24x60.user_id.nunique()) + END)\n",
    "print()\n",
    "\n",
    "more_than_24x60x60 = total_monthly_call_duration.query('call_duration_per_operator_per_day>24*60*60')\n",
    "print(BOLD + 'Number of months when call duration per operator per day more than 24*60*60 units is {}.'\\\n",
    "      .format(len(more_than_24x60x60)), END)"
   ]
  },
  {
   "cell_type": "markdown",
   "metadata": {},
   "source": [
    "If we assume that the duration of calls in the dataset is in minutes, then for more than 10% of the data the average call duration per operator per day is more than a day (more than 24 * 60). This issue does not accur if we assume that the duration is in seconds (there is no call duration per operator per day more than 24 * 60 * 60).\n",
    "\n",
    "We will assume that the duration is indicated in seconds.\n",
    "\n",
    "However, the maximum duration of 85833.77 per operator per day will be almost a day without 10 minutes, assuming the duration is in seconds."
   ]
  },
  {
   "cell_type": "code",
   "execution_count": 24,
   "metadata": {},
   "outputs": [
    {
     "name": "stdout",
     "output_type": "stream",
     "text": [
      "\u001b[1mClients calling more than 8 hours per day per operator in avarage:\u001b[0m\n"
     ]
    },
    {
     "data": {
      "text/html": [
       "<div>\n",
       "<style scoped>\n",
       "    .dataframe tbody tr th:only-of-type {\n",
       "        vertical-align: middle;\n",
       "    }\n",
       "\n",
       "    .dataframe tbody tr th {\n",
       "        vertical-align: top;\n",
       "    }\n",
       "\n",
       "    .dataframe thead th {\n",
       "        text-align: right;\n",
       "    }\n",
       "</style>\n",
       "<table border=\"1\" class=\"dataframe\">\n",
       "  <thead>\n",
       "    <tr style=\"text-align: right;\">\n",
       "      <th></th>\n",
       "      <th>user_id</th>\n",
       "      <th>date</th>\n",
       "      <th>total_call_duration</th>\n",
       "      <th>operator_num</th>\n",
       "      <th>date_num</th>\n",
       "      <th>call_duration_per_operator_per_day</th>\n",
       "    </tr>\n",
       "  </thead>\n",
       "  <tbody>\n",
       "    <tr>\n",
       "      <td>79</td>\n",
       "      <td>166582</td>\n",
       "      <td>2019-08-01</td>\n",
       "      <td>1969471</td>\n",
       "      <td>2</td>\n",
       "      <td>31</td>\n",
       "      <td>31765.661290</td>\n",
       "    </tr>\n",
       "    <tr>\n",
       "      <td>80</td>\n",
       "      <td>166582</td>\n",
       "      <td>2019-09-01</td>\n",
       "      <td>5324137</td>\n",
       "      <td>2</td>\n",
       "      <td>30</td>\n",
       "      <td>88735.616667</td>\n",
       "    </tr>\n",
       "    <tr>\n",
       "      <td>81</td>\n",
       "      <td>166582</td>\n",
       "      <td>2019-10-01</td>\n",
       "      <td>4451196</td>\n",
       "      <td>3</td>\n",
       "      <td>31</td>\n",
       "      <td>47862.322581</td>\n",
       "    </tr>\n",
       "  </tbody>\n",
       "</table>\n",
       "</div>"
      ],
      "text/plain": [
       "    user_id       date  total_call_duration  operator_num  date_num  \\\n",
       "79  166582  2019-08-01  1969471              2             31         \n",
       "80  166582  2019-09-01  5324137              2             30         \n",
       "81  166582  2019-10-01  4451196              3             31         \n",
       "\n",
       "    call_duration_per_operator_per_day  \n",
       "79  31765.661290                        \n",
       "80  88735.616667                        \n",
       "81  47862.322581                        "
      ]
     },
     "metadata": {},
     "output_type": "display_data"
    },
    {
     "name": "stdout",
     "output_type": "stream",
     "text": [
      "\n",
      "\u001b[1mTotal call duration in hours for each operator of the clients with id = 166582:\u001b[0m\n"
     ]
    },
    {
     "data": {
      "image/png": "[encoded data removed]",
      "text/plain": [
       "<Figure size 1440x432 with 1 Axes>"
      ]
     },
     "metadata": {
      "needs_background": "light"
     },
     "output_type": "display_data"
    }
   ],
   "source": [
    "# Let's limit the duration of calls per day to eight 8 (more than 28,800 seconds)\n",
    "# and take a closer look at clients who call longer than this time.\n",
    "print(BOLD + 'Clients calling more than 8 hours per day per operator in avarage:' + END)\n",
    "more_8_hours_per_day = total_monthly_call_duration.query('call_duration_per_operator_per_day>8*60*60')\n",
    "display(more_8_hours_per_day)\n",
    "print()\n",
    "\n",
    "# plotting charts of call duration for each operator of clients calling more than 8 hours per day per operator\n",
    "for user in more_8_hours_per_day.user_id.unique():\n",
    "    print(BOLD + 'Total call duration in hours for each operator of the clients with id = {}:'.format(user) + END)\n",
    "    fig, ax = plt.subplots(figsize=(20, 6))\n",
    "    for operator in df[df.user_id==user].operator_id.unique():\n",
    "        for direc in df[df.operator_id==operator].direction.unique(): \n",
    "            for inter in df[df.operator_id==operator].internal.unique():\n",
    "                internal_str = 'internal' if inter else 'external'\n",
    "                data = df[(df.operator_id==operator)&(df.direction==direc)\n",
    "                          &(df.internal==inter)&(df.direction==direc)&(df.is_missed_call==False)]\\\n",
    "                           .assign(total_call_duration_in_hours = lambda x: x.total_call_duration/60/60)\n",
    "                sns.lineplot(x='date', y='total_call_duration_in_hours', ax=ax, marker='o', linestyle='',\n",
    "                             label=str(operator)+' ('+ internal_str +', ' + direc + ')', data=data);\n",
    "    ax.set_title('Total call duration in hours for user=' + str(user) + ' by operator')\n",
    "    ax.grid(axis='y', linestyle='--', color='dimgray', alpha=0.5)"
   ]
  },
  {
   "cell_type": "markdown",
   "metadata": {},
   "source": [
    "\n",
    "It looks like there is daily reporting for each operator, but the duration of calls for some operators is 24 hours or even double this value. Probably it is worth deleting this user completely, as having inaccurate data."
   ]
  },
  {
   "cell_type": "code",
   "execution_count": 25,
   "metadata": {},
   "outputs": [],
   "source": [
    "# Let's drop the client with inaccurate data\n",
    "df.drop(df.loc[df.user_id==166582].index, inplace=True)"
   ]
  },
  {
   "cell_type": "markdown",
   "metadata": {},
   "source": [
    "We have deleted client data with inaccurate values of the duration of calls."
   ]
  },
  {
   "cell_type": "markdown",
   "metadata": {},
   "source": [
    "## 3. Additional calculations: determination of the optimal tariff plan for each client and calculation of additional revenue from each client using non-optimal tariffs\n",
    "<a id='section3'></a>"
   ]
  },
  {
   "cell_type": "code",
   "execution_count": 26,
   "metadata": {},
   "outputs": [
    {
     "name": "stdout",
     "output_type": "stream",
     "text": [
      "\u001b[1mThe virtual telephony service pricing:\u001b[0m\n",
      "\n",
      "Tariff plans, minutes tarification:\n"
     ]
    },
    {
     "data": {
      "text/html": [
       "<div>\n",
       "<style scoped>\n",
       "    .dataframe tbody tr th:only-of-type {\n",
       "        vertical-align: middle;\n",
       "    }\n",
       "\n",
       "    .dataframe tbody tr th {\n",
       "        vertical-align: top;\n",
       "    }\n",
       "\n",
       "    .dataframe thead th {\n",
       "        text-align: right;\n",
       "    }\n",
       "</style>\n",
       "<table border=\"1\" class=\"dataframe\">\n",
       "  <thead>\n",
       "    <tr style=\"text-align: right;\">\n",
       "      <th></th>\n",
       "      <th>tariff_plan</th>\n",
       "      <th>A</th>\n",
       "      <th>B</th>\n",
       "      <th>C</th>\n",
       "    </tr>\n",
       "    <tr>\n",
       "      <th>internal</th>\n",
       "      <th>minutes_included</th>\n",
       "      <th></th>\n",
       "      <th></th>\n",
       "      <th></th>\n",
       "    </tr>\n",
       "  </thead>\n",
       "  <tbody>\n",
       "    <tr>\n",
       "      <td>False</td>\n",
       "      <td>0</td>\n",
       "      <td>0.4</td>\n",
       "      <td>0.50</td>\n",
       "      <td>0.7</td>\n",
       "    </tr>\n",
       "    <tr>\n",
       "      <td>True</td>\n",
       "      <td>2000</td>\n",
       "      <td>0.1</td>\n",
       "      <td>0.15</td>\n",
       "      <td>0.3</td>\n",
       "    </tr>\n",
       "  </tbody>\n",
       "</table>\n",
       "</div>"
      ],
      "text/plain": [
       "tariff_plan                  A     B    C\n",
       "internal minutes_included                \n",
       "False    0                 0.4  0.50  0.7\n",
       "True     2000              0.1  0.15  0.3"
      ]
     },
     "metadata": {},
     "output_type": "display_data"
    },
    {
     "name": "stdout",
     "output_type": "stream",
     "text": [
      "\n",
      "Tariff plans, monthly pays:\n"
     ]
    },
    {
     "data": {
      "text/html": [
       "<div>\n",
       "<style scoped>\n",
       "    .dataframe tbody tr th:only-of-type {\n",
       "        vertical-align: middle;\n",
       "    }\n",
       "\n",
       "    .dataframe tbody tr th {\n",
       "        vertical-align: top;\n",
       "    }\n",
       "\n",
       "    .dataframe thead th {\n",
       "        text-align: right;\n",
       "    }\n",
       "</style>\n",
       "<table border=\"1\" class=\"dataframe\">\n",
       "  <thead>\n",
       "    <tr style=\"text-align: right;\">\n",
       "      <th></th>\n",
       "      <th>tariff_plan</th>\n",
       "      <th>monthly_pay</th>\n",
       "    </tr>\n",
       "  </thead>\n",
       "  <tbody>\n",
       "    <tr>\n",
       "      <td>0</td>\n",
       "      <td>A</td>\n",
       "      <td>5000</td>\n",
       "    </tr>\n",
       "    <tr>\n",
       "      <td>1</td>\n",
       "      <td>B</td>\n",
       "      <td>2000</td>\n",
       "    </tr>\n",
       "    <tr>\n",
       "      <td>2</td>\n",
       "      <td>C</td>\n",
       "      <td>1000</td>\n",
       "    </tr>\n",
       "  </tbody>\n",
       "</table>\n",
       "</div>"
      ],
      "text/plain": [
       "  tariff_plan  monthly_pay\n",
       "0  A           5000       \n",
       "1  B           2000       \n",
       "2  C           1000       "
      ]
     },
     "metadata": {},
     "output_type": "display_data"
    },
    {
     "name": "stdout",
     "output_type": "stream",
     "text": [
      "\n",
      "The monthly cost of one operator is 100\n"
     ]
    }
   ],
   "source": [
    "# Let's record the tariff costs in the appropriate tables and variables.\n",
    "print(BOLD + 'The virtual telephony service pricing:' + END)\n",
    "print()\n",
    "\n",
    "# creating table with tariff plans for minutes costs\n",
    "plans = pd.DataFrame({'tariff_plan': ['A', 'B', 'C', 'A', 'B', 'C'],\n",
    "                      'minutes_included': [2000, 2000, 2000, 0, 0, 0],\n",
    "                      'internal' : [True, True, True, False, False, False],\n",
    "                      'per_ex_minute': [0.1, 0.15, 0.3, 0.4, 0.5, 0.7]})\n",
    "\n",
    "# creating a pivot table of tariff plans for more convenient work with\n",
    "plans_pivot = plans.pivot_table(index=['internal', 'minutes_included'], columns=['tariff_plan'],\n",
    "                                values='per_ex_minute')\n",
    "\n",
    "print('Tariff plans, minutes tarification:')\n",
    "display(plans_pivot)\n",
    "plans_pivot.reset_index(inplace=True)\n",
    "print()\n",
    "\n",
    "# creating table with tariff plans for monthly pays\n",
    "plans_monthly_pays = pd.DataFrame({'tariff_plan': ['A', 'B', 'C'],\n",
    "                                   'monthly_pay': [5000, 2000, 1000]})\n",
    "\n",
    "print('Tariff plans, monthly pays:')\n",
    "display(plans_monthly_pays)\n",
    "print()\n",
    "\n",
    "# set monthly cost of one operator\n",
    "operator_cost = 100\n",
    "print('The monthly cost of one operator is', operator_cost)"
   ]
  },
  {
   "cell_type": "markdown",
   "metadata": {},
   "source": [
    "We have recorded the tariff costs in the appropriate tables and variables, in the future it will be easy to change the calculations in the case of tariff plans changing."
   ]
  },
  {
   "cell_type": "code",
   "execution_count": 27,
   "metadata": {},
   "outputs": [
    {
     "name": "stdout",
     "output_type": "stream",
     "text": [
      "\u001b[1mAggregated monthly data on call duration, client costs and the revenue of the service (first 10 rows):\u001b[0m\n",
      "\u001b[1mRem: \u001b[0m'call_duration_internal', 'call_duration_external', 'call_duration', 'call_duration_per_operator', 'call_duration_internal_per_operator', 'call_duration_external_per_operator', 'calls_count_internal', 'calls_count_external', 'calls_count' and 'calls_count_per_operator' are calculated only for outgoing calls, for incoming calls these columns take null values.\n",
      "\u001b[1mRem: \u001b[0mCall duration is indicated in minutes.\n"
     ]
    },
    {
     "data": {
      "text/html": [
       "<div>\n",
       "<style scoped>\n",
       "    .dataframe tbody tr th:only-of-type {\n",
       "        vertical-align: middle;\n",
       "    }\n",
       "\n",
       "    .dataframe tbody tr th {\n",
       "        vertical-align: top;\n",
       "    }\n",
       "\n",
       "    .dataframe thead th {\n",
       "        text-align: right;\n",
       "    }\n",
       "</style>\n",
       "<table border=\"1\" class=\"dataframe\">\n",
       "  <thead>\n",
       "    <tr style=\"text-align: right;\">\n",
       "      <th></th>\n",
       "      <th>user_id</th>\n",
       "      <th>date</th>\n",
       "      <th>call_duration_internal</th>\n",
       "      <th>call_duration_external</th>\n",
       "      <th>call_duration</th>\n",
       "      <th>calls_count_internal</th>\n",
       "      <th>calls_count_external</th>\n",
       "      <th>calls_count</th>\n",
       "      <th>calls_costs_A</th>\n",
       "      <th>calls_costs_B</th>\n",
       "      <th>calls_costs_C</th>\n",
       "      <th>operator_count</th>\n",
       "      <th>calls_count_per_operator</th>\n",
       "      <th>call_duration_per_operator</th>\n",
       "      <th>call_duration_internal_per_operator</th>\n",
       "      <th>call_duration_external_per_operator</th>\n",
       "      <th>costs_A</th>\n",
       "      <th>costs_B</th>\n",
       "      <th>costs_C</th>\n",
       "      <th>opt_cost</th>\n",
       "      <th>opt_tariff</th>\n",
       "      <th>tariff_plan</th>\n",
       "      <th>date_start</th>\n",
       "      <th>tariff_cost</th>\n",
       "      <th>additional_revenue</th>\n",
       "    </tr>\n",
       "  </thead>\n",
       "  <tbody>\n",
       "    <tr>\n",
       "      <td>0</td>\n",
       "      <td>166377</td>\n",
       "      <td>2019-08-01</td>\n",
       "      <td>0.166667</td>\n",
       "      <td>1082.800000</td>\n",
       "      <td>1082.966667</td>\n",
       "      <td>19.0</td>\n",
       "      <td>912.0</td>\n",
       "      <td>931.0</td>\n",
       "      <td>433.120000</td>\n",
       "      <td>541.400000</td>\n",
       "      <td>757.960000</td>\n",
       "      <td>5</td>\n",
       "      <td>186.20</td>\n",
       "      <td>216.593333</td>\n",
       "      <td>0.033333</td>\n",
       "      <td>216.560000</td>\n",
       "      <td>5933.120000</td>\n",
       "      <td>3041.400000</td>\n",
       "      <td>2257.960000</td>\n",
       "      <td>2257.960000</td>\n",
       "      <td>C</td>\n",
       "      <td>B</td>\n",
       "      <td>2019-08-01</td>\n",
       "      <td>3041.400000</td>\n",
       "      <td>783.440000</td>\n",
       "    </tr>\n",
       "    <tr>\n",
       "      <td>1</td>\n",
       "      <td>166377</td>\n",
       "      <td>2019-09-01</td>\n",
       "      <td>0.000000</td>\n",
       "      <td>1462.300000</td>\n",
       "      <td>1462.300000</td>\n",
       "      <td>13.0</td>\n",
       "      <td>1416.0</td>\n",
       "      <td>1429.0</td>\n",
       "      <td>584.920000</td>\n",
       "      <td>731.150000</td>\n",
       "      <td>1023.610000</td>\n",
       "      <td>4</td>\n",
       "      <td>357.25</td>\n",
       "      <td>365.575000</td>\n",
       "      <td>0.000000</td>\n",
       "      <td>365.575000</td>\n",
       "      <td>5984.920000</td>\n",
       "      <td>3131.150000</td>\n",
       "      <td>2423.610000</td>\n",
       "      <td>2423.610000</td>\n",
       "      <td>C</td>\n",
       "      <td>B</td>\n",
       "      <td>2019-08-01</td>\n",
       "      <td>3131.150000</td>\n",
       "      <td>707.540000</td>\n",
       "    </tr>\n",
       "    <tr>\n",
       "      <td>2</td>\n",
       "      <td>166377</td>\n",
       "      <td>2019-10-01</td>\n",
       "      <td>0.033333</td>\n",
       "      <td>1407.400000</td>\n",
       "      <td>1407.433333</td>\n",
       "      <td>7.0</td>\n",
       "      <td>1414.0</td>\n",
       "      <td>1421.0</td>\n",
       "      <td>562.960000</td>\n",
       "      <td>703.700000</td>\n",
       "      <td>985.180000</td>\n",
       "      <td>5</td>\n",
       "      <td>284.20</td>\n",
       "      <td>281.486667</td>\n",
       "      <td>0.006667</td>\n",
       "      <td>281.480000</td>\n",
       "      <td>6062.960000</td>\n",
       "      <td>3203.700000</td>\n",
       "      <td>2485.180000</td>\n",
       "      <td>2485.180000</td>\n",
       "      <td>C</td>\n",
       "      <td>B</td>\n",
       "      <td>2019-08-01</td>\n",
       "      <td>3203.700000</td>\n",
       "      <td>718.520000</td>\n",
       "    </tr>\n",
       "    <tr>\n",
       "      <td>3</td>\n",
       "      <td>166377</td>\n",
       "      <td>2019-11-01</td>\n",
       "      <td>2.000000</td>\n",
       "      <td>1221.150000</td>\n",
       "      <td>1223.150000</td>\n",
       "      <td>16.0</td>\n",
       "      <td>1156.0</td>\n",
       "      <td>1172.0</td>\n",
       "      <td>488.460000</td>\n",
       "      <td>610.575000</td>\n",
       "      <td>854.805000</td>\n",
       "      <td>4</td>\n",
       "      <td>293.00</td>\n",
       "      <td>305.787500</td>\n",
       "      <td>0.500000</td>\n",
       "      <td>305.287500</td>\n",
       "      <td>5888.460000</td>\n",
       "      <td>3010.575000</td>\n",
       "      <td>2254.805000</td>\n",
       "      <td>2254.805000</td>\n",
       "      <td>C</td>\n",
       "      <td>B</td>\n",
       "      <td>2019-08-01</td>\n",
       "      <td>3010.575000</td>\n",
       "      <td>755.770000</td>\n",
       "    </tr>\n",
       "    <tr>\n",
       "      <td>4</td>\n",
       "      <td>166391</td>\n",
       "      <td>2019-08-01</td>\n",
       "      <td>0.000000</td>\n",
       "      <td>0.000000</td>\n",
       "      <td>0.000000</td>\n",
       "      <td>1.0</td>\n",
       "      <td>0.0</td>\n",
       "      <td>1.0</td>\n",
       "      <td>0.000000</td>\n",
       "      <td>0.000000</td>\n",
       "      <td>0.000000</td>\n",
       "      <td>2</td>\n",
       "      <td>0.50</td>\n",
       "      <td>0.000000</td>\n",
       "      <td>0.000000</td>\n",
       "      <td>0.000000</td>\n",
       "      <td>5200.000000</td>\n",
       "      <td>2200.000000</td>\n",
       "      <td>1200.000000</td>\n",
       "      <td>1200.000000</td>\n",
       "      <td>C</td>\n",
       "      <td>C</td>\n",
       "      <td>2019-08-01</td>\n",
       "      <td>1200.000000</td>\n",
       "      <td>0.000000</td>\n",
       "    </tr>\n",
       "    <tr>\n",
       "      <td>5</td>\n",
       "      <td>166391</td>\n",
       "      <td>2019-09-01</td>\n",
       "      <td>NaN</td>\n",
       "      <td>NaN</td>\n",
       "      <td>NaN</td>\n",
       "      <td>NaN</td>\n",
       "      <td>NaN</td>\n",
       "      <td>NaN</td>\n",
       "      <td>0.000000</td>\n",
       "      <td>0.000000</td>\n",
       "      <td>0.000000</td>\n",
       "      <td>1</td>\n",
       "      <td>NaN</td>\n",
       "      <td>NaN</td>\n",
       "      <td>NaN</td>\n",
       "      <td>NaN</td>\n",
       "      <td>5100.000000</td>\n",
       "      <td>2100.000000</td>\n",
       "      <td>1100.000000</td>\n",
       "      <td>1100.000000</td>\n",
       "      <td>C</td>\n",
       "      <td>C</td>\n",
       "      <td>2019-08-01</td>\n",
       "      <td>1100.000000</td>\n",
       "      <td>0.000000</td>\n",
       "    </tr>\n",
       "    <tr>\n",
       "      <td>6</td>\n",
       "      <td>166391</td>\n",
       "      <td>2019-10-01</td>\n",
       "      <td>NaN</td>\n",
       "      <td>NaN</td>\n",
       "      <td>NaN</td>\n",
       "      <td>NaN</td>\n",
       "      <td>NaN</td>\n",
       "      <td>NaN</td>\n",
       "      <td>0.000000</td>\n",
       "      <td>0.000000</td>\n",
       "      <td>0.000000</td>\n",
       "      <td>1</td>\n",
       "      <td>NaN</td>\n",
       "      <td>NaN</td>\n",
       "      <td>NaN</td>\n",
       "      <td>NaN</td>\n",
       "      <td>5100.000000</td>\n",
       "      <td>2100.000000</td>\n",
       "      <td>1100.000000</td>\n",
       "      <td>1100.000000</td>\n",
       "      <td>C</td>\n",
       "      <td>C</td>\n",
       "      <td>2019-08-01</td>\n",
       "      <td>1100.000000</td>\n",
       "      <td>0.000000</td>\n",
       "    </tr>\n",
       "    <tr>\n",
       "      <td>7</td>\n",
       "      <td>166391</td>\n",
       "      <td>2019-11-01</td>\n",
       "      <td>NaN</td>\n",
       "      <td>NaN</td>\n",
       "      <td>NaN</td>\n",
       "      <td>NaN</td>\n",
       "      <td>NaN</td>\n",
       "      <td>NaN</td>\n",
       "      <td>0.000000</td>\n",
       "      <td>0.000000</td>\n",
       "      <td>0.000000</td>\n",
       "      <td>1</td>\n",
       "      <td>NaN</td>\n",
       "      <td>NaN</td>\n",
       "      <td>NaN</td>\n",
       "      <td>NaN</td>\n",
       "      <td>5100.000000</td>\n",
       "      <td>2100.000000</td>\n",
       "      <td>1100.000000</td>\n",
       "      <td>1100.000000</td>\n",
       "      <td>C</td>\n",
       "      <td>C</td>\n",
       "      <td>2019-08-01</td>\n",
       "      <td>1100.000000</td>\n",
       "      <td>0.000000</td>\n",
       "    </tr>\n",
       "    <tr>\n",
       "      <td>8</td>\n",
       "      <td>166405</td>\n",
       "      <td>2019-08-01</td>\n",
       "      <td>0.000000</td>\n",
       "      <td>785.016667</td>\n",
       "      <td>785.016667</td>\n",
       "      <td>1.0</td>\n",
       "      <td>442.0</td>\n",
       "      <td>443.0</td>\n",
       "      <td>314.006667</td>\n",
       "      <td>392.508333</td>\n",
       "      <td>549.511667</td>\n",
       "      <td>2</td>\n",
       "      <td>221.50</td>\n",
       "      <td>392.508333</td>\n",
       "      <td>0.000000</td>\n",
       "      <td>392.508333</td>\n",
       "      <td>5514.006667</td>\n",
       "      <td>2592.508333</td>\n",
       "      <td>1749.511667</td>\n",
       "      <td>1749.511667</td>\n",
       "      <td>C</td>\n",
       "      <td>B</td>\n",
       "      <td>2019-08-02</td>\n",
       "      <td>2592.508333</td>\n",
       "      <td>842.996667</td>\n",
       "    </tr>\n",
       "    <tr>\n",
       "      <td>9</td>\n",
       "      <td>166405</td>\n",
       "      <td>2019-09-01</td>\n",
       "      <td>3.550000</td>\n",
       "      <td>1861.116667</td>\n",
       "      <td>1864.666667</td>\n",
       "      <td>5.0</td>\n",
       "      <td>846.0</td>\n",
       "      <td>851.0</td>\n",
       "      <td>744.446667</td>\n",
       "      <td>930.558333</td>\n",
       "      <td>1302.781667</td>\n",
       "      <td>4</td>\n",
       "      <td>212.75</td>\n",
       "      <td>466.166667</td>\n",
       "      <td>0.887500</td>\n",
       "      <td>465.279167</td>\n",
       "      <td>6144.446667</td>\n",
       "      <td>3330.558333</td>\n",
       "      <td>2702.781667</td>\n",
       "      <td>2702.781667</td>\n",
       "      <td>C</td>\n",
       "      <td>B</td>\n",
       "      <td>2019-08-02</td>\n",
       "      <td>3330.558333</td>\n",
       "      <td>627.776667</td>\n",
       "    </tr>\n",
       "  </tbody>\n",
       "</table>\n",
       "</div>"
      ],
      "text/plain": [
       "   user_id       date  call_duration_internal  call_duration_external  \\\n",
       "0  166377  2019-08-01  0.166667                1082.800000              \n",
       "1  166377  2019-09-01  0.000000                1462.300000              \n",
       "2  166377  2019-10-01  0.033333                1407.400000              \n",
       "3  166377  2019-11-01  2.000000                1221.150000              \n",
       "4  166391  2019-08-01  0.000000                0.000000                 \n",
       "5  166391  2019-09-01 NaN                     NaN                       \n",
       "6  166391  2019-10-01 NaN                     NaN                       \n",
       "7  166391  2019-11-01 NaN                     NaN                       \n",
       "8  166405  2019-08-01  0.000000                785.016667               \n",
       "9  166405  2019-09-01  3.550000                1861.116667              \n",
       "\n",
       "   call_duration  calls_count_internal  calls_count_external  calls_count  \\\n",
       "0  1082.966667    19.0                  912.0                 931.0         \n",
       "1  1462.300000    13.0                  1416.0                1429.0        \n",
       "2  1407.433333    7.0                   1414.0                1421.0        \n",
       "3  1223.150000    16.0                  1156.0                1172.0        \n",
       "4  0.000000       1.0                   0.0                   1.0           \n",
       "5 NaN            NaN                   NaN                   NaN            \n",
       "6 NaN            NaN                   NaN                   NaN            \n",
       "7 NaN            NaN                   NaN                   NaN            \n",
       "8  785.016667     1.0                   442.0                 443.0         \n",
       "9  1864.666667    5.0                   846.0                 851.0         \n",
       "\n",
       "   calls_costs_A  calls_costs_B  calls_costs_C  operator_count  \\\n",
       "0  433.120000     541.400000     757.960000     5                \n",
       "1  584.920000     731.150000     1023.610000    4                \n",
       "2  562.960000     703.700000     985.180000     5                \n",
       "3  488.460000     610.575000     854.805000     4                \n",
       "4  0.000000       0.000000       0.000000       2                \n",
       "5  0.000000       0.000000       0.000000       1                \n",
       "6  0.000000       0.000000       0.000000       1                \n",
       "7  0.000000       0.000000       0.000000       1                \n",
       "8  314.006667     392.508333     549.511667     2                \n",
       "9  744.446667     930.558333     1302.781667    4                \n",
       "\n",
       "   calls_count_per_operator  call_duration_per_operator  \\\n",
       "0  186.20                    216.593333                   \n",
       "1  357.25                    365.575000                   \n",
       "2  284.20                    281.486667                   \n",
       "3  293.00                    305.787500                   \n",
       "4  0.50                      0.000000                     \n",
       "5 NaN                       NaN                           \n",
       "6 NaN                       NaN                           \n",
       "7 NaN                       NaN                           \n",
       "8  221.50                    392.508333                   \n",
       "9  212.75                    466.166667                   \n",
       "\n",
       "   call_duration_internal_per_operator  call_duration_external_per_operator  \\\n",
       "0  0.033333                             216.560000                            \n",
       "1  0.000000                             365.575000                            \n",
       "2  0.006667                             281.480000                            \n",
       "3  0.500000                             305.287500                            \n",
       "4  0.000000                             0.000000                              \n",
       "5 NaN                                  NaN                                    \n",
       "6 NaN                                  NaN                                    \n",
       "7 NaN                                  NaN                                    \n",
       "8  0.000000                             392.508333                            \n",
       "9  0.887500                             465.279167                            \n",
       "\n",
       "       costs_A      costs_B      costs_C     opt_cost opt_tariff tariff_plan  \\\n",
       "0  5933.120000  3041.400000  2257.960000  2257.960000  C          B            \n",
       "1  5984.920000  3131.150000  2423.610000  2423.610000  C          B            \n",
       "2  6062.960000  3203.700000  2485.180000  2485.180000  C          B            \n",
       "3  5888.460000  3010.575000  2254.805000  2254.805000  C          B            \n",
       "4  5200.000000  2200.000000  1200.000000  1200.000000  C          C            \n",
       "5  5100.000000  2100.000000  1100.000000  1100.000000  C          C            \n",
       "6  5100.000000  2100.000000  1100.000000  1100.000000  C          C            \n",
       "7  5100.000000  2100.000000  1100.000000  1100.000000  C          C            \n",
       "8  5514.006667  2592.508333  1749.511667  1749.511667  C          B            \n",
       "9  6144.446667  3330.558333  2702.781667  2702.781667  C          B            \n",
       "\n",
       "  date_start  tariff_cost  additional_revenue  \n",
       "0 2019-08-01  3041.400000  783.440000          \n",
       "1 2019-08-01  3131.150000  707.540000          \n",
       "2 2019-08-01  3203.700000  718.520000          \n",
       "3 2019-08-01  3010.575000  755.770000          \n",
       "4 2019-08-01  1200.000000  0.000000            \n",
       "5 2019-08-01  1100.000000  0.000000            \n",
       "6 2019-08-01  1100.000000  0.000000            \n",
       "7 2019-08-01  1100.000000  0.000000            \n",
       "8 2019-08-02  2592.508333  842.996667          \n",
       "9 2019-08-02  3330.558333  627.776667          "
      ]
     },
     "metadata": {},
     "output_type": "display_data"
    }
   ],
   "source": [
    "# Let's caluclate the monthly cost of communication services in all tariffs for each client \n",
    "# and determine the optimal one.\n",
    "# We will calculate the monthly clients costs \n",
    "# and additional revenue of the service from client using non-optimal tariffs as well. \n",
    "\n",
    "# function for getting monthly pay by tariff plan\n",
    "def get_monthly_pays(tariff_plan):\n",
    "    return plans_monthly_pays[plans_monthly_pays.tariff_plan==tariff_plan].monthly_pay.values[0]\n",
    "\n",
    "# suppose that operators who made calls during a given month are charged.\n",
    "operator_count = df[df.operator_id.notnull()]\\\n",
    "                   .groupby(['user_id', df.date.dt.date.astype('datetime64[M]')]).operator_id.nunique()\\\n",
    "                      .reset_index().rename(columns={'operator_id':'operator_count'})\n",
    "\n",
    "# calculating monthly duration of outgoing calls\n",
    "monthly_call_duration = df[(df.direction=='out')]\\\n",
    "                            .groupby(['user_id', df.date.dt.date.astype('datetime64[M]'), 'internal'])\\\n",
    "                                .agg({'call_duration':'sum', 'calls_count':'sum'}).reset_index()\n",
    "\n",
    "# recalculating call duration in minutes\n",
    "monthly_call_duration['call_duration'] = monthly_call_duration.call_duration / 60\n",
    "\n",
    "# adding tariff plans and calculating internal and external calls costs in each tariff plan\n",
    "costs = monthly_call_duration.merge(plans_pivot, on=['internal'])\\\n",
    "            .assign(calls_costs_A=lambda x: np.where(x.call_duration > x.minutes_included, \\\n",
    "                                                        (x.call_duration - x.minutes_included) * x.A, 0),\n",
    "                \n",
    "                    calls_costs_B=lambda x: np.where(x.call_duration > x.minutes_included, \\\n",
    "                                                        (x.call_duration - x.minutes_included) * x.B, 0),\n",
    "\n",
    "                    calls_costs_C=lambda x: np.where(x.call_duration > x.minutes_included, \\\n",
    "                                                        (x.call_duration - x.minutes_included) * x.C, 0),\n",
    "\n",
    "                    call_duration_internal=lambda x: np.where(x.internal, x.call_duration, 0),\n",
    "                    call_duration_external=lambda x: np.where(x.internal, 0, x.call_duration),\n",
    "                    calls_count_internal=lambda x: np.where(x.internal, x.calls_count, 0),\n",
    "                    calls_count_external=lambda x: np.where(x.internal, 0, x.calls_count))\n",
    "\n",
    "# calculating total monthly calls costs in each tariff plan\n",
    "costs = costs.groupby(['user_id', 'date'])\\\n",
    "            .agg({'call_duration_internal':'sum', 'call_duration_external':'sum', 'call_duration':'sum',\n",
    "                  'calls_count_internal':'sum', 'calls_count_external':'sum', 'calls_count':'sum',\n",
    "                  'calls_costs_A':'sum', 'calls_costs_B':'sum', 'calls_costs_C':'sum'}).reset_index()\n",
    "\n",
    "# Let's calculate total monthly costs in each tariff plan and determining the optimal plan.\n",
    "# merging with info about the number of operators, \n",
    "# in case when the calls are only incoming set zero for call cost in all tariff plans\n",
    "costs = costs.merge(operator_count, on=['user_id', 'date'], how='right')\\\n",
    "            .fillna({'calls_costs_A':0, 'calls_costs_B':0, 'calls_costs_C':0})\\\n",
    "            .assign(calls_count_per_operator=lambda x: x.calls_count/x.operator_count,\n",
    "                    call_duration_per_operator=lambda x: x.call_duration/x.operator_count,\n",
    "                    call_duration_internal_per_operator=lambda x: x.call_duration_internal/x.operator_count,\n",
    "                    call_duration_external_per_operator=lambda x: x.call_duration_external/x.operator_count,\n",
    "                    costs_A=lambda x: x.calls_costs_A+get_monthly_pays('A')+x.operator_count*operator_cost,\n",
    "                    costs_B=lambda x: x.calls_costs_B+get_monthly_pays('B')+x.operator_count*operator_cost,\n",
    "                    costs_C=lambda x: x.calls_costs_C+get_monthly_pays('C')+x.operator_count*operator_cost,\n",
    "                    opt_cost=lambda x: x[['costs_A', 'costs_B', 'costs_C']].min(axis=1),\n",
    "                    opt_tariff=lambda x: x[['costs_A', 'costs_B', 'costs_C']].idxmin(axis=1).str[-1])\n",
    "\n",
    "# adding info on current tariff plan and its cost \n",
    "# and additional revenue of telephony service from using non-optimal tariffs by clients\n",
    "costs = costs.merge(clients, on='user_id')\\\n",
    "            .assign(tariff_cost=lambda x: np.where(x.tariff_plan=='A', x.costs_A, \n",
    "                                                   np.where(x.tariff_plan=='B', x.costs_B, x.costs_C)),\n",
    "                    additional_revenue=lambda x: np.where(x.opt_cost<x.tariff_cost, x.tariff_cost-x.opt_cost, 0))\n",
    "\n",
    "print(BOLD + 'Aggregated monthly data on call duration, client costs and the revenue of the service (first 10 rows):'\n",
    "      + END)\n",
    "print(BOLD + 'Rem: ' + END + \"'call_duration_internal', 'call_duration_external', 'call_duration', \" \n",
    "      + \"'call_duration_per_operator', 'call_duration_internal_per_operator', 'call_duration_external_per_operator', \"\n",
    "      + \"'calls_count_internal', 'calls_count_external', 'calls_count' and 'calls_count_per_operator' \"\n",
    "      + \"are calculated only for outgoing calls, for incoming calls these columns take null values.\")\n",
    "print(BOLD + 'Rem: ' + END + 'Call duration is indicated in minutes.')\n",
    "pd.set_option('display.max_columns', None)\n",
    "display(costs.head(10))"
   ]
  },
  {
   "cell_type": "markdown",
   "metadata": {},
   "source": [
    "We have created aggregated table for further exploratory data analysis on optimal and non-optimal using the tariff plans and additional revenue of the service from clients using non-optimal tariffs on a monthly based."
   ]
  },
  {
   "cell_type": "code",
   "execution_count": 28,
   "metadata": {},
   "outputs": [
    {
     "name": "stdout",
     "output_type": "stream",
     "text": [
      "\u001b[1mCosts clients for their lifetime for each tariff plan and optimal calling plan based on this data (first 10 rows):\u001b[0m\n"
     ]
    },
    {
     "data": {
      "text/html": [
       "<div>\n",
       "<style scoped>\n",
       "    .dataframe tbody tr th:only-of-type {\n",
       "        vertical-align: middle;\n",
       "    }\n",
       "\n",
       "    .dataframe tbody tr th {\n",
       "        vertical-align: top;\n",
       "    }\n",
       "\n",
       "    .dataframe thead th {\n",
       "        text-align: right;\n",
       "    }\n",
       "</style>\n",
       "<table border=\"1\" class=\"dataframe\">\n",
       "  <thead>\n",
       "    <tr style=\"text-align: right;\">\n",
       "      <th></th>\n",
       "      <th>user_id</th>\n",
       "      <th>date_start</th>\n",
       "      <th>tariff_plan</th>\n",
       "      <th>months_count</th>\n",
       "      <th>costs_A</th>\n",
       "      <th>costs_B</th>\n",
       "      <th>costs_C</th>\n",
       "      <th>tariff_cost</th>\n",
       "      <th>opt_cost</th>\n",
       "      <th>opt_tariff</th>\n",
       "    </tr>\n",
       "  </thead>\n",
       "  <tbody>\n",
       "    <tr>\n",
       "      <td>0</td>\n",
       "      <td>166377</td>\n",
       "      <td>2019-08-01</td>\n",
       "      <td>B</td>\n",
       "      <td>4</td>\n",
       "      <td>23869.460000</td>\n",
       "      <td>12386.825000</td>\n",
       "      <td>9421.555000</td>\n",
       "      <td>12386.825000</td>\n",
       "      <td>9421.555000</td>\n",
       "      <td>C</td>\n",
       "    </tr>\n",
       "    <tr>\n",
       "      <td>1</td>\n",
       "      <td>166391</td>\n",
       "      <td>2019-08-01</td>\n",
       "      <td>C</td>\n",
       "      <td>4</td>\n",
       "      <td>20500.000000</td>\n",
       "      <td>8500.000000</td>\n",
       "      <td>4500.000000</td>\n",
       "      <td>4500.000000</td>\n",
       "      <td>4500.000000</td>\n",
       "      <td>C</td>\n",
       "    </tr>\n",
       "    <tr>\n",
       "      <td>2</td>\n",
       "      <td>166392</td>\n",
       "      <td>2019-08-01</td>\n",
       "      <td>C</td>\n",
       "      <td>4</td>\n",
       "      <td>21100.000000</td>\n",
       "      <td>9100.000000</td>\n",
       "      <td>5100.000000</td>\n",
       "      <td>5100.000000</td>\n",
       "      <td>5100.000000</td>\n",
       "      <td>C</td>\n",
       "    </tr>\n",
       "    <tr>\n",
       "      <td>3</td>\n",
       "      <td>166399</td>\n",
       "      <td>2019-08-01</td>\n",
       "      <td>C</td>\n",
       "      <td>3</td>\n",
       "      <td>15300.000000</td>\n",
       "      <td>6300.000000</td>\n",
       "      <td>3300.000000</td>\n",
       "      <td>3300.000000</td>\n",
       "      <td>3300.000000</td>\n",
       "      <td>C</td>\n",
       "    </tr>\n",
       "    <tr>\n",
       "      <td>4</td>\n",
       "      <td>166405</td>\n",
       "      <td>2019-08-02</td>\n",
       "      <td>B</td>\n",
       "      <td>4</td>\n",
       "      <td>27635.953333</td>\n",
       "      <td>16919.941667</td>\n",
       "      <td>15487.918333</td>\n",
       "      <td>16919.941667</td>\n",
       "      <td>15487.918333</td>\n",
       "      <td>C</td>\n",
       "    </tr>\n",
       "    <tr>\n",
       "      <td>5</td>\n",
       "      <td>166406</td>\n",
       "      <td>2019-08-02</td>\n",
       "      <td>B</td>\n",
       "      <td>4</td>\n",
       "      <td>22978.800000</td>\n",
       "      <td>11498.500000</td>\n",
       "      <td>8537.900000</td>\n",
       "      <td>11498.500000</td>\n",
       "      <td>8537.900000</td>\n",
       "      <td>C</td>\n",
       "    </tr>\n",
       "    <tr>\n",
       "      <td>6</td>\n",
       "      <td>166407</td>\n",
       "      <td>2019-08-02</td>\n",
       "      <td>A</td>\n",
       "      <td>4</td>\n",
       "      <td>22427.053333</td>\n",
       "      <td>10458.816667</td>\n",
       "      <td>6522.343333</td>\n",
       "      <td>22427.053333</td>\n",
       "      <td>6522.343333</td>\n",
       "      <td>C</td>\n",
       "    </tr>\n",
       "    <tr>\n",
       "      <td>7</td>\n",
       "      <td>166428</td>\n",
       "      <td>2019-08-02</td>\n",
       "      <td>B</td>\n",
       "      <td>4</td>\n",
       "      <td>20600.000000</td>\n",
       "      <td>8600.000000</td>\n",
       "      <td>4600.000000</td>\n",
       "      <td>8600.000000</td>\n",
       "      <td>4600.000000</td>\n",
       "      <td>C</td>\n",
       "    </tr>\n",
       "    <tr>\n",
       "      <td>8</td>\n",
       "      <td>166481</td>\n",
       "      <td>2019-08-05</td>\n",
       "      <td>A</td>\n",
       "      <td>3</td>\n",
       "      <td>15300.000000</td>\n",
       "      <td>6300.000000</td>\n",
       "      <td>3300.000000</td>\n",
       "      <td>15300.000000</td>\n",
       "      <td>3300.000000</td>\n",
       "      <td>C</td>\n",
       "    </tr>\n",
       "    <tr>\n",
       "      <td>9</td>\n",
       "      <td>166482</td>\n",
       "      <td>2019-08-05</td>\n",
       "      <td>C</td>\n",
       "      <td>4</td>\n",
       "      <td>20600.000000</td>\n",
       "      <td>8600.000000</td>\n",
       "      <td>4600.000000</td>\n",
       "      <td>4600.000000</td>\n",
       "      <td>4600.000000</td>\n",
       "      <td>C</td>\n",
       "    </tr>\n",
       "  </tbody>\n",
       "</table>\n",
       "</div>"
      ],
      "text/plain": [
       "   user_id date_start tariff_plan  months_count       costs_A       costs_B  \\\n",
       "0  166377  2019-08-01  B           4             23869.460000  12386.825000   \n",
       "1  166391  2019-08-01  C           4             20500.000000  8500.000000    \n",
       "2  166392  2019-08-01  C           4             21100.000000  9100.000000    \n",
       "3  166399  2019-08-01  C           3             15300.000000  6300.000000    \n",
       "4  166405  2019-08-02  B           4             27635.953333  16919.941667   \n",
       "5  166406  2019-08-02  B           4             22978.800000  11498.500000   \n",
       "6  166407  2019-08-02  A           4             22427.053333  10458.816667   \n",
       "7  166428  2019-08-02  B           4             20600.000000  8600.000000    \n",
       "8  166481  2019-08-05  A           3             15300.000000  6300.000000    \n",
       "9  166482  2019-08-05  C           4             20600.000000  8600.000000    \n",
       "\n",
       "        costs_C   tariff_cost      opt_cost opt_tariff  \n",
       "0  9421.555000   12386.825000  9421.555000   C          \n",
       "1  4500.000000   4500.000000   4500.000000   C          \n",
       "2  5100.000000   5100.000000   5100.000000   C          \n",
       "3  3300.000000   3300.000000   3300.000000   C          \n",
       "4  15487.918333  16919.941667  15487.918333  C          \n",
       "5  8537.900000   11498.500000  8537.900000   C          \n",
       "6  6522.343333   22427.053333  6522.343333   C          \n",
       "7  4600.000000   8600.000000   4600.000000   C          \n",
       "8  3300.000000   15300.000000  3300.000000   C          \n",
       "9  4600.000000   4600.000000   4600.000000   C          "
      ]
     },
     "metadata": {},
     "output_type": "display_data"
    }
   ],
   "source": [
    "# Let's calculate the total costs for the client's lifetime for each tariff plan and determe the optimal calling plan.\n",
    "costs_cum = costs.groupby(['user_id', 'date_start', 'tariff_plan'])\\\n",
    "                .agg({'date': 'count', 'costs_A':'sum', 'costs_B':'sum', 'costs_C':'sum', 'tariff_cost':'sum'})\\\n",
    "                    .reset_index().rename(columns={'date': 'months_count'})\\\n",
    "                .assign(opt_cost=lambda x: x[['costs_A', 'costs_B', 'costs_C']].min(axis=1),\n",
    "                        opt_tariff=lambda x: x[['costs_A', 'costs_B', 'costs_C']].idxmin(axis=1).str[-1])\n",
    "\n",
    "print(BOLD + 'Costs clients for their lifetime for each tariff plan and optimal calling plan based on this data ' \n",
    "      + '(first 10 rows):' + END)\n",
    "display(costs_cum.head(10))"
   ]
  },
  {
   "cell_type": "markdown",
   "metadata": {},
   "source": [
    "We have created table with total costs for lifetime clients for further exploratory data analysis on optimal and non-optimal using the tariff plans."
   ]
  },
  {
   "cell_type": "code",
   "execution_count": 29,
   "metadata": {},
   "outputs": [
    {
     "name": "stdout",
     "output_type": "stream",
     "text": [
      "\u001b[1mThe number of active clients who had reports last 30 days is 269, which is 87.9% of all clients with reports.\u001b[0m\n"
     ]
    }
   ],
   "source": [
    "# Let's determine the active clients.\n",
    "# Since clients do not have reports every day, \n",
    "# we will consider active clients who have had reports in the last 30 days.\n",
    "active_clients = df[df.date>=df.date.max()-pd.Timedelta(days=30)].user_id.unique()\n",
    "print(BOLD \n",
    "    + 'The number of active clients who had reports last 30 days is {}, which is {:.1%} of all clients with reports.'\\\n",
    "      .format(len(active_clients), len(active_clients)/df.user_id.nunique())+ END)"
   ]
  },
  {
   "cell_type": "markdown",
   "metadata": {},
   "source": [
    "We have defined active clients as those who have had reports in the last 30 days."
   ]
  },
  {
   "cell_type": "markdown",
   "metadata": {},
   "source": [
    "## 4. Exploratory Data Analysis\n",
    "<a id='section4'></a>"
   ]
  },
  {
   "cell_type": "code",
   "execution_count": 30,
   "metadata": {},
   "outputs": [
    {
     "name": "stdout",
     "output_type": "stream",
     "text": [
      "\u001b[1mDesciptive statistics for monthly aggregated table features:\u001b[0m\n"
     ]
    },
    {
     "data": {
      "text/html": [
       "<div>\n",
       "<style scoped>\n",
       "    .dataframe tbody tr th:only-of-type {\n",
       "        vertical-align: middle;\n",
       "    }\n",
       "\n",
       "    .dataframe tbody tr th {\n",
       "        vertical-align: top;\n",
       "    }\n",
       "\n",
       "    .dataframe thead th {\n",
       "        text-align: right;\n",
       "    }\n",
       "</style>\n",
       "<table border=\"1\" class=\"dataframe\">\n",
       "  <thead>\n",
       "    <tr style=\"text-align: right;\">\n",
       "      <th></th>\n",
       "      <th>count</th>\n",
       "      <th>mean</th>\n",
       "      <th>std</th>\n",
       "      <th>min</th>\n",
       "      <th>25%</th>\n",
       "      <th>50%</th>\n",
       "      <th>75%</th>\n",
       "      <th>max</th>\n",
       "    </tr>\n",
       "  </thead>\n",
       "  <tbody>\n",
       "    <tr>\n",
       "      <td>calls_count_internal</td>\n",
       "      <td>520.0</td>\n",
       "      <td>25.059615</td>\n",
       "      <td>96.182721</td>\n",
       "      <td>0.000000</td>\n",
       "      <td>0.000000</td>\n",
       "      <td>1.000000</td>\n",
       "      <td>6.000000</td>\n",
       "      <td>1157.000000</td>\n",
       "    </tr>\n",
       "    <tr>\n",
       "      <td>calls_count_external</td>\n",
       "      <td>520.0</td>\n",
       "      <td>882.315385</td>\n",
       "      <td>3654.012832</td>\n",
       "      <td>0.000000</td>\n",
       "      <td>13.000000</td>\n",
       "      <td>86.000000</td>\n",
       "      <td>472.750000</td>\n",
       "      <td>50015.000000</td>\n",
       "    </tr>\n",
       "    <tr>\n",
       "      <td>calls_count</td>\n",
       "      <td>520.0</td>\n",
       "      <td>907.375000</td>\n",
       "      <td>3665.637351</td>\n",
       "      <td>1.000000</td>\n",
       "      <td>15.000000</td>\n",
       "      <td>95.000000</td>\n",
       "      <td>517.500000</td>\n",
       "      <td>50068.000000</td>\n",
       "    </tr>\n",
       "    <tr>\n",
       "      <td>calls_count_per_operator</td>\n",
       "      <td>520.0</td>\n",
       "      <td>208.290166</td>\n",
       "      <td>776.407052</td>\n",
       "      <td>0.333333</td>\n",
       "      <td>7.187500</td>\n",
       "      <td>38.078818</td>\n",
       "      <td>177.550000</td>\n",
       "      <td>14164.000000</td>\n",
       "    </tr>\n",
       "    <tr>\n",
       "      <td>call_duration_internal</td>\n",
       "      <td>520.0</td>\n",
       "      <td>17.046538</td>\n",
       "      <td>88.291870</td>\n",
       "      <td>0.000000</td>\n",
       "      <td>0.000000</td>\n",
       "      <td>0.000000</td>\n",
       "      <td>0.170833</td>\n",
       "      <td>1151.850000</td>\n",
       "    </tr>\n",
       "    <tr>\n",
       "      <td>call_duration_external</td>\n",
       "      <td>520.0</td>\n",
       "      <td>759.903429</td>\n",
       "      <td>3139.024034</td>\n",
       "      <td>0.000000</td>\n",
       "      <td>5.912500</td>\n",
       "      <td>90.866667</td>\n",
       "      <td>452.095833</td>\n",
       "      <td>52526.366667</td>\n",
       "    </tr>\n",
       "    <tr>\n",
       "      <td>call_duration</td>\n",
       "      <td>520.0</td>\n",
       "      <td>776.949968</td>\n",
       "      <td>3145.066772</td>\n",
       "      <td>0.000000</td>\n",
       "      <td>6.470833</td>\n",
       "      <td>97.083333</td>\n",
       "      <td>472.316667</td>\n",
       "      <td>52526.633333</td>\n",
       "    </tr>\n",
       "    <tr>\n",
       "      <td>call_duration_internal_per_operator</td>\n",
       "      <td>520.0</td>\n",
       "      <td>2.072726</td>\n",
       "      <td>7.929916</td>\n",
       "      <td>0.000000</td>\n",
       "      <td>0.000000</td>\n",
       "      <td>0.000000</td>\n",
       "      <td>0.050000</td>\n",
       "      <td>82.275000</td>\n",
       "    </tr>\n",
       "    <tr>\n",
       "      <td>call_duration_external_per_operator</td>\n",
       "      <td>520.0</td>\n",
       "      <td>151.985136</td>\n",
       "      <td>322.467228</td>\n",
       "      <td>0.000000</td>\n",
       "      <td>2.900000</td>\n",
       "      <td>37.312500</td>\n",
       "      <td>166.757576</td>\n",
       "      <td>4267.683333</td>\n",
       "    </tr>\n",
       "    <tr>\n",
       "      <td>call_duration_per_operator</td>\n",
       "      <td>520.0</td>\n",
       "      <td>154.057862</td>\n",
       "      <td>322.683317</td>\n",
       "      <td>0.000000</td>\n",
       "      <td>3.423611</td>\n",
       "      <td>38.470833</td>\n",
       "      <td>167.887202</td>\n",
       "      <td>4273.900000</td>\n",
       "    </tr>\n",
       "    <tr>\n",
       "      <td>operator_count</td>\n",
       "      <td>795.0</td>\n",
       "      <td>2.876730</td>\n",
       "      <td>4.300712</td>\n",
       "      <td>1.000000</td>\n",
       "      <td>1.000000</td>\n",
       "      <td>2.000000</td>\n",
       "      <td>3.000000</td>\n",
       "      <td>48.000000</td>\n",
       "    </tr>\n",
       "    <tr>\n",
       "      <td>calls_costs_A</td>\n",
       "      <td>795.0</td>\n",
       "      <td>198.817501</td>\n",
       "      <td>1025.402383</td>\n",
       "      <td>0.000000</td>\n",
       "      <td>0.000000</td>\n",
       "      <td>1.866667</td>\n",
       "      <td>78.913333</td>\n",
       "      <td>21010.546667</td>\n",
       "    </tr>\n",
       "    <tr>\n",
       "      <td>calls_costs_B</td>\n",
       "      <td>795.0</td>\n",
       "      <td>248.521876</td>\n",
       "      <td>1281.752978</td>\n",
       "      <td>0.000000</td>\n",
       "      <td>0.000000</td>\n",
       "      <td>2.333333</td>\n",
       "      <td>98.641667</td>\n",
       "      <td>26263.183333</td>\n",
       "    </tr>\n",
       "    <tr>\n",
       "      <td>calls_costs_C</td>\n",
       "      <td>795.0</td>\n",
       "      <td>347.930627</td>\n",
       "      <td>1794.454170</td>\n",
       "      <td>0.000000</td>\n",
       "      <td>0.000000</td>\n",
       "      <td>3.266667</td>\n",
       "      <td>138.098333</td>\n",
       "      <td>36768.456667</td>\n",
       "    </tr>\n",
       "    <tr>\n",
       "      <td>costs_A</td>\n",
       "      <td>795.0</td>\n",
       "      <td>5486.490457</td>\n",
       "      <td>1332.637434</td>\n",
       "      <td>5100.000000</td>\n",
       "      <td>5100.000000</td>\n",
       "      <td>5200.000000</td>\n",
       "      <td>5400.083333</td>\n",
       "      <td>28510.546667</td>\n",
       "    </tr>\n",
       "    <tr>\n",
       "      <td>costs_B</td>\n",
       "      <td>795.0</td>\n",
       "      <td>2536.194832</td>\n",
       "      <td>1581.847338</td>\n",
       "      <td>2100.000000</td>\n",
       "      <td>2100.000000</td>\n",
       "      <td>2200.141667</td>\n",
       "      <td>2416.254167</td>\n",
       "      <td>30763.183333</td>\n",
       "    </tr>\n",
       "    <tr>\n",
       "      <td>costs_C</td>\n",
       "      <td>795.0</td>\n",
       "      <td>1635.603583</td>\n",
       "      <td>2085.466785</td>\n",
       "      <td>1100.000000</td>\n",
       "      <td>1100.000000</td>\n",
       "      <td>1200.268333</td>\n",
       "      <td>1466.855000</td>\n",
       "      <td>40268.456667</td>\n",
       "    </tr>\n",
       "    <tr>\n",
       "      <td>opt_cost</td>\n",
       "      <td>795.0</td>\n",
       "      <td>1600.241966</td>\n",
       "      <td>1664.272336</td>\n",
       "      <td>1100.000000</td>\n",
       "      <td>1100.000000</td>\n",
       "      <td>1200.268333</td>\n",
       "      <td>1466.855000</td>\n",
       "      <td>28510.546667</td>\n",
       "    </tr>\n",
       "    <tr>\n",
       "      <td>tariff_cost</td>\n",
       "      <td>795.0</td>\n",
       "      <td>2363.074505</td>\n",
       "      <td>2052.914675</td>\n",
       "      <td>1100.000000</td>\n",
       "      <td>1181.124167</td>\n",
       "      <td>2100.000000</td>\n",
       "      <td>2454.575000</td>\n",
       "      <td>28510.546667</td>\n",
       "    </tr>\n",
       "    <tr>\n",
       "      <td>additional_revenue</td>\n",
       "      <td>795.0</td>\n",
       "      <td>762.832539</td>\n",
       "      <td>1174.211854</td>\n",
       "      <td>0.000000</td>\n",
       "      <td>0.000000</td>\n",
       "      <td>0.000000</td>\n",
       "      <td>999.393333</td>\n",
       "      <td>4000.000000</td>\n",
       "    </tr>\n",
       "  </tbody>\n",
       "</table>\n",
       "</div>"
      ],
      "text/plain": [
       "                                     count         mean          std  \\\n",
       "calls_count_internal                 520.0  25.059615    96.182721     \n",
       "calls_count_external                 520.0  882.315385   3654.012832   \n",
       "calls_count                          520.0  907.375000   3665.637351   \n",
       "calls_count_per_operator             520.0  208.290166   776.407052    \n",
       "call_duration_internal               520.0  17.046538    88.291870     \n",
       "call_duration_external               520.0  759.903429   3139.024034   \n",
       "call_duration                        520.0  776.949968   3145.066772   \n",
       "call_duration_internal_per_operator  520.0  2.072726     7.929916      \n",
       "call_duration_external_per_operator  520.0  151.985136   322.467228    \n",
       "call_duration_per_operator           520.0  154.057862   322.683317    \n",
       "operator_count                       795.0  2.876730     4.300712      \n",
       "calls_costs_A                        795.0  198.817501   1025.402383   \n",
       "calls_costs_B                        795.0  248.521876   1281.752978   \n",
       "calls_costs_C                        795.0  347.930627   1794.454170   \n",
       "costs_A                              795.0  5486.490457  1332.637434   \n",
       "costs_B                              795.0  2536.194832  1581.847338   \n",
       "costs_C                              795.0  1635.603583  2085.466785   \n",
       "opt_cost                             795.0  1600.241966  1664.272336   \n",
       "tariff_cost                          795.0  2363.074505  2052.914675   \n",
       "additional_revenue                   795.0  762.832539   1174.211854   \n",
       "\n",
       "                                             min          25%          50%  \\\n",
       "calls_count_internal                 0.000000     0.000000     1.000000      \n",
       "calls_count_external                 0.000000     13.000000    86.000000     \n",
       "calls_count                          1.000000     15.000000    95.000000     \n",
       "calls_count_per_operator             0.333333     7.187500     38.078818     \n",
       "call_duration_internal               0.000000     0.000000     0.000000      \n",
       "call_duration_external               0.000000     5.912500     90.866667     \n",
       "call_duration                        0.000000     6.470833     97.083333     \n",
       "call_duration_internal_per_operator  0.000000     0.000000     0.000000      \n",
       "call_duration_external_per_operator  0.000000     2.900000     37.312500     \n",
       "call_duration_per_operator           0.000000     3.423611     38.470833     \n",
       "operator_count                       1.000000     1.000000     2.000000      \n",
       "calls_costs_A                        0.000000     0.000000     1.866667      \n",
       "calls_costs_B                        0.000000     0.000000     2.333333      \n",
       "calls_costs_C                        0.000000     0.000000     3.266667      \n",
       "costs_A                              5100.000000  5100.000000  5200.000000   \n",
       "costs_B                              2100.000000  2100.000000  2200.141667   \n",
       "costs_C                              1100.000000  1100.000000  1200.268333   \n",
       "opt_cost                             1100.000000  1100.000000  1200.268333   \n",
       "tariff_cost                          1100.000000  1181.124167  2100.000000   \n",
       "additional_revenue                   0.000000     0.000000     0.000000      \n",
       "\n",
       "                                             75%           max  \n",
       "calls_count_internal                 6.000000     1157.000000   \n",
       "calls_count_external                 472.750000   50015.000000  \n",
       "calls_count                          517.500000   50068.000000  \n",
       "calls_count_per_operator             177.550000   14164.000000  \n",
       "call_duration_internal               0.170833     1151.850000   \n",
       "call_duration_external               452.095833   52526.366667  \n",
       "call_duration                        472.316667   52526.633333  \n",
       "call_duration_internal_per_operator  0.050000     82.275000     \n",
       "call_duration_external_per_operator  166.757576   4267.683333   \n",
       "call_duration_per_operator           167.887202   4273.900000   \n",
       "operator_count                       3.000000     48.000000     \n",
       "calls_costs_A                        78.913333    21010.546667  \n",
       "calls_costs_B                        98.641667    26263.183333  \n",
       "calls_costs_C                        138.098333   36768.456667  \n",
       "costs_A                              5400.083333  28510.546667  \n",
       "costs_B                              2416.254167  30763.183333  \n",
       "costs_C                              1466.855000  40268.456667  \n",
       "opt_cost                             1466.855000  28510.546667  \n",
       "tariff_cost                          2454.575000  28510.546667  \n",
       "additional_revenue                   999.393333   4000.000000   "
      ]
     },
     "metadata": {},
     "output_type": "display_data"
    }
   ],
   "source": [
    "# Let's consider desciptive statistics for features of monthly aggregated table \n",
    "print(BOLD + 'Desciptive statistics for monthly aggregated table features:' + END)\n",
    "display(costs[['calls_count_internal', 'calls_count_external', 'calls_count', 'calls_count_per_operator',\n",
    "               'call_duration_internal', 'call_duration_external', 'call_duration',\n",
    "               'call_duration_internal_per_operator', 'call_duration_external_per_operator',\n",
    "               'call_duration_per_operator', \n",
    "               'operator_count', 'calls_costs_A', 'calls_costs_B', 'calls_costs_C', \n",
    "               'costs_A', 'costs_B', 'costs_C', 'opt_cost', 'tariff_cost', 'additional_revenue']].describe().T)"
   ]
  },
  {
   "cell_type": "markdown",
   "metadata": {},
   "source": [
    "35% of monthly user data have no outgoing calls (276 out of 788 monthly reports have no outgoing calls). Most of the outgoing calls are not internal. Clients had 1 internal call per month on average (see the median of 'calls_count_internal'). The duration of internal calls is very short, only a few seconds. But there are clients who had 1172 internal calls in a month, including missing calls (see the 'max' column). \n",
    "\n",
    "An operator makes 35 calls a month on average (see the median of 'calls_count_per_operator'). There is a client whose operators made 14 thousand calls a month (see the 'max' column). It was necessary to continuously call every 3 minutes throughout the day, perhaps this was done automatically, or it was some kind of error in the data.\n",
    "\n",
    "On average, an operator only calls for a total of 40 minutes per month (see the median of 'call_duration_per_operator'). This is a fairly small value. There is a client whose operators called on average within 4 thousand minutes a month, which corresponds to 2.5 hours of calls a day (see 'max' column). It is also not a very large value.\n",
    "\n",
    "On average, a client has 2 operators, but there is a client with 48 operators (see statistics for 'operator_count').\n",
    "\n",
    "The cost of the available small number of short calls does not differ much in different tariffs and is not comparable to the monthly basic price of plans at 1000, 2000, 5000 units (see the medians of 'calls_costs_A', 'calls_costs_B' and 'calls_costs_A'). Perhaps the duration of calls in the dataset for most clients is indicated in minutes and for 10% in seconds. I contacted the team and the team leader and they tend to think that the durations are recorded in seconds. Let's continue our analysis with this assumption.  \n",
    "\n",
    "The monthly fee in each tariff, on average, consists only of the monthly base price of the tariff and the cost of connected operators (see medians for 'costs_A', 'costs_B' and 'costs_C'). \n",
    "\n",
    "Average extra revenue from each client using a non-optimal tariff is about 760 units (see the mean of 'additional_revenue')."
   ]
  },
  {
   "cell_type": "code",
   "execution_count": 31,
   "metadata": {},
   "outputs": [
    {
     "name": "stdout",
     "output_type": "stream",
     "text": [
      "\u001b[1mThe number of internal calls is 8640, which is 2.5% of all answered calls. \u001b[0m\n"
     ]
    }
   ],
   "source": [
    "# Let's calculate the share of internal calls in the entire dataset.\n",
    "print(BOLD + 'The number of internal calls is {}, which is {:.1%} of all answered calls.'\\\n",
    "             .format(df[(df.internal==True)&(df.is_missed_call==False)].calls_count.sum(),\n",
    "                     df[(df.internal==True)&(df.is_missed_call==False)].calls_count.sum()\\\n",
    "                            /df[df.is_missed_call==False].calls_count.sum()), END)"
   ]
  },
  {
   "cell_type": "markdown",
   "metadata": {},
   "source": [
    "The share of internal not missed calls is only 2.5%. The service should pay more attention to external calls."
   ]
  },
  {
   "cell_type": "code",
   "execution_count": 32,
   "metadata": {},
   "outputs": [
    {
     "name": "stdout",
     "output_type": "stream",
     "text": [
      "\u001b[1mThe number of clients who had only incoming calls is 85, which is 27.8% of all clients with reports. \u001b[0m\n",
      "\u001b[1mThe number of active clients who had only incoming calls is 71, which is 23.2% of all clients with reports. \u001b[0m\n"
     ]
    }
   ],
   "source": [
    "# Let's determine share of clients who have only incoming calls.\n",
    "users_with_only_incoming_calls = set(df.query(\"direction=='in'\").user_id.unique())\\\n",
    "                                    - set(df.query(\"direction=='out'\").user_id.unique())\n",
    "print(BOLD + 'The number of clients who had only incoming calls is {}, which is {:.1%} of all clients with reports.'\\\n",
    "             .format(len(users_with_only_incoming_calls), len(users_with_only_incoming_calls)/df.user_id.nunique()), \n",
    "      END)\n",
    "print(BOLD + 'The number of active clients who had only incoming calls is {}, which is {:.1%} of all clients with reports.'\\\n",
    "             .format(len(users_with_only_incoming_calls&set(active_clients)),\n",
    "                     len(users_with_only_incoming_calls&set(active_clients))/df.user_id.nunique()), END)"
   ]
  },
  {
   "cell_type": "markdown",
   "metadata": {},
   "source": [
    "Almost 30% of all customers and 23% of active customers only had incoming calls, which is a fairly large share.\n",
    "Thus, the base price should cover all client calls."
   ]
  },
  {
   "cell_type": "code",
   "execution_count": 33,
   "metadata": {},
   "outputs": [
    {
     "data": {
      "image/png": "[encoded data removed]",
      "text/plain": [
       "<Figure size 864x504 with 1 Axes>"
      ]
     },
     "metadata": {
      "needs_background": "light"
     },
     "output_type": "display_data"
    }
   ],
   "source": [
    "# Let's look at the distribution of the number of operators per user\n",
    "fig, ax = plt.subplots(figsize=(12, 7))\n",
    "df[df.operator_id.notnull()].groupby(['user_id']).operator_id.nunique()\\\n",
    "    .hist(bins=49, alpha=0.8, linewidth=2, edgecolor='w', ax=ax);\n",
    "ax.set_title('Distribution of the number of operators per user')\n",
    "ax.set_xlabel('Number of operators per user')\n",
    "ax.set_ylabel('Frequency');"
   ]
  },
  {
   "cell_type": "code",
   "execution_count": 34,
   "metadata": {},
   "outputs": [
    {
     "data": {
      "image/png": "[encoded data removed]",
      "text/plain": [
       "<Figure size 864x648 with 1 Axes>"
      ]
     },
     "metadata": {
      "needs_background": "light"
     },
     "output_type": "display_data"
    }
   ],
   "source": [
    "# Let's plot the distribution of the number of operators per user by category \n",
    "fig, ax = plt.subplots(figsize=(12, 9))\n",
    "sns.barplot(x='labels', y='share', ax=ax, alpha=0.8,\n",
    "            data=(df[df.operator_id.notnull()].groupby(['user_id']).operator_id.nunique()\\\n",
    "                    .value_counts(bins=[1, 3, 10, 50], normalize=True).to_frame().round(3)*100)\\\n",
    "                    .reset_index().rename(columns={'index':'labels','operator_id':'share'}))\n",
    "ax.grid(axis='y', linestyle='--', color='dimgray', alpha=0.5)\n",
    "ax.set_title('Share of clients with different number of operators', size = 18)\n",
    "ax.set_yticklabels(ax.get_yticks(), size = 15)\n",
    "ax.set_xticklabels(['operator count <= 3', '3 < operator count <= 10', 'operator count > 10'], size = 15)\n",
    "ax.set_ylabel(ax.get_ylabel(), size = 15)\n",
    "ax.set_xlabel('');"
   ]
  },
  {
   "cell_type": "markdown",
   "metadata": {},
   "source": [
    "Basically, clients have a small number of operators, very rarely there are more than 10. Individual clients have about 30 or 50 operators."
   ]
  },
  {
   "cell_type": "markdown",
   "metadata": {},
   "source": [
    "__Estimate the share of non-optimal use of tariff plans among all clients and among consumers of each type of tariff (plan A, plan B, plan C).__"
   ]
  },
  {
   "cell_type": "code",
   "execution_count": 35,
   "metadata": {},
   "outputs": [
    {
     "name": "stdout",
     "output_type": "stream",
     "text": [
      "\u001b[1mThe number of active clients who use non-optimal tariff plan is 127, which is 47.2% of all active clients. \u001b[0m\n"
     ]
    }
   ],
   "source": [
    "# Let's estimate the share of non-optimal use of tariff plans among active clients.\n",
    "users_non_opt = costs_cum[costs_cum.user_id.isin(active_clients)].query('opt_tariff!=tariff_plan').user_id.count()\n",
    "print(BOLD + 'The number of active clients who use non-optimal tariff plan is {}'.format(users_non_opt)\n",
    "           + ', which is {:.1%} of all active clients.'.format(users_non_opt/len(active_clients)), END) "
   ]
  },
  {
   "cell_type": "markdown",
   "metadata": {},
   "source": [
    "Almost half of active clients use a non-optimal tariff plan."
   ]
  },
  {
   "cell_type": "code",
   "execution_count": 36,
   "metadata": {},
   "outputs": [
    {
     "name": "stdout",
     "output_type": "stream",
     "text": [
      "\u001b[1mShare of non-optimal use of tariff plans by tariff plans:\u001b[0m\n"
     ]
    },
    {
     "data": {
      "text/html": [
       "<div>\n",
       "<style scoped>\n",
       "    .dataframe tbody tr th:only-of-type {\n",
       "        vertical-align: middle;\n",
       "    }\n",
       "\n",
       "    .dataframe tbody tr th {\n",
       "        vertical-align: top;\n",
       "    }\n",
       "\n",
       "    .dataframe thead th {\n",
       "        text-align: right;\n",
       "    }\n",
       "</style>\n",
       "<table border=\"1\" class=\"dataframe\">\n",
       "  <thead>\n",
       "    <tr style=\"text-align: right;\">\n",
       "      <th></th>\n",
       "      <th>clients with non-optinal plans</th>\n",
       "      <th>all clients</th>\n",
       "      <th>share</th>\n",
       "    </tr>\n",
       "    <tr>\n",
       "      <th>tariff_plan</th>\n",
       "      <th></th>\n",
       "      <th></th>\n",
       "      <th></th>\n",
       "    </tr>\n",
       "  </thead>\n",
       "  <tbody>\n",
       "    <tr>\n",
       "      <td>A</td>\n",
       "      <td>28</td>\n",
       "      <td>29</td>\n",
       "      <td>96.6</td>\n",
       "    </tr>\n",
       "    <tr>\n",
       "      <td>B</td>\n",
       "      <td>97</td>\n",
       "      <td>98</td>\n",
       "      <td>99.0</td>\n",
       "    </tr>\n",
       "    <tr>\n",
       "      <td>C</td>\n",
       "      <td>2</td>\n",
       "      <td>142</td>\n",
       "      <td>1.4</td>\n",
       "    </tr>\n",
       "  </tbody>\n",
       "</table>\n",
       "</div>"
      ],
      "text/plain": [
       "             clients with non-optinal plans  all clients  share\n",
       "tariff_plan                                                    \n",
       "A            28                              29           96.6 \n",
       "B            97                              98           99.0 \n",
       "C            2                               142          1.4  "
      ]
     },
     "metadata": {},
     "output_type": "display_data"
    }
   ],
   "source": [
    "# Let's estimate the share of non-optimal use of tariff plans by tariff plans\n",
    "costs_cum['non_optimal'] = costs_cum.tariff_plan != costs_cum.opt_tariff\n",
    "\n",
    "non_opt_by_tariffs = costs_cum[costs_cum.user_id.isin(active_clients)]\\\n",
    "                        .groupby('tariff_plan').agg({'non_optimal':['sum', 'count']})\n",
    "non_opt_by_tariffs.columns = ['clients with non-optinal plans', 'all clients']\n",
    "non_opt_by_tariffs['clients with non-optinal plans'] = non_opt_by_tariffs['clients with non-optinal plans'].astype(int)\n",
    "non_opt_by_tariffs['share'] = 100 * non_opt_by_tariffs['clients with non-optinal plans']\\\n",
    "                                    / non_opt_by_tariffs['all clients']\n",
    "print(BOLD + 'Share of non-optimal use of tariff plans by tariff plans:' + END)\n",
    "display(non_opt_by_tariffs.round(1))"
   ]
  },
  {
   "cell_type": "markdown",
   "metadata": {},
   "source": [
    "Most of clients using tariff plan C have the optimal choice. Most users of other plans have a non-optimal tariff."
   ]
  },
  {
   "cell_type": "code",
   "execution_count": 37,
   "metadata": {},
   "outputs": [
    {
     "name": "stdout",
     "output_type": "stream",
     "text": [
      "\u001b[1mCorrespondence of the optimal tariff for each type of tariff plan used by customers.\u001b[0m\n"
     ]
    },
    {
     "data": {
      "text/html": [
       "<div>\n",
       "<style scoped>\n",
       "    .dataframe tbody tr th:only-of-type {\n",
       "        vertical-align: middle;\n",
       "    }\n",
       "\n",
       "    .dataframe tbody tr th {\n",
       "        vertical-align: top;\n",
       "    }\n",
       "\n",
       "    .dataframe thead th {\n",
       "        text-align: right;\n",
       "    }\n",
       "</style>\n",
       "<table border=\"1\" class=\"dataframe\">\n",
       "  <thead>\n",
       "    <tr style=\"text-align: right;\">\n",
       "      <th>opt_tariff</th>\n",
       "      <th>A</th>\n",
       "      <th>B</th>\n",
       "      <th>C</th>\n",
       "    </tr>\n",
       "    <tr>\n",
       "      <th>tariff_plan</th>\n",
       "      <th></th>\n",
       "      <th></th>\n",
       "      <th></th>\n",
       "    </tr>\n",
       "  </thead>\n",
       "  <tbody>\n",
       "    <tr>\n",
       "      <td>A</td>\n",
       "      <td>1</td>\n",
       "      <td>1</td>\n",
       "      <td>27</td>\n",
       "    </tr>\n",
       "    <tr>\n",
       "      <td>B</td>\n",
       "      <td>0</td>\n",
       "      <td>1</td>\n",
       "      <td>97</td>\n",
       "    </tr>\n",
       "    <tr>\n",
       "      <td>C</td>\n",
       "      <td>0</td>\n",
       "      <td>2</td>\n",
       "      <td>140</td>\n",
       "    </tr>\n",
       "  </tbody>\n",
       "</table>\n",
       "</div>"
      ],
      "text/plain": [
       "opt_tariff   A  B    C\n",
       "tariff_plan           \n",
       "A            1  1  27 \n",
       "B            0  1  97 \n",
       "C            0  2  140"
      ]
     },
     "metadata": {},
     "output_type": "display_data"
    }
   ],
   "source": [
    "# Let's estimate the number of active clients who use non-optimal tariff plan for each type of plan.\n",
    "print(BOLD + 'Correspondence of the optimal tariff for each type of tariff plan used by customers.' + END)\n",
    "tariff_needs = costs_cum[costs_cum.user_id.isin(active_clients)]\\\n",
    "                    .pivot_table(index='tariff_plan', columns='opt_tariff',\n",
    "                                 values='user_id', aggfunc='count').fillna(0).astype(int)\n",
    "display(tariff_needs)"
   ]
  },
  {
   "cell_type": "code",
   "execution_count": 38,
   "metadata": {},
   "outputs": [
    {
     "data": {
      "text/html": [
       "<style  type=\"text/css\" >\n",
       "    #T_5d1a32ac_dded_11eb_beb8_02420a3941fd th {\n",
       "          font-size: 18px;\n",
       "    }    #T_5d1a32ac_dded_11eb_beb8_02420a3941fd td {\n",
       "          font-size: 18px;\n",
       "    }</style><table id=\"T_5d1a32ac_dded_11eb_beb8_02420a3941fd\" ><thead>    <tr>        <th class=\"blank level0\" ></th>        <th class=\"col_heading level0 col0\" colspan=3>Optimal Tariff Plan</th>    </tr>    <tr>        <th class=\"blank level1\" ></th>        <th class=\"col_heading level1 col0\" >Plan A</th>        <th class=\"col_heading level1 col1\" >Plan B</th>        <th class=\"col_heading level1 col2\" >Plan C</th>    </tr>    <tr>        <th class=\"index_name level0\" >Current Plan</th>        <th class=\"blank\" ></th>        <th class=\"blank\" ></th>        <th class=\"blank\" ></th>    </tr></thead><tbody>\n",
       "                <tr>\n",
       "                        <th id=\"T_5d1a32ac_dded_11eb_beb8_02420a3941fdlevel0_row0\" class=\"row_heading level0 row0\" >A</th>\n",
       "                        <td id=\"T_5d1a32ac_dded_11eb_beb8_02420a3941fdrow0_col0\" class=\"data row0 col0\" >1</td>\n",
       "                        <td id=\"T_5d1a32ac_dded_11eb_beb8_02420a3941fdrow0_col1\" class=\"data row0 col1\" >1</td>\n",
       "                        <td id=\"T_5d1a32ac_dded_11eb_beb8_02420a3941fdrow0_col2\" class=\"data row0 col2\" >27</td>\n",
       "            </tr>\n",
       "            <tr>\n",
       "                        <th id=\"T_5d1a32ac_dded_11eb_beb8_02420a3941fdlevel0_row1\" class=\"row_heading level0 row1\" >B</th>\n",
       "                        <td id=\"T_5d1a32ac_dded_11eb_beb8_02420a3941fdrow1_col0\" class=\"data row1 col0\" >0</td>\n",
       "                        <td id=\"T_5d1a32ac_dded_11eb_beb8_02420a3941fdrow1_col1\" class=\"data row1 col1\" >1</td>\n",
       "                        <td id=\"T_5d1a32ac_dded_11eb_beb8_02420a3941fdrow1_col2\" class=\"data row1 col2\" >97</td>\n",
       "            </tr>\n",
       "            <tr>\n",
       "                        <th id=\"T_5d1a32ac_dded_11eb_beb8_02420a3941fdlevel0_row2\" class=\"row_heading level0 row2\" >C</th>\n",
       "                        <td id=\"T_5d1a32ac_dded_11eb_beb8_02420a3941fdrow2_col0\" class=\"data row2 col0\" >0</td>\n",
       "                        <td id=\"T_5d1a32ac_dded_11eb_beb8_02420a3941fdrow2_col1\" class=\"data row2 col1\" >2</td>\n",
       "                        <td id=\"T_5d1a32ac_dded_11eb_beb8_02420a3941fdrow2_col2\" class=\"data row2 col2\" >140</td>\n",
       "            </tr>\n",
       "    </tbody></table>"
      ],
      "text/plain": [
       "<pandas.io.formats.style.Styler at 0x7faa894ebc50>"
      ]
     },
     "execution_count": 38,
     "metadata": {},
     "output_type": "execute_result"
    }
   ],
   "source": [
    "# Let's show the table with larger fond for presentation\n",
    "tariff_needs.columns=pd.MultiIndex.from_tuples([('Optimal Tariff Plan', 'Plan A'),\n",
    "                                                ('Optimal Tariff Plan', 'Plan B'),\n",
    "                                                ('Optimal Tariff Plan', 'Plan C')])\n",
    "tariff_needs.index.rename('Current Plan', inplace=True)\n",
    "heading_properties = [('font-size', '18px')]\n",
    "\n",
    "cell_properties = [('font-size', '18px')]\n",
    "\n",
    "dfstyle = [dict(selector=\"th\", props=heading_properties),\\\n",
    " dict(selector=\"td\", props=cell_properties)]\n",
    "\n",
    "tariff_needs.style.set_table_styles(dfstyle)"
   ]
  },
  {
   "cell_type": "markdown",
   "metadata": {},
   "source": [
    "The tariff plan C (the smallest) is optimal for almost all users. It is profitable for 27 clients with tariff plan A and 97 clients with tariff plan B to switch to it.\n",
    "\n",
    "The tariff plan B is optimal only for 4 clients. It is profitable for 2 clients with tariff plan C and one client with tariff plan A to switch to it. \n",
    "\n",
    "The tariff plan A is optimal for only one client and he or she use it."
   ]
  },
  {
   "cell_type": "markdown",
   "metadata": {},
   "source": [
    "__Estimating additional revenue from customers using non-optimal tariffs and its destribution by tariff plans. Determining what tariff brings the most benefit from the non-optimal use of the tariff plan.__"
   ]
  },
  {
   "cell_type": "code",
   "execution_count": 39,
   "metadata": {},
   "outputs": [
    {
     "name": "stdout",
     "output_type": "stream",
     "text": [
      "\u001b[1mAdditional revenue from customers using non-optimal tariffs and its share in the total revenue:\u001b[0m\n"
     ]
    },
    {
     "data": {
      "text/html": [
       "<div>\n",
       "<style scoped>\n",
       "    .dataframe tbody tr th:only-of-type {\n",
       "        vertical-align: middle;\n",
       "    }\n",
       "\n",
       "    .dataframe tbody tr th {\n",
       "        vertical-align: top;\n",
       "    }\n",
       "\n",
       "    .dataframe thead th {\n",
       "        text-align: right;\n",
       "    }\n",
       "</style>\n",
       "<table border=\"1\" class=\"dataframe\">\n",
       "  <thead>\n",
       "    <tr style=\"text-align: right;\">\n",
       "      <th></th>\n",
       "      <th>additional_revenue</th>\n",
       "      <th>tariff_cost</th>\n",
       "      <th>additional_revenue_perc</th>\n",
       "    </tr>\n",
       "    <tr>\n",
       "      <th>date</th>\n",
       "      <th></th>\n",
       "      <th></th>\n",
       "      <th></th>\n",
       "    </tr>\n",
       "  </thead>\n",
       "  <tbody>\n",
       "    <tr>\n",
       "      <td>2019-08</td>\n",
       "      <td>73582.52</td>\n",
       "      <td>185899.34</td>\n",
       "      <td>39.58</td>\n",
       "    </tr>\n",
       "    <tr>\n",
       "      <td>2019-09</td>\n",
       "      <td>136012.69</td>\n",
       "      <td>405680.82</td>\n",
       "      <td>33.53</td>\n",
       "    </tr>\n",
       "    <tr>\n",
       "      <td>2019-10</td>\n",
       "      <td>204419.01</td>\n",
       "      <td>651326.44</td>\n",
       "      <td>31.39</td>\n",
       "    </tr>\n",
       "    <tr>\n",
       "      <td>2019-11</td>\n",
       "      <td>192437.65</td>\n",
       "      <td>635737.63</td>\n",
       "      <td>30.27</td>\n",
       "    </tr>\n",
       "    <tr>\n",
       "      <td>total</td>\n",
       "      <td>606451.87</td>\n",
       "      <td>1878644.23</td>\n",
       "      <td>32.28</td>\n",
       "    </tr>\n",
       "  </tbody>\n",
       "</table>\n",
       "</div>"
      ],
      "text/plain": [
       "         additional_revenue  tariff_cost  additional_revenue_perc\n",
       "date                                                             \n",
       "2019-08  73582.52            185899.34    39.58                  \n",
       "2019-09  136012.69           405680.82    33.53                  \n",
       "2019-10  204419.01           651326.44    31.39                  \n",
       "2019-11  192437.65           635737.63    30.27                  \n",
       "total    606451.87           1878644.23   32.28                  "
      ]
     },
     "metadata": {},
     "output_type": "display_data"
    }
   ],
   "source": [
    "# Let's estimate additional revenue from customers using non-optimal tariffs\n",
    "additional_revenue = costs.groupby(costs.date.dt.to_period('M'))\\\n",
    "                        .agg({'additional_revenue':'sum', 'tariff_cost':'sum'})\n",
    "additional_revenue.loc['total'] = additional_revenue.sum()\n",
    "additional_revenue['additional_revenue_perc'] = 100 * additional_revenue.additional_revenue\\\n",
    "                                                    / additional_revenue.tariff_cost\n",
    "print(BOLD + 'Additional revenue from customers using non-optimal tariffs and its share in the total revenue:' + END)\n",
    "display(additional_revenue.round(2))"
   ]
  },
  {
   "cell_type": "code",
   "execution_count": 40,
   "metadata": {},
   "outputs": [
    {
     "data": {
      "image/png": "[encoded data removed]",
      "text/plain": [
       "<Figure size 864x648 with 1 Axes>"
      ]
     },
     "metadata": {
      "needs_background": "light"
     },
     "output_type": "display_data"
    }
   ],
   "source": [
    "# Let's plot the corresponding chart\n",
    "fig, ax = plt.subplots(figsize=(12, 9))\n",
    "additional_revenue['Total Revenue'] = additional_revenue.tariff_cost - additional_revenue.additional_revenue\n",
    "additional_revenue[['additional_revenue', 'Total Revenue']][:-1]\\\n",
    "    .rename(columns={'additional_revenue':'Additional Revenue'})\\\n",
    "    .plot(kind='bar', stacked=True, alpha=0.7, ax=ax);\n",
    "ax.grid(axis='y', linestyle='--', color='dimgray', alpha=0.5)\n",
    "ax.set_title('Total and additional revenue by month', size = 18)\n",
    "ax.set_yticklabels(ax.get_yticks(), size = 15)\n",
    "ax.set_xticklabels(additional_revenue.index, size = 15)\n",
    "ax.set_xlabel('Month', size = 15)\n",
    "ax.set_ylabel('Revenue', size = 15);\n",
    "ax.legend(fontsize=15)\n",
    "ax.xaxis.set_tick_params(rotation=0)\n",
    "ax.yaxis.set_major_formatter(mpl.ticker.StrMethodFormatter('{x:,.0f}'))\n",
    "rects = ax.patches\n",
    "labels = [str(x)+'%' for x in additional_revenue['additional_revenue_perc'][:-1].round(1)]\n",
    "for rect, label in zip(rects[:len(labels)], labels):\n",
    "    height = rect.get_height()\n",
    "    ax.text(rect.get_x() + rect.get_width() / 2, height + 30, label,\n",
    "            ha='center', va='bottom', size=15, c='gray')"
   ]
  },
  {
   "cell_type": "markdown",
   "metadata": {},
   "source": [
    "In general, additional revenue from the use of non-optimal tariffs by clients is 32% of the total revenue of the service, which is a significant share. In August this share was almost 40% and by November it had dropped to 30%.\n",
    "\n",
    "The total revenue of the service doubled in September, additional revenue from the use of non-optimal tariffs by clients grew slightly less, in October both values increased by 1.5 times and stopped growing."
   ]
  },
  {
   "cell_type": "code",
   "execution_count": 41,
   "metadata": {},
   "outputs": [
    {
     "name": "stdout",
     "output_type": "stream",
     "text": [
      "\u001b[1mThe number of clients, the number of their operators, the number and duration of their calls by month\u001b[0m\n"
     ]
    },
    {
     "data": {
      "text/html": [
       "<div>\n",
       "<style scoped>\n",
       "    .dataframe tbody tr th:only-of-type {\n",
       "        vertical-align: middle;\n",
       "    }\n",
       "\n",
       "    .dataframe tbody tr th {\n",
       "        vertical-align: top;\n",
       "    }\n",
       "\n",
       "    .dataframe thead th {\n",
       "        text-align: right;\n",
       "    }\n",
       "</style>\n",
       "<table border=\"1\" class=\"dataframe\">\n",
       "  <thead>\n",
       "    <tr style=\"text-align: right;\">\n",
       "      <th></th>\n",
       "      <th>user_id</th>\n",
       "      <th>operator_count</th>\n",
       "      <th>call_duration</th>\n",
       "      <th>calls_count</th>\n",
       "    </tr>\n",
       "    <tr>\n",
       "      <th>date</th>\n",
       "      <th></th>\n",
       "      <th></th>\n",
       "      <th></th>\n",
       "      <th></th>\n",
       "    </tr>\n",
       "  </thead>\n",
       "  <tbody>\n",
       "    <tr>\n",
       "      <td>2019-08</td>\n",
       "      <td>85</td>\n",
       "      <td>178</td>\n",
       "      <td>13636.9</td>\n",
       "      <td>11833.0</td>\n",
       "    </tr>\n",
       "    <tr>\n",
       "      <td>2019-09</td>\n",
       "      <td>176</td>\n",
       "      <td>475</td>\n",
       "      <td>73197.5</td>\n",
       "      <td>70702.0</td>\n",
       "    </tr>\n",
       "    <tr>\n",
       "      <td>2019-10</td>\n",
       "      <td>274</td>\n",
       "      <td>813</td>\n",
       "      <td>147161.4</td>\n",
       "      <td>182982.0</td>\n",
       "    </tr>\n",
       "    <tr>\n",
       "      <td>2019-11</td>\n",
       "      <td>260</td>\n",
       "      <td>821</td>\n",
       "      <td>170018.1</td>\n",
       "      <td>206318.0</td>\n",
       "    </tr>\n",
       "  </tbody>\n",
       "</table>\n",
       "</div>"
      ],
      "text/plain": [
       "         user_id  operator_count  call_duration  calls_count\n",
       "date                                                        \n",
       "2019-08  85       178             13636.9        11833.0    \n",
       "2019-09  176      475             73197.5        70702.0    \n",
       "2019-10  274      813             147161.4       182982.0   \n",
       "2019-11  260      821             170018.1       206318.0   "
      ]
     },
     "metadata": {},
     "output_type": "display_data"
    }
   ],
   "source": [
    "# Let's look at the number of clients, the number of their operators, the number and duration of their calls by month. \n",
    "print(BOLD + 'The number of clients, the number of their operators, the number and duration of their calls by month' + END)\n",
    "display(costs.groupby(costs.date.dt.to_period('M'))\\\n",
    "            .agg({'user_id':'count', 'operator_count':'sum', 'call_duration':'sum', 'calls_count':'sum'}).round(1))"
   ]
  },
  {
   "cell_type": "markdown",
   "metadata": {},
   "source": [
    "The growth in revenue is due to the growth in the number of clients of the service, the growth in the number of operators and the number and duration of their calls. This is because we are only looking at customers who registered after August 1, 2019."
   ]
  },
  {
   "cell_type": "code",
   "execution_count": 42,
   "metadata": {},
   "outputs": [
    {
     "data": {
      "image/png": "[encoded data removed]",
      "text/plain": [
       "<Figure size 720x504 with 1 Axes>"
      ]
     },
     "metadata": {
      "needs_background": "light"
     },
     "output_type": "display_data"
    }
   ],
   "source": [
    "# Let's look at revenue by tariff plans\n",
    "fig, ax = plt.subplots(figsize=(10, 7))\n",
    "for group, group_data in costs.groupby('tariff_plan'):\n",
    "    group_data.tariff_cost.hist(alpha=0.4, linewidth=3, edgecolor='w', label=group, ax=ax, range=(0, 15000))\n",
    "ax.legend() \n",
    "ax.grid(b=None)\n",
    "ax.set_xlabel('Revenue')\n",
    "ax.set_ylabel('Frequency')\n",
    "ax.set_xticklabels(ax.get_xticks())\n",
    "ax.set_yticklabels(ax.get_yticks())\n",
    "ax.xaxis.set_major_formatter(mpl.ticker.StrMethodFormatter('{x:,.0f}'))\n",
    "ax.set_title('Distribution of Total Monthly Revenue by Tariff Plan');"
   ]
  },
  {
   "cell_type": "markdown",
   "metadata": {},
   "source": [
    "Revenue from a client with tariff A - the highest, with tariff C - the least."
   ]
  },
  {
   "cell_type": "code",
   "execution_count": 44,
   "metadata": {},
   "outputs": [
    {
     "name": "stdout",
     "output_type": "stream",
     "text": [
      "\u001b[1mShare of additional revenue by tariff plans\u001b[0m\n"
     ]
    },
    {
     "data": {
      "text/html": [
       "<div>\n",
       "<style scoped>\n",
       "    .dataframe tbody tr th:only-of-type {\n",
       "        vertical-align: middle;\n",
       "    }\n",
       "\n",
       "    .dataframe tbody tr th {\n",
       "        vertical-align: top;\n",
       "    }\n",
       "\n",
       "    .dataframe thead th {\n",
       "        text-align: right;\n",
       "    }\n",
       "</style>\n",
       "<table border=\"1\" class=\"dataframe\">\n",
       "  <thead>\n",
       "    <tr style=\"text-align: right;\">\n",
       "      <th>tariff_plan</th>\n",
       "      <th>A</th>\n",
       "      <th>B</th>\n",
       "      <th>C</th>\n",
       "    </tr>\n",
       "  </thead>\n",
       "  <tbody>\n",
       "    <tr>\n",
       "      <td>2019-08</td>\n",
       "      <td>54.3</td>\n",
       "      <td>45.7</td>\n",
       "      <td>0.0</td>\n",
       "    </tr>\n",
       "    <tr>\n",
       "      <td>2019-09</td>\n",
       "      <td>53.8</td>\n",
       "      <td>45.7</td>\n",
       "      <td>0.5</td>\n",
       "    </tr>\n",
       "    <tr>\n",
       "      <td>2019-10</td>\n",
       "      <td>57.4</td>\n",
       "      <td>42.3</td>\n",
       "      <td>0.3</td>\n",
       "    </tr>\n",
       "    <tr>\n",
       "      <td>2019-11</td>\n",
       "      <td>54.1</td>\n",
       "      <td>45.9</td>\n",
       "      <td>0.0</td>\n",
       "    </tr>\n",
       "    <tr>\n",
       "      <td>total</td>\n",
       "      <td>55.2</td>\n",
       "      <td>44.6</td>\n",
       "      <td>0.2</td>\n",
       "    </tr>\n",
       "  </tbody>\n",
       "</table>\n",
       "</div>"
      ],
      "text/plain": [
       "tariff_plan     A     B    C\n",
       "2019-08      54.3  45.7  0.0\n",
       "2019-09      53.8  45.7  0.5\n",
       "2019-10      57.4  42.3  0.3\n",
       "2019-11      54.1  45.9  0.0\n",
       "total        55.2  44.6  0.2"
      ]
     },
     "metadata": {},
     "output_type": "display_data"
    }
   ],
   "source": [
    "# Let's look at additional revenue distributed by tariff plans\n",
    "additional_revenue_by_plan = round(costs.pivot_table(index='date', columns='tariff_plan',\n",
    "                                                     values='additional_revenue', aggfunc='sum')\\\n",
    "                                .div(costs.groupby('date').additional_revenue.sum(), axis=0), 3)*100\n",
    "additional_revenue_by_plan.set_index(additional_revenue_by_plan.index.strftime('%Y-%m'), inplace=True)\n",
    "additional_revenue_by_plan.loc['total'] = round(costs.groupby('tariff_plan').additional_revenue.sum()\\\n",
    "                                                /costs.additional_revenue.sum(), 3) * 100 \n",
    "print(BOLD + 'Share of additional revenue by tariff plans' + END)\n",
    "display(additional_revenue_by_plan)"
   ]
  },
  {
   "cell_type": "markdown",
   "metadata": {},
   "source": [
    "The additional revenue from the use of non-optimal tariffs by clients is divided between tariffs A and B. The shares change slightly over time. The share of tariff A is a little higher."
   ]
  },
  {
   "cell_type": "markdown",
   "metadata": {},
   "source": [
    "__Ploting the distribution of additional revenue from a client due to using non-optimal tariffs.__"
   ]
  },
  {
   "cell_type": "code",
   "execution_count": 45,
   "metadata": {},
   "outputs": [
    {
     "name": "stdout",
     "output_type": "stream",
     "text": [
      "\u001b[1mDistribution of additional revenue from the use of non-optimal tariffs by clients\u001b[0m\n"
     ]
    },
    {
     "data": {
      "image/png": "[encoded data removed]",
      "text/plain": [
       "<Figure size 720x432 with 1 Axes>"
      ]
     },
     "metadata": {
      "needs_background": "light"
     },
     "output_type": "display_data"
    }
   ],
   "source": [
    "# Let's look at distribution of additional revenue from the use of non-optimal tariffs by clients\n",
    "print(BOLD + 'Distribution of additional revenue from the use of non-optimal tariffs by clients' + END)\n",
    "fig, ax = plt.subplots(figsize=(10, 6))\n",
    "for group, group_data in costs[costs.additional_revenue>0].groupby('tariff_plan'):\n",
    "    group_data.additional_revenue.hist(alpha=0.5, linewidth=3, edgecolor='w',\n",
    "                                                          label=group, ax=ax)\n",
    "plt.legend(); \n",
    "ax.grid(b=None)\n",
    "ax.grid(axis='y', linestyle='--', color='dimgray', alpha=0.5)\n",
    "ax.set_title('Distribution of monthly additional revenue from a client due to using non-optimal tariffs')\n",
    "ax.set_xlabel('Additional Revenue')\n",
    "ax.set_ylabel('Frequency')\n",
    "plt.show()"
   ]
  },
  {
   "cell_type": "markdown",
   "metadata": {},
   "source": [
    "Additional revenue from the client due to the use of non-optimal tariffs, mainly due to the difference in the base price of tariffs A and B with the base price of the minimum tariff C, which is 4000 and 1000 units, respectively."
   ]
  },
  {
   "cell_type": "markdown",
   "metadata": {},
   "source": [
    "__Estimating the churn rate for clients who use optimal and non-optimal calling plans. Are there any differences in churn among these two groups?__\n"
   ]
  },
  {
   "cell_type": "code",
   "execution_count": 47,
   "metadata": {},
   "outputs": [
    {
     "name": "stdout",
     "output_type": "stream",
     "text": [
      "\u001b[1mThe number of clients who did not have reports in the last 30 days and its share \n",
      "for clients who use optimal tariff plan and do not:\u001b[0m\n"
     ]
    },
    {
     "data": {
      "text/html": [
       "<div>\n",
       "<style scoped>\n",
       "    .dataframe tbody tr th:only-of-type {\n",
       "        vertical-align: middle;\n",
       "    }\n",
       "\n",
       "    .dataframe tbody tr th {\n",
       "        vertical-align: top;\n",
       "    }\n",
       "\n",
       "    .dataframe thead th {\n",
       "        text-align: right;\n",
       "    }\n",
       "</style>\n",
       "<table border=\"1\" class=\"dataframe\">\n",
       "  <thead>\n",
       "    <tr style=\"text-align: right;\">\n",
       "      <th></th>\n",
       "      <th>not active clients</th>\n",
       "      <th>all clients</th>\n",
       "      <th>churn, %</th>\n",
       "    </tr>\n",
       "  </thead>\n",
       "  <tbody>\n",
       "    <tr>\n",
       "      <td>with_opt_plan</td>\n",
       "      <td>19</td>\n",
       "      <td>161</td>\n",
       "      <td>11.8</td>\n",
       "    </tr>\n",
       "    <tr>\n",
       "      <td>with_non-opt_plan</td>\n",
       "      <td>18</td>\n",
       "      <td>145</td>\n",
       "      <td>12.4</td>\n",
       "    </tr>\n",
       "  </tbody>\n",
       "</table>\n",
       "</div>"
      ],
      "text/plain": [
       "                   not active clients  all clients  churn, %\n",
       "with_opt_plan      19                  161          11.8    \n",
       "with_non-opt_plan  18                  145          12.4    "
      ]
     },
     "metadata": {},
     "output_type": "display_data"
    }
   ],
   "source": [
    "# Let's estimate the churn rate for clients who use optimal and non-optimal calling plans.\n",
    "# Defind clients who leave as clients who didn't have reports in the last 30 days.\n",
    "\n",
    "# determining clients with optimal plans\n",
    "users_with_opt_plan = costs_cum[costs_cum.tariff_plan == costs_cum.opt_tariff].user_id\n",
    "# determining clients with non-optimal plans\n",
    "users_with_nonopt_plan = costs_cum[costs_cum.tariff_plan != costs_cum.opt_tariff].user_id\n",
    "\n",
    "print(BOLD + 'The number of clients who did not have reports in the last 30 days and its share ' \n",
    "           + '\\nfor clients who use optimal tariff plan and do not:' + END)\n",
    "# creating a summary table on the number of clients who didn't have reports in the last 30 days and its share\n",
    "# for clients who use optimal and non-optimal calling plans\n",
    "churn_rate = pd.DataFrame({'not active clients': [len(set(users_with_opt_plan) - set(active_clients)),\n",
    "                                     len(set(users_with_nonopt_plan) - set(active_clients))],\n",
    "                           'all clients': [len(users_with_opt_plan),\n",
    "                                           len(users_with_nonopt_plan)],\n",
    "                           'churn, %': [100 * round(len(set(users_with_opt_plan) - set(active_clients))\\\n",
    "                                                     /len(users_with_opt_plan), 3),\n",
    "                                        100 * round(len(set(users_with_nonopt_plan) - set(active_clients))\\\n",
    "                                                     /len(users_with_nonopt_plan), 3)]},\n",
    "                           index=['with_opt_plan', 'with_non-opt_plan'])\n",
    "display(churn_rate)"
   ]
  },
  {
   "cell_type": "code",
   "execution_count": 48,
   "metadata": {},
   "outputs": [
    {
     "data": {
      "text/html": [
       "<style  type=\"text/css\" >\n",
       "    #T_5e1955c0_dded_11eb_beb8_02420a3941fd th {\n",
       "          font-size: 18px;\n",
       "    }    #T_5e1955c0_dded_11eb_beb8_02420a3941fd td {\n",
       "          font-size: 18px;\n",
       "    }</style><table id=\"T_5e1955c0_dded_11eb_beb8_02420a3941fd\" ><thead>    <tr>        <th class=\"blank level0\" ></th>        <th class=\"col_heading level0 col0\" >not active clients</th>        <th class=\"col_heading level0 col1\" >all clients</th>        <th class=\"col_heading level0 col2\" >churn, %</th>    </tr></thead><tbody>\n",
       "                <tr>\n",
       "                        <th id=\"T_5e1955c0_dded_11eb_beb8_02420a3941fdlevel0_row0\" class=\"row_heading level0 row0\" >clients using optimal tariff</th>\n",
       "                        <td id=\"T_5e1955c0_dded_11eb_beb8_02420a3941fdrow0_col0\" class=\"data row0 col0\" >19</td>\n",
       "                        <td id=\"T_5e1955c0_dded_11eb_beb8_02420a3941fdrow0_col1\" class=\"data row0 col1\" >161</td>\n",
       "                        <td id=\"T_5e1955c0_dded_11eb_beb8_02420a3941fdrow0_col2\" class=\"data row0 col2\" >11.8</td>\n",
       "            </tr>\n",
       "            <tr>\n",
       "                        <th id=\"T_5e1955c0_dded_11eb_beb8_02420a3941fdlevel0_row1\" class=\"row_heading level0 row1\" >clients using non-optimal tariff</th>\n",
       "                        <td id=\"T_5e1955c0_dded_11eb_beb8_02420a3941fdrow1_col0\" class=\"data row1 col0\" >18</td>\n",
       "                        <td id=\"T_5e1955c0_dded_11eb_beb8_02420a3941fdrow1_col1\" class=\"data row1 col1\" >145</td>\n",
       "                        <td id=\"T_5e1955c0_dded_11eb_beb8_02420a3941fdrow1_col2\" class=\"data row1 col2\" >12.4</td>\n",
       "            </tr>\n",
       "    </tbody></table>"
      ],
      "text/plain": [
       "<pandas.io.formats.style.Styler at 0x7faaf1a02290>"
      ]
     },
     "execution_count": 48,
     "metadata": {},
     "output_type": "execute_result"
    }
   ],
   "source": [
    "# Let's show the table with larger fond for presentation\n",
    "churn_rate.rename(index={'with_opt_plan': 'clients using optimal tariff',\n",
    "                         'with_non-opt_plan':'clients using non-optimal tariff'}, inplace=True)\n",
    "churn_rate.style.set_table_styles(dfstyle)"
   ]
  },
  {
   "cell_type": "markdown",
   "metadata": {},
   "source": [
    "The churn rate of clients using optimal and non-optimal calling plans is almost the same, about 12%."
   ]
  },
  {
   "cell_type": "markdown",
   "metadata": {},
   "source": [
    "__Categorizing the clients by total revenue from them. Estimating the share of non-optimal use of tariff plans among these groups. How often do large customers use the optimal calling plan?__"
   ]
  },
  {
   "cell_type": "code",
   "execution_count": 49,
   "metadata": {},
   "outputs": [
    {
     "name": "stdout",
     "output_type": "stream",
     "text": [
      "\u001b[1mMain statistics of monthly service revenue by client:\u001b[0m\n"
     ]
    },
    {
     "data": {
      "text/html": [
       "<div>\n",
       "<style scoped>\n",
       "    .dataframe tbody tr th:only-of-type {\n",
       "        vertical-align: middle;\n",
       "    }\n",
       "\n",
       "    .dataframe tbody tr th {\n",
       "        vertical-align: top;\n",
       "    }\n",
       "\n",
       "    .dataframe thead th {\n",
       "        text-align: right;\n",
       "    }\n",
       "</style>\n",
       "<table border=\"1\" class=\"dataframe\">\n",
       "  <thead>\n",
       "    <tr style=\"text-align: right;\">\n",
       "      <th></th>\n",
       "      <th>count</th>\n",
       "      <th>std</th>\n",
       "      <th>min</th>\n",
       "      <th>mean</th>\n",
       "      <th>median</th>\n",
       "      <th>perc25</th>\n",
       "      <th>perc75</th>\n",
       "      <th>perc95</th>\n",
       "      <th>max</th>\n",
       "    </tr>\n",
       "  </thead>\n",
       "  <tbody>\n",
       "    <tr>\n",
       "      <td>monthly_costs</td>\n",
       "      <td>306.0</td>\n",
       "      <td>2121.114499</td>\n",
       "      <td>1100.0</td>\n",
       "      <td>2359.467369</td>\n",
       "      <td>2100.0</td>\n",
       "      <td>2416.395833</td>\n",
       "      <td>2416.395833</td>\n",
       "      <td>5459.081667</td>\n",
       "      <td>21535.19</td>\n",
       "    </tr>\n",
       "  </tbody>\n",
       "</table>\n",
       "</div>"
      ],
      "text/plain": [
       "               count          std     min         mean  median       perc25  \\\n",
       "monthly_costs  306.0  2121.114499  1100.0  2359.467369  2100.0  2416.395833   \n",
       "\n",
       "                    perc75       perc95       max  \n",
       "monthly_costs  2416.395833  5459.081667  21535.19  "
      ]
     },
     "metadata": {},
     "output_type": "display_data"
    }
   ],
   "source": [
    "# Let's categorize the clients by total revenue from them\n",
    "# To do this, let's look at the distribution of the service's revenue by client.\n",
    "\n",
    "# calculating average client expenses per month\n",
    "costs_cum['monthly_costs'] = costs_cum.tariff_cost / costs_cum.months_count\n",
    "\n",
    "# function to calculate 75th percentile\n",
    "def perc25(series):\n",
    "    return series.quantile(0.75)\n",
    "\n",
    "# function to calculate 75th percentile\n",
    "def perc75(series):\n",
    "    return series.quantile(0.75)\n",
    "\n",
    "# function to calculate 95th percentile\n",
    "def perc95(series):\n",
    "    return series.quantile(0.95)\n",
    "\n",
    "print(BOLD + \"Main statistics of monthly service revenue by client:\" + END)\n",
    "display(costs_cum.agg({'monthly_costs':['count', 'std', 'min', 'mean', 'median', perc25, perc75, perc95, 'max']}).T)"
   ]
  },
  {
   "cell_type": "markdown",
   "metadata": {},
   "source": [
    "To divide the revenue from a client into levels, we can take the values of the first and third quartiles, and 95th percentile (see perc25, perc75, perc95)."
   ]
  },
  {
   "cell_type": "code",
   "execution_count": 50,
   "metadata": {},
   "outputs": [
    {
     "name": "stdout",
     "output_type": "stream",
     "text": [
      "\u001b[1mThe number of clients of each category by their expenses having optimal plan or needing smaller or bigger one\u001b[0m\n"
     ]
    },
    {
     "data": {
      "text/html": [
       "<div>\n",
       "<style scoped>\n",
       "    .dataframe tbody tr th:only-of-type {\n",
       "        vertical-align: middle;\n",
       "    }\n",
       "\n",
       "    .dataframe tbody tr th {\n",
       "        vertical-align: top;\n",
       "    }\n",
       "\n",
       "    .dataframe thead th {\n",
       "        text-align: right;\n",
       "    }\n",
       "</style>\n",
       "<table border=\"1\" class=\"dataframe\">\n",
       "  <thead>\n",
       "    <tr style=\"text-align: right;\">\n",
       "      <th>optimal</th>\n",
       "      <th>need bigger</th>\n",
       "      <th>need smaller</th>\n",
       "      <th>optimal</th>\n",
       "    </tr>\n",
       "    <tr>\n",
       "      <th>revenue_level</th>\n",
       "      <th></th>\n",
       "      <th></th>\n",
       "      <th></th>\n",
       "    </tr>\n",
       "  </thead>\n",
       "  <tbody>\n",
       "    <tr>\n",
       "      <td>low</td>\n",
       "      <td>0</td>\n",
       "      <td>0</td>\n",
       "      <td>77</td>\n",
       "    </tr>\n",
       "    <tr>\n",
       "      <td>middle</td>\n",
       "      <td>0</td>\n",
       "      <td>79</td>\n",
       "      <td>73</td>\n",
       "    </tr>\n",
       "    <tr>\n",
       "      <td>high</td>\n",
       "      <td>1</td>\n",
       "      <td>52</td>\n",
       "      <td>9</td>\n",
       "    </tr>\n",
       "    <tr>\n",
       "      <td>very high</td>\n",
       "      <td>1</td>\n",
       "      <td>12</td>\n",
       "      <td>2</td>\n",
       "    </tr>\n",
       "  </tbody>\n",
       "</table>\n",
       "</div>"
      ],
      "text/plain": [
       "optimal        need bigger  need smaller  optimal\n",
       "revenue_level                                    \n",
       "low            0            0             77     \n",
       "middle         0            79            73     \n",
       "high           1            52            9      \n",
       "very high      1            12            2      "
      ]
     },
     "metadata": {},
     "output_type": "display_data"
    },
    {
     "name": "stdout",
     "output_type": "stream",
     "text": [
      "\n",
      "\u001b[1mShare of clients of each category by their expenses having optimal plan or needing smaller or bigger one\u001b[0m\n"
     ]
    },
    {
     "data": {
      "text/html": [
       "<div>\n",
       "<style scoped>\n",
       "    .dataframe tbody tr th:only-of-type {\n",
       "        vertical-align: middle;\n",
       "    }\n",
       "\n",
       "    .dataframe tbody tr th {\n",
       "        vertical-align: top;\n",
       "    }\n",
       "\n",
       "    .dataframe thead th {\n",
       "        text-align: right;\n",
       "    }\n",
       "</style>\n",
       "<table border=\"1\" class=\"dataframe\">\n",
       "  <thead>\n",
       "    <tr style=\"text-align: right;\">\n",
       "      <th>optimal</th>\n",
       "      <th>need bigger</th>\n",
       "      <th>need smaller</th>\n",
       "      <th>optimal</th>\n",
       "    </tr>\n",
       "    <tr>\n",
       "      <th>revenue_level</th>\n",
       "      <th></th>\n",
       "      <th></th>\n",
       "      <th></th>\n",
       "    </tr>\n",
       "  </thead>\n",
       "  <tbody>\n",
       "    <tr>\n",
       "      <td>low</td>\n",
       "      <td>0.0</td>\n",
       "      <td>0.0</td>\n",
       "      <td>100.0</td>\n",
       "    </tr>\n",
       "    <tr>\n",
       "      <td>middle</td>\n",
       "      <td>0.0</td>\n",
       "      <td>52.0</td>\n",
       "      <td>48.0</td>\n",
       "    </tr>\n",
       "    <tr>\n",
       "      <td>high</td>\n",
       "      <td>1.6</td>\n",
       "      <td>83.9</td>\n",
       "      <td>14.5</td>\n",
       "    </tr>\n",
       "    <tr>\n",
       "      <td>very high</td>\n",
       "      <td>6.7</td>\n",
       "      <td>80.0</td>\n",
       "      <td>13.3</td>\n",
       "    </tr>\n",
       "  </tbody>\n",
       "</table>\n",
       "</div>"
      ],
      "text/plain": [
       "optimal        need bigger  need smaller  optimal\n",
       "revenue_level                                    \n",
       "low            0.0          0.0           100.0  \n",
       "middle         0.0          52.0          48.0   \n",
       "high           1.6          83.9          14.5   \n",
       "very high      6.7          80.0          13.3   "
      ]
     },
     "metadata": {},
     "output_type": "display_data"
    }
   ],
   "source": [
    "# Let's categorize the clients by total revenue from them by quartiles \n",
    "# calculating quartiles\n",
    "Q1 = costs_cum.monthly_costs.quantile(0.25)\n",
    "Q3 = costs_cum.monthly_costs.quantile(0.75)\n",
    "QUANTILE95 = costs.tariff_cost.quantile(0.95)\n",
    "\n",
    "# function to categorize clients by revenue from them using quartiles\n",
    "def revenue_level(revenue):\n",
    "    if revenue <= Q1:\n",
    "        return 'low'\n",
    "    elif revenue <= Q3:\n",
    "        return 'middle'\n",
    "    elif revenue <= QUANTILE95:\n",
    "        return 'high'\n",
    "    else:\n",
    "        return 'very high'\n",
    "\n",
    "# categorizing clients by revenue from them\n",
    "costs_cum['revenue_level'] = costs_cum.monthly_costs.apply(revenue_level)\n",
    "\n",
    "# adding order of tariff plans \n",
    "costs_cum['opt_tariff'] = pd.Categorical(costs_cum.opt_tariff, ordered=True, categories=['C', 'B', 'A'])\n",
    "costs_cum['tariff_plan'] = pd.Categorical(costs_cum.tariff_plan, ordered=True, categories=['C', 'B', 'A'])\n",
    "\n",
    "# determining whether the current plan is optimal or the client needs a smaller or bigger tariff plan \n",
    "costs_cum['optimal'] = np.where(costs_cum.opt_tariff==costs_cum.tariff_plan, 'optimal', \n",
    "                           np.where(costs_cum.opt_tariff>costs_cum.tariff_plan, 'need bigger', 'need smaller'))\n",
    "\n",
    "print(BOLD \n",
    "    + 'The number of clients of each category by their expenses having optimal plan or needing smaller or bigger one'\n",
    "    + END)\n",
    "display(costs_cum.pivot_table(index='revenue_level', columns='optimal', values='user_id', aggfunc='count')\\\n",
    "            .fillna(0).astype(int).loc[['low', 'middle', 'high', 'very high']])\n",
    "print()\n",
    "\n",
    "print(BOLD \n",
    "    + 'Share of clients of each category by their expenses having optimal plan or needing smaller or bigger one'\n",
    "    + END)\n",
    "display(100 * costs_cum.pivot_table(index='revenue_level', columns='optimal', values='user_id', aggfunc='count')\\\n",
    "                .fillna(0).div(costs_cum.groupby('revenue_level').user_id.count(), axis=0).round(3)\\\n",
    "            .loc[['low', 'middle', 'high', 'very high']])"
   ]
  },
  {
   "cell_type": "markdown",
   "metadata": {},
   "source": [
    "Clients having optimal tariff plans are not large clients of the telephony service. For clients who bring more revenue, as a rule, a lower tariff is more optimal."
   ]
  },
  {
   "cell_type": "code",
   "execution_count": 51,
   "metadata": {
    "scrolled": false
   },
   "outputs": [
    {
     "name": "stdout",
     "output_type": "stream",
     "text": [
      "\u001b[1mThe number of clients of each category by their expenses in each tariff plan:\u001b[0m\n"
     ]
    },
    {
     "data": {
      "text/html": [
       "<div>\n",
       "<style scoped>\n",
       "    .dataframe tbody tr th:only-of-type {\n",
       "        vertical-align: middle;\n",
       "    }\n",
       "\n",
       "    .dataframe tbody tr th {\n",
       "        vertical-align: top;\n",
       "    }\n",
       "\n",
       "    .dataframe thead th {\n",
       "        text-align: right;\n",
       "    }\n",
       "</style>\n",
       "<table border=\"1\" class=\"dataframe\">\n",
       "  <thead>\n",
       "    <tr style=\"text-align: right;\">\n",
       "      <th>tariff_plan</th>\n",
       "      <th>C</th>\n",
       "      <th>B</th>\n",
       "      <th>A</th>\n",
       "    </tr>\n",
       "    <tr>\n",
       "      <th>revenue_level</th>\n",
       "      <th></th>\n",
       "      <th></th>\n",
       "      <th></th>\n",
       "    </tr>\n",
       "  </thead>\n",
       "  <tbody>\n",
       "    <tr>\n",
       "      <td>low</td>\n",
       "      <td>77</td>\n",
       "      <td>0</td>\n",
       "      <td>0</td>\n",
       "    </tr>\n",
       "    <tr>\n",
       "      <td>middle</td>\n",
       "      <td>73</td>\n",
       "      <td>79</td>\n",
       "      <td>0</td>\n",
       "    </tr>\n",
       "    <tr>\n",
       "      <td>high</td>\n",
       "      <td>10</td>\n",
       "      <td>32</td>\n",
       "      <td>20</td>\n",
       "    </tr>\n",
       "    <tr>\n",
       "      <td>very high</td>\n",
       "      <td>1</td>\n",
       "      <td>1</td>\n",
       "      <td>13</td>\n",
       "    </tr>\n",
       "  </tbody>\n",
       "</table>\n",
       "</div>"
      ],
      "text/plain": [
       "tariff_plan     C   B   A\n",
       "revenue_level            \n",
       "low            77  0   0 \n",
       "middle         73  79  0 \n",
       "high           10  32  20\n",
       "very high      1   1   13"
      ]
     },
     "metadata": {},
     "output_type": "display_data"
    },
    {
     "name": "stdout",
     "output_type": "stream",
     "text": [
      "\u001b[1mShare of clients of each category by their expenses in each tariff plan:\u001b[0m\n"
     ]
    },
    {
     "data": {
      "text/html": [
       "<div>\n",
       "<style scoped>\n",
       "    .dataframe tbody tr th:only-of-type {\n",
       "        vertical-align: middle;\n",
       "    }\n",
       "\n",
       "    .dataframe tbody tr th {\n",
       "        vertical-align: top;\n",
       "    }\n",
       "\n",
       "    .dataframe thead th {\n",
       "        text-align: right;\n",
       "    }\n",
       "</style>\n",
       "<table border=\"1\" class=\"dataframe\">\n",
       "  <thead>\n",
       "    <tr style=\"text-align: right;\">\n",
       "      <th>tariff_plan</th>\n",
       "      <th>C</th>\n",
       "      <th>B</th>\n",
       "      <th>A</th>\n",
       "    </tr>\n",
       "    <tr>\n",
       "      <th>revenue_level</th>\n",
       "      <th></th>\n",
       "      <th></th>\n",
       "      <th></th>\n",
       "    </tr>\n",
       "  </thead>\n",
       "  <tbody>\n",
       "    <tr>\n",
       "      <td>low</td>\n",
       "      <td>100.0</td>\n",
       "      <td>0.0</td>\n",
       "      <td>0.0</td>\n",
       "    </tr>\n",
       "    <tr>\n",
       "      <td>middle</td>\n",
       "      <td>48.0</td>\n",
       "      <td>52.0</td>\n",
       "      <td>0.0</td>\n",
       "    </tr>\n",
       "    <tr>\n",
       "      <td>high</td>\n",
       "      <td>16.1</td>\n",
       "      <td>51.6</td>\n",
       "      <td>32.3</td>\n",
       "    </tr>\n",
       "    <tr>\n",
       "      <td>very high</td>\n",
       "      <td>6.7</td>\n",
       "      <td>6.7</td>\n",
       "      <td>86.7</td>\n",
       "    </tr>\n",
       "  </tbody>\n",
       "</table>\n",
       "</div>"
      ],
      "text/plain": [
       "tariff_plan        C     B     A\n",
       "revenue_level                   \n",
       "low            100.0  0.0   0.0 \n",
       "middle         48.0   52.0  0.0 \n",
       "high           16.1   51.6  32.3\n",
       "very high      6.7    6.7   86.7"
      ]
     },
     "metadata": {},
     "output_type": "display_data"
    }
   ],
   "source": [
    "# Let's look at each category of clients by thier tariff plans\n",
    "print(BOLD + 'The number of clients of each category by their expenses in each tariff plan:' + END)\n",
    "display(costs_cum.pivot_table(index='revenue_level', columns='tariff_plan', values='user_id', aggfunc='count')\\\n",
    "        .fillna(0).astype(int).loc[['low', 'middle', 'high', 'very high']])\n",
    "\n",
    "print(BOLD + 'Share of clients of each category by their expenses in each tariff plan:' + END)\n",
    "display(100 * costs_cum.pivot_table(index='revenue_level', columns='tariff_plan', values='user_id', aggfunc='count')\\\n",
    "              .fillna(0).div(costs_cum.groupby('revenue_level').user_id.count(), axis=0).round(3)\\\n",
    "        .loc[['low', 'middle', 'high', 'very high']])"
   ]
  },
  {
   "cell_type": "markdown",
   "metadata": {},
   "source": [
    "Customers with the lowest tariffs bring the lowest revenue. Middle clients in terms of revenue use tariffs B and C in approximately equal shares. Large clients in terms of revenue of the service use tariffs A and B ofter. It looks like clients only bring the largest revenue just because they non-optimally use the biggest tariff plan. Thus, the bigger the tariff plan, the larger level of clients in terns of revenue they bring."
   ]
  },
  {
   "cell_type": "markdown",
   "metadata": {},
   "source": [
    "## 5. Testing Hypotheses\n",
    "<a id='section5'></a>"
   ]
  },
  {
   "cell_type": "markdown",
   "metadata": {},
   "source": [
    "### Hypothesis1: The amount of additional revenue due to using a non-optimal plan by customers differs depending on the tariff type."
   ]
  },
  {
   "cell_type": "code",
   "execution_count": 52,
   "metadata": {},
   "outputs": [
    {
     "name": "stdout",
     "output_type": "stream",
     "text": [
      "\u001b[1mDesciptive statistics for additional revenue for different tariff types:\u001b[0m\n",
      "\u001b[1mA\u001b[0m\n"
     ]
    },
    {
     "data": {
      "text/html": [
       "<div>\n",
       "<style scoped>\n",
       "    .dataframe tbody tr th:only-of-type {\n",
       "        vertical-align: middle;\n",
       "    }\n",
       "\n",
       "    .dataframe tbody tr th {\n",
       "        vertical-align: top;\n",
       "    }\n",
       "\n",
       "    .dataframe thead th {\n",
       "        text-align: right;\n",
       "    }\n",
       "</style>\n",
       "<table border=\"1\" class=\"dataframe\">\n",
       "  <thead>\n",
       "    <tr style=\"text-align: right;\">\n",
       "      <th></th>\n",
       "      <th>count</th>\n",
       "      <th>min</th>\n",
       "      <th>max</th>\n",
       "      <th>mean</th>\n",
       "      <th>median</th>\n",
       "      <th>std</th>\n",
       "      <th>var</th>\n",
       "    </tr>\n",
       "  </thead>\n",
       "  <tbody>\n",
       "    <tr>\n",
       "      <td>additional_revenue</td>\n",
       "      <td>90.0</td>\n",
       "      <td>0.0</td>\n",
       "      <td>4000.0</td>\n",
       "      <td>3716.8</td>\n",
       "      <td>3989.4</td>\n",
       "      <td>774.4</td>\n",
       "      <td>599670.2</td>\n",
       "    </tr>\n",
       "  </tbody>\n",
       "</table>\n",
       "</div>"
      ],
      "text/plain": [
       "                    count  min     max    mean  median    std       var\n",
       "additional_revenue  90.0   0.0  4000.0  3716.8  3989.4  774.4  599670.2"
      ]
     },
     "metadata": {},
     "output_type": "display_data"
    },
    {
     "name": "stdout",
     "output_type": "stream",
     "text": [
      "\u001b[1mB\u001b[0m\n"
     ]
    },
    {
     "data": {
      "text/html": [
       "<div>\n",
       "<style scoped>\n",
       "    .dataframe tbody tr th:only-of-type {\n",
       "        vertical-align: middle;\n",
       "    }\n",
       "\n",
       "    .dataframe tbody tr th {\n",
       "        vertical-align: top;\n",
       "    }\n",
       "\n",
       "    .dataframe thead th {\n",
       "        text-align: right;\n",
       "    }\n",
       "</style>\n",
       "<table border=\"1\" class=\"dataframe\">\n",
       "  <thead>\n",
       "    <tr style=\"text-align: right;\">\n",
       "      <th></th>\n",
       "      <th>count</th>\n",
       "      <th>min</th>\n",
       "      <th>max</th>\n",
       "      <th>mean</th>\n",
       "      <th>median</th>\n",
       "      <th>std</th>\n",
       "      <th>var</th>\n",
       "    </tr>\n",
       "  </thead>\n",
       "  <tbody>\n",
       "    <tr>\n",
       "      <td>additional_revenue</td>\n",
       "      <td>291.0</td>\n",
       "      <td>0.0</td>\n",
       "      <td>1000.0</td>\n",
       "      <td>930.3</td>\n",
       "      <td>994.0</td>\n",
       "      <td>168.7</td>\n",
       "      <td>28450.6</td>\n",
       "    </tr>\n",
       "  </tbody>\n",
       "</table>\n",
       "</div>"
      ],
      "text/plain": [
       "                    count  min     max   mean  median    std      var\n",
       "additional_revenue  291.0  0.0  1000.0  930.3  994.0   168.7  28450.6"
      ]
     },
     "metadata": {},
     "output_type": "display_data"
    },
    {
     "name": "stdout",
     "output_type": "stream",
     "text": [
      "\u001b[1mC\u001b[0m\n"
     ]
    },
    {
     "data": {
      "text/html": [
       "<div>\n",
       "<style scoped>\n",
       "    .dataframe tbody tr th:only-of-type {\n",
       "        vertical-align: middle;\n",
       "    }\n",
       "\n",
       "    .dataframe tbody tr th {\n",
       "        vertical-align: top;\n",
       "    }\n",
       "\n",
       "    .dataframe thead th {\n",
       "        text-align: right;\n",
       "    }\n",
       "</style>\n",
       "<table border=\"1\" class=\"dataframe\">\n",
       "  <thead>\n",
       "    <tr style=\"text-align: right;\">\n",
       "      <th></th>\n",
       "      <th>count</th>\n",
       "      <th>min</th>\n",
       "      <th>max</th>\n",
       "      <th>mean</th>\n",
       "      <th>median</th>\n",
       "      <th>std</th>\n",
       "      <th>var</th>\n",
       "    </tr>\n",
       "  </thead>\n",
       "  <tbody>\n",
       "    <tr>\n",
       "      <td>additional_revenue</td>\n",
       "      <td>414.0</td>\n",
       "      <td>0.0</td>\n",
       "      <td>605.2</td>\n",
       "      <td>2.9</td>\n",
       "      <td>0.0</td>\n",
       "      <td>36.9</td>\n",
       "      <td>1359.0</td>\n",
       "    </tr>\n",
       "  </tbody>\n",
       "</table>\n",
       "</div>"
      ],
      "text/plain": [
       "                    count  min    max  mean  median   std     var\n",
       "additional_revenue  414.0  0.0  605.2  2.9   0.0     36.9  1359.0"
      ]
     },
     "metadata": {},
     "output_type": "display_data"
    },
    {
     "name": "stdout",
     "output_type": "stream",
     "text": [
      "\n",
      "\u001b[1mDistribution of additional revenue for different tariff types:\u001b[0m\n"
     ]
    },
    {
     "data": {
      "image/png": "[encoded data removed]",
      "text/plain": [
       "<Figure size 1296x288 with 3 Axes>"
      ]
     },
     "metadata": {
      "needs_background": "light"
     },
     "output_type": "display_data"
    },
    {
     "data": {
      "image/png": "[encoded data removed]",
      "text/plain": [
       "<Figure size 1296x288 with 1 Axes>"
      ]
     },
     "metadata": {
      "needs_background": "light"
     },
     "output_type": "display_data"
    }
   ],
   "source": [
    "# Let's look at descriptive statictics and distribution of additional revenue for different tariff types \n",
    "# function to print the descriptive statistics and distribution of additional revenue for different tariff types  \n",
    "def descrip_stat_and_distr(data, feature):\n",
    "    # printing the descriptive statistics\n",
    "    print(BOLD + 'Desciptive statistics for additional revenue for different tariff types:' + END)\n",
    "    for name, group_data in data.groupby('tariff_plan'):\n",
    "        print(BOLD + name + END)\n",
    "        display(group_data[[feature]].agg(['count', 'min', 'max', 'mean', 'median', 'std', 'var']).round(1).T)\n",
    "    print()\n",
    "\n",
    "    # ploting histograms and boxplots for additional revenue for different tariff types \n",
    "    print(BOLD + 'Distribution of additional revenue for different tariff types:' + END)\n",
    "    cols_num = len(data.tariff_plan.unique())\n",
    "    fig, axes = plt.subplots(ncols=cols_num, figsize=(6*cols_num, 4))\n",
    "    for i, value in enumerate(data.tariff_plan.unique()):\n",
    "        data[data['tariff_plan']==value][feature].hist(ax=axes[i], bins=15)\n",
    "        axes[i].set_title(value)\n",
    "        axes[i].set_xlabel(feature)\n",
    "        axes[i].set_ylabel('Frequency')\n",
    "        \n",
    "    fig, ax = plt.subplots(figsize=(18, 4))\n",
    "    sns.boxplot(y='tariff_plan', x=feature, data=data, ax=ax, orient='h'); \n",
    "    ax.grid(axis='x', linestyle='--', color='dimgray', alpha=0.5)\n",
    "\n",
    "\n",
    "# Let's look at descriptive statistics and distribution for additional revenue by different tariff types \n",
    "descrip_stat_and_distr(costs, 'additional_revenue')"
   ]
  },
  {
   "cell_type": "markdown",
   "metadata": {},
   "source": [
    "The medians for the additional revenue for different tariff types are shifted relative to each other.\n",
    "\n",
    "The distributions of the additional revenue for each tariff types does not have the form of a normal distribution."
   ]
  },
  {
   "cell_type": "code",
   "execution_count": 53,
   "metadata": {},
   "outputs": [
    {
     "name": "stdout",
     "output_type": "stream",
     "text": [
      "\u001b[1mQ-Q Plots for duration of a trip for tariff plan A and tariff plan B and tariff plan C:\u001b[0m\n"
     ]
    },
    {
     "data": {
      "image/png": "[encoded data removed]",
      "text/plain": [
       "<Figure size 1296x288 with 3 Axes>"
      ]
     },
     "metadata": {
      "needs_background": "light"
     },
     "output_type": "display_data"
    },
    {
     "name": "stdout",
     "output_type": "stream",
     "text": [
      "\u001b[1mShapiro-Wilk normality tests:\u001b[0m\n",
      "Hypotheses:\n",
      "\u001b[1mH₀: Aditional revenue for tariff plan A is distributed normally\u001b[0m\n",
      "\u001b[1mH₁: Aditional revenue for tariff plan A is not distributed normally\u001b[0m\n",
      "Shapiro-Wilk normality test, p-value:  3.012518337279732e-17\n",
      "We reject the hypothesis H₀\n",
      "\n",
      "Hypotheses:\n",
      "\u001b[1mH₀: Aditional revenue for tariff plan B is distributed normally\u001b[0m\n",
      "\u001b[1mH₁: Aditional revenue for tariff plan B is not distributed normally\u001b[0m\n",
      "Shapiro-Wilk normality test, p-value:  6.779014005553686e-29\n",
      "We reject the hypothesis H₀\n",
      "\n",
      "Hypotheses:\n",
      "\u001b[1mH₀: Aditional revenue for tariff plan C is distributed normally\u001b[0m\n",
      "\u001b[1mH₁: Aditional revenue for tariff plan C is not distributed normally\u001b[0m\n",
      "Shapiro-Wilk normality test, p-value:  7.671688702639076e-41\n",
      "We reject the hypothesis H₀\n",
      "\n"
     ]
    }
   ],
   "source": [
    "# Let's formally test the hypothesis that the distributios of samples are normal\n",
    "\n",
    "# testing the hypotheses of normality of the additional revenue for each tariff types\n",
    "norm_test([costs[costs.tariff_plan=='A'], costs[costs.tariff_plan=='B'], costs[costs.tariff_plan=='C']],\n",
    "          ['tariff plan A', 'tariff plan B', 'tariff plan C'], 'Aditional revenue')"
   ]
  },
  {
   "cell_type": "markdown",
   "metadata": {},
   "source": [
    "The distribution of the additional revenue for each tariff types is most likely different from the normal one, since the points on the Q-Q graph do not lie on a straight line, but are described by a non-linear curve or some of the points lie far from the straight lines.\n",
    "\n",
    "Shapiro-Wilk normality tests also reject the hypothesis  𝐻0  that the distribution of samples is normal.\n",
    "\n",
    "Thus, we can not use a parametric Student's t-test in order to compare the additional revenue for different tariff types."
   ]
  },
  {
   "cell_type": "code",
   "execution_count": 54,
   "metadata": {},
   "outputs": [
    {
     "name": "stdout",
     "output_type": "stream",
     "text": [
      "\u001b[1mMann-Whitney U test:\u001b[0m\n",
      "Hypotheses:\n",
      "\u001b[1mH₀: Sample distributions of additional revenue for tariff plans A and B are equal.\u001b[0m\n",
      "\u001b[1mH₁: Sample distributions of additional revenue for tariff plans A and B are not equal.\u001b[0m\n",
      "Mann-Whitney U test, p-value:  2.2048555964531818e-43\n",
      "We reject the hypothesis H₀\n",
      "\n",
      "\u001b[1mMann-Whitney U test:\u001b[0m\n",
      "Hypotheses:\n",
      "\u001b[1mH₀: Sample distributions of additional revenue for tariff plans B and C are equal.\u001b[0m\n",
      "\u001b[1mH₁: Sample distributions of additional revenue for tariff plans B and C are not equal.\u001b[0m\n",
      "Mann-Whitney U test, p-value:  2.17939925280685e-137\n",
      "We reject the hypothesis H₀\n"
     ]
    }
   ],
   "source": [
    "# Let's test statistical significance of еру differences in the amount of additional revenue \n",
    "# due to using a non-optimal plan in different tariff plans using Mann-Whitney U test\n",
    "\n",
    "# running Mann-Whitney U test for the additional revenue for tariff types A and B\n",
    "mann_whitneyu_test(costs[costs.tariff_plan=='A'].additional_revenue,\n",
    "                   costs[costs.tariff_plan=='B'].additional_revenue,\n",
    "                   'additional revenue for tariff plans A and B')\n",
    "print()\n",
    "\n",
    "# running Mann-Whitney U test for the additional revenue for tariff types B and C\n",
    "mann_whitneyu_test(costs[costs.tariff_plan=='B'].additional_revenue,\n",
    "                   costs[costs.tariff_plan=='C'].additional_revenue,\n",
    "                   'additional revenue for tariff plans B and C')"
   ]
  },
  {
   "cell_type": "markdown",
   "metadata": {},
   "source": [
    "The Mann-Whitney U test rejects the null hypothesis about equality of additionaly revenue distributions for tariff plans A and plan B. The additional revenue for plan A is greater than the additional revenue for plan B by almost 3,000 units.\n",
    "\n",
    "The Mann-Whitney U test rejects the null hypothesis about equality of additionaly revenue distributions for tariff plans B and C. The additional revenue for plan B is greater than the additional revenue for plan C by almost 1,000 units."
   ]
  },
  {
   "cell_type": "markdown",
   "metadata": {},
   "source": [
    "### Hypothesis2: The churn of users who used non-optimal and optimal tariffs differs."
   ]
  },
  {
   "cell_type": "code",
   "execution_count": 55,
   "metadata": {},
   "outputs": [
    {
     "name": "stdout",
     "output_type": "stream",
     "text": [
      "\u001b[1mThe churn rate for clients who use optimal and non-optimal calling plans:\u001b[0m\n",
      "\u001b[1mRem: \u001b[0mDefind clients who leave as clients who didn't have reports in the last 30 days\n"
     ]
    },
    {
     "data": {
      "text/html": [
       "<div>\n",
       "<style scoped>\n",
       "    .dataframe tbody tr th:only-of-type {\n",
       "        vertical-align: middle;\n",
       "    }\n",
       "\n",
       "    .dataframe tbody tr th {\n",
       "        vertical-align: top;\n",
       "    }\n",
       "\n",
       "    .dataframe thead th {\n",
       "        text-align: right;\n",
       "    }\n",
       "</style>\n",
       "<table border=\"1\" class=\"dataframe\">\n",
       "  <thead>\n",
       "    <tr style=\"text-align: right;\">\n",
       "      <th></th>\n",
       "      <th>not active clients</th>\n",
       "      <th>all clients</th>\n",
       "      <th>churn, %</th>\n",
       "    </tr>\n",
       "  </thead>\n",
       "  <tbody>\n",
       "    <tr>\n",
       "      <td>clients using optimal tariff</td>\n",
       "      <td>19</td>\n",
       "      <td>161</td>\n",
       "      <td>11.8</td>\n",
       "    </tr>\n",
       "    <tr>\n",
       "      <td>clients using non-optimal tariff</td>\n",
       "      <td>18</td>\n",
       "      <td>145</td>\n",
       "      <td>12.4</td>\n",
       "    </tr>\n",
       "  </tbody>\n",
       "</table>\n",
       "</div>"
      ],
      "text/plain": [
       "                                  not active clients  all clients  churn, %\n",
       "clients using optimal tariff      19                  161          11.8    \n",
       "clients using non-optimal tariff  18                  145          12.4    "
      ]
     },
     "metadata": {},
     "output_type": "display_data"
    },
    {
     "name": "stdout",
     "output_type": "stream",
     "text": [
      "\n",
      "\u001b[1mTwo-Proportions Z-Test:\u001b[0m\n",
      "Hypotheses:\n",
      "\u001b[1mH₀: The proportions of churn of clients who used the non-optimal and optimal tariffs are equal.\u001b[0m\n",
      "\u001b[1mH₁: The proportions of churn of clients who used the non-optimal and optimal tariffs are not equal.\u001b[0m\n",
      "The proportion difference z-test, p-value:  0.8696481894552295\n",
      "We can't reject the hypothesis H₀\n"
     ]
    }
   ],
   "source": [
    "print(BOLD + 'The churn rate for clients who use optimal and non-optimal calling plans:' + END)\n",
    "print(BOLD + 'Rem: ' + END + \"Defind clients who leave as clients who didn't have reports in the last 30 days\")\n",
    "display(churn_rate)\n",
    "print()\n",
    "\n",
    "z_test(churn_rate, 'churn of clients who used the non-optimal and optimal tariffs') "
   ]
  },
  {
   "cell_type": "markdown",
   "metadata": {},
   "source": [
    "Two-proportions z-test doesn't reject the null hypothesis about equality of churn rate for clients who used the non-optimal and optimal tariffs at a significance level of 0.05. Thus, there is likely no difference between the churn."
   ]
  },
  {
   "cell_type": "markdown",
   "metadata": {},
   "source": [
    "### Hypothesis3: The share of optimal tariffs for large clients differs from other clients."
   ]
  },
  {
   "cell_type": "code",
   "execution_count": 56,
   "metadata": {},
   "outputs": [
    {
     "name": "stdout",
     "output_type": "stream",
     "text": [
      "\u001b[1mThe share of optimal tariffs for large clients and not large clients:\u001b[0m\n"
     ]
    },
    {
     "data": {
      "text/html": [
       "<div>\n",
       "<style scoped>\n",
       "    .dataframe tbody tr th:only-of-type {\n",
       "        vertical-align: middle;\n",
       "    }\n",
       "\n",
       "    .dataframe tbody tr th {\n",
       "        vertical-align: top;\n",
       "    }\n",
       "\n",
       "    .dataframe thead th {\n",
       "        text-align: right;\n",
       "    }\n",
       "</style>\n",
       "<table border=\"1\" class=\"dataframe\">\n",
       "  <thead>\n",
       "    <tr style=\"text-align: right;\">\n",
       "      <th></th>\n",
       "      <th>clients with optinal plans</th>\n",
       "      <th>all clients</th>\n",
       "      <th>share</th>\n",
       "    </tr>\n",
       "    <tr>\n",
       "      <th>is_large_client</th>\n",
       "      <th></th>\n",
       "      <th></th>\n",
       "      <th></th>\n",
       "    </tr>\n",
       "  </thead>\n",
       "  <tbody>\n",
       "    <tr>\n",
       "      <td>False</td>\n",
       "      <td>132</td>\n",
       "      <td>199</td>\n",
       "      <td>66.3</td>\n",
       "    </tr>\n",
       "    <tr>\n",
       "      <td>True</td>\n",
       "      <td>10</td>\n",
       "      <td>70</td>\n",
       "      <td>14.3</td>\n",
       "    </tr>\n",
       "  </tbody>\n",
       "</table>\n",
       "</div>"
      ],
      "text/plain": [
       "                 clients with optinal plans  all clients  share\n",
       "is_large_client                                                \n",
       "False            132                         199          66.3 \n",
       "True             10                          70           14.3 "
      ]
     },
     "metadata": {},
     "output_type": "display_data"
    },
    {
     "name": "stdout",
     "output_type": "stream",
     "text": [
      "\n",
      "\u001b[1mTwo-Proportions Z-Test:\u001b[0m\n",
      "Hypotheses:\n",
      "\u001b[1mH₀: The proportions of optimal tariffs for large and not large clients are equal.\u001b[0m\n",
      "\u001b[1mH₁: The proportions of optimal tariffs for large and not large clients are not equal.\u001b[0m\n",
      "The proportion difference z-test, p-value:  6.261657858885883e-14\n",
      "We reject the hypothesis H₀\n"
     ]
    }
   ],
   "source": [
    "# Let's create contingency table for large and not large clients and amount of optimal plans among them.\n",
    "costs_cum['is_large_client'] = (costs_cum.revenue_level == 'high')|(costs_cum.revenue_level == 'very high')\n",
    "costs_cum['is_optimal'] = costs_cum.tariff_plan == costs_cum.opt_tariff\n",
    "\n",
    "optimal_by_client_cat = costs_cum[costs_cum.user_id.isin(active_clients)]\\\n",
    "                        .groupby('is_large_client').agg({'is_optimal':['sum', 'count']})\n",
    "optimal_by_client_cat.columns = ['clients with optinal plans', 'all clients']\n",
    "optimal_by_client_cat['clients with optinal plans'] = optimal_by_client_cat['clients with optinal plans'].astype(int)\n",
    "optimal_by_client_cat['share'] = 100 * optimal_by_client_cat['clients with optinal plans']\\\n",
    "                                    / optimal_by_client_cat['all clients']\n",
    "print(BOLD + 'The share of optimal tariffs for large clients and not large clients:' + END)\n",
    "display(optimal_by_client_cat.round(1))\n",
    "print()\n",
    "\n",
    "z_test(optimal_by_client_cat, 'optimal tariffs for large and not large clients') "
   ]
  },
  {
   "cell_type": "markdown",
   "metadata": {},
   "source": [
    "Two-proportions z-test rejects the null hypothesis about equality of proportions of optimal tariffs for large and not large clients at a significance level of 0.05. Thus, there is likely some difference between them. The share of optimal plans among large clients is 14.5%, although the share of optimal plans amonth other clients is 66%. Indeed, a significant part of the company's revenue comes from the non-optimal use of tariff plans by large customers."
   ]
  },
  {
   "cell_type": "markdown",
   "metadata": {},
   "source": [
    "## 6. Overal Conclutions\n",
    "<a id='section6'></a>\n",
    "\n",
    "There is data on the use of the virtual telephony service from August 2nd to November 28th, 2019 by operators of 307 clients who registered from August 1st to October 31st, 2019.\n",
    "\n",
    "__Before proceeding to the analysis, the data was preprocessed__:\n",
    "* After a general review of the data revealed:\n",
    "    - columns with excess types\n",
    "    - misssing values for operator identifiers almost for all clients (Most null values correspond to missed calls, which explains the absence of an operator ID. There are no operator ID for customers with only one operator.)\n",
    "    - missing values for the column with internal or external type of a call (Most missing value correspond incoming or/and missed calls, which are free, so it doesn't affect calculations of the cost of calls)\n",
    "    - 10% completely duplicated rows in the table with client reports\n",
    "    - a client whose operators have an abnormal long call duration\n",
    "    - reports with missed calls haveing a non-zero call duration\n",
    "* The some types were converted to appropriate ones.\n",
    "* The missing values were filled in so that further calculations of the cost of communication services were calculated correctly (so that all operators were taken into account).\n",
    "* The completely duplicate rows were removed.\n",
    "* The customer whose operators had an abnormally long call duration was removed from consideration.\n",
    "* The duration of the call indicated as missed was set to zero.\n",
    "* For further analysis, monthly duration of outgoing internal and external calls, monthly cost of calls, monthly cost of operators, monthly cost of communication services and optimal tariff plan for each client and additional revenue of the service from client using non-optimal tariffs as well.\n",
    "\n",
    "__Some general information about data__:\n",
    "\n",
    "* There are three types of tariff plans in the dataset (calling plans A, B and C, the first one is the biggest).\n",
    "* Clients do not have reports every day.\n",
    "* 88% of clients had reports on calls last 30 days\n",
    "* Almost 30% of clients have only incoming calls\n",
    "* Only 2.5% of all answered calls are internal, the duration of which is not longer a minute.\n",
    "* A client has 2 operators, on average. Only 5% of clients have more than 10 operators.\n",
    "* An average operator makes 35 calls a month and calls for a total of 40 minutes per month.\n",
    "\n",
    "During the __EDA on optimality of the tariff plan for clients and additional revenue from clients at non-optimal tariffs__, the following patterns were identified:\n",
    "* The avarage cost of calls does not differ much in different tariffs and is not comparable to the cost of the basic price of plans (the average cost of all calls per month is 1000 times less than the monthly fee).\n",
    "* The monthly fee in each tariff, on average, consists only of the monthly base price of the tariff and the cost of connected operators.\n",
    "* Average extra revenue from each client using a non-optimal tariff is about 760 units.\n",
    "* Almost half of active clients use a non-optimal tariff plan.\n",
    "* The tariff plan C (the smallest) is optimal for almost all users. Tariff plan B is optimal only for 4 clients. Tariff plan A is optimal for only one client.\n",
    "* Additional revenue from the use of non-optimal tariffs by clients is about 30% of the total revenue of the service.\n",
    "* The additional revenue from the use of non-optimal tariffs by customers is divided between only tariffs A and B almost equally.\n",
    "* Additional revenue from the client due to the use of non-optimal tariffs, mainly due to the difference in the base price of tariffs A and B with the base price of the minimum tariff C, which is 4000 and 1000 units, respectively.\n",
    "* A small share of large customers (in terms of the cost of communication services) have an optimal tariff.\n",
    "* On average, the additional revenue for plan A is statistically significantly greater than those in group B, while the additional revenue for plan B is statistically significantly greater than those in group C.\n",
    "* There are no statistically significantly differences in the churn of clients using optimal and non-optimal tariff plans. The churn rate is about 12%.\n",
    "* The share of optimal tariff plans for large clients is statistically significantly lower than for other clients.\n",
    "\n",
    "__Recommendations__\n",
    "* 30% of the revenue comes from clients using non-optimal plans, which is pretty high. If all clients switch to the optimal tariff, the revenue will drop sharply. Since this churn is no different for optimal and non-optimal users, we can assume that the risk of that switch is quite low. \n",
    "* It makes sense to understand why clients have chosen the most expensive plan, so probably the cost is not a factor here, so they are probably ready to pay even more. So I would recommend to think about new plan with even higher base price. \n",
    "* Churn is 12% - that indicator should be compared with the competitors. Increasing of the loyalty will have an impact on the revenue accordingly.  "
   ]
  },
  {
   "cell_type": "code",
   "execution_count": null,
   "metadata": {},
   "outputs": [],
   "source": []
  }
 ],
 "metadata": {
  "ExecuteTimeLog": [
   {
    "duration": 1076,
    "start_time": "2021-07-01T13:17:42.159Z"
   },
   {
    "duration": 125,
    "start_time": "2021-07-01T13:18:09.062Z"
   },
   {
    "duration": 75,
    "start_time": "2021-07-01T13:23:58.536Z"
   },
   {
    "duration": 272,
    "start_time": "2021-07-01T14:07:28.423Z"
   },
   {
    "duration": 14,
    "start_time": "2021-07-01T14:07:36.768Z"
   },
   {
    "duration": 202,
    "start_time": "2021-07-01T14:17:55.317Z"
   },
   {
    "duration": 8,
    "start_time": "2021-07-01T14:18:10.089Z"
   },
   {
    "duration": 10,
    "start_time": "2021-07-01T14:18:38.553Z"
   },
   {
    "duration": 8,
    "start_time": "2021-07-01T14:24:08.384Z"
   },
   {
    "duration": 35,
    "start_time": "2021-07-01T14:26:09.116Z"
   },
   {
    "duration": 32,
    "start_time": "2021-07-01T14:26:19.842Z"
   },
   {
    "duration": 7,
    "start_time": "2021-07-01T14:31:04.230Z"
   },
   {
    "duration": 9,
    "start_time": "2021-07-01T14:32:13.088Z"
   },
   {
    "duration": 6,
    "start_time": "2021-07-01T14:33:31.526Z"
   },
   {
    "duration": 6,
    "start_time": "2021-07-01T14:33:36.909Z"
   },
   {
    "duration": 6,
    "start_time": "2021-07-01T14:34:05.591Z"
   },
   {
    "duration": 7,
    "start_time": "2021-07-01T14:35:01.930Z"
   },
   {
    "duration": 188,
    "start_time": "2021-07-01T14:35:37.038Z"
   },
   {
    "duration": 6,
    "start_time": "2021-07-01T14:36:03.669Z"
   },
   {
    "duration": 29,
    "start_time": "2021-07-01T14:36:06.503Z"
   },
   {
    "duration": 28,
    "start_time": "2021-07-01T14:36:26.785Z"
   },
   {
    "duration": 28,
    "start_time": "2021-07-01T15:09:38.447Z"
   },
   {
    "duration": 3,
    "start_time": "2021-07-01T15:10:40.860Z"
   },
   {
    "duration": 7,
    "start_time": "2021-07-01T15:18:23.912Z"
   },
   {
    "duration": 6,
    "start_time": "2021-07-01T15:18:51.198Z"
   },
   {
    "duration": 13,
    "start_time": "2021-07-01T16:08:22.040Z"
   },
   {
    "duration": 17,
    "start_time": "2021-07-01T16:11:37.235Z"
   },
   {
    "duration": 10,
    "start_time": "2021-07-01T16:15:25.200Z"
   },
   {
    "duration": 186,
    "start_time": "2021-07-01T16:15:48.330Z"
   },
   {
    "duration": 11,
    "start_time": "2021-07-01T16:16:28.044Z"
   },
   {
    "duration": 9,
    "start_time": "2021-07-01T16:18:06.136Z"
   },
   {
    "duration": 774,
    "start_time": "2021-07-01T16:20:25.912Z"
   },
   {
    "duration": 61,
    "start_time": "2021-07-01T16:20:49.834Z"
   },
   {
    "duration": 19,
    "start_time": "2021-07-01T16:20:58.968Z"
   },
   {
    "duration": 20,
    "start_time": "2021-07-01T16:22:48.700Z"
   },
   {
    "duration": 10,
    "start_time": "2021-07-01T16:23:27.436Z"
   },
   {
    "duration": 17,
    "start_time": "2021-07-01T16:25:55.581Z"
   },
   {
    "duration": 22,
    "start_time": "2021-07-01T16:27:21.393Z"
   },
   {
    "duration": 242,
    "start_time": "2021-07-01T16:31:34.858Z"
   },
   {
    "duration": 219,
    "start_time": "2021-07-01T16:31:41.900Z"
   },
   {
    "duration": 23,
    "start_time": "2021-07-01T16:31:47.003Z"
   },
   {
    "duration": 28,
    "start_time": "2021-07-01T16:33:54.096Z"
   },
   {
    "duration": 4,
    "start_time": "2021-07-01T16:34:55.317Z"
   },
   {
    "duration": 203,
    "start_time": "2021-07-01T16:35:44.345Z"
   },
   {
    "duration": 202,
    "start_time": "2021-07-01T16:35:47.862Z"
   },
   {
    "duration": 40,
    "start_time": "2021-07-01T16:36:16.438Z"
   },
   {
    "duration": 20,
    "start_time": "2021-07-01T16:39:45.254Z"
   },
   {
    "duration": 29,
    "start_time": "2021-07-01T16:40:39.850Z"
   },
   {
    "duration": 7,
    "start_time": "2021-07-01T16:46:22.654Z"
   },
   {
    "duration": 18,
    "start_time": "2021-07-01T16:50:13.831Z"
   },
   {
    "duration": 62,
    "start_time": "2021-07-01T16:51:10.584Z"
   },
   {
    "duration": 33,
    "start_time": "2021-07-01T16:51:15.527Z"
   },
   {
    "duration": 7,
    "start_time": "2021-07-01T16:53:02.726Z"
   },
   {
    "duration": 3,
    "start_time": "2021-07-01T16:54:24.303Z"
   },
   {
    "duration": 193,
    "start_time": "2021-07-01T16:54:58.194Z"
   },
   {
    "duration": 30,
    "start_time": "2021-07-01T16:55:12.069Z"
   },
   {
    "duration": 34,
    "start_time": "2021-07-01T16:56:08.060Z"
   },
   {
    "duration": 29,
    "start_time": "2021-07-01T17:01:54.975Z"
   },
   {
    "duration": 27,
    "start_time": "2021-07-01T17:02:35.323Z"
   },
   {
    "duration": 6,
    "start_time": "2021-07-01T17:07:41.958Z"
   },
   {
    "duration": 25,
    "start_time": "2021-07-01T17:07:43.955Z"
   },
   {
    "duration": 12,
    "start_time": "2021-07-01T17:08:02.321Z"
   },
   {
    "duration": 7,
    "start_time": "2021-07-01T19:27:06.633Z"
   },
   {
    "duration": 7,
    "start_time": "2021-07-01T19:27:17.241Z"
   },
   {
    "duration": 6,
    "start_time": "2021-07-01T19:31:41.963Z"
   },
   {
    "duration": 27,
    "start_time": "2021-07-01T19:32:47.480Z"
   },
   {
    "duration": 54,
    "start_time": "2021-07-01T19:43:04.255Z"
   },
   {
    "duration": 35,
    "start_time": "2021-07-01T19:46:34.040Z"
   },
   {
    "duration": 4,
    "start_time": "2021-07-01T19:53:23.955Z"
   },
   {
    "duration": 67,
    "start_time": "2021-07-01T19:53:36.103Z"
   },
   {
    "duration": 65,
    "start_time": "2021-07-01T19:54:28.685Z"
   },
   {
    "duration": 16,
    "start_time": "2021-07-01T19:55:39.524Z"
   },
   {
    "duration": 8,
    "start_time": "2021-07-01T19:58:43.047Z"
   },
   {
    "duration": 9,
    "start_time": "2021-07-01T19:59:51.795Z"
   },
   {
    "duration": 8,
    "start_time": "2021-07-01T20:00:00.872Z"
   },
   {
    "duration": 213,
    "start_time": "2021-07-01T20:01:20.378Z"
   },
   {
    "duration": 41,
    "start_time": "2021-07-01T20:02:00.462Z"
   },
   {
    "duration": 44,
    "start_time": "2021-07-01T20:02:28.532Z"
   },
   {
    "duration": 143,
    "start_time": "2021-07-01T20:03:42.826Z"
   },
   {
    "duration": 18,
    "start_time": "2021-07-01T20:06:12.883Z"
   },
   {
    "duration": 17,
    "start_time": "2021-07-01T20:07:37.938Z"
   },
   {
    "duration": 7,
    "start_time": "2021-07-01T20:15:00.805Z"
   },
   {
    "duration": 105,
    "start_time": "2021-07-01T20:15:58.749Z"
   },
   {
    "duration": 18,
    "start_time": "2021-07-01T20:16:07.273Z"
   },
   {
    "duration": 24,
    "start_time": "2021-07-01T20:16:13.466Z"
   },
   {
    "duration": 7,
    "start_time": "2021-07-01T20:16:34.395Z"
   },
   {
    "duration": 107,
    "start_time": "2021-07-01T20:18:38.364Z"
   },
   {
    "duration": 228,
    "start_time": "2021-07-01T20:18:45.358Z"
   },
   {
    "duration": 9,
    "start_time": "2021-07-01T20:19:52.883Z"
   },
   {
    "duration": 9,
    "start_time": "2021-07-01T20:20:10.259Z"
   },
   {
    "duration": 10,
    "start_time": "2021-07-01T20:21:49.547Z"
   },
   {
    "duration": 16,
    "start_time": "2021-07-01T20:23:14.523Z"
   },
   {
    "duration": 5,
    "start_time": "2021-07-01T20:28:24.260Z"
   },
   {
    "duration": 455,
    "start_time": "2021-07-01T20:29:00.368Z"
   },
   {
    "duration": 464,
    "start_time": "2021-07-01T20:29:10.289Z"
   },
   {
    "duration": 58,
    "start_time": "2021-07-01T20:57:38.303Z"
   },
   {
    "duration": 158,
    "start_time": "2021-07-01T20:57:42.428Z"
   },
   {
    "duration": 17,
    "start_time": "2021-07-01T21:08:59.576Z"
   },
   {
    "duration": 26,
    "start_time": "2021-07-01T21:09:52.381Z"
   },
   {
    "duration": 6,
    "start_time": "2021-07-01T21:10:24.441Z"
   },
   {
    "duration": 419,
    "start_time": "2021-07-01T21:10:36.573Z"
   },
   {
    "duration": 145,
    "start_time": "2021-07-01T21:10:38.697Z"
   },
   {
    "duration": 16,
    "start_time": "2021-07-01T21:10:46.741Z"
   },
   {
    "duration": 291,
    "start_time": "2021-07-01T21:13:46.562Z"
   },
   {
    "duration": 314,
    "start_time": "2021-07-01T21:13:53.033Z"
   },
   {
    "duration": 19,
    "start_time": "2021-07-01T21:14:28.952Z"
   },
   {
    "duration": 3,
    "start_time": "2021-07-01T21:15:26.711Z"
   },
   {
    "duration": 186,
    "start_time": "2021-07-01T21:16:56.507Z"
   },
   {
    "duration": 59,
    "start_time": "2021-07-01T21:17:13.346Z"
   },
   {
    "duration": 63,
    "start_time": "2021-07-01T21:18:13.557Z"
   },
   {
    "duration": 61,
    "start_time": "2021-07-01T21:18:57.977Z"
   },
   {
    "duration": 61,
    "start_time": "2021-07-01T21:19:16.584Z"
   },
   {
    "duration": 53,
    "start_time": "2021-07-01T21:20:15.566Z"
   },
   {
    "duration": 189,
    "start_time": "2021-07-01T21:22:57.417Z"
   },
   {
    "duration": 7,
    "start_time": "2021-07-01T21:23:03.211Z"
   },
   {
    "duration": 7,
    "start_time": "2021-07-01T21:23:09.715Z"
   },
   {
    "duration": 486,
    "start_time": "2021-07-01T21:23:23.160Z"
   },
   {
    "duration": 109,
    "start_time": "2021-07-01T21:43:53.355Z"
   },
   {
    "duration": 20,
    "start_time": "2021-07-01T21:43:59.059Z"
   },
   {
    "duration": 23,
    "start_time": "2021-07-01T21:44:20.420Z"
   },
   {
    "duration": 6,
    "start_time": "2021-07-01T21:44:31.113Z"
   },
   {
    "duration": 439,
    "start_time": "2021-07-01T21:44:42.303Z"
   },
   {
    "duration": 238,
    "start_time": "2021-07-01T21:46:45.505Z"
   },
   {
    "duration": 179,
    "start_time": "2021-07-01T21:47:33.574Z"
   },
   {
    "duration": 9,
    "start_time": "2021-07-01T21:48:20.493Z"
   },
   {
    "duration": 20,
    "start_time": "2021-07-01T21:48:21.714Z"
   },
   {
    "duration": 243,
    "start_time": "2021-07-01T21:48:24.167Z"
   },
   {
    "duration": 57,
    "start_time": "2021-07-01T21:48:58.585Z"
   },
   {
    "duration": 367,
    "start_time": "2021-07-01T21:49:01.604Z"
   },
   {
    "duration": 3,
    "start_time": "2021-07-01T21:49:27.387Z"
   },
   {
    "duration": 541,
    "start_time": "2021-07-01T21:49:28.518Z"
   },
   {
    "duration": 7,
    "start_time": "2021-07-01T21:50:15.526Z"
   },
   {
    "duration": 90,
    "start_time": "2021-07-01T21:50:20.548Z"
   },
   {
    "duration": 6,
    "start_time": "2021-07-01T21:51:36.277Z"
   },
   {
    "duration": 181,
    "start_time": "2021-07-01T21:52:00.606Z"
   },
   {
    "duration": 6,
    "start_time": "2021-07-01T21:53:19.529Z"
   },
   {
    "duration": 4,
    "start_time": "2021-07-01T21:54:43.624Z"
   },
   {
    "duration": 10,
    "start_time": "2021-07-01T21:55:04.725Z"
   },
   {
    "duration": 13,
    "start_time": "2021-07-01T21:58:03.098Z"
   },
   {
    "duration": 13,
    "start_time": "2021-07-01T21:58:11.302Z"
   },
   {
    "duration": 14,
    "start_time": "2021-07-01T22:04:20.853Z"
   },
   {
    "duration": 8,
    "start_time": "2021-07-01T22:04:45.743Z"
   },
   {
    "duration": 226,
    "start_time": "2021-07-01T22:07:26.153Z"
   },
   {
    "duration": 1589,
    "start_time": "2021-07-02T09:00:05.103Z"
   },
   {
    "duration": 185,
    "start_time": "2021-07-02T09:00:09.654Z"
   },
   {
    "duration": 55,
    "start_time": "2021-07-02T09:00:17.306Z"
   },
   {
    "duration": 39,
    "start_time": "2021-07-02T09:00:24.524Z"
   },
   {
    "duration": 390,
    "start_time": "2021-07-02T09:00:42.006Z"
   },
   {
    "duration": 269,
    "start_time": "2021-07-02T09:00:50.096Z"
   },
   {
    "duration": 8,
    "start_time": "2021-07-02T09:01:06.552Z"
   },
   {
    "duration": 44,
    "start_time": "2021-07-02T09:01:09.783Z"
   },
   {
    "duration": 9,
    "start_time": "2021-07-02T09:01:19.221Z"
   },
   {
    "duration": 17,
    "start_time": "2021-07-02T09:05:28.849Z"
   },
   {
    "duration": 16,
    "start_time": "2021-07-02T09:05:39.570Z"
   },
   {
    "duration": 31,
    "start_time": "2021-07-02T09:05:40.965Z"
   },
   {
    "duration": 11,
    "start_time": "2021-07-02T09:05:41.668Z"
   },
   {
    "duration": 88,
    "start_time": "2021-07-02T09:05:45.676Z"
   },
   {
    "duration": 4,
    "start_time": "2021-07-02T09:05:48.920Z"
   },
   {
    "duration": 165,
    "start_time": "2021-07-02T09:05:54.825Z"
   },
   {
    "duration": 298,
    "start_time": "2021-07-02T09:06:35.341Z"
   },
   {
    "duration": 9,
    "start_time": "2021-07-02T09:06:43.603Z"
   },
   {
    "duration": 376,
    "start_time": "2021-07-02T09:06:47.778Z"
   },
   {
    "duration": 573,
    "start_time": "2021-07-02T09:07:41.164Z"
   },
   {
    "duration": 149,
    "start_time": "2021-07-02T09:08:48.325Z"
   },
   {
    "duration": 109,
    "start_time": "2021-07-02T09:12:13.895Z"
   },
   {
    "duration": 100,
    "start_time": "2021-07-02T09:12:18.351Z"
   },
   {
    "duration": 95,
    "start_time": "2021-07-02T10:02:25.300Z"
   },
   {
    "duration": 124,
    "start_time": "2021-07-02T10:02:30.452Z"
   },
   {
    "duration": 135,
    "start_time": "2021-07-02T10:06:56.473Z"
   },
   {
    "duration": 137,
    "start_time": "2021-07-02T10:11:15.500Z"
   },
   {
    "duration": 145,
    "start_time": "2021-07-02T10:11:21.794Z"
   },
   {
    "duration": 119,
    "start_time": "2021-07-02T10:12:50.584Z"
   },
   {
    "duration": 171,
    "start_time": "2021-07-02T10:24:29.430Z"
   },
   {
    "duration": 151,
    "start_time": "2021-07-02T10:25:58.836Z"
   },
   {
    "duration": 159,
    "start_time": "2021-07-02T10:32:12.731Z"
   },
   {
    "duration": 6,
    "start_time": "2021-07-02T10:34:25.369Z"
   },
   {
    "duration": 163,
    "start_time": "2021-07-02T10:34:38.171Z"
   },
   {
    "duration": 158,
    "start_time": "2021-07-02T10:36:07.105Z"
   },
   {
    "duration": 76,
    "start_time": "2021-07-02T10:42:14.314Z"
   },
   {
    "duration": 106,
    "start_time": "2021-07-02T10:44:42.958Z"
   },
   {
    "duration": 16,
    "start_time": "2021-07-02T10:51:52.185Z"
   },
   {
    "duration": 24,
    "start_time": "2021-07-02T10:53:52.454Z"
   },
   {
    "duration": 24,
    "start_time": "2021-07-02T10:54:00.334Z"
   },
   {
    "duration": 70,
    "start_time": "2021-07-02T11:28:13.008Z"
   },
   {
    "duration": 6,
    "start_time": "2021-07-02T13:54:51.052Z"
   },
   {
    "duration": 71,
    "start_time": "2021-07-02T13:54:58.432Z"
   },
   {
    "duration": 70,
    "start_time": "2021-07-02T13:55:14.512Z"
   },
   {
    "duration": 74,
    "start_time": "2021-07-02T13:55:42.526Z"
   },
   {
    "duration": 159,
    "start_time": "2021-07-02T13:56:48.317Z"
   },
   {
    "duration": 185,
    "start_time": "2021-07-02T13:56:58.886Z"
   },
   {
    "duration": 237,
    "start_time": "2021-07-02T14:23:45.177Z"
   },
   {
    "duration": 137,
    "start_time": "2021-07-02T15:25:55.490Z"
   },
   {
    "duration": 240,
    "start_time": "2021-07-02T15:26:11.185Z"
   },
   {
    "duration": 19,
    "start_time": "2021-07-02T15:26:51.167Z"
   },
   {
    "duration": 16,
    "start_time": "2021-07-02T15:27:40.175Z"
   },
   {
    "duration": 250,
    "start_time": "2021-07-02T15:28:54.953Z"
   },
   {
    "duration": 449,
    "start_time": "2021-07-02T15:30:46.227Z"
   },
   {
    "duration": 19,
    "start_time": "2021-07-02T15:30:53.607Z"
   },
   {
    "duration": 48,
    "start_time": "2021-07-02T16:03:53.108Z"
   },
   {
    "duration": 11,
    "start_time": "2021-07-02T16:04:43.742Z"
   },
   {
    "duration": 15,
    "start_time": "2021-07-02T16:04:52.854Z"
   },
   {
    "duration": 16,
    "start_time": "2021-07-02T16:05:21.752Z"
   },
   {
    "duration": 307,
    "start_time": "2021-07-02T16:05:44.836Z"
   },
   {
    "duration": 15,
    "start_time": "2021-07-02T16:06:02.099Z"
   },
   {
    "duration": 314,
    "start_time": "2021-07-02T16:06:09.210Z"
   },
   {
    "duration": 17,
    "start_time": "2021-07-02T16:06:20.666Z"
   },
   {
    "duration": 309,
    "start_time": "2021-07-02T16:06:31.174Z"
   },
   {
    "duration": 14,
    "start_time": "2021-07-02T16:06:58.598Z"
   },
   {
    "duration": 18,
    "start_time": "2021-07-02T17:03:56.872Z"
   },
   {
    "duration": 25,
    "start_time": "2021-07-02T17:05:10.396Z"
   },
   {
    "duration": 100,
    "start_time": "2021-07-02T17:11:28.104Z"
   },
   {
    "duration": 7,
    "start_time": "2021-07-02T17:11:39.754Z"
   },
   {
    "duration": 52,
    "start_time": "2021-07-02T17:11:52.024Z"
   },
   {
    "duration": 248,
    "start_time": "2021-07-02T17:12:18.805Z"
   },
   {
    "duration": 2424,
    "start_time": "2021-07-02T17:17:02.229Z"
   },
   {
    "duration": 237,
    "start_time": "2021-07-02T17:17:33.090Z"
   },
   {
    "duration": 49,
    "start_time": "2021-07-02T17:17:38.495Z"
   },
   {
    "duration": 54,
    "start_time": "2021-07-02T17:19:56.896Z"
   },
   {
    "duration": 37,
    "start_time": "2021-07-02T19:57:10.991Z"
   },
   {
    "duration": 295,
    "start_time": "2021-07-02T19:59:21.866Z"
   },
   {
    "duration": 278,
    "start_time": "2021-07-02T19:59:35.591Z"
   },
   {
    "duration": 36,
    "start_time": "2021-07-02T19:59:44.117Z"
   },
   {
    "duration": 12,
    "start_time": "2021-07-02T20:00:22.181Z"
   },
   {
    "duration": 11,
    "start_time": "2021-07-02T20:00:36.024Z"
   },
   {
    "duration": 14,
    "start_time": "2021-07-02T20:01:02.692Z"
   },
   {
    "duration": 269,
    "start_time": "2021-07-02T20:02:46.342Z"
   },
   {
    "duration": 23,
    "start_time": "2021-07-02T20:03:03.515Z"
   },
   {
    "duration": 23,
    "start_time": "2021-07-02T20:03:13.326Z"
   },
   {
    "duration": 13,
    "start_time": "2021-07-02T20:05:48.271Z"
   },
   {
    "duration": 25,
    "start_time": "2021-07-02T20:06:28.110Z"
   },
   {
    "duration": 4,
    "start_time": "2021-07-02T20:09:34.105Z"
   },
   {
    "duration": 8,
    "start_time": "2021-07-02T20:10:22.093Z"
   },
   {
    "duration": 45,
    "start_time": "2021-07-02T20:10:50.272Z"
   },
   {
    "duration": 40,
    "start_time": "2021-07-02T20:11:14.202Z"
   },
   {
    "duration": 39,
    "start_time": "2021-07-02T20:15:15.488Z"
   },
   {
    "duration": 237,
    "start_time": "2021-07-02T20:16:19.337Z"
   },
   {
    "duration": 148,
    "start_time": "2021-07-02T20:17:18.132Z"
   },
   {
    "duration": 37,
    "start_time": "2021-07-02T20:17:21.360Z"
   },
   {
    "duration": 20,
    "start_time": "2021-07-02T20:17:34.401Z"
   },
   {
    "duration": 53,
    "start_time": "2021-07-02T20:18:30.541Z"
   },
   {
    "duration": 230,
    "start_time": "2021-07-02T20:19:28.240Z"
   },
   {
    "duration": 50,
    "start_time": "2021-07-02T20:19:31.314Z"
   },
   {
    "duration": 33,
    "start_time": "2021-07-02T20:19:38.193Z"
   },
   {
    "duration": 3,
    "start_time": "2021-07-02T20:23:27.887Z"
   },
   {
    "duration": 3,
    "start_time": "2021-07-02T20:23:53.103Z"
   },
   {
    "duration": 56,
    "start_time": "2021-07-02T20:26:03.025Z"
   },
   {
    "duration": 143,
    "start_time": "2021-07-02T20:29:14.120Z"
   },
   {
    "duration": 616,
    "start_time": "2021-07-02T20:33:53.197Z"
   },
   {
    "duration": 139,
    "start_time": "2021-07-02T20:34:27.802Z"
   },
   {
    "duration": 150,
    "start_time": "2021-07-02T20:34:59.267Z"
   },
   {
    "duration": 3,
    "start_time": "2021-07-02T20:35:23.611Z"
   },
   {
    "duration": 43,
    "start_time": "2021-07-02T20:35:31.258Z"
   },
   {
    "duration": 4,
    "start_time": "2021-07-02T20:36:04.411Z"
   },
   {
    "duration": 145,
    "start_time": "2021-07-02T20:36:40.706Z"
   },
   {
    "duration": 43,
    "start_time": "2021-07-02T20:37:04.160Z"
   },
   {
    "duration": 3,
    "start_time": "2021-07-02T20:37:19.274Z"
   },
   {
    "duration": 3,
    "start_time": "2021-07-02T20:39:17.058Z"
   },
   {
    "duration": 3,
    "start_time": "2021-07-02T20:39:22.036Z"
   },
   {
    "duration": 158,
    "start_time": "2021-07-02T20:39:54.305Z"
   },
   {
    "duration": 4,
    "start_time": "2021-07-02T20:47:26.893Z"
   },
   {
    "duration": 254,
    "start_time": "2021-07-02T20:50:35.880Z"
   },
   {
    "duration": 250,
    "start_time": "2021-07-02T20:50:42.710Z"
   },
   {
    "duration": 38,
    "start_time": "2021-07-02T20:51:02.325Z"
   },
   {
    "duration": 18,
    "start_time": "2021-07-02T20:51:18.043Z"
   },
   {
    "duration": 29,
    "start_time": "2021-07-02T20:51:30.719Z"
   },
   {
    "duration": 10,
    "start_time": "2021-07-02T20:53:00.150Z"
   },
   {
    "duration": 12,
    "start_time": "2021-07-02T20:54:02.568Z"
   },
   {
    "duration": 13,
    "start_time": "2021-07-02T20:54:24.587Z"
   },
   {
    "duration": 21,
    "start_time": "2021-07-02T21:04:14.090Z"
   },
   {
    "duration": 27,
    "start_time": "2021-07-02T21:04:47.507Z"
   },
   {
    "duration": 272,
    "start_time": "2021-07-02T21:05:05.377Z"
   },
   {
    "duration": 84,
    "start_time": "2021-07-02T21:05:08.781Z"
   },
   {
    "duration": 27,
    "start_time": "2021-07-02T21:05:14.593Z"
   },
   {
    "duration": 24,
    "start_time": "2021-07-02T21:05:23.101Z"
   },
   {
    "duration": 26,
    "start_time": "2021-07-02T21:05:31.318Z"
   },
   {
    "duration": 25,
    "start_time": "2021-07-02T21:05:45.029Z"
   },
   {
    "duration": 11,
    "start_time": "2021-07-02T21:12:01.353Z"
   },
   {
    "duration": 5,
    "start_time": "2021-07-02T21:12:13.802Z"
   },
   {
    "duration": 13,
    "start_time": "2021-07-02T21:12:27.292Z"
   },
   {
    "duration": 15,
    "start_time": "2021-07-02T21:13:51.713Z"
   },
   {
    "duration": 25,
    "start_time": "2021-07-02T21:14:49.734Z"
   },
   {
    "duration": 6,
    "start_time": "2021-07-02T21:15:32.603Z"
   },
   {
    "duration": 6,
    "start_time": "2021-07-02T21:15:47.516Z"
   },
   {
    "duration": 7,
    "start_time": "2021-07-02T21:16:06.011Z"
   },
   {
    "duration": 29,
    "start_time": "2021-07-02T21:19:24.156Z"
   },
   {
    "duration": 28,
    "start_time": "2021-07-02T21:19:33.648Z"
   },
   {
    "duration": 26,
    "start_time": "2021-07-02T21:21:10.203Z"
   },
   {
    "duration": 152,
    "start_time": "2021-07-02T21:22:09.333Z"
   },
   {
    "duration": 24,
    "start_time": "2021-07-02T21:22:26.583Z"
   },
   {
    "duration": 142,
    "start_time": "2021-07-02T21:23:16.723Z"
   },
   {
    "duration": 147,
    "start_time": "2021-07-02T21:24:09.991Z"
   },
   {
    "duration": 35,
    "start_time": "2021-07-02T21:24:15.649Z"
   },
   {
    "duration": 23,
    "start_time": "2021-07-02T21:24:27.637Z"
   },
   {
    "duration": 15,
    "start_time": "2021-07-02T21:24:40.012Z"
   },
   {
    "duration": 30,
    "start_time": "2021-07-02T21:24:49.865Z"
   },
   {
    "duration": 243,
    "start_time": "2021-07-02T21:25:36.955Z"
   },
   {
    "duration": 48,
    "start_time": "2021-07-02T21:25:45.636Z"
   },
   {
    "duration": 36,
    "start_time": "2021-07-02T21:25:55.293Z"
   },
   {
    "duration": 19,
    "start_time": "2021-07-02T21:26:03.221Z"
   },
   {
    "duration": 36,
    "start_time": "2021-07-02T21:26:25.644Z"
   },
   {
    "duration": 15,
    "start_time": "2021-07-02T21:27:21.969Z"
   },
   {
    "duration": 21,
    "start_time": "2021-07-02T21:32:31.396Z"
   },
   {
    "duration": 150,
    "start_time": "2021-07-02T21:33:23.954Z"
   },
   {
    "duration": 169,
    "start_time": "2021-07-02T21:34:44.124Z"
   },
   {
    "duration": 162,
    "start_time": "2021-07-02T21:35:24.911Z"
   },
   {
    "duration": 388,
    "start_time": "2021-07-02T21:45:40.297Z"
   },
   {
    "duration": 212,
    "start_time": "2021-07-02T21:45:54.674Z"
   },
   {
    "duration": 200,
    "start_time": "2021-07-02T21:45:59.420Z"
   },
   {
    "duration": 205,
    "start_time": "2021-07-02T21:46:16.694Z"
   },
   {
    "duration": 238,
    "start_time": "2021-07-02T21:48:27.854Z"
   },
   {
    "duration": 335,
    "start_time": "2021-07-02T21:48:52.671Z"
   },
   {
    "duration": 279,
    "start_time": "2021-07-02T21:49:36.877Z"
   },
   {
    "duration": 254,
    "start_time": "2021-07-02T21:49:44.193Z"
   },
   {
    "duration": 249,
    "start_time": "2021-07-02T21:49:58.460Z"
   },
   {
    "duration": 256,
    "start_time": "2021-07-02T21:51:30.594Z"
   },
   {
    "duration": 299,
    "start_time": "2021-07-02T21:51:45.304Z"
   },
   {
    "duration": 640,
    "start_time": "2021-07-02T21:51:50.205Z"
   },
   {
    "duration": 388,
    "start_time": "2021-07-02T21:52:13.155Z"
   },
   {
    "duration": 451,
    "start_time": "2021-07-02T21:52:20.662Z"
   },
   {
    "duration": 578,
    "start_time": "2021-07-02T21:53:52.450Z"
   },
   {
    "duration": 454,
    "start_time": "2021-07-02T21:54:00.911Z"
   },
   {
    "duration": 485,
    "start_time": "2021-07-02T21:54:12.436Z"
   },
   {
    "duration": 482,
    "start_time": "2021-07-02T21:54:25.249Z"
   },
   {
    "duration": 459,
    "start_time": "2021-07-02T21:54:35.472Z"
   },
   {
    "duration": 690,
    "start_time": "2021-07-02T21:54:40.354Z"
   },
   {
    "duration": 811,
    "start_time": "2021-07-02T21:54:45.502Z"
   },
   {
    "duration": 286,
    "start_time": "2021-07-02T21:58:42.850Z"
   },
   {
    "duration": 32,
    "start_time": "2021-07-02T21:59:03.807Z"
   },
   {
    "duration": 15,
    "start_time": "2021-07-02T21:59:45.383Z"
   },
   {
    "duration": 4,
    "start_time": "2021-07-02T22:02:34.549Z"
   },
   {
    "duration": 9,
    "start_time": "2021-07-02T22:03:06.203Z"
   },
   {
    "duration": 396,
    "start_time": "2021-07-02T22:03:26.593Z"
   },
   {
    "duration": 9,
    "start_time": "2021-07-02T22:03:35.180Z"
   },
   {
    "duration": 10,
    "start_time": "2021-07-02T22:03:43.820Z"
   },
   {
    "duration": 9,
    "start_time": "2021-07-02T22:03:59.730Z"
   },
   {
    "duration": 3,
    "start_time": "2021-07-02T22:16:38.614Z"
   },
   {
    "duration": 4,
    "start_time": "2021-07-02T22:18:22.066Z"
   },
   {
    "duration": 4,
    "start_time": "2021-07-02T22:23:03.111Z"
   },
   {
    "duration": 8,
    "start_time": "2021-07-02T22:24:08.685Z"
   },
   {
    "duration": 8,
    "start_time": "2021-07-02T22:24:21.202Z"
   },
   {
    "duration": 11,
    "start_time": "2021-07-02T22:28:07.399Z"
   },
   {
    "duration": 26,
    "start_time": "2021-07-02T22:29:08.634Z"
   },
   {
    "duration": 22,
    "start_time": "2021-07-02T22:29:24.025Z"
   },
   {
    "duration": 7,
    "start_time": "2021-07-02T22:30:49.947Z"
   },
   {
    "duration": 3,
    "start_time": "2021-07-02T22:32:05.118Z"
   },
   {
    "duration": 4,
    "start_time": "2021-07-02T22:32:17.767Z"
   },
   {
    "duration": 3,
    "start_time": "2021-07-02T22:32:38.124Z"
   },
   {
    "duration": 4,
    "start_time": "2021-07-02T22:32:51.650Z"
   },
   {
    "duration": 5,
    "start_time": "2021-07-02T22:32:58.913Z"
   },
   {
    "duration": 4,
    "start_time": "2021-07-02T22:33:16.555Z"
   },
   {
    "duration": 8,
    "start_time": "2021-07-02T22:34:54.764Z"
   },
   {
    "duration": 8,
    "start_time": "2021-07-02T22:39:44.135Z"
   },
   {
    "duration": 9,
    "start_time": "2021-07-02T22:45:52.961Z"
   },
   {
    "duration": 9,
    "start_time": "2021-07-02T22:46:33.005Z"
   },
   {
    "duration": 10,
    "start_time": "2021-07-02T22:47:34.848Z"
   },
   {
    "duration": 12,
    "start_time": "2021-07-02T22:47:42.622Z"
   },
   {
    "duration": 81,
    "start_time": "2021-07-02T23:17:02.680Z"
   },
   {
    "duration": 270,
    "start_time": "2021-07-02T23:17:13.786Z"
   },
   {
    "duration": 295,
    "start_time": "2021-07-02T23:18:26.210Z"
   },
   {
    "duration": 265,
    "start_time": "2021-07-02T23:18:37.455Z"
   },
   {
    "duration": 289,
    "start_time": "2021-07-02T23:19:44.328Z"
   },
   {
    "duration": 20,
    "start_time": "2021-07-02T23:23:25.116Z"
   },
   {
    "duration": 191,
    "start_time": "2021-07-02T23:23:44.343Z"
   },
   {
    "duration": 252,
    "start_time": "2021-07-02T23:24:50.997Z"
   },
   {
    "duration": 247,
    "start_time": "2021-07-02T23:25:33.370Z"
   },
   {
    "duration": 7,
    "start_time": "2021-07-02T23:33:35.855Z"
   },
   {
    "duration": 7,
    "start_time": "2021-07-02T23:34:54.952Z"
   },
   {
    "duration": 5,
    "start_time": "2021-07-02T23:35:06.845Z"
   },
   {
    "duration": 17,
    "start_time": "2021-07-02T23:38:58.375Z"
   },
   {
    "duration": 1222,
    "start_time": "2021-07-02T23:40:22.811Z"
   },
   {
    "duration": 8,
    "start_time": "2021-07-02T23:40:38.477Z"
   },
   {
    "duration": 4,
    "start_time": "2021-07-02T23:40:39.572Z"
   },
   {
    "duration": 24,
    "start_time": "2021-07-02T23:40:49.134Z"
   },
   {
    "duration": 248,
    "start_time": "2021-07-02T23:42:34.793Z"
   },
   {
    "duration": 8,
    "start_time": "2021-07-02T23:44:47.900Z"
   },
   {
    "duration": 18,
    "start_time": "2021-07-02T23:44:51.457Z"
   },
   {
    "duration": 18,
    "start_time": "2021-07-02T23:45:09.048Z"
   },
   {
    "duration": 19,
    "start_time": "2021-07-02T23:47:12.517Z"
   },
   {
    "duration": 148,
    "start_time": "2021-07-02T23:49:39.168Z"
   },
   {
    "duration": 146,
    "start_time": "2021-07-02T23:50:54.310Z"
   },
   {
    "duration": 34,
    "start_time": "2021-07-02T23:50:59.011Z"
   },
   {
    "duration": 38,
    "start_time": "2021-07-02T23:51:52.762Z"
   },
   {
    "duration": 34,
    "start_time": "2021-07-02T23:52:33.051Z"
   },
   {
    "duration": 29,
    "start_time": "2021-07-02T23:54:07.522Z"
   },
   {
    "duration": 392,
    "start_time": "2021-07-02T23:54:14.442Z"
   },
   {
    "duration": 280,
    "start_time": "2021-07-02T23:54:22.252Z"
   },
   {
    "duration": 283,
    "start_time": "2021-07-02T23:54:47.547Z"
   },
   {
    "duration": 276,
    "start_time": "2021-07-02T23:54:52.872Z"
   },
   {
    "duration": 290,
    "start_time": "2021-07-02T23:55:50.993Z"
   },
   {
    "duration": 523,
    "start_time": "2021-07-02T23:56:30.227Z"
   },
   {
    "duration": 486,
    "start_time": "2021-07-02T23:57:04.917Z"
   },
   {
    "duration": 482,
    "start_time": "2021-07-02T23:57:12.424Z"
   },
   {
    "duration": 611,
    "start_time": "2021-07-02T23:57:20.832Z"
   },
   {
    "duration": 522,
    "start_time": "2021-07-02T23:57:31.708Z"
   },
   {
    "duration": 485,
    "start_time": "2021-07-02T23:57:41.912Z"
   },
   {
    "duration": 8,
    "start_time": "2021-07-02T23:59:38.942Z"
   },
   {
    "duration": 9,
    "start_time": "2021-07-03T00:00:12.877Z"
   },
   {
    "duration": 220,
    "start_time": "2021-07-03T00:00:57.352Z"
   },
   {
    "duration": 256,
    "start_time": "2021-07-03T00:01:21.933Z"
   },
   {
    "duration": 4,
    "start_time": "2021-07-03T00:01:59.358Z"
   },
   {
    "duration": 8,
    "start_time": "2021-07-03T00:02:33.075Z"
   },
   {
    "duration": 3,
    "start_time": "2021-07-03T00:02:33.963Z"
   },
   {
    "duration": 345,
    "start_time": "2021-07-03T00:03:01.889Z"
   },
   {
    "duration": 6,
    "start_time": "2021-07-03T00:03:32.612Z"
   },
   {
    "duration": 24,
    "start_time": "2021-07-03T00:03:57.033Z"
   },
   {
    "duration": 257,
    "start_time": "2021-07-03T00:04:16.138Z"
   },
   {
    "duration": 9,
    "start_time": "2021-07-03T00:04:33.147Z"
   },
   {
    "duration": 5,
    "start_time": "2021-07-03T00:04:34.543Z"
   },
   {
    "duration": 7,
    "start_time": "2021-07-03T00:04:35.885Z"
   },
   {
    "duration": 18,
    "start_time": "2021-07-03T00:04:40.563Z"
   },
   {
    "duration": 19,
    "start_time": "2021-07-03T08:02:52.480Z"
   },
   {
    "duration": 29,
    "start_time": "2021-07-03T08:03:52.532Z"
   },
   {
    "duration": 12,
    "start_time": "2021-07-03T08:04:32.449Z"
   },
   {
    "duration": 280,
    "start_time": "2021-07-03T08:05:41.970Z"
   },
   {
    "duration": 643,
    "start_time": "2021-07-03T08:05:56.269Z"
   },
   {
    "duration": 50,
    "start_time": "2021-07-03T08:06:19.076Z"
   },
   {
    "duration": 22,
    "start_time": "2021-07-03T08:07:45.657Z"
   },
   {
    "duration": 11,
    "start_time": "2021-07-03T08:08:12.195Z"
   },
   {
    "duration": 181,
    "start_time": "2021-07-03T08:08:50.878Z"
   },
   {
    "duration": 10,
    "start_time": "2021-07-03T08:10:15.261Z"
   },
   {
    "duration": 10,
    "start_time": "2021-07-03T08:10:29.031Z"
   },
   {
    "duration": 35,
    "start_time": "2021-07-03T08:10:46.546Z"
   },
   {
    "duration": 12,
    "start_time": "2021-07-03T08:13:54.690Z"
   },
   {
    "duration": 44,
    "start_time": "2021-07-03T08:14:48.216Z"
   },
   {
    "duration": 243,
    "start_time": "2021-07-03T08:16:42.833Z"
   },
   {
    "duration": 10,
    "start_time": "2021-07-03T08:16:53.877Z"
   },
   {
    "duration": 93,
    "start_time": "2021-07-03T08:16:56.022Z"
   },
   {
    "duration": 8,
    "start_time": "2021-07-03T08:16:58.176Z"
   },
   {
    "duration": 9,
    "start_time": "2021-07-03T08:17:20.773Z"
   },
   {
    "duration": 356,
    "start_time": "2021-07-03T08:19:48.156Z"
   },
   {
    "duration": 356,
    "start_time": "2021-07-03T08:19:53.665Z"
   },
   {
    "duration": 434,
    "start_time": "2021-07-03T08:20:07.396Z"
   },
   {
    "duration": 644,
    "start_time": "2021-07-03T08:21:11.666Z"
   },
   {
    "duration": 85,
    "start_time": "2021-07-03T08:22:23.757Z"
   },
   {
    "duration": 14,
    "start_time": "2021-07-03T08:22:27.515Z"
   },
   {
    "duration": 15,
    "start_time": "2021-07-03T08:24:28.293Z"
   },
   {
    "duration": 86,
    "start_time": "2021-07-03T08:24:54.836Z"
   },
   {
    "duration": 13,
    "start_time": "2021-07-03T08:25:05.827Z"
   },
   {
    "duration": 1227,
    "start_time": "2021-07-03T08:25:17.480Z"
   },
   {
    "duration": 1398,
    "start_time": "2021-07-03T08:25:32.272Z"
   },
   {
    "duration": 922,
    "start_time": "2021-07-03T08:25:40.774Z"
   },
   {
    "duration": 19,
    "start_time": "2021-07-03T08:26:08.915Z"
   },
   {
    "duration": 23,
    "start_time": "2021-07-03T08:27:24.121Z"
   },
   {
    "duration": 20,
    "start_time": "2021-07-03T08:27:41.520Z"
   },
   {
    "duration": 298,
    "start_time": "2021-07-03T08:28:50.228Z"
   },
   {
    "duration": 293,
    "start_time": "2021-07-03T08:29:23.424Z"
   },
   {
    "duration": 18,
    "start_time": "2021-07-03T08:36:03.297Z"
   },
   {
    "duration": 281,
    "start_time": "2021-07-03T08:45:22.266Z"
   },
   {
    "duration": 277,
    "start_time": "2021-07-03T08:45:28.707Z"
   },
   {
    "duration": 219,
    "start_time": "2021-07-03T08:47:15.079Z"
   },
   {
    "duration": 261,
    "start_time": "2021-07-03T08:47:49.243Z"
   },
   {
    "duration": 214,
    "start_time": "2021-07-03T08:48:16.984Z"
   },
   {
    "duration": 13,
    "start_time": "2021-07-03T08:49:20.901Z"
   },
   {
    "duration": 12,
    "start_time": "2021-07-03T08:49:51.715Z"
   },
   {
    "duration": 85,
    "start_time": "2021-07-03T08:53:17.517Z"
   },
   {
    "duration": 103,
    "start_time": "2021-07-03T08:53:22.124Z"
   },
   {
    "duration": 216,
    "start_time": "2021-07-03T08:53:27.765Z"
   },
   {
    "duration": 467,
    "start_time": "2021-07-03T08:55:02.396Z"
   },
   {
    "duration": 225,
    "start_time": "2021-07-03T08:56:19.321Z"
   },
   {
    "duration": 446,
    "start_time": "2021-07-03T08:57:25.307Z"
   },
   {
    "duration": 2,
    "start_time": "2021-07-03T09:00:07.709Z"
   },
   {
    "duration": 201,
    "start_time": "2021-07-03T09:00:28.803Z"
   },
   {
    "duration": 335,
    "start_time": "2021-07-03T09:01:47.771Z"
   },
   {
    "duration": 435,
    "start_time": "2021-07-03T09:02:39.225Z"
   },
   {
    "duration": 81,
    "start_time": "2021-07-03T10:07:21.407Z"
   },
   {
    "duration": 52,
    "start_time": "2021-07-03T10:07:26.624Z"
   },
   {
    "duration": 54,
    "start_time": "2021-07-03T10:08:22.450Z"
   },
   {
    "duration": 89,
    "start_time": "2021-07-03T10:08:53.960Z"
   },
   {
    "duration": 55,
    "start_time": "2021-07-03T10:08:59.826Z"
   },
   {
    "duration": 80,
    "start_time": "2021-07-03T10:12:12.604Z"
   },
   {
    "duration": 59,
    "start_time": "2021-07-03T10:12:16.567Z"
   },
   {
    "duration": 61,
    "start_time": "2021-07-03T10:12:54.981Z"
   },
   {
    "duration": 54,
    "start_time": "2021-07-03T10:16:19.429Z"
   },
   {
    "duration": 54,
    "start_time": "2021-07-03T10:16:51.389Z"
   },
   {
    "duration": 54,
    "start_time": "2021-07-03T10:20:59.244Z"
   },
   {
    "duration": 57,
    "start_time": "2021-07-03T10:21:04.216Z"
   },
   {
    "duration": 9,
    "start_time": "2021-07-03T10:23:01.854Z"
   },
   {
    "duration": 12,
    "start_time": "2021-07-03T10:24:14.825Z"
   },
   {
    "duration": 13,
    "start_time": "2021-07-03T10:24:52.187Z"
   },
   {
    "duration": 19,
    "start_time": "2021-07-03T10:26:39.614Z"
   },
   {
    "duration": 274,
    "start_time": "2021-07-03T10:27:12.578Z"
   },
   {
    "duration": 19,
    "start_time": "2021-07-03T10:27:23.385Z"
   },
   {
    "duration": 9,
    "start_time": "2021-07-03T10:31:56.828Z"
   },
   {
    "duration": 261,
    "start_time": "2021-07-03T10:33:25.593Z"
   },
   {
    "duration": 20,
    "start_time": "2021-07-03T10:33:50.694Z"
   },
   {
    "duration": 10,
    "start_time": "2021-07-03T10:33:52.010Z"
   },
   {
    "duration": 21,
    "start_time": "2021-07-03T10:34:43.633Z"
   },
   {
    "duration": 23,
    "start_time": "2021-07-03T10:35:12.850Z"
   },
   {
    "duration": 25,
    "start_time": "2021-07-03T10:36:27.470Z"
   },
   {
    "duration": 19,
    "start_time": "2021-07-03T10:36:39.651Z"
   },
   {
    "duration": 268,
    "start_time": "2021-07-03T10:39:02.633Z"
   },
   {
    "duration": 20,
    "start_time": "2021-07-03T10:39:07.793Z"
   },
   {
    "duration": 11,
    "start_time": "2021-07-03T10:39:09.823Z"
   },
   {
    "duration": 19,
    "start_time": "2021-07-03T10:44:40.696Z"
   },
   {
    "duration": 20,
    "start_time": "2021-07-03T10:44:50.737Z"
   },
   {
    "duration": 9,
    "start_time": "2021-07-03T10:51:26.843Z"
   },
   {
    "duration": 11,
    "start_time": "2021-07-03T10:51:47.040Z"
   },
   {
    "duration": 307,
    "start_time": "2021-07-03T10:52:42.223Z"
   },
   {
    "duration": 342,
    "start_time": "2021-07-03T10:52:55.667Z"
   },
   {
    "duration": 534,
    "start_time": "2021-07-03T10:54:59.575Z"
   },
   {
    "duration": 78,
    "start_time": "2021-07-03T10:55:07.136Z"
   },
   {
    "duration": 355,
    "start_time": "2021-07-03T10:55:28.786Z"
   },
   {
    "duration": 319,
    "start_time": "2021-07-03T10:56:51.539Z"
   },
   {
    "duration": 318,
    "start_time": "2021-07-03T10:57:26.247Z"
   },
   {
    "duration": 386,
    "start_time": "2021-07-03T10:58:03.960Z"
   },
   {
    "duration": 295,
    "start_time": "2021-07-03T10:58:14.131Z"
   },
   {
    "duration": 294,
    "start_time": "2021-07-03T10:58:42.514Z"
   },
   {
    "duration": 265,
    "start_time": "2021-07-03T10:59:15.696Z"
   },
   {
    "duration": 306,
    "start_time": "2021-07-03T10:59:42.063Z"
   },
   {
    "duration": 300,
    "start_time": "2021-07-03T10:59:59.731Z"
   },
   {
    "duration": 262,
    "start_time": "2021-07-03T11:00:05.713Z"
   },
   {
    "duration": 4,
    "start_time": "2021-07-03T11:12:12.888Z"
   },
   {
    "duration": 4,
    "start_time": "2021-07-03T11:13:29.727Z"
   },
   {
    "duration": 108,
    "start_time": "2021-07-03T11:34:05.403Z"
   },
   {
    "duration": 70,
    "start_time": "2021-07-03T11:34:45.953Z"
   },
   {
    "duration": 77,
    "start_time": "2021-07-03T11:37:25.923Z"
   },
   {
    "duration": 70,
    "start_time": "2021-07-03T11:37:46.976Z"
   },
   {
    "duration": 1161,
    "start_time": "2021-07-03T11:50:28.720Z"
   },
   {
    "duration": 18,
    "start_time": "2021-07-03T11:51:42.467Z"
   },
   {
    "duration": 42,
    "start_time": "2021-07-03T11:52:18.110Z"
   },
   {
    "duration": 112,
    "start_time": "2021-07-03T11:53:20.279Z"
   },
   {
    "duration": 120,
    "start_time": "2021-07-03T11:54:18.156Z"
   },
   {
    "duration": 110,
    "start_time": "2021-07-03T11:58:26.865Z"
   },
   {
    "duration": 118,
    "start_time": "2021-07-03T11:58:52.972Z"
   },
   {
    "duration": 4,
    "start_time": "2021-07-03T11:59:59.718Z"
   },
   {
    "duration": 114,
    "start_time": "2021-07-03T12:01:14.317Z"
   },
   {
    "duration": 4,
    "start_time": "2021-07-03T12:06:54.702Z"
   },
   {
    "duration": 132,
    "start_time": "2021-07-03T12:15:34.890Z"
   },
   {
    "duration": 180,
    "start_time": "2021-07-03T12:16:38.819Z"
   },
   {
    "duration": 4,
    "start_time": "2021-07-03T12:21:43.878Z"
   },
   {
    "duration": 4,
    "start_time": "2021-07-03T12:31:18.237Z"
   },
   {
    "duration": 3,
    "start_time": "2021-07-03T12:31:26.281Z"
   },
   {
    "duration": 3,
    "start_time": "2021-07-03T12:31:33.792Z"
   },
   {
    "duration": 3,
    "start_time": "2021-07-03T12:31:46.717Z"
   },
   {
    "duration": 3,
    "start_time": "2021-07-03T12:40:00.788Z"
   },
   {
    "duration": 3,
    "start_time": "2021-07-03T12:40:08.112Z"
   },
   {
    "duration": 14,
    "start_time": "2021-07-03T12:44:48.565Z"
   },
   {
    "duration": 14,
    "start_time": "2021-07-03T12:45:28.682Z"
   },
   {
    "duration": 15,
    "start_time": "2021-07-03T12:45:45.064Z"
   },
   {
    "duration": 14,
    "start_time": "2021-07-03T12:45:55.159Z"
   },
   {
    "duration": 14,
    "start_time": "2021-07-03T12:46:26.437Z"
   },
   {
    "duration": 14,
    "start_time": "2021-07-03T12:47:19.030Z"
   },
   {
    "duration": 14,
    "start_time": "2021-07-03T12:47:28.120Z"
   },
   {
    "duration": 13,
    "start_time": "2021-07-03T12:48:32.033Z"
   },
   {
    "duration": 34,
    "start_time": "2021-07-03T12:54:32.675Z"
   },
   {
    "duration": 9,
    "start_time": "2021-07-03T12:54:33.586Z"
   },
   {
    "duration": 10,
    "start_time": "2021-07-03T12:54:39.011Z"
   },
   {
    "duration": 27,
    "start_time": "2021-07-03T13:01:53.331Z"
   },
   {
    "duration": 21,
    "start_time": "2021-07-03T13:01:56.440Z"
   },
   {
    "duration": 4,
    "start_time": "2021-07-03T13:03:26.257Z"
   },
   {
    "duration": 32,
    "start_time": "2021-07-03T13:03:48.570Z"
   },
   {
    "duration": 29,
    "start_time": "2021-07-03T13:04:05.999Z"
   },
   {
    "duration": 31,
    "start_time": "2021-07-03T13:04:28.582Z"
   },
   {
    "duration": 36,
    "start_time": "2021-07-03T13:04:47.684Z"
   },
   {
    "duration": 31,
    "start_time": "2021-07-03T13:05:02.402Z"
   },
   {
    "duration": 11,
    "start_time": "2021-07-03T13:09:34.926Z"
   },
   {
    "duration": 8,
    "start_time": "2021-07-03T13:10:07.742Z"
   },
   {
    "duration": 9,
    "start_time": "2021-07-03T13:12:05.443Z"
   },
   {
    "duration": 8,
    "start_time": "2021-07-03T13:12:24.205Z"
   },
   {
    "duration": 8,
    "start_time": "2021-07-03T13:12:30.724Z"
   },
   {
    "duration": 9,
    "start_time": "2021-07-03T13:12:37.340Z"
   },
   {
    "duration": 16,
    "start_time": "2021-07-03T13:19:55.590Z"
   },
   {
    "duration": 27,
    "start_time": "2021-07-03T13:32:27.026Z"
   },
   {
    "duration": 32,
    "start_time": "2021-07-03T13:36:51.090Z"
   },
   {
    "duration": 8,
    "start_time": "2021-07-03T13:37:22.434Z"
   },
   {
    "duration": 25,
    "start_time": "2021-07-03T13:37:58.081Z"
   },
   {
    "duration": 13,
    "start_time": "2021-07-03T14:10:53.106Z"
   },
   {
    "duration": 8,
    "start_time": "2021-07-03T14:49:57.068Z"
   },
   {
    "duration": 9,
    "start_time": "2021-07-03T14:50:06.872Z"
   },
   {
    "duration": 93,
    "start_time": "2021-07-03T14:54:45.913Z"
   },
   {
    "duration": 66,
    "start_time": "2021-07-03T14:54:56.348Z"
   },
   {
    "duration": 36,
    "start_time": "2021-07-03T14:56:56.321Z"
   },
   {
    "duration": 36,
    "start_time": "2021-07-03T14:57:44.262Z"
   },
   {
    "duration": 280,
    "start_time": "2021-07-03T14:58:09.879Z"
   },
   {
    "duration": 34,
    "start_time": "2021-07-03T14:58:18.861Z"
   },
   {
    "duration": 288,
    "start_time": "2021-07-03T15:01:08.375Z"
   },
   {
    "duration": 47,
    "start_time": "2021-07-03T15:02:16.872Z"
   },
   {
    "duration": 44,
    "start_time": "2021-07-03T15:03:33.284Z"
   },
   {
    "duration": 319,
    "start_time": "2021-07-03T15:07:08.295Z"
   },
   {
    "duration": 93,
    "start_time": "2021-07-03T15:08:38.432Z"
   },
   {
    "duration": 84,
    "start_time": "2021-07-03T15:11:05.544Z"
   },
   {
    "duration": 96,
    "start_time": "2021-07-03T15:11:11.275Z"
   },
   {
    "duration": 101,
    "start_time": "2021-07-03T15:11:19.099Z"
   },
   {
    "duration": 79,
    "start_time": "2021-07-03T15:11:36.685Z"
   },
   {
    "duration": 100,
    "start_time": "2021-07-03T15:11:39.269Z"
   },
   {
    "duration": 104,
    "start_time": "2021-07-03T15:12:02.119Z"
   },
   {
    "duration": 99,
    "start_time": "2021-07-03T15:13:19.494Z"
   },
   {
    "duration": 101,
    "start_time": "2021-07-03T15:16:25.154Z"
   },
   {
    "duration": 99,
    "start_time": "2021-07-03T15:16:51.385Z"
   },
   {
    "duration": 10,
    "start_time": "2021-07-03T15:18:42.475Z"
   },
   {
    "duration": 13,
    "start_time": "2021-07-03T15:19:42.735Z"
   },
   {
    "duration": 24,
    "start_time": "2021-07-03T15:20:58.528Z"
   },
   {
    "duration": 6,
    "start_time": "2021-07-03T15:21:07.119Z"
   },
   {
    "duration": 24,
    "start_time": "2021-07-03T15:21:11.300Z"
   },
   {
    "duration": 111,
    "start_time": "2021-07-03T15:21:29.928Z"
   },
   {
    "duration": 9,
    "start_time": "2021-07-03T15:21:43.478Z"
   },
   {
    "duration": 10,
    "start_time": "2021-07-03T15:21:47.471Z"
   },
   {
    "duration": 4,
    "start_time": "2021-07-03T15:23:18.609Z"
   },
   {
    "duration": 10,
    "start_time": "2021-07-03T15:25:55.663Z"
   },
   {
    "duration": 34,
    "start_time": "2021-07-03T15:29:12.756Z"
   },
   {
    "duration": 46,
    "start_time": "2021-07-03T15:30:35.343Z"
   },
   {
    "duration": 107,
    "start_time": "2021-07-03T15:32:24.860Z"
   },
   {
    "duration": 13,
    "start_time": "2021-07-03T15:32:32.853Z"
   },
   {
    "duration": 35,
    "start_time": "2021-07-03T15:32:36.562Z"
   },
   {
    "duration": 47,
    "start_time": "2021-07-03T15:32:39.946Z"
   },
   {
    "duration": 11,
    "start_time": "2021-07-03T15:33:35.000Z"
   },
   {
    "duration": 117,
    "start_time": "2021-07-03T15:34:04.169Z"
   },
   {
    "duration": 59,
    "start_time": "2021-07-03T15:34:55.247Z"
   },
   {
    "duration": 50,
    "start_time": "2021-07-03T15:35:16.231Z"
   },
   {
    "duration": 61,
    "start_time": "2021-07-03T15:37:05.202Z"
   },
   {
    "duration": 80,
    "start_time": "2021-07-03T15:39:56.142Z"
   },
   {
    "duration": 69,
    "start_time": "2021-07-03T15:41:17.987Z"
   },
   {
    "duration": 133,
    "start_time": "2021-07-03T15:42:42.508Z"
   },
   {
    "duration": 16,
    "start_time": "2021-07-03T15:43:20.363Z"
   },
   {
    "duration": 8,
    "start_time": "2021-07-03T15:43:49.173Z"
   },
   {
    "duration": 6,
    "start_time": "2021-07-03T15:44:38.412Z"
   },
   {
    "duration": 63,
    "start_time": "2021-07-03T16:23:14.107Z"
   },
   {
    "duration": 52,
    "start_time": "2021-07-03T16:23:34.864Z"
   },
   {
    "duration": 213,
    "start_time": "2021-07-03T16:24:05.756Z"
   },
   {
    "duration": 34,
    "start_time": "2021-07-03T16:25:02.677Z"
   },
   {
    "duration": 32,
    "start_time": "2021-07-03T16:25:26.039Z"
   },
   {
    "duration": 46,
    "start_time": "2021-07-03T16:30:57.516Z"
   },
   {
    "duration": 65,
    "start_time": "2021-07-03T16:31:17.209Z"
   },
   {
    "duration": 81,
    "start_time": "2021-07-03T16:32:01.182Z"
   },
   {
    "duration": 45,
    "start_time": "2021-07-03T16:32:10.983Z"
   },
   {
    "duration": 171,
    "start_time": "2021-07-03T16:33:50.605Z"
   },
   {
    "duration": 159,
    "start_time": "2021-07-03T16:34:06.424Z"
   },
   {
    "duration": 15,
    "start_time": "2021-07-03T16:34:31.070Z"
   },
   {
    "duration": 8,
    "start_time": "2021-07-03T16:34:44.955Z"
   },
   {
    "duration": 8,
    "start_time": "2021-07-03T16:35:43.482Z"
   },
   {
    "duration": 69,
    "start_time": "2021-07-03T16:35:52.292Z"
   },
   {
    "duration": 44,
    "start_time": "2021-07-03T16:35:55.258Z"
   },
   {
    "duration": 9,
    "start_time": "2021-07-03T16:37:26.399Z"
   },
   {
    "duration": 63,
    "start_time": "2021-07-03T16:39:17.591Z"
   },
   {
    "duration": 144,
    "start_time": "2021-07-03T16:41:10.561Z"
   },
   {
    "duration": 16,
    "start_time": "2021-07-03T16:41:14.391Z"
   },
   {
    "duration": 74,
    "start_time": "2021-07-03T16:44:56.412Z"
   },
   {
    "duration": 73,
    "start_time": "2021-07-03T16:45:50.405Z"
   },
   {
    "duration": 401,
    "start_time": "2021-07-03T16:49:14.749Z"
   },
   {
    "duration": 418,
    "start_time": "2021-07-03T16:49:45.301Z"
   },
   {
    "duration": 421,
    "start_time": "2021-07-03T16:50:00.328Z"
   },
   {
    "duration": 391,
    "start_time": "2021-07-03T16:50:14.114Z"
   },
   {
    "duration": 394,
    "start_time": "2021-07-03T16:50:21.091Z"
   },
   {
    "duration": 275,
    "start_time": "2021-07-03T16:51:19.191Z"
   },
   {
    "duration": 24,
    "start_time": "2021-07-03T16:51:25.337Z"
   },
   {
    "duration": 328,
    "start_time": "2021-07-03T16:53:14.685Z"
   },
   {
    "duration": 17,
    "start_time": "2021-07-03T16:56:30.006Z"
   },
   {
    "duration": 5,
    "start_time": "2021-07-03T16:57:58.531Z"
   },
   {
    "duration": 263,
    "start_time": "2021-07-03T17:06:43.125Z"
   },
   {
    "duration": 4,
    "start_time": "2021-07-03T17:06:56.202Z"
   },
   {
    "duration": 8,
    "start_time": "2021-07-03T17:07:08.728Z"
   },
   {
    "duration": 16,
    "start_time": "2021-07-03T17:08:04.622Z"
   },
   {
    "duration": 9,
    "start_time": "2021-07-03T17:08:42.808Z"
   },
   {
    "duration": 26,
    "start_time": "2021-07-03T17:09:22.644Z"
   },
   {
    "duration": 9,
    "start_time": "2021-07-03T17:10:00.080Z"
   },
   {
    "duration": 8,
    "start_time": "2021-07-03T17:12:09.113Z"
   },
   {
    "duration": 7,
    "start_time": "2021-07-03T17:13:42.706Z"
   },
   {
    "duration": 9,
    "start_time": "2021-07-03T17:14:44.195Z"
   },
   {
    "duration": 8,
    "start_time": "2021-07-03T17:15:17.432Z"
   },
   {
    "duration": 9,
    "start_time": "2021-07-03T17:15:30.412Z"
   },
   {
    "duration": 9,
    "start_time": "2021-07-03T17:21:12.074Z"
   },
   {
    "duration": 86,
    "start_time": "2021-07-03T17:31:29.210Z"
   },
   {
    "duration": 14,
    "start_time": "2021-07-03T17:31:38.432Z"
   },
   {
    "duration": 251,
    "start_time": "2021-07-03T17:33:04.530Z"
   },
   {
    "duration": 9,
    "start_time": "2021-07-03T17:33:27.423Z"
   },
   {
    "duration": 11,
    "start_time": "2021-07-03T17:33:33.407Z"
   },
   {
    "duration": 122,
    "start_time": "2021-07-03T17:34:26.739Z"
   },
   {
    "duration": 11,
    "start_time": "2021-07-03T17:34:34.272Z"
   },
   {
    "duration": 83,
    "start_time": "2021-07-03T17:35:04.254Z"
   },
   {
    "duration": 15,
    "start_time": "2021-07-03T17:35:08.512Z"
   },
   {
    "duration": 87,
    "start_time": "2021-07-03T17:36:17.480Z"
   },
   {
    "duration": 15,
    "start_time": "2021-07-03T17:36:22.688Z"
   },
   {
    "duration": 13,
    "start_time": "2021-07-03T17:37:53.281Z"
   },
   {
    "duration": 20,
    "start_time": "2021-07-03T17:38:58.640Z"
   },
   {
    "duration": 17,
    "start_time": "2021-07-03T17:40:10.948Z"
   },
   {
    "duration": 19,
    "start_time": "2021-07-03T17:40:30.377Z"
   },
   {
    "duration": 15,
    "start_time": "2021-07-03T17:41:22.476Z"
   },
   {
    "duration": 15,
    "start_time": "2021-07-03T17:41:27.286Z"
   },
   {
    "duration": 36,
    "start_time": "2021-07-03T17:43:43.842Z"
   },
   {
    "duration": 37,
    "start_time": "2021-07-03T17:43:56.838Z"
   },
   {
    "duration": 30,
    "start_time": "2021-07-03T17:44:13.271Z"
   },
   {
    "duration": 28,
    "start_time": "2021-07-03T17:44:26.586Z"
   },
   {
    "duration": 10,
    "start_time": "2021-07-03T17:46:25.344Z"
   },
   {
    "duration": 7,
    "start_time": "2021-07-03T17:46:53.760Z"
   },
   {
    "duration": 7,
    "start_time": "2021-07-03T17:46:59.659Z"
   },
   {
    "duration": 411,
    "start_time": "2021-07-03T17:47:38.782Z"
   },
   {
    "duration": 16,
    "start_time": "2021-07-03T17:48:09.397Z"
   },
   {
    "duration": 18,
    "start_time": "2021-07-03T17:56:30.592Z"
   },
   {
    "duration": 56,
    "start_time": "2021-07-03T18:05:33.469Z"
   },
   {
    "duration": 62,
    "start_time": "2021-07-03T18:07:09.276Z"
   },
   {
    "duration": 7,
    "start_time": "2021-07-03T18:09:48.225Z"
   },
   {
    "duration": 8,
    "start_time": "2021-07-03T18:09:51.437Z"
   },
   {
    "duration": 8,
    "start_time": "2021-07-03T18:15:07.002Z"
   },
   {
    "duration": 279,
    "start_time": "2021-07-03T18:15:50.759Z"
   },
   {
    "duration": 1054,
    "start_time": "2021-07-03T18:16:04.863Z"
   },
   {
    "duration": 70,
    "start_time": "2021-07-03T18:24:16.537Z"
   },
   {
    "duration": 14,
    "start_time": "2021-07-03T18:25:39.292Z"
   },
   {
    "duration": 14,
    "start_time": "2021-07-03T18:31:47.777Z"
   },
   {
    "duration": 1003,
    "start_time": "2021-07-03T18:35:46.120Z"
   },
   {
    "duration": 65,
    "start_time": "2021-07-03T18:36:16.652Z"
   },
   {
    "duration": 66,
    "start_time": "2021-07-03T18:37:09.183Z"
   },
   {
    "duration": 67,
    "start_time": "2021-07-03T18:38:51.184Z"
   },
   {
    "duration": 68,
    "start_time": "2021-07-03T18:39:15.034Z"
   },
   {
    "duration": 101,
    "start_time": "2021-07-03T19:41:41.747Z"
   },
   {
    "duration": 41,
    "start_time": "2021-07-03T19:41:52.092Z"
   },
   {
    "duration": 23,
    "start_time": "2021-07-03T19:41:56.840Z"
   },
   {
    "duration": 6,
    "start_time": "2021-07-03T19:42:13.781Z"
   },
   {
    "duration": 347,
    "start_time": "2021-07-03T19:42:25.292Z"
   },
   {
    "duration": 337,
    "start_time": "2021-07-03T19:43:33.461Z"
   },
   {
    "duration": 254,
    "start_time": "2021-07-03T19:43:54.242Z"
   },
   {
    "duration": 8,
    "start_time": "2021-07-03T19:44:02.224Z"
   },
   {
    "duration": 4,
    "start_time": "2021-07-03T19:44:41.163Z"
   },
   {
    "duration": 29,
    "start_time": "2021-07-03T19:44:58.165Z"
   },
   {
    "duration": 98,
    "start_time": "2021-07-03T19:45:11.021Z"
   },
   {
    "duration": 38,
    "start_time": "2021-07-03T19:45:22.432Z"
   },
   {
    "duration": 23,
    "start_time": "2021-07-03T19:45:26.526Z"
   },
   {
    "duration": 29,
    "start_time": "2021-07-03T19:45:33.417Z"
   },
   {
    "duration": 6,
    "start_time": "2021-07-03T19:45:38.698Z"
   },
   {
    "duration": 1184,
    "start_time": "2021-07-03T19:45:45.151Z"
   },
   {
    "duration": 2,
    "start_time": "2021-07-03T19:46:06.154Z"
   },
   {
    "duration": 18,
    "start_time": "2021-07-03T19:46:49.981Z"
   },
   {
    "duration": 103,
    "start_time": "2021-07-03T19:48:30.320Z"
   },
   {
    "duration": 39,
    "start_time": "2021-07-03T19:48:42.740Z"
   },
   {
    "duration": 25,
    "start_time": "2021-07-03T19:48:45.455Z"
   },
   {
    "duration": 29,
    "start_time": "2021-07-03T19:48:51.235Z"
   },
   {
    "duration": 8,
    "start_time": "2021-07-03T19:49:14.553Z"
   },
   {
    "duration": 1267,
    "start_time": "2021-07-03T19:49:23.013Z"
   },
   {
    "duration": 18,
    "start_time": "2021-07-03T19:49:28.437Z"
   },
   {
    "duration": 449,
    "start_time": "2021-07-03T19:49:34.891Z"
   },
   {
    "duration": 63,
    "start_time": "2021-07-03T19:49:40.866Z"
   },
   {
    "duration": 14,
    "start_time": "2021-07-03T19:50:25.289Z"
   },
   {
    "duration": 10,
    "start_time": "2021-07-03T19:50:58.518Z"
   },
   {
    "duration": 68,
    "start_time": "2021-07-03T19:53:09.704Z"
   },
   {
    "duration": 15,
    "start_time": "2021-07-03T19:53:20.219Z"
   },
   {
    "duration": 16,
    "start_time": "2021-07-03T19:53:43.466Z"
   },
   {
    "duration": 16,
    "start_time": "2021-07-03T19:54:00.412Z"
   },
   {
    "duration": 71,
    "start_time": "2021-07-03T20:03:55.580Z"
   },
   {
    "duration": 60,
    "start_time": "2021-07-03T20:04:10.502Z"
   },
   {
    "duration": 244,
    "start_time": "2021-07-03T20:14:39.305Z"
   },
   {
    "duration": 43,
    "start_time": "2021-07-03T20:14:53.937Z"
   },
   {
    "duration": 46,
    "start_time": "2021-07-03T20:15:53.739Z"
   },
   {
    "duration": 266,
    "start_time": "2021-07-03T20:16:39.802Z"
   },
   {
    "duration": 43,
    "start_time": "2021-07-03T20:17:25.848Z"
   },
   {
    "duration": 130,
    "start_time": "2021-07-03T20:19:10.089Z"
   },
   {
    "duration": 38,
    "start_time": "2021-07-03T20:20:53.496Z"
   },
   {
    "duration": 38,
    "start_time": "2021-07-03T20:21:16.900Z"
   },
   {
    "duration": 43,
    "start_time": "2021-07-03T20:21:45.819Z"
   },
   {
    "duration": 44,
    "start_time": "2021-07-03T20:22:30.334Z"
   },
   {
    "duration": 40,
    "start_time": "2021-07-03T20:23:03.210Z"
   },
   {
    "duration": 38,
    "start_time": "2021-07-03T20:23:41.025Z"
   },
   {
    "duration": 3,
    "start_time": "2021-07-03T20:27:49.247Z"
   },
   {
    "duration": 4,
    "start_time": "2021-07-03T20:27:55.240Z"
   },
   {
    "duration": 4,
    "start_time": "2021-07-03T20:28:12.081Z"
   },
   {
    "duration": 4,
    "start_time": "2021-07-03T20:28:30.497Z"
   },
   {
    "duration": 3,
    "start_time": "2021-07-03T20:29:07.289Z"
   },
   {
    "duration": 5,
    "start_time": "2021-07-03T20:29:43.621Z"
   },
   {
    "duration": 152,
    "start_time": "2021-07-03T20:32:19.790Z"
   },
   {
    "duration": 165,
    "start_time": "2021-07-03T20:32:35.104Z"
   },
   {
    "duration": 4,
    "start_time": "2021-07-03T20:32:59.313Z"
   },
   {
    "duration": 4,
    "start_time": "2021-07-03T20:34:08.497Z"
   },
   {
    "duration": 3,
    "start_time": "2021-07-03T20:34:14.651Z"
   },
   {
    "duration": 177,
    "start_time": "2021-07-03T20:35:29.916Z"
   },
   {
    "duration": 7,
    "start_time": "2021-07-03T20:36:43.842Z"
   },
   {
    "duration": 210,
    "start_time": "2021-07-03T20:36:52.738Z"
   },
   {
    "duration": 173,
    "start_time": "2021-07-03T20:37:14.157Z"
   },
   {
    "duration": 5,
    "start_time": "2021-07-03T20:37:35.731Z"
   },
   {
    "duration": 179,
    "start_time": "2021-07-03T20:37:56.989Z"
   },
   {
    "duration": 178,
    "start_time": "2021-07-03T20:38:07.284Z"
   },
   {
    "duration": 161,
    "start_time": "2021-07-03T20:38:42.215Z"
   },
   {
    "duration": 528,
    "start_time": "2021-07-03T20:40:05.187Z"
   },
   {
    "duration": 134,
    "start_time": "2021-07-03T20:40:20.617Z"
   },
   {
    "duration": 14,
    "start_time": "2021-07-03T20:40:48.597Z"
   },
   {
    "duration": 6,
    "start_time": "2021-07-03T20:41:09.362Z"
   },
   {
    "duration": 6,
    "start_time": "2021-07-03T20:41:18.517Z"
   },
   {
    "duration": 7,
    "start_time": "2021-07-03T20:42:08.922Z"
   },
   {
    "duration": 6,
    "start_time": "2021-07-03T20:42:22.040Z"
   },
   {
    "duration": 77,
    "start_time": "2021-07-03T20:44:11.114Z"
   },
   {
    "duration": 18,
    "start_time": "2021-07-03T20:44:15.029Z"
   },
   {
    "duration": 9,
    "start_time": "2021-07-03T20:47:36.980Z"
   },
   {
    "duration": 8,
    "start_time": "2021-07-03T20:48:05.838Z"
   },
   {
    "duration": 10,
    "start_time": "2021-07-03T20:49:02.227Z"
   },
   {
    "duration": 3,
    "start_time": "2021-07-03T20:49:20.469Z"
   },
   {
    "duration": 39,
    "start_time": "2021-07-03T20:50:22.580Z"
   },
   {
    "duration": 6,
    "start_time": "2021-07-03T21:01:58.146Z"
   },
   {
    "duration": 80,
    "start_time": "2021-07-03T21:05:23.004Z"
   },
   {
    "duration": 6,
    "start_time": "2021-07-03T21:05:30.797Z"
   },
   {
    "duration": 5,
    "start_time": "2021-07-03T21:06:13.106Z"
   },
   {
    "duration": 6,
    "start_time": "2021-07-03T21:06:55.887Z"
   },
   {
    "duration": 129,
    "start_time": "2021-07-03T21:07:02.605Z"
   },
   {
    "duration": 6,
    "start_time": "2021-07-03T21:07:06.118Z"
   },
   {
    "duration": 9,
    "start_time": "2021-07-03T21:07:45.347Z"
   },
   {
    "duration": 9,
    "start_time": "2021-07-03T21:09:01.405Z"
   },
   {
    "duration": 8,
    "start_time": "2021-07-03T21:09:42.302Z"
   },
   {
    "duration": 138,
    "start_time": "2021-07-03T21:10:12.580Z"
   },
   {
    "duration": 140,
    "start_time": "2021-07-03T21:10:23.080Z"
   },
   {
    "duration": 371,
    "start_time": "2021-07-03T21:13:54.785Z"
   },
   {
    "duration": 138,
    "start_time": "2021-07-03T21:14:12.291Z"
   },
   {
    "duration": 143,
    "start_time": "2021-07-03T21:14:24.852Z"
   },
   {
    "duration": 10,
    "start_time": "2021-07-03T21:25:34.055Z"
   },
   {
    "duration": 3,
    "start_time": "2021-07-03T21:28:01.806Z"
   },
   {
    "duration": 472,
    "start_time": "2021-07-03T21:29:24.072Z"
   },
   {
    "duration": 463,
    "start_time": "2021-07-03T21:45:51.414Z"
   },
   {
    "duration": 240,
    "start_time": "2021-07-03T21:50:28.668Z"
   },
   {
    "duration": 10,
    "start_time": "2021-07-03T21:50:32.852Z"
   },
   {
    "duration": 469,
    "start_time": "2021-07-03T21:50:35.648Z"
   },
   {
    "duration": 554,
    "start_time": "2021-07-03T21:52:03.856Z"
   },
   {
    "duration": 481,
    "start_time": "2021-07-03T22:06:18.553Z"
   },
   {
    "duration": 473,
    "start_time": "2021-07-03T22:08:41.921Z"
   },
   {
    "duration": 8,
    "start_time": "2021-07-03T22:18:24.295Z"
   },
   {
    "duration": 12,
    "start_time": "2021-07-03T22:21:01.457Z"
   },
   {
    "duration": 15,
    "start_time": "2021-07-03T22:23:40.396Z"
   },
   {
    "duration": 4402,
    "start_time": "2021-07-03T22:24:16.360Z"
   },
   {
    "duration": 4605,
    "start_time": "2021-07-03T22:24:53.555Z"
   },
   {
    "duration": 17,
    "start_time": "2021-07-03T22:26:39.376Z"
   },
   {
    "duration": 3311,
    "start_time": "2021-07-03T22:26:53.848Z"
   },
   {
    "duration": 17,
    "start_time": "2021-07-04T07:11:49.758Z"
   },
   {
    "duration": 16,
    "start_time": "2021-07-04T07:14:16.431Z"
   },
   {
    "duration": 10,
    "start_time": "2021-07-04T07:24:15.132Z"
   },
   {
    "duration": 7948,
    "start_time": "2021-07-04T07:24:52.327Z"
   },
   {
    "duration": 11,
    "start_time": "2021-07-04T07:25:01.875Z"
   },
   {
    "duration": 12,
    "start_time": "2021-07-04T07:25:20.208Z"
   },
   {
    "duration": 15,
    "start_time": "2021-07-04T07:26:10.641Z"
   },
   {
    "duration": 342,
    "start_time": "2021-07-04T07:27:09.346Z"
   },
   {
    "duration": 10,
    "start_time": "2021-07-04T07:27:15.080Z"
   },
   {
    "duration": 10,
    "start_time": "2021-07-04T07:27:25.396Z"
   },
   {
    "duration": 10,
    "start_time": "2021-07-04T07:27:38.346Z"
   },
   {
    "duration": 11,
    "start_time": "2021-07-04T07:27:47.337Z"
   },
   {
    "duration": 32,
    "start_time": "2021-07-04T07:33:23.905Z"
   },
   {
    "duration": 11,
    "start_time": "2021-07-04T07:33:27.132Z"
   },
   {
    "duration": 12,
    "start_time": "2021-07-04T07:33:31.207Z"
   },
   {
    "duration": 7,
    "start_time": "2021-07-04T07:44:42.102Z"
   },
   {
    "duration": 3,
    "start_time": "2021-07-04T07:44:53.686Z"
   },
   {
    "duration": 7,
    "start_time": "2021-07-04T07:45:37.870Z"
   },
   {
    "duration": 16,
    "start_time": "2021-07-04T07:46:00.836Z"
   },
   {
    "duration": 6,
    "start_time": "2021-07-04T07:46:36.524Z"
   },
   {
    "duration": 15,
    "start_time": "2021-07-04T07:46:40.729Z"
   },
   {
    "duration": 8,
    "start_time": "2021-07-04T07:47:30.988Z"
   },
   {
    "duration": 9,
    "start_time": "2021-07-04T07:54:30.129Z"
   },
   {
    "duration": 96,
    "start_time": "2021-07-04T08:05:43.251Z"
   },
   {
    "duration": 38,
    "start_time": "2021-07-04T08:05:54.583Z"
   },
   {
    "duration": 21,
    "start_time": "2021-07-04T08:06:06.115Z"
   },
   {
    "duration": 26,
    "start_time": "2021-07-04T08:06:10.337Z"
   },
   {
    "duration": 8,
    "start_time": "2021-07-04T08:06:20.141Z"
   },
   {
    "duration": 1152,
    "start_time": "2021-07-04T08:06:36.429Z"
   },
   {
    "duration": 18,
    "start_time": "2021-07-04T08:08:12.185Z"
   },
   {
    "duration": 443,
    "start_time": "2021-07-04T08:08:23.896Z"
   },
   {
    "duration": 58,
    "start_time": "2021-07-04T08:08:28.451Z"
   },
   {
    "duration": 9,
    "start_time": "2021-07-04T08:08:35.694Z"
   },
   {
    "duration": 16,
    "start_time": "2021-07-04T08:08:40.704Z"
   },
   {
    "duration": 38,
    "start_time": "2021-07-04T08:08:56.018Z"
   },
   {
    "duration": 18,
    "start_time": "2021-07-04T08:09:10.515Z"
   },
   {
    "duration": 18,
    "start_time": "2021-07-04T08:10:26.657Z"
   },
   {
    "duration": 20,
    "start_time": "2021-07-04T08:12:44.671Z"
   },
   {
    "duration": 85,
    "start_time": "2021-07-04T08:15:14.957Z"
   },
   {
    "duration": 53,
    "start_time": "2021-07-04T08:15:18.851Z"
   },
   {
    "duration": 25,
    "start_time": "2021-07-04T08:15:45.979Z"
   },
   {
    "duration": 42,
    "start_time": "2021-07-04T08:15:52.823Z"
   },
   {
    "duration": 18,
    "start_time": "2021-07-04T08:17:33.495Z"
   },
   {
    "duration": 6,
    "start_time": "2021-07-04T08:17:59.503Z"
   },
   {
    "duration": 93,
    "start_time": "2021-07-04T08:28:35.085Z"
   },
   {
    "duration": 6004,
    "start_time": "2021-07-04T08:28:42.473Z"
   },
   {
    "duration": 29,
    "start_time": "2021-07-04T08:28:56.385Z"
   },
   {
    "duration": 83,
    "start_time": "2021-07-04T08:31:39.410Z"
   },
   {
    "duration": 34,
    "start_time": "2021-07-04T08:31:43.831Z"
   },
   {
    "duration": 33,
    "start_time": "2021-07-04T08:32:13.195Z"
   },
   {
    "duration": 9,
    "start_time": "2021-07-04T08:37:23.082Z"
   },
   {
    "duration": 8,
    "start_time": "2021-07-04T08:37:41.415Z"
   },
   {
    "duration": 9,
    "start_time": "2021-07-04T08:41:46.987Z"
   },
   {
    "duration": 52,
    "start_time": "2021-07-04T08:46:52.518Z"
   },
   {
    "duration": 49,
    "start_time": "2021-07-04T08:47:05.462Z"
   },
   {
    "duration": 271,
    "start_time": "2021-07-04T09:57:19.069Z"
   },
   {
    "duration": 15,
    "start_time": "2021-07-04T09:59:14.365Z"
   },
   {
    "duration": 109,
    "start_time": "2021-07-04T10:00:17.980Z"
   },
   {
    "duration": 121,
    "start_time": "2021-07-04T10:00:25.202Z"
   },
   {
    "duration": 14,
    "start_time": "2021-07-04T10:00:30.612Z"
   },
   {
    "duration": 35,
    "start_time": "2021-07-04T10:00:37.595Z"
   },
   {
    "duration": 25,
    "start_time": "2021-07-04T10:00:40.145Z"
   },
   {
    "duration": 24,
    "start_time": "2021-07-04T10:00:42.443Z"
   },
   {
    "duration": 25,
    "start_time": "2021-07-04T10:00:46.174Z"
   },
   {
    "duration": 12,
    "start_time": "2021-07-04T10:00:49.084Z"
   },
   {
    "duration": 6,
    "start_time": "2021-07-04T10:00:52.132Z"
   },
   {
    "duration": 9,
    "start_time": "2021-07-04T10:00:55.024Z"
   },
   {
    "duration": 1308,
    "start_time": "2021-07-04T10:00:59.918Z"
   },
   {
    "duration": 20,
    "start_time": "2021-07-04T10:01:03.059Z"
   },
   {
    "duration": 468,
    "start_time": "2021-07-04T10:01:06.468Z"
   },
   {
    "duration": 66,
    "start_time": "2021-07-04T10:01:09.125Z"
   },
   {
    "duration": 14,
    "start_time": "2021-07-04T10:01:12.043Z"
   },
   {
    "duration": 16,
    "start_time": "2021-07-04T10:01:15.164Z"
   },
   {
    "duration": 37,
    "start_time": "2021-07-04T10:01:18.450Z"
   },
   {
    "duration": 8,
    "start_time": "2021-07-04T10:01:26.185Z"
   },
   {
    "duration": 10,
    "start_time": "2021-07-04T10:01:28.445Z"
   },
   {
    "duration": 59,
    "start_time": "2021-07-04T10:01:32.300Z"
   },
   {
    "duration": 152,
    "start_time": "2021-07-04T10:02:02.500Z"
   },
   {
    "duration": 249,
    "start_time": "2021-07-04T10:02:24.173Z"
   },
   {
    "duration": 16,
    "start_time": "2021-07-04T10:13:32.421Z"
   },
   {
    "duration": 4,
    "start_time": "2021-07-04T10:18:56.632Z"
   },
   {
    "duration": 2413,
    "start_time": "2021-07-04T10:19:08.610Z"
   },
   {
    "duration": 2568,
    "start_time": "2021-07-04T10:19:52.133Z"
   },
   {
    "duration": 108,
    "start_time": "2021-07-04T10:21:00.284Z"
   },
   {
    "duration": 6,
    "start_time": "2021-07-04T10:21:06.496Z"
   },
   {
    "duration": 12,
    "start_time": "2021-07-04T10:21:11.614Z"
   },
   {
    "duration": 41,
    "start_time": "2021-07-04T10:21:19.123Z"
   },
   {
    "duration": 10,
    "start_time": "2021-07-04T10:21:23.153Z"
   },
   {
    "duration": 150,
    "start_time": "2021-07-04T10:21:38.290Z"
   },
   {
    "duration": 103,
    "start_time": "2021-07-04T10:21:55.921Z"
   },
   {
    "duration": 145,
    "start_time": "2021-07-04T10:22:00.439Z"
   },
   {
    "duration": 14,
    "start_time": "2021-07-04T10:22:04.075Z"
   },
   {
    "duration": 36,
    "start_time": "2021-07-04T10:22:10.772Z"
   },
   {
    "duration": 10,
    "start_time": "2021-07-04T10:22:11.668Z"
   },
   {
    "duration": 22,
    "start_time": "2021-07-04T10:22:20.211Z"
   },
   {
    "duration": 28,
    "start_time": "2021-07-04T10:22:22.635Z"
   },
   {
    "duration": 26,
    "start_time": "2021-07-04T10:22:24.269Z"
   },
   {
    "duration": 16,
    "start_time": "2021-07-04T10:22:26.418Z"
   },
   {
    "duration": 7,
    "start_time": "2021-07-04T10:22:29.437Z"
   },
   {
    "duration": 11,
    "start_time": "2021-07-04T10:22:30.398Z"
   },
   {
    "duration": 1246,
    "start_time": "2021-07-04T10:22:33.189Z"
   },
   {
    "duration": 19,
    "start_time": "2021-07-04T10:22:35.917Z"
   },
   {
    "duration": 450,
    "start_time": "2021-07-04T10:22:37.929Z"
   },
   {
    "duration": 69,
    "start_time": "2021-07-04T10:22:40.398Z"
   },
   {
    "duration": 8,
    "start_time": "2021-07-04T10:22:43.776Z"
   },
   {
    "duration": 15,
    "start_time": "2021-07-04T10:22:45.708Z"
   },
   {
    "duration": 43,
    "start_time": "2021-07-04T10:22:52.309Z"
   },
   {
    "duration": 10,
    "start_time": "2021-07-04T10:22:57.342Z"
   },
   {
    "duration": 10,
    "start_time": "2021-07-04T10:22:59.010Z"
   },
   {
    "duration": 51,
    "start_time": "2021-07-04T10:23:02.985Z"
   },
   {
    "duration": 271,
    "start_time": "2021-07-04T10:23:07.070Z"
   },
   {
    "duration": 19,
    "start_time": "2021-07-04T10:23:12.777Z"
   },
   {
    "duration": 107,
    "start_time": "2021-07-04T10:25:45.556Z"
   },
   {
    "duration": 127,
    "start_time": "2021-07-04T10:25:56.768Z"
   },
   {
    "duration": 14,
    "start_time": "2021-07-04T10:26:00.759Z"
   },
   {
    "duration": 35,
    "start_time": "2021-07-04T10:26:05.575Z"
   },
   {
    "duration": 10,
    "start_time": "2021-07-04T10:26:06.504Z"
   },
   {
    "duration": 22,
    "start_time": "2021-07-04T10:26:10.662Z"
   },
   {
    "duration": 21,
    "start_time": "2021-07-04T10:26:12.364Z"
   },
   {
    "duration": 10,
    "start_time": "2021-07-04T10:26:17.429Z"
   },
   {
    "duration": 26,
    "start_time": "2021-07-04T10:26:24.453Z"
   },
   {
    "duration": 12,
    "start_time": "2021-07-04T10:26:27.618Z"
   },
   {
    "duration": 7,
    "start_time": "2021-07-04T10:26:29.791Z"
   },
   {
    "duration": 14,
    "start_time": "2021-07-04T10:26:36.172Z"
   },
   {
    "duration": 8,
    "start_time": "2021-07-04T10:26:41.174Z"
   },
   {
    "duration": 1290,
    "start_time": "2021-07-04T10:26:43.238Z"
   },
   {
    "duration": 11,
    "start_time": "2021-07-04T10:26:48.095Z"
   },
   {
    "duration": 24,
    "start_time": "2021-07-04T10:26:54.622Z"
   },
   {
    "duration": 444,
    "start_time": "2021-07-04T10:26:57.786Z"
   },
   {
    "duration": 10,
    "start_time": "2021-07-04T10:27:02.886Z"
   },
   {
    "duration": 59,
    "start_time": "2021-07-04T10:27:07.872Z"
   },
   {
    "duration": 9,
    "start_time": "2021-07-04T10:27:12.470Z"
   },
   {
    "duration": 20,
    "start_time": "2021-07-04T10:27:15.369Z"
   },
   {
    "duration": 35,
    "start_time": "2021-07-04T10:27:19.863Z"
   },
   {
    "duration": 11,
    "start_time": "2021-07-04T10:27:24.528Z"
   },
   {
    "duration": 8,
    "start_time": "2021-07-04T10:27:34.729Z"
   },
   {
    "duration": 10,
    "start_time": "2021-07-04T10:27:37.133Z"
   },
   {
    "duration": 52,
    "start_time": "2021-07-04T10:27:39.867Z"
   },
   {
    "duration": 12,
    "start_time": "2021-07-04T10:27:49.767Z"
   },
   {
    "duration": 155,
    "start_time": "2021-07-04T10:27:52.316Z"
   },
   {
    "duration": 18,
    "start_time": "2021-07-04T10:28:06.479Z"
   },
   {
    "duration": 103,
    "start_time": "2021-07-04T10:28:27.772Z"
   },
   {
    "duration": 241,
    "start_time": "2021-07-04T10:28:33.036Z"
   },
   {
    "duration": 14,
    "start_time": "2021-07-04T10:28:37.456Z"
   },
   {
    "duration": 41,
    "start_time": "2021-07-04T10:28:43.935Z"
   },
   {
    "duration": 28,
    "start_time": "2021-07-04T10:28:49.405Z"
   },
   {
    "duration": 31,
    "start_time": "2021-07-04T10:30:00.438Z"
   },
   {
    "duration": 25,
    "start_time": "2021-07-04T10:30:03.581Z"
   },
   {
    "duration": 12,
    "start_time": "2021-07-04T10:30:06.568Z"
   },
   {
    "duration": 7,
    "start_time": "2021-07-04T10:30:08.297Z"
   },
   {
    "duration": 8,
    "start_time": "2021-07-04T10:30:11.755Z"
   },
   {
    "duration": 1161,
    "start_time": "2021-07-04T10:30:13.785Z"
   },
   {
    "duration": 20,
    "start_time": "2021-07-04T10:30:16.781Z"
   },
   {
    "duration": 450,
    "start_time": "2021-07-04T10:30:19.137Z"
   },
   {
    "duration": 59,
    "start_time": "2021-07-04T10:30:22.198Z"
   },
   {
    "duration": 9,
    "start_time": "2021-07-04T10:30:27.309Z"
   },
   {
    "duration": 15,
    "start_time": "2021-07-04T10:30:29.128Z"
   },
   {
    "duration": 34,
    "start_time": "2021-07-04T10:30:31.305Z"
   },
   {
    "duration": 8,
    "start_time": "2021-07-04T10:47:38.449Z"
   },
   {
    "duration": 10,
    "start_time": "2021-07-04T10:47:41.671Z"
   },
   {
    "duration": 52,
    "start_time": "2021-07-04T10:47:44.606Z"
   },
   {
    "duration": 11,
    "start_time": "2021-07-04T10:47:53.307Z"
   },
   {
    "duration": 14,
    "start_time": "2021-07-04T10:47:54.890Z"
   },
   {
    "duration": 147,
    "start_time": "2021-07-04T10:48:05.936Z"
   },
   {
    "duration": 484,
    "start_time": "2021-07-04T10:48:13.406Z"
   },
   {
    "duration": 442,
    "start_time": "2021-07-04T10:50:55.099Z"
   },
   {
    "duration": 409,
    "start_time": "2021-07-04T10:54:19.269Z"
   },
   {
    "duration": 415,
    "start_time": "2021-07-04T10:57:16.452Z"
   },
   {
    "duration": 476,
    "start_time": "2021-07-04T10:57:30.741Z"
   },
   {
    "duration": 79,
    "start_time": "2021-07-04T11:00:51.574Z"
   },
   {
    "duration": 22,
    "start_time": "2021-07-04T11:00:59.821Z"
   },
   {
    "duration": 436,
    "start_time": "2021-07-04T11:02:01.417Z"
   },
   {
    "duration": 23,
    "start_time": "2021-07-04T11:03:41.068Z"
   },
   {
    "duration": 39,
    "start_time": "2021-07-04T11:03:59.468Z"
   },
   {
    "duration": 287,
    "start_time": "2021-07-04T11:04:18.850Z"
   },
   {
    "duration": 299,
    "start_time": "2021-07-04T11:04:56.446Z"
   },
   {
    "duration": 18,
    "start_time": "2021-07-04T11:07:23.541Z"
   },
   {
    "duration": 27,
    "start_time": "2021-07-04T11:07:26.170Z"
   },
   {
    "duration": 476,
    "start_time": "2021-07-04T11:09:17.617Z"
   },
   {
    "duration": 407,
    "start_time": "2021-07-04T11:09:26.013Z"
   },
   {
    "duration": 399,
    "start_time": "2021-07-04T11:09:36.300Z"
   },
   {
    "duration": 560,
    "start_time": "2021-07-04T11:23:33.487Z"
   },
   {
    "duration": 10,
    "start_time": "2021-07-04T11:24:12.102Z"
   },
   {
    "duration": 93,
    "start_time": "2021-07-04T11:28:55.261Z"
   },
   {
    "duration": 258,
    "start_time": "2021-07-04T11:29:02.113Z"
   },
   {
    "duration": 16,
    "start_time": "2021-07-04T11:29:09.001Z"
   },
   {
    "duration": 13,
    "start_time": "2021-07-04T11:29:33.643Z"
   },
   {
    "duration": 16,
    "start_time": "2021-07-04T11:29:42.421Z"
   },
   {
    "duration": 11,
    "start_time": "2021-07-04T11:30:18.675Z"
   },
   {
    "duration": 246,
    "start_time": "2021-07-04T11:31:38.766Z"
   },
   {
    "duration": 16,
    "start_time": "2021-07-04T11:31:42.692Z"
   },
   {
    "duration": 31,
    "start_time": "2021-07-04T11:32:23.962Z"
   },
   {
    "duration": 31,
    "start_time": "2021-07-04T11:33:20.919Z"
   },
   {
    "duration": 26,
    "start_time": "2021-07-04T11:34:47.373Z"
   },
   {
    "duration": 7,
    "start_time": "2021-07-04T11:34:56.410Z"
   },
   {
    "duration": 27,
    "start_time": "2021-07-04T11:38:15.080Z"
   },
   {
    "duration": 26,
    "start_time": "2021-07-04T11:42:56.466Z"
   },
   {
    "duration": 24,
    "start_time": "2021-07-04T11:45:32.116Z"
   },
   {
    "duration": 25,
    "start_time": "2021-07-04T11:45:41.492Z"
   },
   {
    "duration": 26,
    "start_time": "2021-07-04T11:46:05.145Z"
   },
   {
    "duration": 110,
    "start_time": "2021-07-04T11:47:26.100Z"
   },
   {
    "duration": 18,
    "start_time": "2021-07-04T11:47:36.158Z"
   },
   {
    "duration": 245,
    "start_time": "2021-07-04T11:52:58.919Z"
   },
   {
    "duration": 19,
    "start_time": "2021-07-04T11:55:54.566Z"
   },
   {
    "duration": 19,
    "start_time": "2021-07-04T11:56:02.206Z"
   },
   {
    "duration": 158,
    "start_time": "2021-07-04T12:02:07.011Z"
   },
   {
    "duration": 29,
    "start_time": "2021-07-04T12:04:57.402Z"
   },
   {
    "duration": 155,
    "start_time": "2021-07-04T12:15:32.749Z"
   },
   {
    "duration": 225,
    "start_time": "2021-07-04T12:15:47.521Z"
   },
   {
    "duration": 156,
    "start_time": "2021-07-04T12:47:15.348Z"
   },
   {
    "duration": 145,
    "start_time": "2021-07-04T12:47:41.858Z"
   },
   {
    "duration": 146,
    "start_time": "2021-07-04T12:48:44.574Z"
   },
   {
    "duration": 147,
    "start_time": "2021-07-04T12:49:15.420Z"
   },
   {
    "duration": 4,
    "start_time": "2021-07-04T12:50:52.973Z"
   },
   {
    "duration": 34,
    "start_time": "2021-07-04T12:51:34.872Z"
   },
   {
    "duration": 482,
    "start_time": "2021-07-04T12:51:41.381Z"
   },
   {
    "duration": 24,
    "start_time": "2021-07-04T12:52:47.876Z"
   },
   {
    "duration": 5,
    "start_time": "2021-07-04T12:53:12.013Z"
   },
   {
    "duration": 29,
    "start_time": "2021-07-04T12:53:42.525Z"
   },
   {
    "duration": 260,
    "start_time": "2021-07-04T12:55:59.883Z"
   },
   {
    "duration": 51,
    "start_time": "2021-07-04T12:56:40.301Z"
   },
   {
    "duration": 261,
    "start_time": "2021-07-04T12:56:53.269Z"
   },
   {
    "duration": 288,
    "start_time": "2021-07-04T12:56:58.354Z"
   },
   {
    "duration": 264,
    "start_time": "2021-07-04T12:57:04.731Z"
   },
   {
    "duration": 281,
    "start_time": "2021-07-04T12:57:14.203Z"
   },
   {
    "duration": 315,
    "start_time": "2021-07-04T12:57:22.701Z"
   },
   {
    "duration": 448,
    "start_time": "2021-07-04T12:57:45.686Z"
   },
   {
    "duration": 142,
    "start_time": "2021-07-04T12:58:05.275Z"
   },
   {
    "duration": 15,
    "start_time": "2021-07-04T12:58:06.865Z"
   },
   {
    "duration": 86,
    "start_time": "2021-07-04T12:58:31.622Z"
   },
   {
    "duration": 11,
    "start_time": "2021-07-04T12:58:35.900Z"
   },
   {
    "duration": 13,
    "start_time": "2021-07-04T12:58:59.208Z"
   },
   {
    "duration": 5,
    "start_time": "2021-07-04T12:59:04.453Z"
   },
   {
    "duration": 29,
    "start_time": "2021-07-04T13:13:13.247Z"
   },
   {
    "duration": 28,
    "start_time": "2021-07-04T13:14:44.850Z"
   },
   {
    "duration": 23,
    "start_time": "2021-07-04T13:15:01.417Z"
   },
   {
    "duration": 23,
    "start_time": "2021-07-04T13:15:12.293Z"
   },
   {
    "duration": 23,
    "start_time": "2021-07-04T13:15:30.791Z"
   },
   {
    "duration": 1783,
    "start_time": "2021-07-04T14:04:23.726Z"
   },
   {
    "duration": 5,
    "start_time": "2021-07-04T14:04:42.554Z"
   },
   {
    "duration": 5,
    "start_time": "2021-07-04T14:05:16.141Z"
   },
   {
    "duration": 8,
    "start_time": "2021-07-04T14:18:59.675Z"
   },
   {
    "duration": 9,
    "start_time": "2021-07-04T14:20:11.980Z"
   },
   {
    "duration": 4,
    "start_time": "2021-07-04T14:24:38.437Z"
   },
   {
    "duration": 43,
    "start_time": "2021-07-04T14:26:32.429Z"
   },
   {
    "duration": 42,
    "start_time": "2021-07-04T14:27:48.578Z"
   },
   {
    "duration": 41,
    "start_time": "2021-07-04T14:28:11.973Z"
   },
   {
    "duration": 43,
    "start_time": "2021-07-04T14:34:41.811Z"
   },
   {
    "duration": 4,
    "start_time": "2021-07-04T14:43:13.787Z"
   },
   {
    "duration": 513,
    "start_time": "2021-07-04T14:45:15.793Z"
   },
   {
    "duration": 80,
    "start_time": "2021-07-04T14:49:47.617Z"
   },
   {
    "duration": 55,
    "start_time": "2021-07-04T14:49:56.062Z"
   },
   {
    "duration": 50,
    "start_time": "2021-07-04T14:50:01.966Z"
   },
   {
    "duration": 194,
    "start_time": "2021-07-04T14:51:53.695Z"
   },
   {
    "duration": 156,
    "start_time": "2021-07-04T14:53:30.156Z"
   },
   {
    "duration": 4,
    "start_time": "2021-07-04T14:54:13.225Z"
   },
   {
    "duration": 246,
    "start_time": "2021-07-04T14:55:23.333Z"
   },
   {
    "duration": 49,
    "start_time": "2021-07-04T14:55:33.188Z"
   },
   {
    "duration": 3,
    "start_time": "2021-07-04T14:56:41.619Z"
   },
   {
    "duration": 171,
    "start_time": "2021-07-04T15:12:52.923Z"
   },
   {
    "duration": 157,
    "start_time": "2021-07-04T15:14:01.932Z"
   },
   {
    "duration": 50,
    "start_time": "2021-07-04T15:14:23.070Z"
   },
   {
    "duration": 4,
    "start_time": "2021-07-04T15:16:01.766Z"
   },
   {
    "duration": 4,
    "start_time": "2021-07-04T15:21:17.911Z"
   },
   {
    "duration": 4,
    "start_time": "2021-07-04T15:22:32.532Z"
   },
   {
    "duration": 4,
    "start_time": "2021-07-04T15:22:41.170Z"
   },
   {
    "duration": 4,
    "start_time": "2021-07-04T15:30:14.629Z"
   },
   {
    "duration": 4,
    "start_time": "2021-07-04T15:30:21.912Z"
   },
   {
    "duration": 4,
    "start_time": "2021-07-04T15:30:34.638Z"
   },
   {
    "duration": 160,
    "start_time": "2021-07-04T15:33:35.883Z"
   },
   {
    "duration": 163,
    "start_time": "2021-07-04T15:33:49.097Z"
   },
   {
    "duration": 25,
    "start_time": "2021-07-04T15:33:55.112Z"
   },
   {
    "duration": 10,
    "start_time": "2021-07-04T15:38:33.347Z"
   },
   {
    "duration": 9,
    "start_time": "2021-07-04T15:38:54.070Z"
   },
   {
    "duration": 6,
    "start_time": "2021-07-04T15:39:21.418Z"
   },
   {
    "duration": 7,
    "start_time": "2021-07-04T15:39:24.662Z"
   },
   {
    "duration": 161,
    "start_time": "2021-07-04T15:53:13.922Z"
   },
   {
    "duration": 49,
    "start_time": "2021-07-04T15:53:29.765Z"
   },
   {
    "duration": 158,
    "start_time": "2021-07-04T15:54:17.488Z"
   },
   {
    "duration": 49,
    "start_time": "2021-07-04T15:54:27.020Z"
   },
   {
    "duration": 3,
    "start_time": "2021-07-04T16:07:34.060Z"
   },
   {
    "duration": 34,
    "start_time": "2021-07-04T16:24:27.486Z"
   },
   {
    "duration": 35,
    "start_time": "2021-07-04T16:24:31.314Z"
   },
   {
    "duration": 221,
    "start_time": "2021-07-04T16:25:20.620Z"
   },
   {
    "duration": 273,
    "start_time": "2021-07-04T16:25:41.429Z"
   },
   {
    "duration": 263,
    "start_time": "2021-07-04T16:26:06.550Z"
   },
   {
    "duration": 317,
    "start_time": "2021-07-04T16:26:55.711Z"
   },
   {
    "duration": 329,
    "start_time": "2021-07-04T16:27:45.324Z"
   },
   {
    "duration": 287,
    "start_time": "2021-07-04T16:27:56.597Z"
   },
   {
    "duration": 553,
    "start_time": "2021-07-04T16:30:14.578Z"
   },
   {
    "duration": 302,
    "start_time": "2021-07-04T16:30:20.734Z"
   },
   {
    "duration": 305,
    "start_time": "2021-07-04T16:30:36.200Z"
   },
   {
    "duration": 309,
    "start_time": "2021-07-04T16:30:50.774Z"
   },
   {
    "duration": 448,
    "start_time": "2021-07-04T16:31:06.410Z"
   },
   {
    "duration": 302,
    "start_time": "2021-07-04T16:31:17.549Z"
   },
   {
    "duration": 297,
    "start_time": "2021-07-04T16:31:21.459Z"
   },
   {
    "duration": 323,
    "start_time": "2021-07-04T16:31:33.474Z"
   },
   {
    "duration": 347,
    "start_time": "2021-07-04T16:31:39.909Z"
   },
   {
    "duration": 367,
    "start_time": "2021-07-04T16:31:47.329Z"
   },
   {
    "duration": 16,
    "start_time": "2021-07-04T16:35:29.199Z"
   },
   {
    "duration": 17,
    "start_time": "2021-07-04T16:36:04.391Z"
   },
   {
    "duration": 272,
    "start_time": "2021-07-04T16:42:25.441Z"
   },
   {
    "duration": 266,
    "start_time": "2021-07-04T16:42:46.814Z"
   },
   {
    "duration": 94,
    "start_time": "2021-07-04T16:42:55.004Z"
   },
   {
    "duration": 17,
    "start_time": "2021-07-04T16:42:58.175Z"
   },
   {
    "duration": 8,
    "start_time": "2021-07-04T16:44:03.413Z"
   },
   {
    "duration": 16,
    "start_time": "2021-07-04T16:46:38.234Z"
   },
   {
    "duration": 21,
    "start_time": "2021-07-04T16:47:40.249Z"
   },
   {
    "duration": 8,
    "start_time": "2021-07-04T17:05:08.073Z"
   },
   {
    "duration": 183,
    "start_time": "2021-07-04T17:05:24.432Z"
   },
   {
    "duration": 27,
    "start_time": "2021-07-04T17:05:27.547Z"
   },
   {
    "duration": 8,
    "start_time": "2021-07-04T17:07:27.926Z"
   },
   {
    "duration": 8,
    "start_time": "2021-07-04T17:08:19.419Z"
   },
   {
    "duration": 396,
    "start_time": "2021-07-04T17:10:19.433Z"
   },
   {
    "duration": 7,
    "start_time": "2021-07-04T17:10:26.815Z"
   },
   {
    "duration": 19,
    "start_time": "2021-07-04T17:12:58.228Z"
   },
   {
    "duration": 20,
    "start_time": "2021-07-04T17:13:06.979Z"
   },
   {
    "duration": 20,
    "start_time": "2021-07-04T17:15:02.770Z"
   },
   {
    "duration": 17,
    "start_time": "2021-07-04T17:15:32.877Z"
   },
   {
    "duration": 113,
    "start_time": "2021-07-04T17:19:42.442Z"
   },
   {
    "duration": 20,
    "start_time": "2021-07-04T17:19:46.591Z"
   },
   {
    "duration": 17,
    "start_time": "2021-07-04T17:29:54.279Z"
   },
   {
    "duration": 280,
    "start_time": "2021-07-04T17:33:42.689Z"
   },
   {
    "duration": 18,
    "start_time": "2021-07-04T17:33:49.550Z"
   },
   {
    "duration": 17,
    "start_time": "2021-07-04T17:39:23.999Z"
   },
   {
    "duration": 5,
    "start_time": "2021-07-04T17:45:55.249Z"
   },
   {
    "duration": 4,
    "start_time": "2021-07-04T17:46:08.711Z"
   },
   {
    "duration": 7,
    "start_time": "2021-07-04T17:46:42.847Z"
   },
   {
    "duration": 4,
    "start_time": "2021-07-04T17:46:59.028Z"
   },
   {
    "duration": 28,
    "start_time": "2021-07-04T17:56:18.697Z"
   },
   {
    "duration": 284,
    "start_time": "2021-07-04T17:57:44.285Z"
   },
   {
    "duration": 28,
    "start_time": "2021-07-04T17:57:55.958Z"
   },
   {
    "duration": 4,
    "start_time": "2021-07-04T17:58:02.606Z"
   },
   {
    "duration": 326,
    "start_time": "2021-07-04T17:58:59.341Z"
   },
   {
    "duration": 296,
    "start_time": "2021-07-04T17:59:28.932Z"
   },
   {
    "duration": 5589,
    "start_time": "2021-07-04T17:59:31.830Z"
   },
   {
    "duration": 4755,
    "start_time": "2021-07-04T17:59:59.775Z"
   },
   {
    "duration": 358,
    "start_time": "2021-07-04T18:00:48.164Z"
   },
   {
    "duration": 88,
    "start_time": "2021-07-04T18:01:00.604Z"
   },
   {
    "duration": 24,
    "start_time": "2021-07-04T18:01:14.485Z"
   },
   {
    "duration": 4,
    "start_time": "2021-07-04T18:01:28.123Z"
   },
   {
    "duration": 358,
    "start_time": "2021-07-04T18:01:51.634Z"
   },
   {
    "duration": 5,
    "start_time": "2021-07-04T18:02:08.679Z"
   },
   {
    "duration": 255,
    "start_time": "2021-07-04T18:02:12.239Z"
   },
   {
    "duration": 275,
    "start_time": "2021-07-04T18:02:25.322Z"
   },
   {
    "duration": 801,
    "start_time": "2021-07-04T18:02:30.098Z"
   },
   {
    "duration": 4,
    "start_time": "2021-07-04T18:03:02.883Z"
   },
   {
    "duration": 7,
    "start_time": "2021-07-04T18:04:09.044Z"
   },
   {
    "duration": 27,
    "start_time": "2021-07-04T18:04:21.856Z"
   },
   {
    "duration": 31,
    "start_time": "2021-07-04T18:04:27.726Z"
   },
   {
    "duration": 106,
    "start_time": "2021-07-04T18:04:50.594Z"
   },
   {
    "duration": 28,
    "start_time": "2021-07-04T18:04:55.663Z"
   },
   {
    "duration": 266,
    "start_time": "2021-07-04T18:05:07.405Z"
   },
   {
    "duration": 267,
    "start_time": "2021-07-04T18:05:32.050Z"
   },
   {
    "duration": 24,
    "start_time": "2021-07-04T18:05:44.801Z"
   },
   {
    "duration": 33,
    "start_time": "2021-07-04T18:06:11.735Z"
   },
   {
    "duration": 26,
    "start_time": "2021-07-04T18:06:24.384Z"
   },
   {
    "duration": 38,
    "start_time": "2021-07-04T18:06:33.852Z"
   },
   {
    "duration": 31,
    "start_time": "2021-07-04T18:06:43.086Z"
   },
   {
    "duration": 32,
    "start_time": "2021-07-04T18:08:35.425Z"
   },
   {
    "duration": 4,
    "start_time": "2021-07-04T18:08:56.478Z"
   },
   {
    "duration": 33,
    "start_time": "2021-07-04T18:09:10.335Z"
   },
   {
    "duration": 28,
    "start_time": "2021-07-04T18:09:24.073Z"
   },
   {
    "duration": 37,
    "start_time": "2021-07-04T18:14:03.832Z"
   },
   {
    "duration": 486,
    "start_time": "2021-07-04T18:27:13.250Z"
   },
   {
    "duration": 28,
    "start_time": "2021-07-04T18:28:36.846Z"
   },
   {
    "duration": 26,
    "start_time": "2021-07-04T18:29:00.604Z"
   },
   {
    "duration": 277,
    "start_time": "2021-07-04T18:30:46.974Z"
   },
   {
    "duration": 279,
    "start_time": "2021-07-04T18:30:56.943Z"
   },
   {
    "duration": 270,
    "start_time": "2021-07-04T18:31:00.896Z"
   },
   {
    "duration": 435,
    "start_time": "2021-07-04T18:32:06.783Z"
   },
   {
    "duration": 285,
    "start_time": "2021-07-04T18:33:12.703Z"
   },
   {
    "duration": 15,
    "start_time": "2021-07-04T18:39:09.304Z"
   },
   {
    "duration": 11,
    "start_time": "2021-07-04T18:39:41.618Z"
   },
   {
    "duration": 11,
    "start_time": "2021-07-04T18:40:18.197Z"
   },
   {
    "duration": 261,
    "start_time": "2021-07-04T18:40:48.921Z"
   },
   {
    "duration": 18,
    "start_time": "2021-07-04T18:42:24.772Z"
   },
   {
    "duration": 17,
    "start_time": "2021-07-04T18:42:52.569Z"
   },
   {
    "duration": 11,
    "start_time": "2021-07-04T18:47:50.053Z"
   },
   {
    "duration": 13,
    "start_time": "2021-07-04T19:35:52.195Z"
   },
   {
    "duration": 14,
    "start_time": "2021-07-04T19:36:12.151Z"
   },
   {
    "duration": 13,
    "start_time": "2021-07-04T19:36:31.707Z"
   },
   {
    "duration": 28,
    "start_time": "2021-07-04T19:42:30.174Z"
   },
   {
    "duration": 246,
    "start_time": "2021-07-04T19:45:42.346Z"
   },
   {
    "duration": 7,
    "start_time": "2021-07-04T19:45:47.550Z"
   },
   {
    "duration": 25,
    "start_time": "2021-07-04T19:46:21.507Z"
   },
   {
    "duration": 19,
    "start_time": "2021-07-04T19:46:32.495Z"
   },
   {
    "duration": 19,
    "start_time": "2021-07-04T19:46:41.925Z"
   },
   {
    "duration": 25,
    "start_time": "2021-07-04T19:47:06.743Z"
   },
   {
    "duration": 23,
    "start_time": "2021-07-04T19:47:25.210Z"
   },
   {
    "duration": 25,
    "start_time": "2021-07-04T19:47:38.919Z"
   },
   {
    "duration": 28,
    "start_time": "2021-07-04T19:47:48.448Z"
   },
   {
    "duration": 4,
    "start_time": "2021-07-04T19:49:33.797Z"
   },
   {
    "duration": 23,
    "start_time": "2021-07-04T19:49:57.504Z"
   },
   {
    "duration": 24,
    "start_time": "2021-07-04T19:51:13.376Z"
   },
   {
    "duration": 504,
    "start_time": "2021-07-04T19:55:27.870Z"
   },
   {
    "duration": 480,
    "start_time": "2021-07-04T19:56:31.189Z"
   },
   {
    "duration": 439,
    "start_time": "2021-07-04T19:56:40.149Z"
   },
   {
    "duration": 325,
    "start_time": "2021-07-04T19:56:47.923Z"
   },
   {
    "duration": 14,
    "start_time": "2021-07-04T19:58:27.221Z"
   },
   {
    "duration": 22,
    "start_time": "2021-07-04T19:58:35.185Z"
   },
   {
    "duration": 19,
    "start_time": "2021-07-04T19:58:43.465Z"
   },
   {
    "duration": 14,
    "start_time": "2021-07-04T20:01:49.460Z"
   },
   {
    "duration": 12,
    "start_time": "2021-07-04T20:01:56.864Z"
   },
   {
    "duration": 107,
    "start_time": "2021-07-04T20:22:50.408Z"
   },
   {
    "duration": 87,
    "start_time": "2021-07-04T20:23:07.680Z"
   },
   {
    "duration": 30,
    "start_time": "2021-07-04T20:23:21.328Z"
   },
   {
    "duration": 41,
    "start_time": "2021-07-04T20:24:12.954Z"
   },
   {
    "duration": 44,
    "start_time": "2021-07-04T20:24:20.091Z"
   },
   {
    "duration": 31,
    "start_time": "2021-07-04T20:25:49.628Z"
   },
   {
    "duration": 57,
    "start_time": "2021-07-04T20:28:18.833Z"
   },
   {
    "duration": 5997,
    "start_time": "2021-07-04T20:40:13.968Z"
   },
   {
    "duration": 4,
    "start_time": "2021-07-04T20:40:34.201Z"
   },
   {
    "duration": 4237,
    "start_time": "2021-07-04T20:43:34.834Z"
   },
   {
    "duration": 163,
    "start_time": "2021-07-04T20:43:56.841Z"
   },
   {
    "duration": 25,
    "start_time": "2021-07-04T20:43:59.671Z"
   },
   {
    "duration": 14,
    "start_time": "2021-07-04T20:44:21.424Z"
   },
   {
    "duration": 6,
    "start_time": "2021-07-04T20:46:01.725Z"
   },
   {
    "duration": 12,
    "start_time": "2021-07-04T20:46:12.961Z"
   },
   {
    "duration": 44,
    "start_time": "2021-07-04T20:49:46.991Z"
   },
   {
    "duration": 4,
    "start_time": "2021-07-04T20:51:05.995Z"
   },
   {
    "duration": 38,
    "start_time": "2021-07-04T20:51:39.505Z"
   },
   {
    "duration": 44,
    "start_time": "2021-07-04T20:52:15.405Z"
   },
   {
    "duration": 44,
    "start_time": "2021-07-04T20:53:34.647Z"
   },
   {
    "duration": 43,
    "start_time": "2021-07-04T20:54:57.325Z"
   },
   {
    "duration": 13,
    "start_time": "2021-07-04T20:58:38.070Z"
   },
   {
    "duration": 43,
    "start_time": "2021-07-04T21:01:24.581Z"
   },
   {
    "duration": 14,
    "start_time": "2021-07-04T21:14:37.925Z"
   },
   {
    "duration": 4,
    "start_time": "2021-07-04T21:19:52.463Z"
   },
   {
    "duration": 14,
    "start_time": "2021-07-04T21:22:27.590Z"
   },
   {
    "duration": 13,
    "start_time": "2021-07-04T21:24:03.957Z"
   },
   {
    "duration": 7,
    "start_time": "2021-07-04T21:26:11.181Z"
   },
   {
    "duration": 12,
    "start_time": "2021-07-04T21:26:16.868Z"
   },
   {
    "duration": 18,
    "start_time": "2021-07-04T21:27:36.871Z"
   },
   {
    "duration": 15,
    "start_time": "2021-07-04T21:27:45.697Z"
   },
   {
    "duration": 16,
    "start_time": "2021-07-04T21:29:10.549Z"
   },
   {
    "duration": 18,
    "start_time": "2021-07-04T21:29:47.076Z"
   },
   {
    "duration": 18,
    "start_time": "2021-07-04T21:30:39.090Z"
   },
   {
    "duration": 17,
    "start_time": "2021-07-04T21:31:00.971Z"
   },
   {
    "duration": 18,
    "start_time": "2021-07-04T21:32:25.748Z"
   },
   {
    "duration": 410,
    "start_time": "2021-07-04T21:54:57.240Z"
   },
   {
    "duration": 438,
    "start_time": "2021-07-04T21:55:08.343Z"
   },
   {
    "duration": 7022,
    "start_time": "2021-07-04T21:56:07.887Z"
   },
   {
    "duration": 667,
    "start_time": "2021-07-04T21:56:26.152Z"
   },
   {
    "duration": 704,
    "start_time": "2021-07-04T21:58:38.544Z"
   },
   {
    "duration": 868,
    "start_time": "2021-07-04T22:04:07.168Z"
   },
   {
    "duration": 741,
    "start_time": "2021-07-04T22:04:16.283Z"
   },
   {
    "duration": 1002,
    "start_time": "2021-07-04T22:04:35.853Z"
   },
   {
    "duration": 767,
    "start_time": "2021-07-04T22:05:01.069Z"
   },
   {
    "duration": 988,
    "start_time": "2021-07-04T22:05:14.309Z"
   },
   {
    "duration": 781,
    "start_time": "2021-07-04T22:09:16.264Z"
   },
   {
    "duration": 3,
    "start_time": "2021-07-04T22:09:58.561Z"
   },
   {
    "duration": 850,
    "start_time": "2021-07-04T22:10:13.142Z"
   },
   {
    "duration": 434,
    "start_time": "2021-07-04T22:11:08.701Z"
   },
   {
    "duration": 424,
    "start_time": "2021-07-04T22:11:18.538Z"
   },
   {
    "duration": 699,
    "start_time": "2021-07-04T22:15:01.836Z"
   },
   {
    "duration": 9,
    "start_time": "2021-07-04T22:17:00.993Z"
   },
   {
    "duration": 12,
    "start_time": "2021-07-04T22:17:37.089Z"
   },
   {
    "duration": 15,
    "start_time": "2021-07-04T22:29:32.191Z"
   },
   {
    "duration": 3,
    "start_time": "2021-07-04T22:29:57.002Z"
   },
   {
    "duration": 15,
    "start_time": "2021-07-04T22:30:42.138Z"
   },
   {
    "duration": 6,
    "start_time": "2021-07-04T22:30:51.680Z"
   },
   {
    "duration": 4,
    "start_time": "2021-07-04T22:32:05.522Z"
   },
   {
    "duration": 338,
    "start_time": "2021-07-04T22:33:33.992Z"
   },
   {
    "duration": 4,
    "start_time": "2021-07-04T22:33:59.864Z"
   },
   {
    "duration": 492,
    "start_time": "2021-07-04T22:34:04.913Z"
   },
   {
    "duration": 5,
    "start_time": "2021-07-04T22:34:21.807Z"
   },
   {
    "duration": 6,
    "start_time": "2021-07-04T22:34:22.872Z"
   },
   {
    "duration": 244,
    "start_time": "2021-07-04T22:35:08.560Z"
   },
   {
    "duration": 4,
    "start_time": "2021-07-04T22:35:13.330Z"
   },
   {
    "duration": 4,
    "start_time": "2021-07-04T22:46:39.171Z"
   },
   {
    "duration": 3,
    "start_time": "2021-07-04T22:46:50.445Z"
   },
   {
    "duration": 4,
    "start_time": "2021-07-04T22:47:51.809Z"
   },
   {
    "duration": 5,
    "start_time": "2021-07-04T22:48:17.216Z"
   },
   {
    "duration": 4,
    "start_time": "2021-07-04T22:54:34.547Z"
   },
   {
    "duration": 5,
    "start_time": "2021-07-04T22:56:25.578Z"
   },
   {
    "duration": 49,
    "start_time": "2021-07-04T22:59:37.367Z"
   },
   {
    "duration": 19,
    "start_time": "2021-07-04T23:01:43.921Z"
   },
   {
    "duration": 16,
    "start_time": "2021-07-04T23:06:47.917Z"
   },
   {
    "duration": 18,
    "start_time": "2021-07-04T23:07:24.141Z"
   },
   {
    "duration": 6757,
    "start_time": "2021-07-04T23:07:44.760Z"
   },
   {
    "duration": 17,
    "start_time": "2021-07-04T23:07:55.082Z"
   },
   {
    "duration": 20,
    "start_time": "2021-07-04T23:08:18.938Z"
   },
   {
    "duration": 19,
    "start_time": "2021-07-04T23:08:51.857Z"
   },
   {
    "duration": 5,
    "start_time": "2021-07-04T23:10:07.403Z"
   },
   {
    "duration": 9,
    "start_time": "2021-07-04T23:45:44.881Z"
   },
   {
    "duration": 10,
    "start_time": "2021-07-04T23:46:39.921Z"
   },
   {
    "duration": 11,
    "start_time": "2021-07-04T23:49:06.839Z"
   },
   {
    "duration": 21,
    "start_time": "2021-07-04T23:56:11.221Z"
   },
   {
    "duration": 245,
    "start_time": "2021-07-05T00:13:00.012Z"
   },
   {
    "duration": 229,
    "start_time": "2021-07-05T00:15:38.293Z"
   },
   {
    "duration": 37,
    "start_time": "2021-07-05T00:16:49.401Z"
   },
   {
    "duration": 36,
    "start_time": "2021-07-05T00:17:00.921Z"
   },
   {
    "duration": 36,
    "start_time": "2021-07-05T00:17:06.836Z"
   },
   {
    "duration": 35,
    "start_time": "2021-07-05T00:17:11.494Z"
   },
   {
    "duration": 35,
    "start_time": "2021-07-05T00:17:37.333Z"
   },
   {
    "duration": 37,
    "start_time": "2021-07-05T00:18:47.339Z"
   },
   {
    "duration": 37,
    "start_time": "2021-07-05T00:19:06.510Z"
   },
   {
    "duration": 40,
    "start_time": "2021-07-05T00:19:14.809Z"
   },
   {
    "duration": 40,
    "start_time": "2021-07-05T00:19:23.745Z"
   },
   {
    "duration": 375,
    "start_time": "2021-07-05T00:22:05.904Z"
   },
   {
    "duration": 40,
    "start_time": "2021-07-05T00:22:20.128Z"
   },
   {
    "duration": 3,
    "start_time": "2021-07-05T00:23:50.347Z"
   },
   {
    "duration": 37,
    "start_time": "2021-07-05T00:24:06.976Z"
   },
   {
    "duration": 304,
    "start_time": "2021-07-05T00:24:52.739Z"
   },
   {
    "duration": 293,
    "start_time": "2021-07-05T00:24:58.540Z"
   },
   {
    "duration": 41,
    "start_time": "2021-07-05T00:25:05.632Z"
   },
   {
    "duration": 105,
    "start_time": "2021-07-05T00:26:02.004Z"
   },
   {
    "duration": 43,
    "start_time": "2021-07-05T00:26:06.960Z"
   },
   {
    "duration": 41,
    "start_time": "2021-07-05T00:26:29.099Z"
   },
   {
    "duration": 298,
    "start_time": "2021-07-05T00:28:24.086Z"
   },
   {
    "duration": 41,
    "start_time": "2021-07-05T00:28:36.221Z"
   },
   {
    "duration": 229,
    "start_time": "2021-07-05T00:29:23.687Z"
   },
   {
    "duration": 245,
    "start_time": "2021-07-05T00:30:00.978Z"
   },
   {
    "duration": 225,
    "start_time": "2021-07-05T00:34:49.688Z"
   },
   {
    "duration": 219,
    "start_time": "2021-07-05T00:35:03.855Z"
   },
   {
    "duration": 230,
    "start_time": "2021-07-05T00:36:01.137Z"
   },
   {
    "duration": 241,
    "start_time": "2021-07-05T00:36:56.482Z"
   },
   {
    "duration": 384,
    "start_time": "2021-07-05T00:37:17.627Z"
   },
   {
    "duration": 294,
    "start_time": "2021-07-05T00:38:07.733Z"
   },
   {
    "duration": 44,
    "start_time": "2021-07-05T00:38:14.492Z"
   },
   {
    "duration": 44,
    "start_time": "2021-07-05T00:38:44.375Z"
   },
   {
    "duration": 46,
    "start_time": "2021-07-05T00:38:50.718Z"
   },
   {
    "duration": 235,
    "start_time": "2021-07-05T00:39:14.262Z"
   },
   {
    "duration": 235,
    "start_time": "2021-07-05T00:39:18.751Z"
   },
   {
    "duration": 236,
    "start_time": "2021-07-05T00:41:10.120Z"
   },
   {
    "duration": 243,
    "start_time": "2021-07-05T00:41:15.165Z"
   },
   {
    "duration": 254,
    "start_time": "2021-07-05T00:41:55.451Z"
   },
   {
    "duration": 264,
    "start_time": "2021-07-05T00:43:04.685Z"
   },
   {
    "duration": 10,
    "start_time": "2021-07-05T00:51:27.275Z"
   },
   {
    "duration": 84,
    "start_time": "2021-07-05T00:52:24.034Z"
   },
   {
    "duration": 176,
    "start_time": "2021-07-05T00:52:27.440Z"
   },
   {
    "duration": 157,
    "start_time": "2021-07-05T00:52:57.211Z"
   },
   {
    "duration": 163,
    "start_time": "2021-07-05T00:53:18.798Z"
   },
   {
    "duration": 263,
    "start_time": "2021-07-05T00:53:41.025Z"
   },
   {
    "duration": 92,
    "start_time": "2021-07-05T00:56:01.875Z"
   },
   {
    "duration": 100,
    "start_time": "2021-07-05T00:56:05.851Z"
   },
   {
    "duration": 238,
    "start_time": "2021-07-05T00:56:23.699Z"
   },
   {
    "duration": 391,
    "start_time": "2021-07-05T00:57:25.243Z"
   },
   {
    "duration": 140,
    "start_time": "2021-07-05T00:58:23.722Z"
   },
   {
    "duration": 241,
    "start_time": "2021-07-05T00:58:29.124Z"
   },
   {
    "duration": 238,
    "start_time": "2021-07-05T01:00:44.979Z"
   },
   {
    "duration": 248,
    "start_time": "2021-07-05T01:01:18.201Z"
   },
   {
    "duration": 254,
    "start_time": "2021-07-05T01:01:27.211Z"
   },
   {
    "duration": 251,
    "start_time": "2021-07-05T01:02:07.728Z"
   },
   {
    "duration": 254,
    "start_time": "2021-07-05T01:02:45.398Z"
   },
   {
    "duration": 3,
    "start_time": "2021-07-05T01:05:11.642Z"
   },
   {
    "duration": 244,
    "start_time": "2021-07-05T01:05:18.861Z"
   },
   {
    "duration": 87,
    "start_time": "2021-07-05T01:07:19.844Z"
   },
   {
    "duration": 250,
    "start_time": "2021-07-05T01:07:23.099Z"
   },
   {
    "duration": 246,
    "start_time": "2021-07-05T01:07:27.543Z"
   },
   {
    "duration": 418,
    "start_time": "2021-07-05T01:07:33.046Z"
   },
   {
    "duration": 252,
    "start_time": "2021-07-05T01:10:30.729Z"
   },
   {
    "duration": 266,
    "start_time": "2021-07-05T01:10:42.445Z"
   },
   {
    "duration": 5,
    "start_time": "2021-07-05T01:11:18.321Z"
   },
   {
    "duration": 256,
    "start_time": "2021-07-05T01:11:44.852Z"
   },
   {
    "duration": 259,
    "start_time": "2021-07-05T01:14:32.159Z"
   },
   {
    "duration": 256,
    "start_time": "2021-07-05T01:14:54.818Z"
   },
   {
    "duration": 256,
    "start_time": "2021-07-05T01:14:59.606Z"
   },
   {
    "duration": 258,
    "start_time": "2021-07-05T01:15:17.276Z"
   },
   {
    "duration": 260,
    "start_time": "2021-07-05T01:15:30.762Z"
   },
   {
    "duration": 28,
    "start_time": "2021-07-05T01:21:52.881Z"
   },
   {
    "duration": 5,
    "start_time": "2021-07-05T01:22:05.192Z"
   },
   {
    "duration": 3,
    "start_time": "2021-07-05T01:23:15.143Z"
   },
   {
    "duration": 7,
    "start_time": "2021-07-05T01:23:19.990Z"
   },
   {
    "duration": 629,
    "start_time": "2021-07-05T01:24:22.121Z"
   },
   {
    "duration": 19,
    "start_time": "2021-07-05T01:24:31.890Z"
   },
   {
    "duration": 5,
    "start_time": "2021-07-05T01:32:36.618Z"
   },
   {
    "duration": 6,
    "start_time": "2021-07-05T01:32:45.863Z"
   },
   {
    "duration": 2,
    "start_time": "2021-07-05T01:36:59.473Z"
   },
   {
    "duration": 6,
    "start_time": "2021-07-05T01:37:01.566Z"
   },
   {
    "duration": 7,
    "start_time": "2021-07-05T01:38:21.174Z"
   },
   {
    "duration": 268,
    "start_time": "2021-07-05T01:40:18.317Z"
   },
   {
    "duration": 267,
    "start_time": "2021-07-05T01:42:30.890Z"
   },
   {
    "duration": 279,
    "start_time": "2021-07-05T01:44:02.965Z"
   },
   {
    "duration": 242,
    "start_time": "2021-07-05T01:44:12.985Z"
   },
   {
    "duration": 8,
    "start_time": "2021-07-05T01:45:49.783Z"
   },
   {
    "duration": 97,
    "start_time": "2021-07-05T01:47:53.446Z"
   },
   {
    "duration": 9,
    "start_time": "2021-07-05T01:48:11.871Z"
   },
   {
    "duration": 9,
    "start_time": "2021-07-05T01:48:32.229Z"
   },
   {
    "duration": 9,
    "start_time": "2021-07-05T01:48:43.379Z"
   },
   {
    "duration": 9,
    "start_time": "2021-07-05T01:49:17.886Z"
   },
   {
    "duration": 9,
    "start_time": "2021-07-05T01:49:24.427Z"
   },
   {
    "duration": 294,
    "start_time": "2021-07-05T01:51:57.866Z"
   },
   {
    "duration": 278,
    "start_time": "2021-07-05T01:52:02.057Z"
   },
   {
    "duration": 318,
    "start_time": "2021-07-05T01:52:10.559Z"
   },
   {
    "duration": 344,
    "start_time": "2021-07-05T01:52:17.971Z"
   },
   {
    "duration": 492,
    "start_time": "2021-07-05T01:52:22.676Z"
   },
   {
    "duration": 326,
    "start_time": "2021-07-05T01:52:46.071Z"
   },
   {
    "duration": 351,
    "start_time": "2021-07-05T01:53:00.354Z"
   },
   {
    "duration": 382,
    "start_time": "2021-07-05T01:53:18.362Z"
   },
   {
    "duration": 383,
    "start_time": "2021-07-05T01:53:30.734Z"
   },
   {
    "duration": 368,
    "start_time": "2021-07-05T01:53:41.304Z"
   },
   {
    "duration": 246,
    "start_time": "2021-07-05T01:56:16.770Z"
   },
   {
    "duration": 611,
    "start_time": "2021-07-05T01:57:10.546Z"
   },
   {
    "duration": 252,
    "start_time": "2021-07-05T01:57:15.027Z"
   },
   {
    "duration": 258,
    "start_time": "2021-07-05T02:00:56.390Z"
   },
   {
    "duration": 314,
    "start_time": "2021-07-05T02:01:46.660Z"
   },
   {
    "duration": 316,
    "start_time": "2021-07-05T02:01:51.131Z"
   },
   {
    "duration": 313,
    "start_time": "2021-07-05T02:02:21.659Z"
   },
   {
    "duration": 314,
    "start_time": "2021-07-05T02:03:10.069Z"
   },
   {
    "duration": 1020,
    "start_time": "2021-07-05T08:14:33.605Z"
   },
   {
    "duration": 137,
    "start_time": "2021-07-05T08:14:34.626Z"
   },
   {
    "duration": 128,
    "start_time": "2021-07-05T08:14:34.765Z"
   },
   {
    "duration": 14,
    "start_time": "2021-07-05T08:14:34.895Z"
   },
   {
    "duration": 17,
    "start_time": "2021-07-05T08:14:34.910Z"
   },
   {
    "duration": 22,
    "start_time": "2021-07-05T08:14:34.929Z"
   },
   {
    "duration": 52,
    "start_time": "2021-07-05T08:14:34.953Z"
   },
   {
    "duration": 32,
    "start_time": "2021-07-05T08:14:35.007Z"
   },
   {
    "duration": 11,
    "start_time": "2021-07-05T08:14:35.041Z"
   },
   {
    "duration": 7,
    "start_time": "2021-07-05T08:14:35.054Z"
   },
   {
    "duration": 32,
    "start_time": "2021-07-05T08:14:35.062Z"
   },
   {
    "duration": 1136,
    "start_time": "2021-07-05T08:14:35.096Z"
   },
   {
    "duration": 17,
    "start_time": "2021-07-05T08:14:36.234Z"
   },
   {
    "duration": 439,
    "start_time": "2021-07-05T08:14:36.252Z"
   },
   {
    "duration": 60,
    "start_time": "2021-07-05T08:14:36.693Z"
   },
   {
    "duration": 8,
    "start_time": "2021-07-05T08:14:36.754Z"
   },
   {
    "duration": 31,
    "start_time": "2021-07-05T08:14:36.764Z"
   },
   {
    "duration": 34,
    "start_time": "2021-07-05T08:14:36.796Z"
   },
   {
    "duration": 7,
    "start_time": "2021-07-05T08:14:36.832Z"
   },
   {
    "duration": 8,
    "start_time": "2021-07-05T08:14:36.841Z"
   },
   {
    "duration": 77,
    "start_time": "2021-07-05T08:14:36.850Z"
   },
   {
    "duration": 10,
    "start_time": "2021-07-05T08:14:36.928Z"
   },
   {
    "duration": 157,
    "start_time": "2021-07-05T08:14:36.940Z"
   },
   {
    "duration": 574,
    "start_time": "2021-07-05T08:14:37.098Z"
   },
   {
    "duration": 17,
    "start_time": "2021-07-05T08:14:37.674Z"
   },
   {
    "duration": 26,
    "start_time": "2021-07-05T08:14:37.692Z"
   },
   {
    "duration": 178,
    "start_time": "2021-07-05T08:14:37.721Z"
   },
   {
    "duration": 23,
    "start_time": "2021-07-05T08:14:37.900Z"
   },
   {
    "duration": 7,
    "start_time": "2021-07-05T08:14:37.924Z"
   },
   {
    "duration": 67,
    "start_time": "2021-07-05T08:14:37.933Z"
   },
   {
    "duration": 16,
    "start_time": "2021-07-05T08:14:38.001Z"
   },
   {
    "duration": 304,
    "start_time": "2021-07-05T08:14:38.018Z"
   },
   {
    "duration": 254,
    "start_time": "2021-07-05T08:14:38.323Z"
   },
   {
    "duration": 48,
    "start_time": "2021-07-05T08:14:38.578Z"
   },
   {
    "duration": 7,
    "start_time": "2021-07-05T08:14:38.627Z"
   },
   {
    "duration": 19,
    "start_time": "2021-07-05T08:14:38.636Z"
   },
   {
    "duration": 32,
    "start_time": "2021-07-05T08:14:38.656Z"
   },
   {
    "duration": 469,
    "start_time": "2021-07-05T08:14:38.689Z"
   },
   {
    "duration": 19,
    "start_time": "2021-07-05T08:14:39.160Z"
   },
   {
    "duration": 263,
    "start_time": "2021-07-05T08:14:39.181Z"
   },
   {
    "duration": 343,
    "start_time": "2021-07-05T08:14:39.446Z"
   },
   {
    "duration": 28,
    "start_time": "2021-07-05T08:14:39.791Z"
   },
   {
    "duration": 291,
    "start_time": "2021-07-05T08:14:39.821Z"
   },
   {
    "duration": 380,
    "start_time": "2021-07-05T08:14:40.114Z"
   },
   {
    "duration": 13,
    "start_time": "2021-07-05T08:14:40.496Z"
   },
   {
    "duration": 19,
    "start_time": "2021-07-05T08:14:40.510Z"
   },
   {
    "duration": 63,
    "start_time": "2021-07-05T08:14:40.530Z"
   },
   {
    "duration": 44,
    "start_time": "2021-07-05T08:14:40.594Z"
   },
   {
    "duration": 746,
    "start_time": "2021-07-05T08:14:40.639Z"
   },
   {
    "duration": 428,
    "start_time": "2021-07-05T08:14:41.387Z"
   },
   {
    "duration": 10,
    "start_time": "2021-07-05T08:14:41.816Z"
   },
   {
    "duration": 12,
    "start_time": "2021-07-05T08:14:41.827Z"
   },
   {
    "duration": 21,
    "start_time": "2021-07-05T08:14:41.841Z"
   },
   {
    "duration": 29,
    "start_time": "2021-07-05T08:14:41.863Z"
   },
   {
    "duration": 78,
    "start_time": "2021-07-05T08:14:41.893Z"
   },
   {
    "duration": 0,
    "start_time": "2021-07-05T08:14:41.972Z"
   },
   {
    "duration": -4,
    "start_time": "2021-07-05T08:14:41.977Z"
   },
   {
    "duration": 1041,
    "start_time": "2021-07-05T09:19:13.087Z"
   },
   {
    "duration": 102,
    "start_time": "2021-07-05T09:19:14.130Z"
   },
   {
    "duration": 122,
    "start_time": "2021-07-05T09:19:14.234Z"
   },
   {
    "duration": 12,
    "start_time": "2021-07-05T09:19:14.358Z"
   },
   {
    "duration": 34,
    "start_time": "2021-07-05T09:19:14.372Z"
   },
   {
    "duration": 87,
    "start_time": "2021-07-05T09:19:14.407Z"
   },
   {
    "duration": -33,
    "start_time": "2021-07-05T09:19:14.530Z"
   },
   {
    "duration": -38,
    "start_time": "2021-07-05T09:19:14.536Z"
   },
   {
    "duration": -41,
    "start_time": "2021-07-05T09:19:14.540Z"
   },
   {
    "duration": -44,
    "start_time": "2021-07-05T09:19:14.544Z"
   },
   {
    "duration": -47,
    "start_time": "2021-07-05T09:19:14.548Z"
   },
   {
    "duration": -50,
    "start_time": "2021-07-05T09:19:14.552Z"
   },
   {
    "duration": -53,
    "start_time": "2021-07-05T09:19:14.556Z"
   },
   {
    "duration": -58,
    "start_time": "2021-07-05T09:19:14.562Z"
   },
   {
    "duration": -61,
    "start_time": "2021-07-05T09:19:14.566Z"
   },
   {
    "duration": -66,
    "start_time": "2021-07-05T09:19:14.572Z"
   },
   {
    "duration": -69,
    "start_time": "2021-07-05T09:19:14.576Z"
   },
   {
    "duration": -72,
    "start_time": "2021-07-05T09:19:14.580Z"
   },
   {
    "duration": -75,
    "start_time": "2021-07-05T09:19:14.584Z"
   },
   {
    "duration": -79,
    "start_time": "2021-07-05T09:19:14.589Z"
   },
   {
    "duration": -81,
    "start_time": "2021-07-05T09:19:14.592Z"
   },
   {
    "duration": -84,
    "start_time": "2021-07-05T09:19:14.596Z"
   },
   {
    "duration": -87,
    "start_time": "2021-07-05T09:19:14.600Z"
   },
   {
    "duration": -90,
    "start_time": "2021-07-05T09:19:14.604Z"
   },
   {
    "duration": -93,
    "start_time": "2021-07-05T09:19:14.608Z"
   },
   {
    "duration": -134,
    "start_time": "2021-07-05T09:19:14.650Z"
   },
   {
    "duration": -139,
    "start_time": "2021-07-05T09:19:14.656Z"
   },
   {
    "duration": -165,
    "start_time": "2021-07-05T09:19:14.683Z"
   },
   {
    "duration": -169,
    "start_time": "2021-07-05T09:19:14.688Z"
   },
   {
    "duration": -195,
    "start_time": "2021-07-05T09:19:14.715Z"
   },
   {
    "duration": -197,
    "start_time": "2021-07-05T09:19:14.718Z"
   },
   {
    "duration": -200,
    "start_time": "2021-07-05T09:19:14.722Z"
   },
   {
    "duration": -203,
    "start_time": "2021-07-05T09:19:14.726Z"
   },
   {
    "duration": -206,
    "start_time": "2021-07-05T09:19:14.730Z"
   },
   {
    "duration": -209,
    "start_time": "2021-07-05T09:19:14.734Z"
   },
   {
    "duration": -211,
    "start_time": "2021-07-05T09:19:14.737Z"
   },
   {
    "duration": -213,
    "start_time": "2021-07-05T09:19:14.740Z"
   },
   {
    "duration": -216,
    "start_time": "2021-07-05T09:19:14.744Z"
   },
   {
    "duration": -219,
    "start_time": "2021-07-05T09:19:14.747Z"
   },
   {
    "duration": -228,
    "start_time": "2021-07-05T09:19:14.757Z"
   },
   {
    "duration": -232,
    "start_time": "2021-07-05T09:19:14.762Z"
   },
   {
    "duration": -235,
    "start_time": "2021-07-05T09:19:14.766Z"
   },
   {
    "duration": -237,
    "start_time": "2021-07-05T09:19:14.769Z"
   },
   {
    "duration": -240,
    "start_time": "2021-07-05T09:19:14.773Z"
   },
   {
    "duration": -245,
    "start_time": "2021-07-05T09:19:14.779Z"
   },
   {
    "duration": -248,
    "start_time": "2021-07-05T09:19:14.783Z"
   },
   {
    "duration": -252,
    "start_time": "2021-07-05T09:19:14.787Z"
   },
   {
    "duration": -254,
    "start_time": "2021-07-05T09:19:14.790Z"
   },
   {
    "duration": -258,
    "start_time": "2021-07-05T09:19:14.794Z"
   },
   {
    "duration": -261,
    "start_time": "2021-07-05T09:19:14.798Z"
   },
   {
    "duration": -263,
    "start_time": "2021-07-05T09:19:14.801Z"
   },
   {
    "duration": -214,
    "start_time": "2021-07-05T09:19:14.805Z"
   },
   {
    "duration": -216,
    "start_time": "2021-07-05T09:19:14.808Z"
   },
   {
    "duration": -219,
    "start_time": "2021-07-05T09:19:14.812Z"
   },
   {
    "duration": -222,
    "start_time": "2021-07-05T09:19:14.815Z"
   },
   {
    "duration": -225,
    "start_time": "2021-07-05T09:19:14.819Z"
   },
   {
    "duration": -227,
    "start_time": "2021-07-05T09:19:14.822Z"
   },
   {
    "duration": -229,
    "start_time": "2021-07-05T09:19:14.825Z"
   },
   {
    "duration": 378,
    "start_time": "2021-07-05T09:19:54.416Z"
   },
   {
    "duration": 45,
    "start_time": "2021-07-05T09:20:12.028Z"
   },
   {
    "duration": 42,
    "start_time": "2021-07-05T09:20:23.554Z"
   },
   {
    "duration": 1070,
    "start_time": "2021-07-05T09:20:31.599Z"
   },
   {
    "duration": 105,
    "start_time": "2021-07-05T09:20:32.671Z"
   },
   {
    "duration": 137,
    "start_time": "2021-07-05T09:20:32.778Z"
   },
   {
    "duration": 13,
    "start_time": "2021-07-05T09:20:32.917Z"
   },
   {
    "duration": 18,
    "start_time": "2021-07-05T09:20:32.931Z"
   },
   {
    "duration": 67,
    "start_time": "2021-07-05T09:20:32.950Z"
   },
   {
    "duration": 23,
    "start_time": "2021-07-05T09:20:33.019Z"
   },
   {
    "duration": 30,
    "start_time": "2021-07-05T09:20:33.044Z"
   },
   {
    "duration": 24,
    "start_time": "2021-07-05T09:20:33.076Z"
   },
   {
    "duration": 7,
    "start_time": "2021-07-05T09:20:33.102Z"
   },
   {
    "duration": 10,
    "start_time": "2021-07-05T09:20:33.110Z"
   },
   {
    "duration": 1277,
    "start_time": "2021-07-05T09:20:33.122Z"
   },
   {
    "duration": 19,
    "start_time": "2021-07-05T09:20:34.401Z"
   },
   {
    "duration": 477,
    "start_time": "2021-07-05T09:20:34.422Z"
   },
   {
    "duration": 66,
    "start_time": "2021-07-05T09:20:34.901Z"
   },
   {
    "duration": 23,
    "start_time": "2021-07-05T09:20:34.969Z"
   },
   {
    "duration": 18,
    "start_time": "2021-07-05T09:20:34.994Z"
   },
   {
    "duration": 37,
    "start_time": "2021-07-05T09:20:35.014Z"
   },
   {
    "duration": 10,
    "start_time": "2021-07-05T09:20:35.052Z"
   },
   {
    "duration": 10,
    "start_time": "2021-07-05T09:20:35.092Z"
   },
   {
    "duration": 54,
    "start_time": "2021-07-05T09:20:35.104Z"
   },
   {
    "duration": 37,
    "start_time": "2021-07-05T09:20:35.160Z"
   },
   {
    "duration": 150,
    "start_time": "2021-07-05T09:20:35.199Z"
   },
   {
    "duration": 597,
    "start_time": "2021-07-05T09:20:35.350Z"
   },
   {
    "duration": 11,
    "start_time": "2021-07-05T09:20:35.950Z"
   },
   {
    "duration": 47,
    "start_time": "2021-07-05T09:20:35.963Z"
   },
   {
    "duration": 182,
    "start_time": "2021-07-05T09:20:36.015Z"
   },
   {
    "duration": 29,
    "start_time": "2021-07-05T09:20:36.200Z"
   },
   {
    "duration": 8,
    "start_time": "2021-07-05T09:20:36.231Z"
   },
   {
    "duration": 81,
    "start_time": "2021-07-05T09:20:36.241Z"
   },
   {
    "duration": 16,
    "start_time": "2021-07-05T09:20:36.324Z"
   },
   {
    "duration": 319,
    "start_time": "2021-07-05T09:20:36.341Z"
   },
   {
    "duration": 265,
    "start_time": "2021-07-05T09:20:36.661Z"
   },
   {
    "duration": 42,
    "start_time": "2021-07-05T09:20:36.927Z"
   },
   {
    "duration": 7,
    "start_time": "2021-07-05T09:20:36.970Z"
   },
   {
    "duration": 21,
    "start_time": "2021-07-05T09:20:36.992Z"
   },
   {
    "duration": 17,
    "start_time": "2021-07-05T09:20:37.014Z"
   },
   {
    "duration": 477,
    "start_time": "2021-07-05T09:20:37.032Z"
   },
   {
    "duration": 19,
    "start_time": "2021-07-05T09:20:37.511Z"
   },
   {
    "duration": 279,
    "start_time": "2021-07-05T09:20:37.532Z"
   },
   {
    "duration": 326,
    "start_time": "2021-07-05T09:20:37.812Z"
   },
   {
    "duration": 26,
    "start_time": "2021-07-05T09:20:38.139Z"
   },
   {
    "duration": 290,
    "start_time": "2021-07-05T09:20:38.166Z"
   },
   {
    "duration": 442,
    "start_time": "2021-07-05T09:20:38.458Z"
   },
   {
    "duration": 16,
    "start_time": "2021-07-05T09:20:38.902Z"
   },
   {
    "duration": 23,
    "start_time": "2021-07-05T09:20:38.920Z"
   },
   {
    "duration": 70,
    "start_time": "2021-07-05T09:20:38.944Z"
   },
   {
    "duration": 77,
    "start_time": "2021-07-05T09:20:39.015Z"
   },
   {
    "duration": 1131,
    "start_time": "2021-07-05T09:20:39.094Z"
   },
   {
    "duration": 639,
    "start_time": "2021-07-05T09:20:40.227Z"
   },
   {
    "duration": 23,
    "start_time": "2021-07-05T09:20:40.868Z"
   },
   {
    "duration": 10,
    "start_time": "2021-07-05T09:20:40.893Z"
   },
   {
    "duration": 132,
    "start_time": "2021-07-05T09:20:40.905Z"
   },
   {
    "duration": 4,
    "start_time": "2021-07-05T09:20:41.038Z"
   },
   {
    "duration": 83,
    "start_time": "2021-07-05T09:20:41.043Z"
   },
   {
    "duration": -70,
    "start_time": "2021-07-05T09:20:41.199Z"
   },
   {
    "duration": -75,
    "start_time": "2021-07-05T09:20:41.205Z"
   },
   {
    "duration": -79,
    "start_time": "2021-07-05T09:20:41.210Z"
   },
   {
    "duration": 1061,
    "start_time": "2021-07-05T09:55:37.140Z"
   },
   {
    "duration": 112,
    "start_time": "2021-07-05T09:55:38.203Z"
   },
   {
    "duration": 201,
    "start_time": "2021-07-05T09:55:38.318Z"
   },
   {
    "duration": 20,
    "start_time": "2021-07-05T09:55:38.521Z"
   },
   {
    "duration": 48,
    "start_time": "2021-07-05T09:55:38.543Z"
   },
   {
    "duration": 63,
    "start_time": "2021-07-05T09:55:38.593Z"
   },
   {
    "duration": 48,
    "start_time": "2021-07-05T09:55:38.658Z"
   },
   {
    "duration": 44,
    "start_time": "2021-07-05T09:55:38.709Z"
   },
   {
    "duration": 16,
    "start_time": "2021-07-05T09:55:38.755Z"
   },
   {
    "duration": 7,
    "start_time": "2021-07-05T09:55:38.791Z"
   },
   {
    "duration": 13,
    "start_time": "2021-07-05T09:55:38.800Z"
   },
   {
    "duration": 1250,
    "start_time": "2021-07-05T09:55:38.815Z"
   },
   {
    "duration": 27,
    "start_time": "2021-07-05T09:55:40.067Z"
   },
   {
    "duration": 437,
    "start_time": "2021-07-05T09:55:40.096Z"
   },
   {
    "duration": 70,
    "start_time": "2021-07-05T09:55:40.534Z"
   },
   {
    "duration": 9,
    "start_time": "2021-07-05T09:55:40.605Z"
   },
   {
    "duration": 16,
    "start_time": "2021-07-05T09:55:40.616Z"
   },
   {
    "duration": 34,
    "start_time": "2021-07-05T09:55:40.634Z"
   },
   {
    "duration": 27,
    "start_time": "2021-07-05T09:55:40.669Z"
   },
   {
    "duration": 7,
    "start_time": "2021-07-05T09:55:40.698Z"
   },
   {
    "duration": 53,
    "start_time": "2021-07-05T09:55:40.707Z"
   },
   {
    "duration": 37,
    "start_time": "2021-07-05T09:55:40.761Z"
   },
   {
    "duration": 152,
    "start_time": "2021-07-05T09:55:40.801Z"
   },
   {
    "duration": 613,
    "start_time": "2021-07-05T09:55:40.956Z"
   },
   {
    "duration": 20,
    "start_time": "2021-07-05T09:55:41.571Z"
   },
   {
    "duration": 27,
    "start_time": "2021-07-05T09:55:41.593Z"
   },
   {
    "duration": 178,
    "start_time": "2021-07-05T09:55:41.621Z"
   },
   {
    "duration": 22,
    "start_time": "2021-07-05T09:55:41.801Z"
   },
   {
    "duration": 7,
    "start_time": "2021-07-05T09:55:41.824Z"
   },
   {
    "duration": 74,
    "start_time": "2021-07-05T09:55:41.833Z"
   },
   {
    "duration": 16,
    "start_time": "2021-07-05T09:55:41.908Z"
   },
   {
    "duration": 415,
    "start_time": "2021-07-05T09:55:41.925Z"
   },
   {
    "duration": 256,
    "start_time": "2021-07-05T09:55:42.342Z"
   },
   {
    "duration": 41,
    "start_time": "2021-07-05T09:55:42.599Z"
   },
   {
    "duration": 7,
    "start_time": "2021-07-05T09:55:42.641Z"
   },
   {
    "duration": 17,
    "start_time": "2021-07-05T09:55:42.649Z"
   },
   {
    "duration": 16,
    "start_time": "2021-07-05T09:55:42.691Z"
   },
   {
    "duration": 466,
    "start_time": "2021-07-05T09:55:42.709Z"
   },
   {
    "duration": 20,
    "start_time": "2021-07-05T09:55:43.177Z"
   },
   {
    "duration": 392,
    "start_time": "2021-07-05T09:55:43.199Z"
   },
   {
    "duration": 479,
    "start_time": "2021-07-05T09:55:43.593Z"
   },
   {
    "duration": 42,
    "start_time": "2021-07-05T09:55:44.074Z"
   },
   {
    "duration": 284,
    "start_time": "2021-07-05T09:55:44.118Z"
   },
   {
    "duration": 386,
    "start_time": "2021-07-05T09:55:44.403Z"
   },
   {
    "duration": 12,
    "start_time": "2021-07-05T09:55:44.790Z"
   },
   {
    "duration": 19,
    "start_time": "2021-07-05T09:55:44.804Z"
   },
   {
    "duration": 39,
    "start_time": "2021-07-05T09:55:44.824Z"
   },
   {
    "duration": 63,
    "start_time": "2021-07-05T09:55:44.864Z"
   },
   {
    "duration": 744,
    "start_time": "2021-07-05T09:55:44.928Z"
   },
   {
    "duration": 425,
    "start_time": "2021-07-05T09:55:45.674Z"
   },
   {
    "duration": 10,
    "start_time": "2021-07-05T09:55:46.100Z"
   },
   {
    "duration": 14,
    "start_time": "2021-07-05T09:55:46.112Z"
   },
   {
    "duration": 132,
    "start_time": "2021-07-05T09:55:46.127Z"
   },
   {
    "duration": 4,
    "start_time": "2021-07-05T09:55:46.260Z"
   },
   {
    "duration": 293,
    "start_time": "2021-07-05T09:55:46.265Z"
   },
   {
    "duration": -90,
    "start_time": "2021-07-05T09:55:46.650Z"
   },
   {
    "duration": -94,
    "start_time": "2021-07-05T09:55:46.655Z"
   },
   {
    "duration": -99,
    "start_time": "2021-07-05T09:55:46.661Z"
   },
   {
    "duration": -103,
    "start_time": "2021-07-05T09:55:46.665Z"
   },
   {
    "duration": 1033,
    "start_time": "2021-07-05T10:02:56.688Z"
   },
   {
    "duration": 102,
    "start_time": "2021-07-05T10:02:57.723Z"
   },
   {
    "duration": 127,
    "start_time": "2021-07-05T10:02:57.826Z"
   },
   {
    "duration": 11,
    "start_time": "2021-07-05T10:02:57.955Z"
   },
   {
    "duration": 33,
    "start_time": "2021-07-05T10:02:57.968Z"
   },
   {
    "duration": 40,
    "start_time": "2021-07-05T10:02:58.003Z"
   },
   {
    "duration": 22,
    "start_time": "2021-07-05T10:02:58.045Z"
   },
   {
    "duration": 49,
    "start_time": "2021-07-05T10:02:58.069Z"
   },
   {
    "duration": 11,
    "start_time": "2021-07-05T10:02:58.120Z"
   },
   {
    "duration": 6,
    "start_time": "2021-07-05T10:02:58.132Z"
   },
   {
    "duration": 7,
    "start_time": "2021-07-05T10:02:58.140Z"
   },
   {
    "duration": 1134,
    "start_time": "2021-07-05T10:02:58.149Z"
   },
   {
    "duration": 21,
    "start_time": "2021-07-05T10:02:59.285Z"
   },
   {
    "duration": 447,
    "start_time": "2021-07-05T10:02:59.308Z"
   },
   {
    "duration": 63,
    "start_time": "2021-07-05T10:02:59.756Z"
   },
   {
    "duration": 7,
    "start_time": "2021-07-05T10:02:59.821Z"
   },
   {
    "duration": 20,
    "start_time": "2021-07-05T10:02:59.830Z"
   },
   {
    "duration": 51,
    "start_time": "2021-07-05T10:02:59.851Z"
   },
   {
    "duration": 7,
    "start_time": "2021-07-05T10:02:59.903Z"
   },
   {
    "duration": 8,
    "start_time": "2021-07-05T10:02:59.912Z"
   },
   {
    "duration": 71,
    "start_time": "2021-07-05T10:02:59.921Z"
   },
   {
    "duration": 11,
    "start_time": "2021-07-05T10:02:59.994Z"
   },
   {
    "duration": 156,
    "start_time": "2021-07-05T10:03:00.009Z"
   },
   {
    "duration": 437,
    "start_time": "2021-07-05T10:03:00.168Z"
   },
   {
    "duration": -42,
    "start_time": "2021-07-05T10:03:00.649Z"
   },
   {
    "duration": -47,
    "start_time": "2021-07-05T10:03:00.654Z"
   },
   {
    "duration": -50,
    "start_time": "2021-07-05T10:03:00.658Z"
   },
   {
    "duration": -53,
    "start_time": "2021-07-05T10:03:00.662Z"
   },
   {
    "duration": -56,
    "start_time": "2021-07-05T10:03:00.666Z"
   },
   {
    "duration": -59,
    "start_time": "2021-07-05T10:03:00.670Z"
   },
   {
    "duration": -63,
    "start_time": "2021-07-05T10:03:00.674Z"
   },
   {
    "duration": -65,
    "start_time": "2021-07-05T10:03:00.677Z"
   },
   {
    "duration": -68,
    "start_time": "2021-07-05T10:03:00.681Z"
   },
   {
    "duration": -73,
    "start_time": "2021-07-05T10:03:00.686Z"
   },
   {
    "duration": -77,
    "start_time": "2021-07-05T10:03:00.691Z"
   },
   {
    "duration": -81,
    "start_time": "2021-07-05T10:03:00.696Z"
   },
   {
    "duration": -84,
    "start_time": "2021-07-05T10:03:00.700Z"
   },
   {
    "duration": -88,
    "start_time": "2021-07-05T10:03:00.704Z"
   },
   {
    "duration": -91,
    "start_time": "2021-07-05T10:03:00.708Z"
   },
   {
    "duration": -101,
    "start_time": "2021-07-05T10:03:00.719Z"
   },
   {
    "duration": -105,
    "start_time": "2021-07-05T10:03:00.723Z"
   },
   {
    "duration": -108,
    "start_time": "2021-07-05T10:03:00.727Z"
   },
   {
    "duration": -111,
    "start_time": "2021-07-05T10:03:00.731Z"
   },
   {
    "duration": -114,
    "start_time": "2021-07-05T10:03:00.735Z"
   },
   {
    "duration": -118,
    "start_time": "2021-07-05T10:03:00.740Z"
   },
   {
    "duration": -121,
    "start_time": "2021-07-05T10:03:00.744Z"
   },
   {
    "duration": -125,
    "start_time": "2021-07-05T10:03:00.748Z"
   },
   {
    "duration": -129,
    "start_time": "2021-07-05T10:03:00.753Z"
   },
   {
    "duration": -132,
    "start_time": "2021-07-05T10:03:00.757Z"
   },
   {
    "duration": -135,
    "start_time": "2021-07-05T10:03:00.761Z"
   },
   {
    "duration": -138,
    "start_time": "2021-07-05T10:03:00.765Z"
   },
   {
    "duration": -142,
    "start_time": "2021-07-05T10:03:00.769Z"
   },
   {
    "duration": -145,
    "start_time": "2021-07-05T10:03:00.773Z"
   },
   {
    "duration": -147,
    "start_time": "2021-07-05T10:03:00.776Z"
   },
   {
    "duration": -150,
    "start_time": "2021-07-05T10:03:00.780Z"
   },
   {
    "duration": -153,
    "start_time": "2021-07-05T10:03:00.784Z"
   },
   {
    "duration": -156,
    "start_time": "2021-07-05T10:03:00.788Z"
   },
   {
    "duration": -158,
    "start_time": "2021-07-05T10:03:00.792Z"
   },
   {
    "duration": -160,
    "start_time": "2021-07-05T10:03:00.795Z"
   },
   {
    "duration": -171,
    "start_time": "2021-07-05T10:03:00.807Z"
   },
   {
    "duration": -173,
    "start_time": "2021-07-05T10:03:00.810Z"
   },
   {
    "duration": 571,
    "start_time": "2021-07-05T10:03:38.043Z"
   },
   {
    "duration": 11,
    "start_time": "2021-07-05T10:04:22.615Z"
   },
   {
    "duration": 1088,
    "start_time": "2021-07-05T10:04:31.906Z"
   },
   {
    "duration": 103,
    "start_time": "2021-07-05T10:04:32.996Z"
   },
   {
    "duration": 152,
    "start_time": "2021-07-05T10:04:33.102Z"
   },
   {
    "duration": 13,
    "start_time": "2021-07-05T10:04:33.255Z"
   },
   {
    "duration": 36,
    "start_time": "2021-07-05T10:04:33.269Z"
   },
   {
    "duration": 41,
    "start_time": "2021-07-05T10:04:33.306Z"
   },
   {
    "duration": 22,
    "start_time": "2021-07-05T10:04:33.349Z"
   },
   {
    "duration": 43,
    "start_time": "2021-07-05T10:04:33.374Z"
   },
   {
    "duration": 10,
    "start_time": "2021-07-05T10:04:33.419Z"
   },
   {
    "duration": 14,
    "start_time": "2021-07-05T10:04:33.431Z"
   },
   {
    "duration": 16,
    "start_time": "2021-07-05T10:04:33.447Z"
   },
   {
    "duration": 1134,
    "start_time": "2021-07-05T10:04:33.464Z"
   },
   {
    "duration": 18,
    "start_time": "2021-07-05T10:04:34.600Z"
   },
   {
    "duration": 441,
    "start_time": "2021-07-05T10:04:34.620Z"
   },
   {
    "duration": 73,
    "start_time": "2021-07-05T10:04:35.063Z"
   },
   {
    "duration": 9,
    "start_time": "2021-07-05T10:04:35.138Z"
   },
   {
    "duration": 18,
    "start_time": "2021-07-05T10:04:35.148Z"
   },
   {
    "duration": 56,
    "start_time": "2021-07-05T10:04:35.167Z"
   },
   {
    "duration": 7,
    "start_time": "2021-07-05T10:04:35.225Z"
   },
   {
    "duration": 8,
    "start_time": "2021-07-05T10:04:35.234Z"
   },
   {
    "duration": 100,
    "start_time": "2021-07-05T10:04:35.244Z"
   },
   {
    "duration": 14,
    "start_time": "2021-07-05T10:04:35.345Z"
   },
   {
    "duration": 247,
    "start_time": "2021-07-05T10:04:35.364Z"
   },
   {
    "duration": 884,
    "start_time": "2021-07-05T10:04:35.614Z"
   },
   {
    "duration": 12,
    "start_time": "2021-07-05T10:04:36.500Z"
   },
   {
    "duration": 37,
    "start_time": "2021-07-05T10:04:36.514Z"
   },
   {
    "duration": 210,
    "start_time": "2021-07-05T10:04:36.552Z"
   },
   {
    "duration": 34,
    "start_time": "2021-07-05T10:04:36.763Z"
   },
   {
    "duration": 9,
    "start_time": "2021-07-05T10:04:36.799Z"
   },
   {
    "duration": 81,
    "start_time": "2021-07-05T10:04:36.809Z"
   },
   {
    "duration": 16,
    "start_time": "2021-07-05T10:04:36.892Z"
   },
   {
    "duration": 327,
    "start_time": "2021-07-05T10:04:36.910Z"
   },
   {
    "duration": 261,
    "start_time": "2021-07-05T10:04:37.238Z"
   },
   {
    "duration": 42,
    "start_time": "2021-07-05T10:04:37.501Z"
   },
   {
    "duration": 7,
    "start_time": "2021-07-05T10:04:37.545Z"
   },
   {
    "duration": 22,
    "start_time": "2021-07-05T10:04:37.553Z"
   },
   {
    "duration": 29,
    "start_time": "2021-07-05T10:04:37.591Z"
   },
   {
    "duration": 456,
    "start_time": "2021-07-05T10:04:37.621Z"
   },
   {
    "duration": 20,
    "start_time": "2021-07-05T10:04:38.079Z"
   },
   {
    "duration": 368,
    "start_time": "2021-07-05T10:04:38.101Z"
   },
   {
    "duration": 316,
    "start_time": "2021-07-05T10:04:38.471Z"
   },
   {
    "duration": 28,
    "start_time": "2021-07-05T10:04:38.791Z"
   },
   {
    "duration": 286,
    "start_time": "2021-07-05T10:04:38.821Z"
   },
   {
    "duration": 483,
    "start_time": "2021-07-05T10:04:39.109Z"
   },
   {
    "duration": 12,
    "start_time": "2021-07-05T10:04:39.593Z"
   },
   {
    "duration": 19,
    "start_time": "2021-07-05T10:04:39.607Z"
   },
   {
    "duration": 39,
    "start_time": "2021-07-05T10:04:39.627Z"
   },
   {
    "duration": 43,
    "start_time": "2021-07-05T10:04:39.691Z"
   },
   {
    "duration": 742,
    "start_time": "2021-07-05T10:04:39.735Z"
   },
   {
    "duration": 530,
    "start_time": "2021-07-05T10:04:40.479Z"
   },
   {
    "duration": 13,
    "start_time": "2021-07-05T10:04:41.011Z"
   },
   {
    "duration": 14,
    "start_time": "2021-07-05T10:04:41.026Z"
   },
   {
    "duration": 141,
    "start_time": "2021-07-05T10:04:41.041Z"
   },
   {
    "duration": 3,
    "start_time": "2021-07-05T10:04:41.192Z"
   },
   {
    "duration": 81,
    "start_time": "2021-07-05T10:04:41.197Z"
   },
   {
    "duration": -92,
    "start_time": "2021-07-05T10:04:41.373Z"
   },
   {
    "duration": -97,
    "start_time": "2021-07-05T10:04:41.379Z"
   },
   {
    "duration": -102,
    "start_time": "2021-07-05T10:04:41.385Z"
   },
   {
    "duration": -107,
    "start_time": "2021-07-05T10:04:41.392Z"
   },
   {
    "duration": -112,
    "start_time": "2021-07-05T10:04:41.398Z"
   },
   {
    "duration": 9,
    "start_time": "2021-07-05T11:37:14.278Z"
   },
   {
    "duration": 13,
    "start_time": "2021-07-05T11:38:19.665Z"
   },
   {
    "duration": 333,
    "start_time": "2021-07-05T11:42:29.634Z"
   },
   {
    "duration": 259,
    "start_time": "2021-07-05T11:42:38.591Z"
   },
   {
    "duration": 236,
    "start_time": "2021-07-05T11:42:47.867Z"
   },
   {
    "duration": 17,
    "start_time": "2021-07-05T11:42:55.392Z"
   },
   {
    "duration": 16,
    "start_time": "2021-07-05T11:44:04.202Z"
   },
   {
    "duration": 10,
    "start_time": "2021-07-05T12:25:22.697Z"
   },
   {
    "duration": 4,
    "start_time": "2021-07-05T12:27:10.799Z"
   },
   {
    "duration": 804,
    "start_time": "2021-07-05T12:28:45.093Z"
   },
   {
    "duration": 13,
    "start_time": "2021-07-05T12:28:49.369Z"
   },
   {
    "duration": 15,
    "start_time": "2021-07-05T12:29:00.239Z"
   },
   {
    "duration": 14,
    "start_time": "2021-07-05T12:36:21.274Z"
   },
   {
    "duration": 312,
    "start_time": "2021-07-05T12:53:50.763Z"
   },
   {
    "duration": 377,
    "start_time": "2021-07-05T12:54:17.586Z"
   },
   {
    "duration": 6,
    "start_time": "2021-07-05T14:52:10.370Z"
   },
   {
    "duration": 6,
    "start_time": "2021-07-05T14:52:28.499Z"
   },
   {
    "duration": 42,
    "start_time": "2021-07-05T14:54:09.260Z"
   },
   {
    "duration": 44,
    "start_time": "2021-07-05T14:54:21.980Z"
   },
   {
    "duration": 100,
    "start_time": "2021-07-05T14:56:21.646Z"
   },
   {
    "duration": 249,
    "start_time": "2021-07-05T14:56:31.383Z"
   },
   {
    "duration": 302,
    "start_time": "2021-07-05T14:57:53.694Z"
   },
   {
    "duration": 237,
    "start_time": "2021-07-05T14:59:29.233Z"
   },
   {
    "duration": 18,
    "start_time": "2021-07-05T14:59:41.044Z"
   },
   {
    "duration": 18,
    "start_time": "2021-07-05T15:00:09.859Z"
   },
   {
    "duration": 48,
    "start_time": "2021-07-05T15:03:03.268Z"
   },
   {
    "duration": 73,
    "start_time": "2021-07-05T15:14:56.918Z"
   },
   {
    "duration": 20,
    "start_time": "2021-07-05T15:15:04.593Z"
   },
   {
    "duration": 3,
    "start_time": "2021-07-05T16:49:20.617Z"
   },
   {
    "duration": 1087,
    "start_time": "2021-07-05T17:02:21.043Z"
   },
   {
    "duration": 106,
    "start_time": "2021-07-05T17:02:22.132Z"
   },
   {
    "duration": 138,
    "start_time": "2021-07-05T17:02:22.241Z"
   },
   {
    "duration": 19,
    "start_time": "2021-07-05T17:02:22.381Z"
   },
   {
    "duration": 25,
    "start_time": "2021-07-05T17:02:22.402Z"
   },
   {
    "duration": 66,
    "start_time": "2021-07-05T17:02:22.429Z"
   },
   {
    "duration": 28,
    "start_time": "2021-07-05T17:02:22.497Z"
   },
   {
    "duration": 31,
    "start_time": "2021-07-05T17:02:22.527Z"
   },
   {
    "duration": 12,
    "start_time": "2021-07-05T17:02:22.560Z"
   },
   {
    "duration": 52,
    "start_time": "2021-07-05T17:02:22.573Z"
   },
   {
    "duration": 15,
    "start_time": "2021-07-05T17:02:22.626Z"
   },
   {
    "duration": 1193,
    "start_time": "2021-07-05T17:02:22.642Z"
   },
   {
    "duration": 22,
    "start_time": "2021-07-05T17:02:23.836Z"
   },
   {
    "duration": 479,
    "start_time": "2021-07-05T17:02:23.860Z"
   },
   {
    "duration": 81,
    "start_time": "2021-07-05T17:02:24.341Z"
   },
   {
    "duration": 10,
    "start_time": "2021-07-05T17:02:24.424Z"
   },
   {
    "duration": 19,
    "start_time": "2021-07-05T17:02:24.436Z"
   },
   {
    "duration": 67,
    "start_time": "2021-07-05T17:02:24.457Z"
   },
   {
    "duration": 9,
    "start_time": "2021-07-05T17:02:24.526Z"
   },
   {
    "duration": 12,
    "start_time": "2021-07-05T17:02:24.537Z"
   },
   {
    "duration": 87,
    "start_time": "2021-07-05T17:02:24.550Z"
   },
   {
    "duration": 13,
    "start_time": "2021-07-05T17:02:24.639Z"
   },
   {
    "duration": 177,
    "start_time": "2021-07-05T17:02:24.657Z"
   },
   {
    "duration": 606,
    "start_time": "2021-07-05T17:02:24.836Z"
   },
   {
    "duration": 11,
    "start_time": "2021-07-05T17:02:25.444Z"
   },
   {
    "duration": 50,
    "start_time": "2021-07-05T17:02:25.457Z"
   },
   {
    "duration": 178,
    "start_time": "2021-07-05T17:02:25.508Z"
   },
   {
    "duration": 28,
    "start_time": "2021-07-05T17:02:25.691Z"
   },
   {
    "duration": 8,
    "start_time": "2021-07-05T17:02:25.720Z"
   },
   {
    "duration": 72,
    "start_time": "2021-07-05T17:02:25.730Z"
   },
   {
    "duration": 17,
    "start_time": "2021-07-05T17:02:25.804Z"
   },
   {
    "duration": 16,
    "start_time": "2021-07-05T17:02:25.822Z"
   },
   {
    "duration": 345,
    "start_time": "2021-07-05T17:02:25.840Z"
   },
   {
    "duration": 293,
    "start_time": "2021-07-05T17:02:26.191Z"
   },
   {
    "duration": 435,
    "start_time": "2021-07-05T17:02:26.486Z"
   },
   {
    "duration": -210,
    "start_time": "2021-07-05T17:02:27.133Z"
   },
   {
    "duration": -215,
    "start_time": "2021-07-05T17:02:27.139Z"
   },
   {
    "duration": -219,
    "start_time": "2021-07-05T17:02:27.144Z"
   },
   {
    "duration": -221,
    "start_time": "2021-07-05T17:02:27.147Z"
   },
   {
    "duration": -225,
    "start_time": "2021-07-05T17:02:27.152Z"
   },
   {
    "duration": -230,
    "start_time": "2021-07-05T17:02:27.157Z"
   },
   {
    "duration": -234,
    "start_time": "2021-07-05T17:02:27.162Z"
   },
   {
    "duration": -239,
    "start_time": "2021-07-05T17:02:27.168Z"
   },
   {
    "duration": -264,
    "start_time": "2021-07-05T17:02:27.194Z"
   },
   {
    "duration": -269,
    "start_time": "2021-07-05T17:02:27.200Z"
   },
   {
    "duration": -274,
    "start_time": "2021-07-05T17:02:27.206Z"
   },
   {
    "duration": -280,
    "start_time": "2021-07-05T17:02:27.212Z"
   },
   {
    "duration": -285,
    "start_time": "2021-07-05T17:02:27.218Z"
   },
   {
    "duration": -289,
    "start_time": "2021-07-05T17:02:27.223Z"
   },
   {
    "duration": -292,
    "start_time": "2021-07-05T17:02:27.227Z"
   },
   {
    "duration": -295,
    "start_time": "2021-07-05T17:02:27.231Z"
   },
   {
    "duration": -298,
    "start_time": "2021-07-05T17:02:27.235Z"
   },
   {
    "duration": -302,
    "start_time": "2021-07-05T17:02:27.240Z"
   },
   {
    "duration": -306,
    "start_time": "2021-07-05T17:02:27.245Z"
   },
   {
    "duration": -309,
    "start_time": "2021-07-05T17:02:27.249Z"
   },
   {
    "duration": 1088,
    "start_time": "2021-07-05T17:02:57.937Z"
   },
   {
    "duration": 106,
    "start_time": "2021-07-05T17:02:59.027Z"
   },
   {
    "duration": 134,
    "start_time": "2021-07-05T17:02:59.135Z"
   },
   {
    "duration": 32,
    "start_time": "2021-07-05T17:02:59.272Z"
   },
   {
    "duration": 24,
    "start_time": "2021-07-05T17:02:59.306Z"
   },
   {
    "duration": 45,
    "start_time": "2021-07-05T17:02:59.331Z"
   },
   {
    "duration": 36,
    "start_time": "2021-07-05T17:02:59.378Z"
   },
   {
    "duration": 31,
    "start_time": "2021-07-05T17:02:59.415Z"
   },
   {
    "duration": 11,
    "start_time": "2021-07-05T17:02:59.449Z"
   },
   {
    "duration": 35,
    "start_time": "2021-07-05T17:02:59.462Z"
   },
   {
    "duration": 11,
    "start_time": "2021-07-05T17:02:59.499Z"
   },
   {
    "duration": 1253,
    "start_time": "2021-07-05T17:02:59.512Z"
   },
   {
    "duration": 28,
    "start_time": "2021-07-05T17:03:00.767Z"
   },
   {
    "duration": 455,
    "start_time": "2021-07-05T17:03:00.796Z"
   },
   {
    "duration": 67,
    "start_time": "2021-07-05T17:03:01.253Z"
   },
   {
    "duration": 9,
    "start_time": "2021-07-05T17:03:01.321Z"
   },
   {
    "duration": 32,
    "start_time": "2021-07-05T17:03:01.331Z"
   },
   {
    "duration": 51,
    "start_time": "2021-07-05T17:03:01.365Z"
   },
   {
    "duration": 8,
    "start_time": "2021-07-05T17:03:01.418Z"
   },
   {
    "duration": 10,
    "start_time": "2021-07-05T17:03:01.428Z"
   },
   {
    "duration": 77,
    "start_time": "2021-07-05T17:03:01.440Z"
   },
   {
    "duration": 11,
    "start_time": "2021-07-05T17:03:01.519Z"
   },
   {
    "duration": 161,
    "start_time": "2021-07-05T17:03:01.531Z"
   },
   {
    "duration": 580,
    "start_time": "2021-07-05T17:03:01.694Z"
   },
   {
    "duration": 19,
    "start_time": "2021-07-05T17:03:02.276Z"
   },
   {
    "duration": 26,
    "start_time": "2021-07-05T17:03:02.296Z"
   },
   {
    "duration": 188,
    "start_time": "2021-07-05T17:03:02.326Z"
   },
   {
    "duration": 25,
    "start_time": "2021-07-05T17:03:02.516Z"
   },
   {
    "duration": 7,
    "start_time": "2021-07-05T17:03:02.543Z"
   },
   {
    "duration": 73,
    "start_time": "2021-07-05T17:03:02.552Z"
   },
   {
    "duration": 15,
    "start_time": "2021-07-05T17:03:02.626Z"
   },
   {
    "duration": 15,
    "start_time": "2021-07-05T17:03:02.643Z"
   },
   {
    "duration": 316,
    "start_time": "2021-07-05T17:03:02.659Z"
   },
   {
    "duration": 291,
    "start_time": "2021-07-05T17:03:02.977Z"
   },
   {
    "duration": 48,
    "start_time": "2021-07-05T17:03:03.270Z"
   },
   {
    "duration": 8,
    "start_time": "2021-07-05T17:03:03.319Z"
   },
   {
    "duration": 18,
    "start_time": "2021-07-05T17:03:03.329Z"
   },
   {
    "duration": 18,
    "start_time": "2021-07-05T17:03:03.349Z"
   },
   {
    "duration": 562,
    "start_time": "2021-07-05T17:03:03.368Z"
   },
   {
    "duration": 23,
    "start_time": "2021-07-05T17:03:03.932Z"
   },
   {
    "duration": 360,
    "start_time": "2021-07-05T17:03:03.957Z"
   },
   {
    "duration": 14,
    "start_time": "2021-07-05T17:03:04.319Z"
   },
   {
    "duration": 496,
    "start_time": "2021-07-05T17:03:04.335Z"
   },
   {
    "duration": 27,
    "start_time": "2021-07-05T17:03:04.833Z"
   },
   {
    "duration": 294,
    "start_time": "2021-07-05T17:03:04.861Z"
   },
   {
    "duration": 384,
    "start_time": "2021-07-05T17:03:05.156Z"
   },
   {
    "duration": 13,
    "start_time": "2021-07-05T17:03:05.543Z"
   },
   {
    "duration": 27,
    "start_time": "2021-07-05T17:03:05.557Z"
   },
   {
    "duration": 46,
    "start_time": "2021-07-05T17:03:05.591Z"
   },
   {
    "duration": 73,
    "start_time": "2021-07-05T17:03:05.639Z"
   },
   {
    "duration": 743,
    "start_time": "2021-07-05T17:03:05.713Z"
   },
   {
    "duration": 442,
    "start_time": "2021-07-05T17:03:06.458Z"
   },
   {
    "duration": 11,
    "start_time": "2021-07-05T17:03:06.901Z"
   },
   {
    "duration": 15,
    "start_time": "2021-07-05T17:03:06.914Z"
   },
   {
    "duration": 148,
    "start_time": "2021-07-05T17:03:06.930Z"
   },
   {
    "duration": 325,
    "start_time": "2021-07-05T21:15:28.077Z"
   },
   {
    "duration": 315,
    "start_time": "2021-07-05T21:15:34.619Z"
   },
   {
    "duration": 78,
    "start_time": "2021-07-05T21:19:34.646Z"
   },
   {
    "duration": 487,
    "start_time": "2021-07-05T21:19:40.352Z"
   },
   {
    "duration": 226,
    "start_time": "2021-07-05T21:20:03.595Z"
   },
   {
    "duration": 206,
    "start_time": "2021-07-05T21:20:18.351Z"
   },
   {
    "duration": 230,
    "start_time": "2021-07-05T21:20:23.494Z"
   },
   {
    "duration": 193,
    "start_time": "2021-07-05T21:20:29.143Z"
   },
   {
    "duration": 191,
    "start_time": "2021-07-05T21:20:56.703Z"
   },
   {
    "duration": 194,
    "start_time": "2021-07-05T21:21:42.325Z"
   },
   {
    "duration": 479,
    "start_time": "2021-07-05T21:22:56.257Z"
   },
   {
    "duration": 439,
    "start_time": "2021-07-05T21:23:03.396Z"
   },
   {
    "duration": 525,
    "start_time": "2021-07-05T21:23:10.945Z"
   },
   {
    "duration": 200,
    "start_time": "2021-07-05T21:23:21.024Z"
   },
   {
    "duration": 193,
    "start_time": "2021-07-05T21:23:31.336Z"
   },
   {
    "duration": 193,
    "start_time": "2021-07-05T21:23:35.743Z"
   },
   {
    "duration": 198,
    "start_time": "2021-07-05T21:24:05.182Z"
   },
   {
    "duration": 199,
    "start_time": "2021-07-05T21:24:10.453Z"
   },
   {
    "duration": 297,
    "start_time": "2021-07-05T22:32:36.637Z"
   },
   {
    "duration": 296,
    "start_time": "2021-07-05T22:33:22.247Z"
   },
   {
    "duration": 318,
    "start_time": "2021-07-05T22:34:41.053Z"
   },
   {
    "duration": 311,
    "start_time": "2021-07-05T22:37:25.117Z"
   },
   {
    "duration": 316,
    "start_time": "2021-07-05T22:39:01.849Z"
   },
   {
    "duration": 363,
    "start_time": "2021-07-05T22:39:13.466Z"
   },
   {
    "duration": 5,
    "start_time": "2021-07-05T22:48:51.014Z"
   },
   {
    "duration": 246,
    "start_time": "2021-07-05T22:49:52.342Z"
   },
   {
    "duration": 4,
    "start_time": "2021-07-05T22:50:24.135Z"
   },
   {
    "duration": 258,
    "start_time": "2021-07-05T22:50:37.784Z"
   },
   {
    "duration": 6,
    "start_time": "2021-07-05T22:53:38.639Z"
   },
   {
    "duration": 1018,
    "start_time": "2021-07-06T00:01:44.816Z"
   },
   {
    "duration": 101,
    "start_time": "2021-07-06T00:01:45.836Z"
   },
   {
    "duration": 115,
    "start_time": "2021-07-06T00:01:45.939Z"
   },
   {
    "duration": 12,
    "start_time": "2021-07-06T00:01:46.056Z"
   },
   {
    "duration": 35,
    "start_time": "2021-07-06T00:01:46.069Z"
   },
   {
    "duration": 42,
    "start_time": "2021-07-06T00:01:46.105Z"
   },
   {
    "duration": 21,
    "start_time": "2021-07-06T00:01:46.149Z"
   },
   {
    "duration": 46,
    "start_time": "2021-07-06T00:01:46.172Z"
   },
   {
    "duration": 11,
    "start_time": "2021-07-06T00:01:46.220Z"
   },
   {
    "duration": 7,
    "start_time": "2021-07-06T00:01:46.232Z"
   },
   {
    "duration": 9,
    "start_time": "2021-07-06T00:01:46.240Z"
   },
   {
    "duration": 1133,
    "start_time": "2021-07-06T00:01:46.250Z"
   },
   {
    "duration": 22,
    "start_time": "2021-07-06T00:01:47.385Z"
   },
   {
    "duration": 463,
    "start_time": "2021-07-06T00:01:47.408Z"
   },
   {
    "duration": 66,
    "start_time": "2021-07-06T00:01:47.873Z"
   },
   {
    "duration": 8,
    "start_time": "2021-07-06T00:01:47.940Z"
   },
   {
    "duration": 18,
    "start_time": "2021-07-06T00:01:47.950Z"
   },
   {
    "duration": 51,
    "start_time": "2021-07-06T00:01:47.969Z"
   },
   {
    "duration": 8,
    "start_time": "2021-07-06T00:01:48.021Z"
   },
   {
    "duration": 10,
    "start_time": "2021-07-06T00:01:48.030Z"
   },
   {
    "duration": 72,
    "start_time": "2021-07-06T00:01:48.042Z"
   },
   {
    "duration": 10,
    "start_time": "2021-07-06T00:01:48.115Z"
   },
   {
    "duration": 153,
    "start_time": "2021-07-06T00:01:48.129Z"
   },
   {
    "duration": 559,
    "start_time": "2021-07-06T00:01:48.284Z"
   },
   {
    "duration": 10,
    "start_time": "2021-07-06T00:01:48.844Z"
   },
   {
    "duration": 44,
    "start_time": "2021-07-06T00:01:48.856Z"
   },
   {
    "duration": 172,
    "start_time": "2021-07-06T00:01:48.902Z"
   },
   {
    "duration": 31,
    "start_time": "2021-07-06T00:01:49.076Z"
   },
   {
    "duration": 7,
    "start_time": "2021-07-06T00:01:49.109Z"
   },
   {
    "duration": 51,
    "start_time": "2021-07-06T00:01:49.117Z"
   },
   {
    "duration": 32,
    "start_time": "2021-07-06T00:01:49.169Z"
   },
   {
    "duration": 15,
    "start_time": "2021-07-06T00:01:49.202Z"
   },
   {
    "duration": 310,
    "start_time": "2021-07-06T00:01:49.218Z"
   },
   {
    "duration": 258,
    "start_time": "2021-07-06T00:01:49.529Z"
   },
   {
    "duration": 7,
    "start_time": "2021-07-06T00:01:49.792Z"
   },
   {
    "duration": 21,
    "start_time": "2021-07-06T00:01:49.800Z"
   },
   {
    "duration": 15,
    "start_time": "2021-07-06T00:01:49.822Z"
   },
   {
    "duration": 559,
    "start_time": "2021-07-06T00:01:49.839Z"
   },
   {
    "duration": 20,
    "start_time": "2021-07-06T00:01:50.400Z"
   },
   {
    "duration": 282,
    "start_time": "2021-07-06T00:01:50.422Z"
   },
   {
    "duration": 16,
    "start_time": "2021-07-06T00:01:50.706Z"
   },
   {
    "duration": 282,
    "start_time": "2021-07-06T00:01:50.724Z"
   },
   {
    "duration": 313,
    "start_time": "2021-07-06T00:01:51.007Z"
   },
   {
    "duration": 28,
    "start_time": "2021-07-06T00:01:51.321Z"
   },
   {
    "duration": 283,
    "start_time": "2021-07-06T00:01:51.350Z"
   },
   {
    "duration": 384,
    "start_time": "2021-07-06T00:01:51.635Z"
   },
   {
    "duration": 12,
    "start_time": "2021-07-06T00:01:52.021Z"
   },
   {
    "duration": 32,
    "start_time": "2021-07-06T00:01:52.034Z"
   },
   {
    "duration": 19,
    "start_time": "2021-07-06T00:01:52.068Z"
   },
   {
    "duration": 55,
    "start_time": "2021-07-06T00:01:52.088Z"
   },
   {
    "duration": 46,
    "start_time": "2021-07-06T00:01:52.144Z"
   },
   {
    "duration": 770,
    "start_time": "2021-07-06T00:01:52.191Z"
   },
   {
    "duration": 460,
    "start_time": "2021-07-06T00:01:52.963Z"
   },
   {
    "duration": 11,
    "start_time": "2021-07-06T00:01:53.425Z"
   },
   {
    "duration": 28,
    "start_time": "2021-07-06T00:01:53.437Z"
   },
   {
    "duration": 132,
    "start_time": "2021-07-06T00:01:53.466Z"
   }
  ],
  "kernelspec": {
   "display_name": "Python 3",
   "language": "python",
   "name": "python3"
  },
  "language_info": {
   "codemirror_mode": {
    "name": "ipython",
    "version": 3
   },
   "file_extension": ".py",
   "mimetype": "text/x-python",
   "name": "python",
   "nbconvert_exporter": "python",
   "pygments_lexer": "ipython3",
   "version": "3.7.8"
  },
  "toc": {
   "base_numbering": 1,
   "nav_menu": {},
   "number_sections": true,
   "sideBar": true,
   "skip_h1_title": true,
   "title_cell": "Table of Contents",
   "title_sidebar": "Contents",
   "toc_cell": false,
   "toc_position": {},
   "toc_section_display": true,
   "toc_window_display": false
  }
 },
 "nbformat": 4,
 "nbformat_minor": 2
}
